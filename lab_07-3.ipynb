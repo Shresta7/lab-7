{
 "cells": [
  {
   "cell_type": "markdown",
   "id": "0154af6f-ac7f-4d6e-ba33-3b9fb24fad39",
   "metadata": {},
   "source": [
    "# Interactive Visualization with Plotly"
   ]
  },
  {
   "cell_type": "markdown",
   "id": "a0273f7a-3a37-4486-89a1-1791021f1b53",
   "metadata": {},
   "source": [
    "For this lab, you'll need to install Plotly. Make sure to follow *both* the [plotly](https://plotly.com/python/getting-started/#installation) steps and the [jupyter support](https://plotly.com/python/getting-started/#jupyterlab-support) steps."
   ]
  },
  {
   "cell_type": "markdown",
   "id": "22e7c867-6aed-4f51-89ed-914258be3122",
   "metadata": {},
   "source": [
    "[Plotly](https://plotly.com/python/) is an interactive visualization package which is as part of the [Plotly and Dash](https://plot.ly) enterprise. Here we'll showcase just a few graphs to get you acquainted with their [Plotly Express](https://plotly.com/python/plotly-express/) module. We'll use [data from the titanic disaster](https://www.kaggle.com/competitions/titanic/data)."
   ]
  },
  {
   "cell_type": "code",
   "execution_count": 3,
   "id": "a8c1e687-0dcd-4d7a-84fe-b0756d0fa8e0",
   "metadata": {
    "tags": []
   },
   "outputs": [],
   "source": [
    "import plotly.express as px\n",
    "import pandas as pd"
   ]
  },
  {
   "cell_type": "code",
   "execution_count": 4,
   "id": "103f2afc-3037-4cbb-8e47-8187bdc146f3",
   "metadata": {
    "tags": []
   },
   "outputs": [],
   "source": [
    "df = pd.read_csv(r'C:\\Users\\shres\\OneDrive\\Desktop\\intro to info\\501projects\\lab 7\\titanic.csv')"
   ]
  },
  {
   "cell_type": "code",
   "execution_count": 5,
   "id": "2cc15772-2c52-4156-9911-49ece4907a25",
   "metadata": {
    "tags": []
   },
   "outputs": [
    {
     "name": "stdout",
     "output_type": "stream",
     "text": [
      "<class 'pandas.core.frame.DataFrame'>\n",
      "RangeIndex: 891 entries, 0 to 890\n",
      "Data columns (total 12 columns):\n",
      " #   Column       Non-Null Count  Dtype  \n",
      "---  ------       --------------  -----  \n",
      " 0   PassengerId  891 non-null    int64  \n",
      " 1   Survived     891 non-null    int64  \n",
      " 2   Pclass       891 non-null    int64  \n",
      " 3   Name         891 non-null    object \n",
      " 4   Sex          891 non-null    object \n",
      " 5   Age          714 non-null    float64\n",
      " 6   SibSp        891 non-null    int64  \n",
      " 7   Parch        891 non-null    int64  \n",
      " 8   Ticket       891 non-null    object \n",
      " 9   Fare         891 non-null    float64\n",
      " 10  Cabin        204 non-null    object \n",
      " 11  Embarked     889 non-null    object \n",
      "dtypes: float64(2), int64(5), object(5)\n",
      "memory usage: 83.7+ KB\n"
     ]
    }
   ],
   "source": [
    "df.info()"
   ]
  },
  {
   "cell_type": "markdown",
   "id": "f1606511-9659-4be0-9f14-5c2aa98d70c0",
   "metadata": {},
   "source": [
    "## Scatter Plots"
   ]
  },
  {
   "cell_type": "code",
   "execution_count": 6,
   "id": "8c2fc706-999b-4254-bdc0-c101abe6c0ac",
   "metadata": {
    "tags": []
   },
   "outputs": [
    {
     "data": {
      "application/vnd.plotly.v1+json": {
       "config": {
        "plotlyServerURL": "https://plot.ly"
       },
       "data": [
        {
         "customdata": [
          [
           "Braund, Mr. Owen Harris",
           "male"
          ],
          [
           "Cumings, Mrs. John Bradley (Florence Briggs Thayer)",
           "female"
          ],
          [
           "Heikkinen, Miss. Laina",
           "female"
          ],
          [
           "Futrelle, Mrs. Jacques Heath (Lily May Peel)",
           "female"
          ],
          [
           "Allen, Mr. William Henry",
           "male"
          ],
          [
           "Moran, Mr. James",
           "male"
          ],
          [
           "McCarthy, Mr. Timothy J",
           "male"
          ],
          [
           "Palsson, Master. Gosta Leonard",
           "male"
          ],
          [
           "Johnson, Mrs. Oscar W (Elisabeth Vilhelmina Berg)",
           "female"
          ],
          [
           "Nasser, Mrs. Nicholas (Adele Achem)",
           "female"
          ],
          [
           "Sandstrom, Miss. Marguerite Rut",
           "female"
          ],
          [
           "Bonnell, Miss. Elizabeth",
           "female"
          ],
          [
           "Saundercock, Mr. William Henry",
           "male"
          ],
          [
           "Andersson, Mr. Anders Johan",
           "male"
          ],
          [
           "Vestrom, Miss. Hulda Amanda Adolfina",
           "female"
          ],
          [
           "Hewlett, Mrs. (Mary D Kingcome) ",
           "female"
          ],
          [
           "Rice, Master. Eugene",
           "male"
          ],
          [
           "Williams, Mr. Charles Eugene",
           "male"
          ],
          [
           "Vander Planke, Mrs. Julius (Emelia Maria Vandemoortele)",
           "female"
          ],
          [
           "Masselmani, Mrs. Fatima",
           "female"
          ],
          [
           "Fynney, Mr. Joseph J",
           "male"
          ],
          [
           "Beesley, Mr. Lawrence",
           "male"
          ],
          [
           "McGowan, Miss. Anna \"Annie\"",
           "female"
          ],
          [
           "Sloper, Mr. William Thompson",
           "male"
          ],
          [
           "Palsson, Miss. Torborg Danira",
           "female"
          ],
          [
           "Asplund, Mrs. Carl Oscar (Selma Augusta Emilia Johansson)",
           "female"
          ],
          [
           "Emir, Mr. Farred Chehab",
           "male"
          ],
          [
           "Fortune, Mr. Charles Alexander",
           "male"
          ],
          [
           "O'Dwyer, Miss. Ellen \"Nellie\"",
           "female"
          ],
          [
           "Todoroff, Mr. Lalio",
           "male"
          ],
          [
           "Uruchurtu, Don. Manuel E",
           "male"
          ],
          [
           "Spencer, Mrs. William Augustus (Marie Eugenie)",
           "female"
          ],
          [
           "Glynn, Miss. Mary Agatha",
           "female"
          ],
          [
           "Wheadon, Mr. Edward H",
           "male"
          ],
          [
           "Meyer, Mr. Edgar Joseph",
           "male"
          ],
          [
           "Holverson, Mr. Alexander Oskar",
           "male"
          ],
          [
           "Mamee, Mr. Hanna",
           "male"
          ],
          [
           "Cann, Mr. Ernest Charles",
           "male"
          ],
          [
           "Vander Planke, Miss. Augusta Maria",
           "female"
          ],
          [
           "Nicola-Yarred, Miss. Jamila",
           "female"
          ],
          [
           "Ahlin, Mrs. Johan (Johanna Persdotter Larsson)",
           "female"
          ],
          [
           "Turpin, Mrs. William John Robert (Dorothy Ann Wonnacott)",
           "female"
          ],
          [
           "Kraeff, Mr. Theodor",
           "male"
          ],
          [
           "Laroche, Miss. Simonne Marie Anne Andree",
           "female"
          ],
          [
           "Devaney, Miss. Margaret Delia",
           "female"
          ],
          [
           "Rogers, Mr. William John",
           "male"
          ],
          [
           "Lennon, Mr. Denis",
           "male"
          ],
          [
           "O'Driscoll, Miss. Bridget",
           "female"
          ],
          [
           "Samaan, Mr. Youssef",
           "male"
          ],
          [
           "Arnold-Franchi, Mrs. Josef (Josefine Franchi)",
           "female"
          ],
          [
           "Panula, Master. Juha Niilo",
           "male"
          ],
          [
           "Nosworthy, Mr. Richard Cater",
           "male"
          ],
          [
           "Harper, Mrs. Henry Sleeper (Myna Haxtun)",
           "female"
          ],
          [
           "Faunthorpe, Mrs. Lizzie (Elizabeth Anne Wilkinson)",
           "female"
          ],
          [
           "Ostby, Mr. Engelhart Cornelius",
           "male"
          ],
          [
           "Woolner, Mr. Hugh",
           "male"
          ],
          [
           "Rugg, Miss. Emily",
           "female"
          ],
          [
           "Novel, Mr. Mansouer",
           "male"
          ],
          [
           "West, Miss. Constance Mirium",
           "female"
          ],
          [
           "Goodwin, Master. William Frederick",
           "male"
          ],
          [
           "Sirayanian, Mr. Orsen",
           "male"
          ],
          [
           "Icard, Miss. Amelie",
           "female"
          ],
          [
           "Harris, Mr. Henry Birkhardt",
           "male"
          ],
          [
           "Skoog, Master. Harald",
           "male"
          ],
          [
           "Stewart, Mr. Albert A",
           "male"
          ],
          [
           "Moubarek, Master. Gerios",
           "male"
          ],
          [
           "Nye, Mrs. (Elizabeth Ramell)",
           "female"
          ],
          [
           "Crease, Mr. Ernest James",
           "male"
          ],
          [
           "Andersson, Miss. Erna Alexandra",
           "female"
          ],
          [
           "Kink, Mr. Vincenz",
           "male"
          ],
          [
           "Jenkin, Mr. Stephen Curnow",
           "male"
          ],
          [
           "Goodwin, Miss. Lillian Amy",
           "female"
          ],
          [
           "Hood, Mr. Ambrose Jr",
           "male"
          ],
          [
           "Chronopoulos, Mr. Apostolos",
           "male"
          ],
          [
           "Bing, Mr. Lee",
           "male"
          ],
          [
           "Moen, Mr. Sigurd Hansen",
           "male"
          ],
          [
           "Staneff, Mr. Ivan",
           "male"
          ],
          [
           "Moutal, Mr. Rahamin Haim",
           "male"
          ],
          [
           "Caldwell, Master. Alden Gates",
           "male"
          ],
          [
           "Dowdell, Miss. Elizabeth",
           "female"
          ],
          [
           "Waelens, Mr. Achille",
           "male"
          ],
          [
           "Sheerlinck, Mr. Jan Baptist",
           "male"
          ],
          [
           "McDermott, Miss. Brigdet Delia",
           "female"
          ],
          [
           "Carrau, Mr. Francisco M",
           "male"
          ],
          [
           "Ilett, Miss. Bertha",
           "female"
          ],
          [
           "Backstrom, Mrs. Karl Alfred (Maria Mathilda Gustafsson)",
           "female"
          ],
          [
           "Ford, Mr. William Neal",
           "male"
          ],
          [
           "Slocovski, Mr. Selman Francis",
           "male"
          ],
          [
           "Fortune, Miss. Mabel Helen",
           "female"
          ],
          [
           "Celotti, Mr. Francesco",
           "male"
          ],
          [
           "Christmann, Mr. Emil",
           "male"
          ],
          [
           "Andreasson, Mr. Paul Edvin",
           "male"
          ],
          [
           "Chaffee, Mr. Herbert Fuller",
           "male"
          ],
          [
           "Dean, Mr. Bertram Frank",
           "male"
          ],
          [
           "Coxon, Mr. Daniel",
           "male"
          ],
          [
           "Shorney, Mr. Charles Joseph",
           "male"
          ],
          [
           "Goldschmidt, Mr. George B",
           "male"
          ],
          [
           "Greenfield, Mr. William Bertram",
           "male"
          ],
          [
           "Doling, Mrs. John T (Ada Julia Bone)",
           "female"
          ],
          [
           "Kantor, Mr. Sinai",
           "male"
          ],
          [
           "Petranec, Miss. Matilda",
           "female"
          ],
          [
           "Petroff, Mr. Pastcho (\"Pentcho\")",
           "male"
          ],
          [
           "White, Mr. Richard Frasar",
           "male"
          ],
          [
           "Johansson, Mr. Gustaf Joel",
           "male"
          ],
          [
           "Gustafsson, Mr. Anders Vilhelm",
           "male"
          ],
          [
           "Mionoff, Mr. Stoytcho",
           "male"
          ],
          [
           "Salkjelsvik, Miss. Anna Kristine",
           "female"
          ],
          [
           "Moss, Mr. Albert Johan",
           "male"
          ],
          [
           "Rekic, Mr. Tido",
           "male"
          ],
          [
           "Moran, Miss. Bertha",
           "female"
          ],
          [
           "Porter, Mr. Walter Chamberlain",
           "male"
          ],
          [
           "Zabour, Miss. Hileni",
           "female"
          ],
          [
           "Barton, Mr. David John",
           "male"
          ],
          [
           "Jussila, Miss. Katriina",
           "female"
          ],
          [
           "Attalah, Miss. Malake",
           "female"
          ],
          [
           "Pekoniemi, Mr. Edvard",
           "male"
          ],
          [
           "Connors, Mr. Patrick",
           "male"
          ],
          [
           "Turpin, Mr. William John Robert",
           "male"
          ],
          [
           "Baxter, Mr. Quigg Edmond",
           "male"
          ],
          [
           "Andersson, Miss. Ellis Anna Maria",
           "female"
          ],
          [
           "Hickman, Mr. Stanley George",
           "male"
          ],
          [
           "Moore, Mr. Leonard Charles",
           "male"
          ],
          [
           "Nasser, Mr. Nicholas",
           "male"
          ],
          [
           "Webber, Miss. Susan",
           "female"
          ],
          [
           "White, Mr. Percival Wayland",
           "male"
          ],
          [
           "Nicola-Yarred, Master. Elias",
           "male"
          ],
          [
           "McMahon, Mr. Martin",
           "male"
          ],
          [
           "Madsen, Mr. Fridtjof Arne",
           "male"
          ],
          [
           "Peter, Miss. Anna",
           "female"
          ],
          [
           "Ekstrom, Mr. Johan",
           "male"
          ],
          [
           "Drazenoic, Mr. Jozef",
           "male"
          ],
          [
           "Coelho, Mr. Domingos Fernandeo",
           "male"
          ],
          [
           "Robins, Mrs. Alexander A (Grace Charity Laury)",
           "female"
          ],
          [
           "Weisz, Mrs. Leopold (Mathilde Francoise Pede)",
           "female"
          ],
          [
           "Sobey, Mr. Samuel James Hayden",
           "male"
          ],
          [
           "Richard, Mr. Emile",
           "male"
          ],
          [
           "Newsom, Miss. Helen Monypeny",
           "female"
          ],
          [
           "Futrelle, Mr. Jacques Heath",
           "male"
          ],
          [
           "Osen, Mr. Olaf Elon",
           "male"
          ],
          [
           "Giglio, Mr. Victor",
           "male"
          ],
          [
           "Boulos, Mrs. Joseph (Sultana)",
           "female"
          ],
          [
           "Nysten, Miss. Anna Sofia",
           "female"
          ],
          [
           "Hakkarainen, Mrs. Pekka Pietari (Elin Matilda Dolck)",
           "female"
          ],
          [
           "Burke, Mr. Jeremiah",
           "male"
          ],
          [
           "Andrew, Mr. Edgardo Samuel",
           "male"
          ],
          [
           "Nicholls, Mr. Joseph Charles",
           "male"
          ],
          [
           "Andersson, Mr. August Edvard (\"Wennerstrom\")",
           "male"
          ],
          [
           "Ford, Miss. Robina Maggie \"Ruby\"",
           "female"
          ],
          [
           "Navratil, Mr. Michel (\"Louis M Hoffman\")",
           "male"
          ],
          [
           "Byles, Rev. Thomas Roussel Davids",
           "male"
          ],
          [
           "Bateman, Rev. Robert James",
           "male"
          ],
          [
           "Pears, Mrs. Thomas (Edith Wearne)",
           "female"
          ],
          [
           "Meo, Mr. Alfonzo",
           "male"
          ],
          [
           "van Billiard, Mr. Austin Blyler",
           "male"
          ],
          [
           "Olsen, Mr. Ole Martin",
           "male"
          ],
          [
           "Williams, Mr. Charles Duane",
           "male"
          ],
          [
           "Gilnagh, Miss. Katherine \"Katie\"",
           "female"
          ],
          [
           "Corn, Mr. Harry",
           "male"
          ],
          [
           "Smiljanic, Mr. Mile",
           "male"
          ],
          [
           "Sage, Master. Thomas Henry",
           "male"
          ],
          [
           "Cribb, Mr. John Hatfield",
           "male"
          ],
          [
           "Watt, Mrs. James (Elizabeth \"Bessie\" Inglis Milne)",
           "female"
          ],
          [
           "Bengtsson, Mr. John Viktor",
           "male"
          ],
          [
           "Calic, Mr. Jovo",
           "male"
          ],
          [
           "Panula, Master. Eino Viljami",
           "male"
          ],
          [
           "Goldsmith, Master. Frank John William \"Frankie\"",
           "male"
          ],
          [
           "Chibnall, Mrs. (Edith Martha Bowerman)",
           "female"
          ],
          [
           "Skoog, Mrs. William (Anna Bernhardina Karlsson)",
           "female"
          ],
          [
           "Baumann, Mr. John D",
           "male"
          ],
          [
           "Ling, Mr. Lee",
           "male"
          ],
          [
           "Van der hoef, Mr. Wyckoff",
           "male"
          ],
          [
           "Rice, Master. Arthur",
           "male"
          ],
          [
           "Johnson, Miss. Eleanor Ileen",
           "female"
          ],
          [
           "Sivola, Mr. Antti Wilhelm",
           "male"
          ],
          [
           "Smith, Mr. James Clinch",
           "male"
          ],
          [
           "Klasen, Mr. Klas Albin",
           "male"
          ],
          [
           "Lefebre, Master. Henry Forbes",
           "male"
          ],
          [
           "Isham, Miss. Ann Elizabeth",
           "female"
          ],
          [
           "Hale, Mr. Reginald",
           "male"
          ],
          [
           "Leonard, Mr. Lionel",
           "male"
          ],
          [
           "Sage, Miss. Constance Gladys",
           "female"
          ],
          [
           "Pernot, Mr. Rene",
           "male"
          ],
          [
           "Asplund, Master. Clarence Gustaf Hugo",
           "male"
          ],
          [
           "Becker, Master. Richard F",
           "male"
          ],
          [
           "Kink-Heilmann, Miss. Luise Gretchen",
           "female"
          ],
          [
           "Rood, Mr. Hugh Roscoe",
           "male"
          ],
          [
           "O'Brien, Mrs. Thomas (Johanna \"Hannah\" Godfrey)",
           "female"
          ],
          [
           "Romaine, Mr. Charles Hallace (\"Mr C Rolmane\")",
           "male"
          ],
          [
           "Bourke, Mr. John",
           "male"
          ],
          [
           "Turcin, Mr. Stjepan",
           "male"
          ],
          [
           "Pinsky, Mrs. (Rosa)",
           "female"
          ],
          [
           "Carbines, Mr. William",
           "male"
          ],
          [
           "Andersen-Jensen, Miss. Carla Christine Nielsine",
           "female"
          ],
          [
           "Navratil, Master. Michel M",
           "male"
          ],
          [
           "Brown, Mrs. James Joseph (Margaret Tobin)",
           "female"
          ],
          [
           "Lurette, Miss. Elise",
           "female"
          ],
          [
           "Mernagh, Mr. Robert",
           "male"
          ],
          [
           "Olsen, Mr. Karl Siegwart Andreas",
           "male"
          ],
          [
           "Madigan, Miss. Margaret \"Maggie\"",
           "female"
          ],
          [
           "Yrois, Miss. Henriette (\"Mrs Harbeck\")",
           "female"
          ],
          [
           "Vande Walle, Mr. Nestor Cyriel",
           "male"
          ],
          [
           "Sage, Mr. Frederick",
           "male"
          ],
          [
           "Johanson, Mr. Jakob Alfred",
           "male"
          ],
          [
           "Youseff, Mr. Gerious",
           "male"
          ],
          [
           "Cohen, Mr. Gurshon \"Gus\"",
           "male"
          ],
          [
           "Strom, Miss. Telma Matilda",
           "female"
          ],
          [
           "Backstrom, Mr. Karl Alfred",
           "male"
          ],
          [
           "Albimona, Mr. Nassef Cassem",
           "male"
          ],
          [
           "Carr, Miss. Helen \"Ellen\"",
           "female"
          ],
          [
           "Blank, Mr. Henry",
           "male"
          ],
          [
           "Ali, Mr. Ahmed",
           "male"
          ],
          [
           "Cameron, Miss. Clear Annie",
           "female"
          ],
          [
           "Perkin, Mr. John Henry",
           "male"
          ],
          [
           "Givard, Mr. Hans Kristensen",
           "male"
          ],
          [
           "Kiernan, Mr. Philip",
           "male"
          ],
          [
           "Newell, Miss. Madeleine",
           "female"
          ],
          [
           "Honkanen, Miss. Eliina",
           "female"
          ],
          [
           "Jacobsohn, Mr. Sidney Samuel",
           "male"
          ],
          [
           "Bazzani, Miss. Albina",
           "female"
          ],
          [
           "Harris, Mr. Walter",
           "male"
          ],
          [
           "Sunderland, Mr. Victor Francis",
           "male"
          ],
          [
           "Bracken, Mr. James H",
           "male"
          ],
          [
           "Green, Mr. George Henry",
           "male"
          ],
          [
           "Nenkoff, Mr. Christo",
           "male"
          ],
          [
           "Hoyt, Mr. Frederick Maxfield",
           "male"
          ],
          [
           "Berglund, Mr. Karl Ivar Sven",
           "male"
          ],
          [
           "Mellors, Mr. William John",
           "male"
          ],
          [
           "Lovell, Mr. John Hall (\"Henry\")",
           "male"
          ],
          [
           "Fahlstrom, Mr. Arne Jonas",
           "male"
          ],
          [
           "Lefebre, Miss. Mathilde",
           "female"
          ],
          [
           "Harris, Mrs. Henry Birkhardt (Irene Wallach)",
           "female"
          ],
          [
           "Larsson, Mr. Bengt Edvin",
           "male"
          ],
          [
           "Sjostedt, Mr. Ernst Adolf",
           "male"
          ],
          [
           "Asplund, Miss. Lillian Gertrud",
           "female"
          ],
          [
           "Leyson, Mr. Robert William Norman",
           "male"
          ],
          [
           "Harknett, Miss. Alice Phoebe",
           "female"
          ],
          [
           "Hold, Mr. Stephen",
           "male"
          ],
          [
           "Collyer, Miss. Marjorie \"Lottie\"",
           "female"
          ],
          [
           "Pengelly, Mr. Frederick William",
           "male"
          ],
          [
           "Hunt, Mr. George Henry",
           "male"
          ],
          [
           "Zabour, Miss. Thamine",
           "female"
          ],
          [
           "Murphy, Miss. Katherine \"Kate\"",
           "female"
          ],
          [
           "Coleridge, Mr. Reginald Charles",
           "male"
          ],
          [
           "Maenpaa, Mr. Matti Alexanteri",
           "male"
          ],
          [
           "Attalah, Mr. Sleiman",
           "male"
          ],
          [
           "Minahan, Dr. William Edward",
           "male"
          ],
          [
           "Lindahl, Miss. Agda Thorilda Viktoria",
           "female"
          ],
          [
           "Hamalainen, Mrs. William (Anna)",
           "female"
          ],
          [
           "Beckwith, Mr. Richard Leonard",
           "male"
          ],
          [
           "Carter, Rev. Ernest Courtenay",
           "male"
          ],
          [
           "Reed, Mr. James George",
           "male"
          ],
          [
           "Strom, Mrs. Wilhelm (Elna Matilda Persson)",
           "female"
          ],
          [
           "Stead, Mr. William Thomas",
           "male"
          ],
          [
           "Lobb, Mr. William Arthur",
           "male"
          ],
          [
           "Rosblom, Mrs. Viktor (Helena Wilhelmina)",
           "female"
          ],
          [
           "Touma, Mrs. Darwis (Hanne Youssef Razi)",
           "female"
          ],
          [
           "Thorne, Mrs. Gertrude Maybelle",
           "female"
          ],
          [
           "Cherry, Miss. Gladys",
           "female"
          ],
          [
           "Ward, Miss. Anna",
           "female"
          ],
          [
           "Parrish, Mrs. (Lutie Davis)",
           "female"
          ],
          [
           "Smith, Mr. Thomas",
           "male"
          ],
          [
           "Asplund, Master. Edvin Rojj Felix",
           "male"
          ],
          [
           "Taussig, Mr. Emil",
           "male"
          ],
          [
           "Harrison, Mr. William",
           "male"
          ],
          [
           "Henry, Miss. Delia",
           "female"
          ],
          [
           "Reeves, Mr. David",
           "male"
          ],
          [
           "Panula, Mr. Ernesti Arvid",
           "male"
          ],
          [
           "Persson, Mr. Ernst Ulrik",
           "male"
          ],
          [
           "Graham, Mrs. William Thompson (Edith Junkins)",
           "female"
          ],
          [
           "Bissette, Miss. Amelia",
           "female"
          ],
          [
           "Cairns, Mr. Alexander",
           "male"
          ],
          [
           "Tornquist, Mr. William Henry",
           "male"
          ],
          [
           "Mellinger, Mrs. (Elizabeth Anne Maidment)",
           "female"
          ],
          [
           "Natsch, Mr. Charles H",
           "male"
          ],
          [
           "Healy, Miss. Hanora \"Nora\"",
           "female"
          ],
          [
           "Andrews, Miss. Kornelia Theodosia",
           "female"
          ],
          [
           "Lindblom, Miss. Augusta Charlotta",
           "female"
          ],
          [
           "Parkes, Mr. Francis \"Frank\"",
           "male"
          ],
          [
           "Rice, Master. Eric",
           "male"
          ],
          [
           "Abbott, Mrs. Stanton (Rosa Hunt)",
           "female"
          ],
          [
           "Duane, Mr. Frank",
           "male"
          ],
          [
           "Olsson, Mr. Nils Johan Goransson",
           "male"
          ],
          [
           "de Pelsmaeker, Mr. Alfons",
           "male"
          ],
          [
           "Dorking, Mr. Edward Arthur",
           "male"
          ],
          [
           "Smith, Mr. Richard William",
           "male"
          ],
          [
           "Stankovic, Mr. Ivan",
           "male"
          ],
          [
           "de Mulder, Mr. Theodore",
           "male"
          ],
          [
           "Naidenoff, Mr. Penko",
           "male"
          ],
          [
           "Hosono, Mr. Masabumi",
           "male"
          ],
          [
           "Connolly, Miss. Kate",
           "female"
          ],
          [
           "Barber, Miss. Ellen \"Nellie\"",
           "female"
          ],
          [
           "Bishop, Mrs. Dickinson H (Helen Walton)",
           "female"
          ],
          [
           "Levy, Mr. Rene Jacques",
           "male"
          ],
          [
           "Haas, Miss. Aloisia",
           "female"
          ],
          [
           "Mineff, Mr. Ivan",
           "male"
          ],
          [
           "Lewy, Mr. Ervin G",
           "male"
          ],
          [
           "Hanna, Mr. Mansour",
           "male"
          ],
          [
           "Allison, Miss. Helen Loraine",
           "female"
          ],
          [
           "Saalfeld, Mr. Adolphe",
           "male"
          ],
          [
           "Baxter, Mrs. James (Helene DeLaudeniere Chaput)",
           "female"
          ],
          [
           "Kelly, Miss. Anna Katherine \"Annie Kate\"",
           "female"
          ],
          [
           "McCoy, Mr. Bernard",
           "male"
          ],
          [
           "Johnson, Mr. William Cahoone Jr",
           "male"
          ],
          [
           "Keane, Miss. Nora A",
           "female"
          ],
          [
           "Williams, Mr. Howard Hugh \"Harry\"",
           "male"
          ],
          [
           "Allison, Master. Hudson Trevor",
           "male"
          ],
          [
           "Fleming, Miss. Margaret",
           "female"
          ],
          [
           "Penasco y Castellana, Mrs. Victor de Satode (Maria Josefa Perez de Soto y Vallejo)",
           "female"
          ],
          [
           "Abelson, Mr. Samuel",
           "male"
          ],
          [
           "Francatelli, Miss. Laura Mabel",
           "female"
          ],
          [
           "Hays, Miss. Margaret Bechstein",
           "female"
          ],
          [
           "Ryerson, Miss. Emily Borie",
           "female"
          ],
          [
           "Lahtinen, Mrs. William (Anna Sylfven)",
           "female"
          ],
          [
           "Hendekovic, Mr. Ignjac",
           "male"
          ],
          [
           "Hart, Mr. Benjamin",
           "male"
          ],
          [
           "Nilsson, Miss. Helmina Josefina",
           "female"
          ],
          [
           "Kantor, Mrs. Sinai (Miriam Sternin)",
           "female"
          ],
          [
           "Moraweck, Dr. Ernest",
           "male"
          ],
          [
           "Wick, Miss. Mary Natalie",
           "female"
          ],
          [
           "Spedden, Mrs. Frederic Oakley (Margaretta Corning Stone)",
           "female"
          ],
          [
           "Dennis, Mr. Samuel",
           "male"
          ],
          [
           "Danoff, Mr. Yoto",
           "male"
          ],
          [
           "Slayter, Miss. Hilda Mary",
           "female"
          ],
          [
           "Caldwell, Mrs. Albert Francis (Sylvia Mae Harbaugh)",
           "female"
          ],
          [
           "Sage, Mr. George John Jr",
           "male"
          ],
          [
           "Young, Miss. Marie Grice",
           "female"
          ],
          [
           "Nysveen, Mr. Johan Hansen",
           "male"
          ],
          [
           "Ball, Mrs. (Ada E Hall)",
           "female"
          ],
          [
           "Goldsmith, Mrs. Frank John (Emily Alice Brown)",
           "female"
          ],
          [
           "Hippach, Miss. Jean Gertrude",
           "female"
          ],
          [
           "McCoy, Miss. Agnes",
           "female"
          ],
          [
           "Partner, Mr. Austen",
           "male"
          ],
          [
           "Graham, Mr. George Edward",
           "male"
          ],
          [
           "Vander Planke, Mr. Leo Edmondus",
           "male"
          ],
          [
           "Frauenthal, Mrs. Henry William (Clara Heinsheimer)",
           "female"
          ],
          [
           "Denkoff, Mr. Mitto",
           "male"
          ],
          [
           "Pears, Mr. Thomas Clinton",
           "male"
          ],
          [
           "Burns, Miss. Elizabeth Margaret",
           "female"
          ],
          [
           "Dahl, Mr. Karl Edwart",
           "male"
          ],
          [
           "Blackwell, Mr. Stephen Weart",
           "male"
          ],
          [
           "Navratil, Master. Edmond Roger",
           "male"
          ],
          [
           "Fortune, Miss. Alice Elizabeth",
           "female"
          ],
          [
           "Collander, Mr. Erik Gustaf",
           "male"
          ],
          [
           "Sedgwick, Mr. Charles Frederick Waddington",
           "male"
          ],
          [
           "Fox, Mr. Stanley Hubert",
           "male"
          ],
          [
           "Brown, Miss. Amelia \"Mildred\"",
           "female"
          ],
          [
           "Smith, Miss. Marion Elsie",
           "female"
          ],
          [
           "Davison, Mrs. Thomas Henry (Mary E Finck)",
           "female"
          ],
          [
           "Coutts, Master. William Loch \"William\"",
           "male"
          ],
          [
           "Dimic, Mr. Jovan",
           "male"
          ],
          [
           "Odahl, Mr. Nils Martin",
           "male"
          ],
          [
           "Williams-Lambert, Mr. Fletcher Fellows",
           "male"
          ],
          [
           "Elias, Mr. Tannous",
           "male"
          ],
          [
           "Arnold-Franchi, Mr. Josef",
           "male"
          ],
          [
           "Yousif, Mr. Wazli",
           "male"
          ],
          [
           "Vanden Steen, Mr. Leo Peter",
           "male"
          ],
          [
           "Bowerman, Miss. Elsie Edith",
           "female"
          ],
          [
           "Funk, Miss. Annie Clemmer",
           "female"
          ],
          [
           "McGovern, Miss. Mary",
           "female"
          ],
          [
           "Mockler, Miss. Helen Mary \"Ellie\"",
           "female"
          ],
          [
           "Skoog, Mr. Wilhelm",
           "male"
          ],
          [
           "del Carlo, Mr. Sebastiano",
           "male"
          ],
          [
           "Barbara, Mrs. (Catherine David)",
           "female"
          ],
          [
           "Asim, Mr. Adola",
           "male"
          ],
          [
           "O'Brien, Mr. Thomas",
           "male"
          ],
          [
           "Adahl, Mr. Mauritz Nils Martin",
           "male"
          ],
          [
           "Warren, Mrs. Frank Manley (Anna Sophia Atkinson)",
           "female"
          ],
          [
           "Moussa, Mrs. (Mantoura Boulos)",
           "female"
          ],
          [
           "Jermyn, Miss. Annie",
           "female"
          ],
          [
           "Aubart, Mme. Leontine Pauline",
           "female"
          ],
          [
           "Harder, Mr. George Achilles",
           "male"
          ],
          [
           "Wiklund, Mr. Jakob Alfred",
           "male"
          ],
          [
           "Beavan, Mr. William Thomas",
           "male"
          ],
          [
           "Ringhini, Mr. Sante",
           "male"
          ],
          [
           "Palsson, Miss. Stina Viola",
           "female"
          ],
          [
           "Meyer, Mrs. Edgar Joseph (Leila Saks)",
           "female"
          ],
          [
           "Landergren, Miss. Aurora Adelia",
           "female"
          ],
          [
           "Widener, Mr. Harry Elkins",
           "male"
          ],
          [
           "Betros, Mr. Tannous",
           "male"
          ],
          [
           "Gustafsson, Mr. Karl Gideon",
           "male"
          ],
          [
           "Bidois, Miss. Rosalie",
           "female"
          ],
          [
           "Nakid, Miss. Maria (\"Mary\")",
           "female"
          ],
          [
           "Tikkanen, Mr. Juho",
           "male"
          ],
          [
           "Holverson, Mrs. Alexander Oskar (Mary Aline Towner)",
           "female"
          ],
          [
           "Plotcharsky, Mr. Vasil",
           "male"
          ],
          [
           "Davies, Mr. Charles Henry",
           "male"
          ],
          [
           "Goodwin, Master. Sidney Leonard",
           "male"
          ],
          [
           "Buss, Miss. Kate",
           "female"
          ],
          [
           "Sadlier, Mr. Matthew",
           "male"
          ],
          [
           "Lehmann, Miss. Bertha",
           "female"
          ],
          [
           "Carter, Mr. William Ernest",
           "male"
          ],
          [
           "Jansson, Mr. Carl Olof",
           "male"
          ],
          [
           "Gustafsson, Mr. Johan Birger",
           "male"
          ],
          [
           "Newell, Miss. Marjorie",
           "female"
          ],
          [
           "Sandstrom, Mrs. Hjalmar (Agnes Charlotta Bengtsson)",
           "female"
          ],
          [
           "Johansson, Mr. Erik",
           "male"
          ],
          [
           "Olsson, Miss. Elina",
           "female"
          ],
          [
           "McKane, Mr. Peter David",
           "male"
          ],
          [
           "Pain, Dr. Alfred",
           "male"
          ],
          [
           "Trout, Mrs. William H (Jessie L)",
           "female"
          ],
          [
           "Niskanen, Mr. Juha",
           "male"
          ],
          [
           "Adams, Mr. John",
           "male"
          ],
          [
           "Jussila, Miss. Mari Aina",
           "female"
          ],
          [
           "Hakkarainen, Mr. Pekka Pietari",
           "male"
          ],
          [
           "Oreskovic, Miss. Marija",
           "female"
          ],
          [
           "Gale, Mr. Shadrach",
           "male"
          ],
          [
           "Widegren, Mr. Carl/Charles Peter",
           "male"
          ],
          [
           "Richards, Master. William Rowe",
           "male"
          ],
          [
           "Birkeland, Mr. Hans Martin Monsen",
           "male"
          ],
          [
           "Lefebre, Miss. Ida",
           "female"
          ],
          [
           "Sdycoff, Mr. Todor",
           "male"
          ],
          [
           "Hart, Mr. Henry",
           "male"
          ],
          [
           "Minahan, Miss. Daisy E",
           "female"
          ],
          [
           "Cunningham, Mr. Alfred Fleming",
           "male"
          ],
          [
           "Sundman, Mr. Johan Julian",
           "male"
          ],
          [
           "Meek, Mrs. Thomas (Annie Louise Rowley)",
           "female"
          ],
          [
           "Drew, Mrs. James Vivian (Lulu Thorne Christian)",
           "female"
          ],
          [
           "Silven, Miss. Lyyli Karoliina",
           "female"
          ],
          [
           "Matthews, Mr. William John",
           "male"
          ],
          [
           "Van Impe, Miss. Catharina",
           "female"
          ],
          [
           "Gheorgheff, Mr. Stanio",
           "male"
          ],
          [
           "Charters, Mr. David",
           "male"
          ],
          [
           "Zimmerman, Mr. Leo",
           "male"
          ],
          [
           "Danbom, Mrs. Ernst Gilbert (Anna Sigrid Maria Brogren)",
           "female"
          ],
          [
           "Rosblom, Mr. Viktor Richard",
           "male"
          ],
          [
           "Wiseman, Mr. Phillippe",
           "male"
          ],
          [
           "Clarke, Mrs. Charles V (Ada Maria Winfield)",
           "female"
          ],
          [
           "Phillips, Miss. Kate Florence (\"Mrs Kate Louise Phillips Marshall\")",
           "female"
          ],
          [
           "Flynn, Mr. James",
           "male"
          ],
          [
           "Pickard, Mr. Berk (Berk Trembisky)",
           "male"
          ],
          [
           "Bjornstrom-Steffansson, Mr. Mauritz Hakan",
           "male"
          ],
          [
           "Thorneycroft, Mrs. Percival (Florence Kate White)",
           "female"
          ],
          [
           "Louch, Mrs. Charles Alexander (Alice Adelaide Slow)",
           "female"
          ],
          [
           "Kallio, Mr. Nikolai Erland",
           "male"
          ],
          [
           "Silvey, Mr. William Baird",
           "male"
          ],
          [
           "Carter, Miss. Lucile Polk",
           "female"
          ],
          [
           "Ford, Miss. Doolina Margaret \"Daisy\"",
           "female"
          ],
          [
           "Richards, Mrs. Sidney (Emily Hocking)",
           "female"
          ],
          [
           "Fortune, Mr. Mark",
           "male"
          ],
          [
           "Kvillner, Mr. Johan Henrik Johannesson",
           "male"
          ],
          [
           "Hart, Mrs. Benjamin (Esther Ada Bloomfield)",
           "female"
          ],
          [
           "Hampe, Mr. Leon",
           "male"
          ],
          [
           "Petterson, Mr. Johan Emil",
           "male"
          ],
          [
           "Reynaldo, Ms. Encarnacion",
           "female"
          ],
          [
           "Johannesen-Bratthammer, Mr. Bernt",
           "male"
          ],
          [
           "Dodge, Master. Washington",
           "male"
          ],
          [
           "Mellinger, Miss. Madeleine Violet",
           "female"
          ],
          [
           "Seward, Mr. Frederic Kimber",
           "male"
          ],
          [
           "Baclini, Miss. Marie Catherine",
           "female"
          ],
          [
           "Peuchen, Major. Arthur Godfrey",
           "male"
          ],
          [
           "West, Mr. Edwy Arthur",
           "male"
          ],
          [
           "Hagland, Mr. Ingvald Olai Olsen",
           "male"
          ],
          [
           "Foreman, Mr. Benjamin Laventall",
           "male"
          ],
          [
           "Goldenberg, Mr. Samuel L",
           "male"
          ],
          [
           "Peduzzi, Mr. Joseph",
           "male"
          ],
          [
           "Jalsevac, Mr. Ivan",
           "male"
          ],
          [
           "Millet, Mr. Francis Davis",
           "male"
          ],
          [
           "Kenyon, Mrs. Frederick R (Marion)",
           "female"
          ],
          [
           "Toomey, Miss. Ellen",
           "female"
          ],
          [
           "O'Connor, Mr. Maurice",
           "male"
          ],
          [
           "Anderson, Mr. Harry",
           "male"
          ],
          [
           "Morley, Mr. William",
           "male"
          ],
          [
           "Gee, Mr. Arthur H",
           "male"
          ],
          [
           "Milling, Mr. Jacob Christian",
           "male"
          ],
          [
           "Maisner, Mr. Simon",
           "male"
          ],
          [
           "Goncalves, Mr. Manuel Estanslas",
           "male"
          ],
          [
           "Campbell, Mr. William",
           "male"
          ],
          [
           "Smart, Mr. John Montgomery",
           "male"
          ],
          [
           "Scanlan, Mr. James",
           "male"
          ],
          [
           "Baclini, Miss. Helene Barbara",
           "female"
          ],
          [
           "Keefe, Mr. Arthur",
           "male"
          ],
          [
           "Cacic, Mr. Luka",
           "male"
          ],
          [
           "West, Mrs. Edwy Arthur (Ada Mary Worth)",
           "female"
          ],
          [
           "Jerwan, Mrs. Amin S (Marie Marthe Thuillard)",
           "female"
          ],
          [
           "Strandberg, Miss. Ida Sofia",
           "female"
          ],
          [
           "Clifford, Mr. George Quincy",
           "male"
          ],
          [
           "Renouf, Mr. Peter Henry",
           "male"
          ],
          [
           "Braund, Mr. Lewis Richard",
           "male"
          ],
          [
           "Karlsson, Mr. Nils August",
           "male"
          ],
          [
           "Hirvonen, Miss. Hildur E",
           "female"
          ],
          [
           "Goodwin, Master. Harold Victor",
           "male"
          ],
          [
           "Frost, Mr. Anthony Wood \"Archie\"",
           "male"
          ],
          [
           "Rouse, Mr. Richard Henry",
           "male"
          ],
          [
           "Turkula, Mrs. (Hedwig)",
           "female"
          ],
          [
           "Bishop, Mr. Dickinson H",
           "male"
          ],
          [
           "Lefebre, Miss. Jeannie",
           "female"
          ],
          [
           "Hoyt, Mrs. Frederick Maxfield (Jane Anne Forby)",
           "female"
          ],
          [
           "Kent, Mr. Edward Austin",
           "male"
          ],
          [
           "Somerton, Mr. Francis William",
           "male"
          ],
          [
           "Coutts, Master. Eden Leslie \"Neville\"",
           "male"
          ],
          [
           "Hagland, Mr. Konrad Mathias Reiersen",
           "male"
          ],
          [
           "Windelov, Mr. Einar",
           "male"
          ],
          [
           "Molson, Mr. Harry Markland",
           "male"
          ],
          [
           "Artagaveytia, Mr. Ramon",
           "male"
          ],
          [
           "Stanley, Mr. Edward Roland",
           "male"
          ],
          [
           "Yousseff, Mr. Gerious",
           "male"
          ],
          [
           "Eustis, Miss. Elizabeth Mussey",
           "female"
          ],
          [
           "Shellard, Mr. Frederick William",
           "male"
          ],
          [
           "Allison, Mrs. Hudson J C (Bessie Waldo Daniels)",
           "female"
          ],
          [
           "Svensson, Mr. Olof",
           "male"
          ],
          [
           "Calic, Mr. Petar",
           "male"
          ],
          [
           "Canavan, Miss. Mary",
           "female"
          ],
          [
           "O'Sullivan, Miss. Bridget Mary",
           "female"
          ],
          [
           "Laitinen, Miss. Kristina Sofia",
           "female"
          ],
          [
           "Maioni, Miss. Roberta",
           "female"
          ],
          [
           "Penasco y Castellana, Mr. Victor de Satode",
           "male"
          ],
          [
           "Quick, Mrs. Frederick Charles (Jane Richards)",
           "female"
          ],
          [
           "Bradley, Mr. George (\"George Arthur Brayton\")",
           "male"
          ],
          [
           "Olsen, Mr. Henry Margido",
           "male"
          ],
          [
           "Lang, Mr. Fang",
           "male"
          ],
          [
           "Daly, Mr. Eugene Patrick",
           "male"
          ],
          [
           "Webber, Mr. James",
           "male"
          ],
          [
           "McGough, Mr. James Robert",
           "male"
          ],
          [
           "Rothschild, Mrs. Martin (Elizabeth L. Barrett)",
           "female"
          ],
          [
           "Coleff, Mr. Satio",
           "male"
          ],
          [
           "Walker, Mr. William Anderson",
           "male"
          ],
          [
           "Lemore, Mrs. (Amelia Milley)",
           "female"
          ],
          [
           "Ryan, Mr. Patrick",
           "male"
          ],
          [
           "Angle, Mrs. William A (Florence \"Mary\" Agnes Hughes)",
           "female"
          ],
          [
           "Pavlovic, Mr. Stefo",
           "male"
          ],
          [
           "Perreault, Miss. Anne",
           "female"
          ],
          [
           "Vovk, Mr. Janko",
           "male"
          ],
          [
           "Lahoud, Mr. Sarkis",
           "male"
          ],
          [
           "Hippach, Mrs. Louis Albert (Ida Sophia Fischer)",
           "female"
          ],
          [
           "Kassem, Mr. Fared",
           "male"
          ],
          [
           "Farrell, Mr. James",
           "male"
          ],
          [
           "Ridsdale, Miss. Lucy",
           "female"
          ],
          [
           "Farthing, Mr. John",
           "male"
          ],
          [
           "Salonen, Mr. Johan Werner",
           "male"
          ],
          [
           "Hocking, Mr. Richard George",
           "male"
          ],
          [
           "Quick, Miss. Phyllis May",
           "female"
          ],
          [
           "Toufik, Mr. Nakli",
           "male"
          ],
          [
           "Elias, Mr. Joseph Jr",
           "male"
          ],
          [
           "Peter, Mrs. Catherine (Catherine Rizk)",
           "female"
          ],
          [
           "Cacic, Miss. Marija",
           "female"
          ],
          [
           "Hart, Miss. Eva Miriam",
           "female"
          ],
          [
           "Butt, Major. Archibald Willingham",
           "male"
          ],
          [
           "LeRoy, Miss. Bertha",
           "female"
          ],
          [
           "Risien, Mr. Samuel Beard",
           "male"
          ],
          [
           "Frolicher, Miss. Hedwig Margaritha",
           "female"
          ],
          [
           "Crosby, Miss. Harriet R",
           "female"
          ],
          [
           "Andersson, Miss. Ingeborg Constanzia",
           "female"
          ],
          [
           "Andersson, Miss. Sigrid Elisabeth",
           "female"
          ],
          [
           "Beane, Mr. Edward",
           "male"
          ],
          [
           "Douglas, Mr. Walter Donald",
           "male"
          ],
          [
           "Nicholson, Mr. Arthur Ernest",
           "male"
          ],
          [
           "Beane, Mrs. Edward (Ethel Clarke)",
           "female"
          ],
          [
           "Padro y Manent, Mr. Julian",
           "male"
          ],
          [
           "Goldsmith, Mr. Frank John",
           "male"
          ],
          [
           "Davies, Master. John Morgan Jr",
           "male"
          ],
          [
           "Thayer, Mr. John Borland Jr",
           "male"
          ],
          [
           "Sharp, Mr. Percival James R",
           "male"
          ],
          [
           "O'Brien, Mr. Timothy",
           "male"
          ],
          [
           "Leeni, Mr. Fahim (\"Philip Zenni\")",
           "male"
          ],
          [
           "Ohman, Miss. Velin",
           "female"
          ],
          [
           "Wright, Mr. George",
           "male"
          ],
          [
           "Duff Gordon, Lady. (Lucille Christiana Sutherland) (\"Mrs Morgan\")",
           "female"
          ],
          [
           "Robbins, Mr. Victor",
           "male"
          ],
          [
           "Taussig, Mrs. Emil (Tillie Mandelbaum)",
           "female"
          ],
          [
           "de Messemaeker, Mrs. Guillaume Joseph (Emma)",
           "female"
          ],
          [
           "Morrow, Mr. Thomas Rowan",
           "male"
          ],
          [
           "Sivic, Mr. Husein",
           "male"
          ],
          [
           "Norman, Mr. Robert Douglas",
           "male"
          ],
          [
           "Simmons, Mr. John",
           "male"
          ],
          [
           "Meanwell, Miss. (Marion Ogden)",
           "female"
          ],
          [
           "Davies, Mr. Alfred J",
           "male"
          ],
          [
           "Stoytcheff, Mr. Ilia",
           "male"
          ],
          [
           "Palsson, Mrs. Nils (Alma Cornelia Berglund)",
           "female"
          ],
          [
           "Doharr, Mr. Tannous",
           "male"
          ],
          [
           "Jonsson, Mr. Carl",
           "male"
          ],
          [
           "Harris, Mr. George",
           "male"
          ],
          [
           "Appleton, Mrs. Edward Dale (Charlotte Lamson)",
           "female"
          ],
          [
           "Flynn, Mr. John Irwin (\"Irving\")",
           "male"
          ],
          [
           "Kelly, Miss. Mary",
           "female"
          ],
          [
           "Rush, Mr. Alfred George John",
           "male"
          ],
          [
           "Patchett, Mr. George",
           "male"
          ],
          [
           "Garside, Miss. Ethel",
           "female"
          ],
          [
           "Silvey, Mrs. William Baird (Alice Munger)",
           "female"
          ],
          [
           "Caram, Mrs. Joseph (Maria Elias)",
           "female"
          ],
          [
           "Jussila, Mr. Eiriik",
           "male"
          ],
          [
           "Christy, Miss. Julie Rachel",
           "female"
          ],
          [
           "Thayer, Mrs. John Borland (Marian Longstreth Morris)",
           "female"
          ],
          [
           "Downton, Mr. William James",
           "male"
          ],
          [
           "Ross, Mr. John Hugo",
           "male"
          ],
          [
           "Paulner, Mr. Uscher",
           "male"
          ],
          [
           "Taussig, Miss. Ruth",
           "female"
          ],
          [
           "Jarvis, Mr. John Denzil",
           "male"
          ],
          [
           "Frolicher-Stehli, Mr. Maxmillian",
           "male"
          ],
          [
           "Gilinski, Mr. Eliezer",
           "male"
          ],
          [
           "Murdlin, Mr. Joseph",
           "male"
          ],
          [
           "Rintamaki, Mr. Matti",
           "male"
          ],
          [
           "Stephenson, Mrs. Walter Bertram (Martha Eustis)",
           "female"
          ],
          [
           "Elsbury, Mr. William James",
           "male"
          ],
          [
           "Bourke, Miss. Mary",
           "female"
          ],
          [
           "Chapman, Mr. John Henry",
           "male"
          ],
          [
           "Van Impe, Mr. Jean Baptiste",
           "male"
          ],
          [
           "Leitch, Miss. Jessie Wills",
           "female"
          ],
          [
           "Johnson, Mr. Alfred",
           "male"
          ],
          [
           "Boulos, Mr. Hanna",
           "male"
          ],
          [
           "Duff Gordon, Sir. Cosmo Edmund (\"Mr Morgan\")",
           "male"
          ],
          [
           "Jacobsohn, Mrs. Sidney Samuel (Amy Frances Christy)",
           "female"
          ],
          [
           "Slabenoff, Mr. Petco",
           "male"
          ],
          [
           "Harrington, Mr. Charles H",
           "male"
          ],
          [
           "Torber, Mr. Ernst William",
           "male"
          ],
          [
           "Homer, Mr. Harry (\"Mr E Haven\")",
           "male"
          ],
          [
           "Lindell, Mr. Edvard Bengtsson",
           "male"
          ],
          [
           "Karaic, Mr. Milan",
           "male"
          ],
          [
           "Daniel, Mr. Robert Williams",
           "male"
          ],
          [
           "Laroche, Mrs. Joseph (Juliette Marie Louise Lafargue)",
           "female"
          ],
          [
           "Shutes, Miss. Elizabeth W",
           "female"
          ],
          [
           "Andersson, Mrs. Anders Johan (Alfrida Konstantia Brogren)",
           "female"
          ],
          [
           "Jardin, Mr. Jose Neto",
           "male"
          ],
          [
           "Murphy, Miss. Margaret Jane",
           "female"
          ],
          [
           "Horgan, Mr. John",
           "male"
          ],
          [
           "Brocklebank, Mr. William Alfred",
           "male"
          ],
          [
           "Herman, Miss. Alice",
           "female"
          ],
          [
           "Danbom, Mr. Ernst Gilbert",
           "male"
          ],
          [
           "Lobb, Mrs. William Arthur (Cordelia K Stanlick)",
           "female"
          ],
          [
           "Becker, Miss. Marion Louise",
           "female"
          ],
          [
           "Gavey, Mr. Lawrence",
           "male"
          ],
          [
           "Yasbeck, Mr. Antoni",
           "male"
          ],
          [
           "Kimball, Mr. Edwin Nelson Jr",
           "male"
          ],
          [
           "Nakid, Mr. Sahid",
           "male"
          ],
          [
           "Hansen, Mr. Henry Damsgaard",
           "male"
          ],
          [
           "Bowen, Mr. David John \"Dai\"",
           "male"
          ],
          [
           "Sutton, Mr. Frederick",
           "male"
          ],
          [
           "Kirkland, Rev. Charles Leonard",
           "male"
          ],
          [
           "Longley, Miss. Gretchen Fiske",
           "female"
          ],
          [
           "Bostandyeff, Mr. Guentcho",
           "male"
          ],
          [
           "O'Connell, Mr. Patrick D",
           "male"
          ],
          [
           "Barkworth, Mr. Algernon Henry Wilson",
           "male"
          ],
          [
           "Lundahl, Mr. Johan Svensson",
           "male"
          ],
          [
           "Stahelin-Maeglin, Dr. Max",
           "male"
          ],
          [
           "Parr, Mr. William Henry Marsh",
           "male"
          ],
          [
           "Skoog, Miss. Mabel",
           "female"
          ],
          [
           "Davis, Miss. Mary",
           "female"
          ],
          [
           "Leinonen, Mr. Antti Gustaf",
           "male"
          ],
          [
           "Collyer, Mr. Harvey",
           "male"
          ],
          [
           "Panula, Mrs. Juha (Maria Emilia Ojala)",
           "female"
          ],
          [
           "Thorneycroft, Mr. Percival",
           "male"
          ],
          [
           "Jensen, Mr. Hans Peder",
           "male"
          ],
          [
           "Sagesser, Mlle. Emma",
           "female"
          ],
          [
           "Skoog, Miss. Margit Elizabeth",
           "female"
          ],
          [
           "Foo, Mr. Choong",
           "male"
          ],
          [
           "Baclini, Miss. Eugenie",
           "female"
          ],
          [
           "Harper, Mr. Henry Sleeper",
           "male"
          ],
          [
           "Cor, Mr. Liudevit",
           "male"
          ],
          [
           "Simonius-Blumer, Col. Oberst Alfons",
           "male"
          ],
          [
           "Willey, Mr. Edward",
           "male"
          ],
          [
           "Stanley, Miss. Amy Zillah Elsie",
           "female"
          ],
          [
           "Mitkoff, Mr. Mito",
           "male"
          ],
          [
           "Doling, Miss. Elsie",
           "female"
          ],
          [
           "Kalvik, Mr. Johannes Halvorsen",
           "male"
          ],
          [
           "O'Leary, Miss. Hanora \"Norah\"",
           "female"
          ],
          [
           "Hegarty, Miss. Hanora \"Nora\"",
           "female"
          ],
          [
           "Hickman, Mr. Leonard Mark",
           "male"
          ],
          [
           "Radeff, Mr. Alexander",
           "male"
          ],
          [
           "Bourke, Mrs. John (Catherine)",
           "female"
          ],
          [
           "Eitemiller, Mr. George Floyd",
           "male"
          ],
          [
           "Newell, Mr. Arthur Webster",
           "male"
          ],
          [
           "Frauenthal, Dr. Henry William",
           "male"
          ],
          [
           "Badt, Mr. Mohamed",
           "male"
          ],
          [
           "Colley, Mr. Edward Pomeroy",
           "male"
          ],
          [
           "Coleff, Mr. Peju",
           "male"
          ],
          [
           "Lindqvist, Mr. Eino William",
           "male"
          ],
          [
           "Hickman, Mr. Lewis",
           "male"
          ],
          [
           "Butler, Mr. Reginald Fenton",
           "male"
          ],
          [
           "Rommetvedt, Mr. Knud Paust",
           "male"
          ],
          [
           "Cook, Mr. Jacob",
           "male"
          ],
          [
           "Taylor, Mrs. Elmer Zebley (Juliet Cummins Wright)",
           "female"
          ],
          [
           "Brown, Mrs. Thomas William Solomon (Elizabeth Catherine Ford)",
           "female"
          ],
          [
           "Davidson, Mr. Thornton",
           "male"
          ],
          [
           "Mitchell, Mr. Henry Michael",
           "male"
          ],
          [
           "Wilhelms, Mr. Charles",
           "male"
          ],
          [
           "Watson, Mr. Ennis Hastings",
           "male"
          ],
          [
           "Edvardsson, Mr. Gustaf Hjalmar",
           "male"
          ],
          [
           "Sawyer, Mr. Frederick Charles",
           "male"
          ],
          [
           "Turja, Miss. Anna Sofia",
           "female"
          ],
          [
           "Goodwin, Mrs. Frederick (Augusta Tyler)",
           "female"
          ],
          [
           "Cardeza, Mr. Thomas Drake Martinez",
           "male"
          ],
          [
           "Peters, Miss. Katie",
           "female"
          ],
          [
           "Hassab, Mr. Hammad",
           "male"
          ],
          [
           "Olsvigen, Mr. Thor Anderson",
           "male"
          ],
          [
           "Goodwin, Mr. Charles Edward",
           "male"
          ],
          [
           "Brown, Mr. Thomas William Solomon",
           "male"
          ],
          [
           "Laroche, Mr. Joseph Philippe Lemercier",
           "male"
          ],
          [
           "Panula, Mr. Jaako Arnold",
           "male"
          ],
          [
           "Dakic, Mr. Branko",
           "male"
          ],
          [
           "Fischer, Mr. Eberhard Thelander",
           "male"
          ],
          [
           "Madill, Miss. Georgette Alexandra",
           "female"
          ],
          [
           "Dick, Mr. Albert Adrian",
           "male"
          ],
          [
           "Karun, Miss. Manca",
           "female"
          ],
          [
           "Lam, Mr. Ali",
           "male"
          ],
          [
           "Saad, Mr. Khalil",
           "male"
          ],
          [
           "Weir, Col. John",
           "male"
          ],
          [
           "Chapman, Mr. Charles Henry",
           "male"
          ],
          [
           "Kelly, Mr. James",
           "male"
          ],
          [
           "Mullens, Miss. Katherine \"Katie\"",
           "female"
          ],
          [
           "Thayer, Mr. John Borland",
           "male"
          ],
          [
           "Humblen, Mr. Adolf Mathias Nicolai Olsen",
           "male"
          ],
          [
           "Astor, Mrs. John Jacob (Madeleine Talmadge Force)",
           "female"
          ],
          [
           "Silverthorne, Mr. Spencer Victor",
           "male"
          ],
          [
           "Barbara, Miss. Saiide",
           "female"
          ],
          [
           "Gallagher, Mr. Martin",
           "male"
          ],
          [
           "Hansen, Mr. Henrik Juul",
           "male"
          ],
          [
           "Morley, Mr. Henry Samuel (\"Mr Henry Marshall\")",
           "male"
          ],
          [
           "Kelly, Mrs. Florence \"Fannie\"",
           "female"
          ],
          [
           "Calderhead, Mr. Edward Pennington",
           "male"
          ],
          [
           "Cleaver, Miss. Alice",
           "female"
          ],
          [
           "Moubarek, Master. Halim Gonios (\"William George\")",
           "male"
          ],
          [
           "Mayne, Mlle. Berthe Antonine (\"Mrs de Villiers\")",
           "female"
          ],
          [
           "Klaber, Mr. Herman",
           "male"
          ],
          [
           "Taylor, Mr. Elmer Zebley",
           "male"
          ],
          [
           "Larsson, Mr. August Viktor",
           "male"
          ],
          [
           "Greenberg, Mr. Samuel",
           "male"
          ],
          [
           "Soholt, Mr. Peter Andreas Lauritz Andersen",
           "male"
          ],
          [
           "Endres, Miss. Caroline Louise",
           "female"
          ],
          [
           "Troutt, Miss. Edwina Celia \"Winnie\"",
           "female"
          ],
          [
           "McEvoy, Mr. Michael",
           "male"
          ],
          [
           "Johnson, Mr. Malkolm Joackim",
           "male"
          ],
          [
           "Harper, Miss. Annie Jessie \"Nina\"",
           "female"
          ],
          [
           "Jensen, Mr. Svend Lauritz",
           "male"
          ],
          [
           "Gillespie, Mr. William Henry",
           "male"
          ],
          [
           "Hodges, Mr. Henry Price",
           "male"
          ],
          [
           "Chambers, Mr. Norman Campbell",
           "male"
          ],
          [
           "Oreskovic, Mr. Luka",
           "male"
          ],
          [
           "Renouf, Mrs. Peter Henry (Lillian Jefferys)",
           "female"
          ],
          [
           "Mannion, Miss. Margareth",
           "female"
          ],
          [
           "Bryhl, Mr. Kurt Arnold Gottfrid",
           "male"
          ],
          [
           "Ilmakangas, Miss. Pieta Sofia",
           "female"
          ],
          [
           "Allen, Miss. Elisabeth Walton",
           "female"
          ],
          [
           "Hassan, Mr. Houssein G N",
           "male"
          ],
          [
           "Knight, Mr. Robert J",
           "male"
          ],
          [
           "Berriman, Mr. William John",
           "male"
          ],
          [
           "Troupiansky, Mr. Moses Aaron",
           "male"
          ],
          [
           "Williams, Mr. Leslie",
           "male"
          ],
          [
           "Ford, Mrs. Edward (Margaret Ann Watson)",
           "female"
          ],
          [
           "Lesurer, Mr. Gustave J",
           "male"
          ],
          [
           "Ivanoff, Mr. Kanio",
           "male"
          ],
          [
           "Nankoff, Mr. Minko",
           "male"
          ],
          [
           "Hawksford, Mr. Walter James",
           "male"
          ],
          [
           "Cavendish, Mr. Tyrell William",
           "male"
          ],
          [
           "Ryerson, Miss. Susan Parker \"Suzette\"",
           "female"
          ],
          [
           "McNamee, Mr. Neal",
           "male"
          ],
          [
           "Stranden, Mr. Juho",
           "male"
          ],
          [
           "Crosby, Capt. Edward Gifford",
           "male"
          ],
          [
           "Abbott, Mr. Rossmore Edward",
           "male"
          ],
          [
           "Sinkkonen, Miss. Anna",
           "female"
          ],
          [
           "Marvin, Mr. Daniel Warner",
           "male"
          ],
          [
           "Connaghton, Mr. Michael",
           "male"
          ],
          [
           "Wells, Miss. Joan",
           "female"
          ],
          [
           "Moor, Master. Meier",
           "male"
          ],
          [
           "Vande Velde, Mr. Johannes Joseph",
           "male"
          ],
          [
           "Jonkoff, Mr. Lalio",
           "male"
          ],
          [
           "Herman, Mrs. Samuel (Jane Laver)",
           "female"
          ],
          [
           "Hamalainen, Master. Viljo",
           "male"
          ],
          [
           "Carlsson, Mr. August Sigfrid",
           "male"
          ],
          [
           "Bailey, Mr. Percy Andrew",
           "male"
          ],
          [
           "Theobald, Mr. Thomas Leonard",
           "male"
          ],
          [
           "Rothes, the Countess. of (Lucy Noel Martha Dyer-Edwards)",
           "female"
          ],
          [
           "Garfirth, Mr. John",
           "male"
          ],
          [
           "Nirva, Mr. Iisakki Antino Aijo",
           "male"
          ],
          [
           "Barah, Mr. Hanna Assi",
           "male"
          ],
          [
           "Carter, Mrs. William Ernest (Lucile Polk)",
           "female"
          ],
          [
           "Eklund, Mr. Hans Linus",
           "male"
          ],
          [
           "Hogeboom, Mrs. John C (Anna Andrews)",
           "female"
          ],
          [
           "Brewe, Dr. Arthur Jackson",
           "male"
          ],
          [
           "Mangan, Miss. Mary",
           "female"
          ],
          [
           "Moran, Mr. Daniel J",
           "male"
          ],
          [
           "Gronnestad, Mr. Daniel Danielsen",
           "male"
          ],
          [
           "Lievens, Mr. Rene Aime",
           "male"
          ],
          [
           "Jensen, Mr. Niels Peder",
           "male"
          ],
          [
           "Mack, Mrs. (Mary)",
           "female"
          ],
          [
           "Elias, Mr. Dibo",
           "male"
          ],
          [
           "Hocking, Mrs. Elizabeth (Eliza Needs)",
           "female"
          ],
          [
           "Myhrman, Mr. Pehr Fabian Oliver Malkolm",
           "male"
          ],
          [
           "Tobin, Mr. Roger",
           "male"
          ],
          [
           "Emanuel, Miss. Virginia Ethel",
           "female"
          ],
          [
           "Kilgannon, Mr. Thomas J",
           "male"
          ],
          [
           "Robert, Mrs. Edward Scott (Elisabeth Walton McMillan)",
           "female"
          ],
          [
           "Ayoub, Miss. Banoura",
           "female"
          ],
          [
           "Dick, Mrs. Albert Adrian (Vera Gillespie)",
           "female"
          ],
          [
           "Long, Mr. Milton Clyde",
           "male"
          ],
          [
           "Johnston, Mr. Andrew G",
           "male"
          ],
          [
           "Ali, Mr. William",
           "male"
          ],
          [
           "Harmer, Mr. Abraham (David Lishin)",
           "male"
          ],
          [
           "Sjoblom, Miss. Anna Sofia",
           "female"
          ],
          [
           "Rice, Master. George Hugh",
           "male"
          ],
          [
           "Dean, Master. Bertram Vere",
           "male"
          ],
          [
           "Guggenheim, Mr. Benjamin",
           "male"
          ],
          [
           "Keane, Mr. Andrew \"Andy\"",
           "male"
          ],
          [
           "Gaskell, Mr. Alfred",
           "male"
          ],
          [
           "Sage, Miss. Stella Anna",
           "female"
          ],
          [
           "Hoyt, Mr. William Fisher",
           "male"
          ],
          [
           "Dantcheff, Mr. Ristiu",
           "male"
          ],
          [
           "Otter, Mr. Richard",
           "male"
          ],
          [
           "Leader, Dr. Alice (Farnham)",
           "female"
          ],
          [
           "Osman, Mrs. Mara",
           "female"
          ],
          [
           "Ibrahim Shawah, Mr. Yousseff",
           "male"
          ],
          [
           "Van Impe, Mrs. Jean Baptiste (Rosalie Paula Govaert)",
           "female"
          ],
          [
           "Ponesell, Mr. Martin",
           "male"
          ],
          [
           "Collyer, Mrs. Harvey (Charlotte Annie Tate)",
           "female"
          ],
          [
           "Carter, Master. William Thornton II",
           "male"
          ],
          [
           "Thomas, Master. Assad Alexander",
           "male"
          ],
          [
           "Hedman, Mr. Oskar Arvid",
           "male"
          ],
          [
           "Johansson, Mr. Karl Johan",
           "male"
          ],
          [
           "Andrews, Mr. Thomas Jr",
           "male"
          ],
          [
           "Pettersson, Miss. Ellen Natalia",
           "female"
          ],
          [
           "Meyer, Mr. August",
           "male"
          ],
          [
           "Chambers, Mrs. Norman Campbell (Bertha Griggs)",
           "female"
          ],
          [
           "Alexander, Mr. William",
           "male"
          ],
          [
           "Lester, Mr. James",
           "male"
          ],
          [
           "Slemen, Mr. Richard James",
           "male"
          ],
          [
           "Andersson, Miss. Ebba Iris Alfrida",
           "female"
          ],
          [
           "Tomlin, Mr. Ernest Portage",
           "male"
          ],
          [
           "Fry, Mr. Richard",
           "male"
          ],
          [
           "Heininen, Miss. Wendla Maria",
           "female"
          ],
          [
           "Mallet, Mr. Albert",
           "male"
          ],
          [
           "Holm, Mr. John Fredrik Alexander",
           "male"
          ],
          [
           "Skoog, Master. Karl Thorsten",
           "male"
          ],
          [
           "Hays, Mrs. Charles Melville (Clara Jennings Gregg)",
           "female"
          ],
          [
           "Lulic, Mr. Nikola",
           "male"
          ],
          [
           "Reuchlin, Jonkheer. John George",
           "male"
          ],
          [
           "Moor, Mrs. (Beila)",
           "female"
          ],
          [
           "Panula, Master. Urho Abraham",
           "male"
          ],
          [
           "Flynn, Mr. John",
           "male"
          ],
          [
           "Lam, Mr. Len",
           "male"
          ],
          [
           "Mallet, Master. Andre",
           "male"
          ],
          [
           "McCormack, Mr. Thomas Joseph",
           "male"
          ],
          [
           "Stone, Mrs. George Nelson (Martha Evelyn)",
           "female"
          ],
          [
           "Yasbeck, Mrs. Antoni (Selini Alexander)",
           "female"
          ],
          [
           "Richards, Master. George Sibley",
           "male"
          ],
          [
           "Saad, Mr. Amin",
           "male"
          ],
          [
           "Augustsson, Mr. Albert",
           "male"
          ],
          [
           "Allum, Mr. Owen George",
           "male"
          ],
          [
           "Compton, Miss. Sara Rebecca",
           "female"
          ],
          [
           "Pasic, Mr. Jakob",
           "male"
          ],
          [
           "Sirota, Mr. Maurice",
           "male"
          ],
          [
           "Chip, Mr. Chang",
           "male"
          ],
          [
           "Marechal, Mr. Pierre",
           "male"
          ],
          [
           "Alhomaki, Mr. Ilmari Rudolf",
           "male"
          ],
          [
           "Mudd, Mr. Thomas Charles",
           "male"
          ],
          [
           "Serepeca, Miss. Augusta",
           "female"
          ],
          [
           "Lemberopolous, Mr. Peter L",
           "male"
          ],
          [
           "Culumovic, Mr. Jeso",
           "male"
          ],
          [
           "Abbing, Mr. Anthony",
           "male"
          ],
          [
           "Sage, Mr. Douglas Bullen",
           "male"
          ],
          [
           "Markoff, Mr. Marin",
           "male"
          ],
          [
           "Harper, Rev. John",
           "male"
          ],
          [
           "Goldenberg, Mrs. Samuel L (Edwiga Grabowska)",
           "female"
          ],
          [
           "Andersson, Master. Sigvard Harald Elias",
           "male"
          ],
          [
           "Svensson, Mr. Johan",
           "male"
          ],
          [
           "Boulos, Miss. Nourelain",
           "female"
          ],
          [
           "Lines, Miss. Mary Conover",
           "female"
          ],
          [
           "Carter, Mrs. Ernest Courtenay (Lilian Hughes)",
           "female"
          ],
          [
           "Aks, Mrs. Sam (Leah Rosen)",
           "female"
          ],
          [
           "Wick, Mrs. George Dennick (Mary Hitchcock)",
           "female"
          ],
          [
           "Daly, Mr. Peter Denis ",
           "male"
          ],
          [
           "Baclini, Mrs. Solomon (Latifa Qurban)",
           "female"
          ],
          [
           "Razi, Mr. Raihed",
           "male"
          ],
          [
           "Hansen, Mr. Claus Peter",
           "male"
          ],
          [
           "Giles, Mr. Frederick Edward",
           "male"
          ],
          [
           "Swift, Mrs. Frederick Joel (Margaret Welles Barron)",
           "female"
          ],
          [
           "Sage, Miss. Dorothy Edith \"Dolly\"",
           "female"
          ],
          [
           "Gill, Mr. John William",
           "male"
          ],
          [
           "Bystrom, Mrs. (Karolina)",
           "female"
          ],
          [
           "Duran y More, Miss. Asuncion",
           "female"
          ],
          [
           "Roebling, Mr. Washington Augustus II",
           "male"
          ],
          [
           "van Melkebeke, Mr. Philemon",
           "male"
          ],
          [
           "Johnson, Master. Harold Theodor",
           "male"
          ],
          [
           "Balkic, Mr. Cerin",
           "male"
          ],
          [
           "Beckwith, Mrs. Richard Leonard (Sallie Monypeny)",
           "female"
          ],
          [
           "Carlsson, Mr. Frans Olof",
           "male"
          ],
          [
           "Vander Cruyssen, Mr. Victor",
           "male"
          ],
          [
           "Abelson, Mrs. Samuel (Hannah Wizosky)",
           "female"
          ],
          [
           "Najib, Miss. Adele Kiamie \"Jane\"",
           "female"
          ],
          [
           "Gustafsson, Mr. Alfred Ossian",
           "male"
          ],
          [
           "Petroff, Mr. Nedelio",
           "male"
          ],
          [
           "Laleff, Mr. Kristo",
           "male"
          ],
          [
           "Potter, Mrs. Thomas Jr (Lily Alexenia Wilson)",
           "female"
          ],
          [
           "Shelley, Mrs. William (Imanita Parrish Hall)",
           "female"
          ],
          [
           "Markun, Mr. Johann",
           "male"
          ],
          [
           "Dahlberg, Miss. Gerda Ulrika",
           "female"
          ],
          [
           "Banfield, Mr. Frederick James",
           "male"
          ],
          [
           "Sutehall, Mr. Henry Jr",
           "male"
          ],
          [
           "Rice, Mrs. William (Margaret Norton)",
           "female"
          ],
          [
           "Montvila, Rev. Juozas",
           "male"
          ],
          [
           "Graham, Miss. Margaret Edith",
           "female"
          ],
          [
           "Johnston, Miss. Catherine Helen \"Carrie\"",
           "female"
          ],
          [
           "Behr, Mr. Karl Howell",
           "male"
          ],
          [
           "Dooley, Mr. Patrick",
           "male"
          ]
         ],
         "hovertemplate": "Age=%{x}<br>Fare=%{y}<br>Name=%{customdata[0]}<br>Sex=%{customdata[1]}<extra></extra>",
         "legendgroup": "",
         "marker": {
          "color": "#3182bd",
          "symbol": "circle"
         },
         "mode": "markers",
         "name": "",
         "orientation": "v",
         "showlegend": false,
         "type": "scatter",
         "x": [
          22,
          38,
          26,
          35,
          35,
          null,
          54,
          2,
          27,
          14,
          4,
          58,
          20,
          39,
          14,
          55,
          2,
          null,
          31,
          null,
          35,
          34,
          15,
          28,
          8,
          38,
          null,
          19,
          null,
          null,
          40,
          null,
          null,
          66,
          28,
          42,
          null,
          21,
          18,
          14,
          40,
          27,
          null,
          3,
          19,
          null,
          null,
          null,
          null,
          18,
          7,
          21,
          49,
          29,
          65,
          null,
          21,
          28.5,
          5,
          11,
          22,
          38,
          45,
          4,
          null,
          null,
          29,
          19,
          17,
          26,
          32,
          16,
          21,
          26,
          32,
          25,
          null,
          null,
          0.83,
          30,
          22,
          29,
          null,
          28,
          17,
          33,
          16,
          null,
          23,
          24,
          29,
          20,
          46,
          26,
          59,
          null,
          71,
          23,
          34,
          34,
          28,
          null,
          21,
          33,
          37,
          28,
          21,
          null,
          38,
          null,
          47,
          14.5,
          22,
          20,
          17,
          21,
          70.5,
          29,
          24,
          2,
          21,
          null,
          32.5,
          32.5,
          54,
          12,
          null,
          24,
          null,
          45,
          33,
          20,
          47,
          29,
          25,
          23,
          19,
          37,
          16,
          24,
          null,
          22,
          24,
          19,
          18,
          19,
          27,
          9,
          36.5,
          42,
          51,
          22,
          55.5,
          40.5,
          null,
          51,
          16,
          30,
          null,
          null,
          44,
          40,
          26,
          17,
          1,
          9,
          null,
          45,
          null,
          28,
          61,
          4,
          1,
          21,
          56,
          18,
          null,
          50,
          30,
          36,
          null,
          null,
          9,
          1,
          4,
          null,
          null,
          45,
          40,
          36,
          32,
          19,
          19,
          3,
          44,
          58,
          null,
          42,
          null,
          24,
          28,
          null,
          34,
          45.5,
          18,
          2,
          32,
          26,
          16,
          40,
          24,
          35,
          22,
          30,
          null,
          31,
          27,
          42,
          32,
          30,
          16,
          27,
          51,
          null,
          38,
          22,
          19,
          20.5,
          18,
          null,
          35,
          29,
          59,
          5,
          24,
          null,
          44,
          8,
          19,
          33,
          null,
          null,
          29,
          22,
          30,
          44,
          25,
          24,
          37,
          54,
          null,
          29,
          62,
          30,
          41,
          29,
          null,
          30,
          35,
          50,
          null,
          3,
          52,
          40,
          null,
          36,
          16,
          25,
          58,
          35,
          null,
          25,
          41,
          37,
          null,
          63,
          45,
          null,
          7,
          35,
          65,
          28,
          16,
          19,
          null,
          33,
          30,
          22,
          42,
          22,
          26,
          19,
          36,
          24,
          24,
          null,
          23.5,
          2,
          null,
          50,
          null,
          null,
          19,
          null,
          null,
          0.92,
          null,
          17,
          30,
          30,
          24,
          18,
          26,
          28,
          43,
          26,
          24,
          54,
          31,
          40,
          22,
          27,
          30,
          22,
          null,
          36,
          61,
          36,
          31,
          16,
          null,
          45.5,
          38,
          16,
          null,
          null,
          29,
          41,
          45,
          45,
          2,
          24,
          28,
          25,
          36,
          24,
          40,
          null,
          3,
          42,
          23,
          null,
          15,
          25,
          null,
          28,
          22,
          38,
          null,
          null,
          40,
          29,
          45,
          35,
          null,
          30,
          60,
          null,
          null,
          24,
          25,
          18,
          19,
          22,
          3,
          null,
          22,
          27,
          20,
          19,
          42,
          1,
          32,
          35,
          null,
          18,
          1,
          36,
          null,
          17,
          36,
          21,
          28,
          23,
          24,
          22,
          31,
          46,
          23,
          28,
          39,
          26,
          21,
          28,
          20,
          34,
          51,
          3,
          21,
          null,
          null,
          null,
          33,
          null,
          44,
          null,
          34,
          18,
          30,
          10,
          null,
          21,
          29,
          28,
          18,
          null,
          28,
          19,
          null,
          32,
          28,
          null,
          42,
          17,
          50,
          14,
          21,
          24,
          64,
          31,
          45,
          20,
          25,
          28,
          null,
          4,
          13,
          34,
          5,
          52,
          36,
          null,
          30,
          49,
          null,
          29,
          65,
          null,
          50,
          null,
          48,
          34,
          47,
          48,
          null,
          38,
          null,
          56,
          null,
          0.75,
          null,
          38,
          33,
          23,
          22,
          null,
          34,
          29,
          22,
          2,
          9,
          null,
          50,
          63,
          25,
          null,
          35,
          58,
          30,
          9,
          null,
          21,
          55,
          71,
          21,
          null,
          54,
          null,
          25,
          24,
          17,
          21,
          null,
          37,
          16,
          18,
          33,
          null,
          28,
          26,
          29,
          null,
          36,
          54,
          24,
          47,
          34,
          null,
          36,
          32,
          30,
          22,
          null,
          44,
          null,
          40.5,
          50,
          null,
          39,
          23,
          2,
          null,
          17,
          null,
          30,
          7,
          45,
          30,
          null,
          22,
          36,
          9,
          11,
          32,
          50,
          64,
          19,
          null,
          33,
          8,
          17,
          27,
          null,
          22,
          22,
          62,
          48,
          null,
          39,
          36,
          null,
          40,
          28,
          null,
          null,
          24,
          19,
          29,
          null,
          32,
          62,
          53,
          36,
          null,
          16,
          19,
          34,
          39,
          null,
          32,
          25,
          39,
          54,
          36,
          null,
          18,
          47,
          60,
          22,
          null,
          35,
          52,
          47,
          null,
          37,
          36,
          null,
          49,
          null,
          49,
          24,
          null,
          null,
          44,
          35,
          36,
          30,
          27,
          22,
          40,
          39,
          null,
          null,
          null,
          35,
          24,
          34,
          26,
          4,
          26,
          27,
          42,
          20,
          21,
          21,
          61,
          57,
          21,
          26,
          null,
          80,
          51,
          32,
          null,
          9,
          28,
          32,
          31,
          41,
          null,
          20,
          24,
          2,
          null,
          0.75,
          48,
          19,
          56,
          null,
          23,
          null,
          18,
          21,
          null,
          18,
          24,
          null,
          32,
          23,
          58,
          50,
          40,
          47,
          36,
          20,
          32,
          25,
          null,
          43,
          null,
          40,
          31,
          70,
          31,
          null,
          18,
          24.5,
          18,
          43,
          36,
          null,
          27,
          20,
          14,
          60,
          25,
          14,
          19,
          18,
          15,
          31,
          4,
          null,
          25,
          60,
          52,
          44,
          null,
          49,
          42,
          18,
          35,
          18,
          25,
          26,
          39,
          45,
          42,
          22,
          null,
          24,
          null,
          48,
          29,
          52,
          19,
          38,
          27,
          null,
          33,
          6,
          17,
          34,
          50,
          27,
          20,
          30,
          null,
          25,
          25,
          29,
          11,
          null,
          23,
          23,
          28.5,
          48,
          35,
          null,
          null,
          null,
          36,
          21,
          24,
          31,
          70,
          16,
          30,
          19,
          31,
          4,
          6,
          33,
          23,
          48,
          0.67,
          28,
          18,
          34,
          33,
          null,
          41,
          20,
          36,
          16,
          51,
          null,
          30.5,
          null,
          32,
          24,
          48,
          57,
          null,
          54,
          18,
          null,
          5,
          null,
          43,
          13,
          17,
          29,
          null,
          25,
          25,
          18,
          8,
          1,
          46,
          null,
          16,
          null,
          null,
          25,
          39,
          49,
          31,
          30,
          30,
          34,
          31,
          11,
          0.42,
          27,
          31,
          39,
          18,
          39,
          33,
          26,
          39,
          35,
          6,
          30.5,
          null,
          23,
          31,
          43,
          10,
          52,
          27,
          38,
          27,
          2,
          null,
          null,
          1,
          null,
          62,
          15,
          0.83,
          null,
          23,
          18,
          39,
          21,
          null,
          32,
          null,
          20,
          16,
          30,
          34.5,
          17,
          42,
          null,
          35,
          28,
          null,
          4,
          74,
          9,
          16,
          44,
          18,
          45,
          51,
          24,
          null,
          41,
          21,
          48,
          null,
          24,
          42,
          27,
          31,
          null,
          4,
          26,
          47,
          33,
          47,
          28,
          15,
          20,
          19,
          null,
          56,
          25,
          33,
          22,
          28,
          25,
          39,
          27,
          19,
          null,
          26,
          32
         ],
         "xaxis": "x",
         "y": [
          7.25,
          71.2833,
          7.925,
          53.1,
          8.05,
          8.4583,
          51.8625,
          21.075,
          11.1333,
          30.0708,
          16.7,
          26.55,
          8.05,
          31.275,
          7.8542,
          16,
          29.125,
          13,
          18,
          7.225,
          26,
          13,
          8.0292,
          35.5,
          21.075,
          31.3875,
          7.225,
          263,
          7.8792,
          7.8958,
          27.7208,
          146.5208,
          7.75,
          10.5,
          82.1708,
          52,
          7.2292,
          8.05,
          18,
          11.2417,
          9.475,
          21,
          7.8958,
          41.5792,
          7.8792,
          8.05,
          15.5,
          7.75,
          21.6792,
          17.8,
          39.6875,
          7.8,
          76.7292,
          26,
          61.9792,
          35.5,
          10.5,
          7.2292,
          27.75,
          46.9,
          7.2292,
          80,
          83.475,
          27.9,
          27.7208,
          15.2458,
          10.5,
          8.1583,
          7.925,
          8.6625,
          10.5,
          46.9,
          73.5,
          14.4542,
          56.4958,
          7.65,
          7.8958,
          8.05,
          29,
          12.475,
          9,
          9.5,
          7.7875,
          47.1,
          10.5,
          15.85,
          34.375,
          8.05,
          263,
          8.05,
          8.05,
          7.8542,
          61.175,
          20.575,
          7.25,
          8.05,
          34.6542,
          63.3583,
          23,
          26,
          7.8958,
          7.8958,
          77.2875,
          8.6542,
          7.925,
          7.8958,
          7.65,
          7.775,
          7.8958,
          24.15,
          52,
          14.4542,
          8.05,
          9.825,
          14.4583,
          7.925,
          7.75,
          21,
          247.5208,
          31.275,
          73.5,
          8.05,
          30.0708,
          13,
          77.2875,
          11.2417,
          7.75,
          7.1417,
          22.3583,
          6.975,
          7.8958,
          7.05,
          14.5,
          26,
          13,
          15.0458,
          26.2833,
          53.1,
          9.2167,
          79.2,
          15.2458,
          7.75,
          15.85,
          6.75,
          11.5,
          36.75,
          7.7958,
          34.375,
          26,
          13,
          12.525,
          66.6,
          8.05,
          14.5,
          7.3125,
          61.3792,
          7.7333,
          8.05,
          8.6625,
          69.55,
          16.1,
          15.75,
          7.775,
          8.6625,
          39.6875,
          20.525,
          55,
          27.9,
          25.925,
          56.4958,
          33.5,
          29.125,
          11.1333,
          7.925,
          30.6958,
          7.8542,
          25.4667,
          28.7125,
          13,
          0,
          69.55,
          15.05,
          31.3875,
          39,
          22.025,
          50,
          15.5,
          26.55,
          15.5,
          7.8958,
          13,
          13,
          7.8542,
          26,
          27.7208,
          146.5208,
          7.75,
          8.4042,
          7.75,
          13,
          9.5,
          69.55,
          6.4958,
          7.225,
          8.05,
          10.4625,
          15.85,
          18.7875,
          7.75,
          31,
          7.05,
          21,
          7.25,
          13,
          7.75,
          113.275,
          7.925,
          27,
          76.2917,
          10.5,
          8.05,
          13,
          8.05,
          7.8958,
          90,
          9.35,
          10.5,
          7.25,
          13,
          25.4667,
          83.475,
          7.775,
          13.5,
          31.3875,
          10.5,
          7.55,
          26,
          26.25,
          10.5,
          12.275,
          14.4542,
          15.5,
          10.5,
          7.125,
          7.225,
          90,
          7.775,
          14.5,
          52.5542,
          26,
          7.25,
          10.4625,
          26.55,
          16.1,
          20.2125,
          15.2458,
          79.2,
          86.5,
          512.3292,
          26,
          7.75,
          31.3875,
          79.65,
          0,
          7.75,
          10.5,
          39.6875,
          7.775,
          153.4625,
          135.6333,
          31,
          0,
          19.5,
          29.7,
          7.75,
          77.9583,
          7.75,
          0,
          29.125,
          20.25,
          7.75,
          7.8542,
          9.5,
          8.05,
          26,
          8.6625,
          9.5,
          7.8958,
          13,
          7.75,
          78.85,
          91.0792,
          12.875,
          8.85,
          7.8958,
          27.7208,
          7.2292,
          151.55,
          30.5,
          247.5208,
          7.75,
          23.25,
          0,
          12.35,
          8.05,
          151.55,
          110.8833,
          108.9,
          24,
          56.9292,
          83.1583,
          262.375,
          26,
          7.8958,
          26.25,
          7.8542,
          26,
          14,
          164.8667,
          134.5,
          7.25,
          7.8958,
          12.35,
          29,
          69.55,
          135.6333,
          6.2375,
          13,
          20.525,
          57.9792,
          23.25,
          28.5,
          153.4625,
          18,
          133.65,
          7.8958,
          66.6,
          134.5,
          8.05,
          35.5,
          26,
          263,
          13,
          13,
          13,
          13,
          13,
          16.1,
          15.9,
          8.6625,
          9.225,
          35,
          7.2292,
          17.8,
          7.225,
          9.5,
          55,
          13,
          7.8792,
          7.8792,
          27.9,
          27.7208,
          14.4542,
          7.05,
          15.5,
          7.25,
          75.25,
          7.2292,
          7.75,
          69.3,
          55.4417,
          6.4958,
          8.05,
          135.6333,
          21.075,
          82.1708,
          7.25,
          211.5,
          4.0125,
          7.775,
          227.525,
          15.7417,
          7.925,
          52,
          7.8958,
          73.5,
          46.9,
          13,
          7.7292,
          12,
          120,
          7.7958,
          7.925,
          113.275,
          16.7,
          7.7958,
          7.8542,
          26,
          10.5,
          12.65,
          7.925,
          8.05,
          9.825,
          15.85,
          8.6625,
          21,
          7.75,
          18.75,
          7.775,
          25.4667,
          7.8958,
          6.8583,
          90,
          0,
          7.925,
          8.05,
          32.5,
          13,
          13,
          24.15,
          7.8958,
          7.7333,
          7.875,
          14.4,
          20.2125,
          7.25,
          26,
          26,
          7.75,
          8.05,
          26.55,
          16.1,
          26,
          7.125,
          55.9,
          120,
          34.375,
          18.75,
          263,
          10.5,
          26.25,
          9.5,
          7.775,
          13,
          8.1125,
          81.8583,
          19.5,
          26.55,
          19.2583,
          30.5,
          27.75,
          19.9667,
          27.75,
          89.1042,
          8.05,
          7.8958,
          26.55,
          51.8625,
          10.5,
          7.75,
          26.55,
          8.05,
          38.5,
          13,
          8.05,
          7.05,
          0,
          26.55,
          7.725,
          19.2583,
          7.25,
          8.6625,
          27.75,
          13.7917,
          9.8375,
          52,
          21,
          7.0458,
          7.5208,
          12.2875,
          46.9,
          0,
          8.05,
          9.5875,
          91.0792,
          25.4667,
          90,
          29.7,
          8.05,
          15.9,
          19.9667,
          7.25,
          30.5,
          49.5042,
          8.05,
          14.4583,
          78.2667,
          15.1,
          151.55,
          7.7958,
          8.6625,
          7.75,
          7.6292,
          9.5875,
          86.5,
          108.9,
          26,
          26.55,
          22.525,
          56.4958,
          7.75,
          8.05,
          26.2875,
          59.4,
          7.4958,
          34.0208,
          10.5,
          24.15,
          26,
          7.8958,
          93.5,
          7.8958,
          7.225,
          57.9792,
          7.2292,
          7.75,
          10.5,
          221.7792,
          7.925,
          11.5,
          26,
          7.2292,
          7.2292,
          22.3583,
          8.6625,
          26.25,
          26.55,
          106.425,
          14.5,
          49.5,
          71,
          31.275,
          31.275,
          26,
          106.425,
          26,
          26,
          13.8625,
          20.525,
          36.75,
          110.8833,
          26,
          7.8292,
          7.225,
          7.775,
          26.55,
          39.6,
          227.525,
          79.65,
          17.4,
          7.75,
          7.8958,
          13.5,
          8.05,
          8.05,
          24.15,
          7.8958,
          21.075,
          7.2292,
          7.8542,
          10.5,
          51.4792,
          26.3875,
          7.75,
          8.05,
          14.5,
          13,
          55.9,
          14.4583,
          7.925,
          30,
          110.8833,
          26,
          40.125,
          8.7125,
          79.65,
          15,
          79.2,
          8.05,
          8.05,
          7.125,
          78.2667,
          7.25,
          7.75,
          26,
          24.15,
          33,
          0,
          7.225,
          56.9292,
          27,
          7.8958,
          42.4,
          8.05,
          26.55,
          15.55,
          7.8958,
          30.5,
          41.5792,
          153.4625,
          31.275,
          7.05,
          15.5,
          7.75,
          8.05,
          65,
          14.4,
          16.1,
          39,
          10.5,
          14.4542,
          52.5542,
          15.7417,
          7.8542,
          16.1,
          32.3208,
          12.35,
          77.9583,
          7.8958,
          7.7333,
          30,
          7.0542,
          30.5,
          0,
          27.9,
          13,
          7.925,
          26.25,
          39.6875,
          16.1,
          7.8542,
          69.3,
          27.9,
          56.4958,
          19.2583,
          76.7292,
          7.8958,
          35.5,
          7.55,
          7.55,
          7.8958,
          23,
          8.4333,
          7.8292,
          6.75,
          73.5,
          7.8958,
          15.5,
          13,
          113.275,
          133.65,
          7.225,
          25.5875,
          7.4958,
          7.925,
          73.5,
          13,
          7.775,
          8.05,
          52,
          39,
          52,
          10.5,
          13,
          0,
          7.775,
          8.05,
          9.8417,
          46.9,
          512.3292,
          8.1375,
          76.7292,
          9.225,
          46.9,
          39,
          41.5792,
          39.6875,
          10.1708,
          7.7958,
          211.3375,
          57,
          13.4167,
          56.4958,
          7.225,
          26.55,
          13.5,
          8.05,
          7.7333,
          110.8833,
          7.65,
          227.525,
          26.2875,
          14.4542,
          7.7417,
          7.8542,
          26,
          13.5,
          26.2875,
          151.55,
          15.2458,
          49.5042,
          26.55,
          52,
          9.4833,
          13,
          7.65,
          227.525,
          10.5,
          15.5,
          7.775,
          33,
          7.0542,
          13,
          13,
          53.1,
          8.6625,
          21,
          7.7375,
          26,
          7.925,
          211.3375,
          18.7875,
          0,
          13,
          13,
          16.1,
          34.375,
          512.3292,
          7.8958,
          7.8958,
          30,
          78.85,
          262.375,
          16.1,
          7.925,
          71,
          20.25,
          13,
          53.1,
          7.75,
          23,
          12.475,
          9.5,
          7.8958,
          65,
          14.5,
          7.7958,
          11.5,
          8.05,
          86.5,
          14.5,
          7.125,
          7.2292,
          120,
          7.775,
          77.9583,
          39.6,
          7.75,
          24.15,
          8.3625,
          9.5,
          7.8542,
          10.5,
          7.225,
          23,
          7.75,
          7.75,
          12.475,
          7.7375,
          211.3375,
          7.2292,
          57,
          30,
          23.45,
          7.05,
          7.25,
          7.4958,
          29.125,
          20.575,
          79.2,
          7.75,
          26,
          69.55,
          30.6958,
          7.8958,
          13,
          25.9292,
          8.6833,
          7.2292,
          24.15,
          13,
          26.25,
          120,
          8.5167,
          6.975,
          7.775,
          0,
          7.775,
          13,
          53.1,
          7.8875,
          24.15,
          10.5,
          31.275,
          8.05,
          0,
          7.925,
          37.0042,
          6.45,
          27.9,
          93.5,
          8.6625,
          0,
          12.475,
          39.6875,
          6.95,
          56.4958,
          37.0042,
          7.75,
          80,
          14.4542,
          18.75,
          7.2292,
          7.8542,
          8.3,
          83.1583,
          8.6625,
          8.05,
          56.4958,
          29.7,
          7.925,
          10.5,
          31,
          6.4375,
          8.6625,
          7.55,
          69.55,
          7.8958,
          33,
          89.1042,
          31.275,
          7.775,
          15.2458,
          39.4,
          26,
          9.35,
          164.8667,
          26.55,
          19.2583,
          7.2292,
          14.1083,
          11.5,
          25.9292,
          69.55,
          13,
          13,
          13.8583,
          50.4958,
          9.5,
          11.1333,
          7.8958,
          52.5542,
          5,
          9,
          24,
          7.225,
          9.8458,
          7.8958,
          7.8958,
          83.1583,
          26,
          7.8958,
          10.5167,
          10.5,
          7.05,
          29.125,
          13,
          30,
          23.45,
          30,
          7.75
         ],
         "yaxis": "y"
        }
       ],
       "layout": {
        "legend": {
         "tracegroupgap": 0
        },
        "margin": {
         "t": 60
        },
        "template": {
         "data": {
          "bar": [
           {
            "error_x": {
             "color": "#2a3f5f"
            },
            "error_y": {
             "color": "#2a3f5f"
            },
            "marker": {
             "line": {
              "color": "white",
              "width": 0.5
             },
             "pattern": {
              "fillmode": "overlay",
              "size": 10,
              "solidity": 0.2
             }
            },
            "type": "bar"
           }
          ],
          "barpolar": [
           {
            "marker": {
             "line": {
              "color": "white",
              "width": 0.5
             },
             "pattern": {
              "fillmode": "overlay",
              "size": 10,
              "solidity": 0.2
             }
            },
            "type": "barpolar"
           }
          ],
          "carpet": [
           {
            "aaxis": {
             "endlinecolor": "#2a3f5f",
             "gridcolor": "#C8D4E3",
             "linecolor": "#C8D4E3",
             "minorgridcolor": "#C8D4E3",
             "startlinecolor": "#2a3f5f"
            },
            "baxis": {
             "endlinecolor": "#2a3f5f",
             "gridcolor": "#C8D4E3",
             "linecolor": "#C8D4E3",
             "minorgridcolor": "#C8D4E3",
             "startlinecolor": "#2a3f5f"
            },
            "type": "carpet"
           }
          ],
          "choropleth": [
           {
            "colorbar": {
             "outlinewidth": 0,
             "ticks": ""
            },
            "type": "choropleth"
           }
          ],
          "contour": [
           {
            "colorbar": {
             "outlinewidth": 0,
             "ticks": ""
            },
            "colorscale": [
             [
              0,
              "#0d0887"
             ],
             [
              0.1111111111111111,
              "#46039f"
             ],
             [
              0.2222222222222222,
              "#7201a8"
             ],
             [
              0.3333333333333333,
              "#9c179e"
             ],
             [
              0.4444444444444444,
              "#bd3786"
             ],
             [
              0.5555555555555556,
              "#d8576b"
             ],
             [
              0.6666666666666666,
              "#ed7953"
             ],
             [
              0.7777777777777778,
              "#fb9f3a"
             ],
             [
              0.8888888888888888,
              "#fdca26"
             ],
             [
              1,
              "#f0f921"
             ]
            ],
            "type": "contour"
           }
          ],
          "contourcarpet": [
           {
            "colorbar": {
             "outlinewidth": 0,
             "ticks": ""
            },
            "type": "contourcarpet"
           }
          ],
          "heatmap": [
           {
            "colorbar": {
             "outlinewidth": 0,
             "ticks": ""
            },
            "colorscale": [
             [
              0,
              "#0d0887"
             ],
             [
              0.1111111111111111,
              "#46039f"
             ],
             [
              0.2222222222222222,
              "#7201a8"
             ],
             [
              0.3333333333333333,
              "#9c179e"
             ],
             [
              0.4444444444444444,
              "#bd3786"
             ],
             [
              0.5555555555555556,
              "#d8576b"
             ],
             [
              0.6666666666666666,
              "#ed7953"
             ],
             [
              0.7777777777777778,
              "#fb9f3a"
             ],
             [
              0.8888888888888888,
              "#fdca26"
             ],
             [
              1,
              "#f0f921"
             ]
            ],
            "type": "heatmap"
           }
          ],
          "heatmapgl": [
           {
            "colorbar": {
             "outlinewidth": 0,
             "ticks": ""
            },
            "colorscale": [
             [
              0,
              "#0d0887"
             ],
             [
              0.1111111111111111,
              "#46039f"
             ],
             [
              0.2222222222222222,
              "#7201a8"
             ],
             [
              0.3333333333333333,
              "#9c179e"
             ],
             [
              0.4444444444444444,
              "#bd3786"
             ],
             [
              0.5555555555555556,
              "#d8576b"
             ],
             [
              0.6666666666666666,
              "#ed7953"
             ],
             [
              0.7777777777777778,
              "#fb9f3a"
             ],
             [
              0.8888888888888888,
              "#fdca26"
             ],
             [
              1,
              "#f0f921"
             ]
            ],
            "type": "heatmapgl"
           }
          ],
          "histogram": [
           {
            "marker": {
             "pattern": {
              "fillmode": "overlay",
              "size": 10,
              "solidity": 0.2
             }
            },
            "type": "histogram"
           }
          ],
          "histogram2d": [
           {
            "colorbar": {
             "outlinewidth": 0,
             "ticks": ""
            },
            "colorscale": [
             [
              0,
              "#0d0887"
             ],
             [
              0.1111111111111111,
              "#46039f"
             ],
             [
              0.2222222222222222,
              "#7201a8"
             ],
             [
              0.3333333333333333,
              "#9c179e"
             ],
             [
              0.4444444444444444,
              "#bd3786"
             ],
             [
              0.5555555555555556,
              "#d8576b"
             ],
             [
              0.6666666666666666,
              "#ed7953"
             ],
             [
              0.7777777777777778,
              "#fb9f3a"
             ],
             [
              0.8888888888888888,
              "#fdca26"
             ],
             [
              1,
              "#f0f921"
             ]
            ],
            "type": "histogram2d"
           }
          ],
          "histogram2dcontour": [
           {
            "colorbar": {
             "outlinewidth": 0,
             "ticks": ""
            },
            "colorscale": [
             [
              0,
              "#0d0887"
             ],
             [
              0.1111111111111111,
              "#46039f"
             ],
             [
              0.2222222222222222,
              "#7201a8"
             ],
             [
              0.3333333333333333,
              "#9c179e"
             ],
             [
              0.4444444444444444,
              "#bd3786"
             ],
             [
              0.5555555555555556,
              "#d8576b"
             ],
             [
              0.6666666666666666,
              "#ed7953"
             ],
             [
              0.7777777777777778,
              "#fb9f3a"
             ],
             [
              0.8888888888888888,
              "#fdca26"
             ],
             [
              1,
              "#f0f921"
             ]
            ],
            "type": "histogram2dcontour"
           }
          ],
          "mesh3d": [
           {
            "colorbar": {
             "outlinewidth": 0,
             "ticks": ""
            },
            "type": "mesh3d"
           }
          ],
          "parcoords": [
           {
            "line": {
             "colorbar": {
              "outlinewidth": 0,
              "ticks": ""
             }
            },
            "type": "parcoords"
           }
          ],
          "pie": [
           {
            "automargin": true,
            "type": "pie"
           }
          ],
          "scatter": [
           {
            "fillpattern": {
             "fillmode": "overlay",
             "size": 10,
             "solidity": 0.2
            },
            "type": "scatter"
           }
          ],
          "scatter3d": [
           {
            "line": {
             "colorbar": {
              "outlinewidth": 0,
              "ticks": ""
             }
            },
            "marker": {
             "colorbar": {
              "outlinewidth": 0,
              "ticks": ""
             }
            },
            "type": "scatter3d"
           }
          ],
          "scattercarpet": [
           {
            "marker": {
             "colorbar": {
              "outlinewidth": 0,
              "ticks": ""
             }
            },
            "type": "scattercarpet"
           }
          ],
          "scattergeo": [
           {
            "marker": {
             "colorbar": {
              "outlinewidth": 0,
              "ticks": ""
             }
            },
            "type": "scattergeo"
           }
          ],
          "scattergl": [
           {
            "marker": {
             "colorbar": {
              "outlinewidth": 0,
              "ticks": ""
             }
            },
            "type": "scattergl"
           }
          ],
          "scattermapbox": [
           {
            "marker": {
             "colorbar": {
              "outlinewidth": 0,
              "ticks": ""
             }
            },
            "type": "scattermapbox"
           }
          ],
          "scatterpolar": [
           {
            "marker": {
             "colorbar": {
              "outlinewidth": 0,
              "ticks": ""
             }
            },
            "type": "scatterpolar"
           }
          ],
          "scatterpolargl": [
           {
            "marker": {
             "colorbar": {
              "outlinewidth": 0,
              "ticks": ""
             }
            },
            "type": "scatterpolargl"
           }
          ],
          "scatterternary": [
           {
            "marker": {
             "colorbar": {
              "outlinewidth": 0,
              "ticks": ""
             }
            },
            "type": "scatterternary"
           }
          ],
          "surface": [
           {
            "colorbar": {
             "outlinewidth": 0,
             "ticks": ""
            },
            "colorscale": [
             [
              0,
              "#0d0887"
             ],
             [
              0.1111111111111111,
              "#46039f"
             ],
             [
              0.2222222222222222,
              "#7201a8"
             ],
             [
              0.3333333333333333,
              "#9c179e"
             ],
             [
              0.4444444444444444,
              "#bd3786"
             ],
             [
              0.5555555555555556,
              "#d8576b"
             ],
             [
              0.6666666666666666,
              "#ed7953"
             ],
             [
              0.7777777777777778,
              "#fb9f3a"
             ],
             [
              0.8888888888888888,
              "#fdca26"
             ],
             [
              1,
              "#f0f921"
             ]
            ],
            "type": "surface"
           }
          ],
          "table": [
           {
            "cells": {
             "fill": {
              "color": "#EBF0F8"
             },
             "line": {
              "color": "white"
             }
            },
            "header": {
             "fill": {
              "color": "#C8D4E3"
             },
             "line": {
              "color": "white"
             }
            },
            "type": "table"
           }
          ]
         },
         "layout": {
          "annotationdefaults": {
           "arrowcolor": "#2a3f5f",
           "arrowhead": 0,
           "arrowwidth": 1
          },
          "autotypenumbers": "strict",
          "coloraxis": {
           "colorbar": {
            "outlinewidth": 0,
            "ticks": ""
           }
          },
          "colorscale": {
           "diverging": [
            [
             0,
             "#8e0152"
            ],
            [
             0.1,
             "#c51b7d"
            ],
            [
             0.2,
             "#de77ae"
            ],
            [
             0.3,
             "#f1b6da"
            ],
            [
             0.4,
             "#fde0ef"
            ],
            [
             0.5,
             "#f7f7f7"
            ],
            [
             0.6,
             "#e6f5d0"
            ],
            [
             0.7,
             "#b8e186"
            ],
            [
             0.8,
             "#7fbc41"
            ],
            [
             0.9,
             "#4d9221"
            ],
            [
             1,
             "#276419"
            ]
           ],
           "sequential": [
            [
             0,
             "#0d0887"
            ],
            [
             0.1111111111111111,
             "#46039f"
            ],
            [
             0.2222222222222222,
             "#7201a8"
            ],
            [
             0.3333333333333333,
             "#9c179e"
            ],
            [
             0.4444444444444444,
             "#bd3786"
            ],
            [
             0.5555555555555556,
             "#d8576b"
            ],
            [
             0.6666666666666666,
             "#ed7953"
            ],
            [
             0.7777777777777778,
             "#fb9f3a"
            ],
            [
             0.8888888888888888,
             "#fdca26"
            ],
            [
             1,
             "#f0f921"
            ]
           ],
           "sequentialminus": [
            [
             0,
             "#0d0887"
            ],
            [
             0.1111111111111111,
             "#46039f"
            ],
            [
             0.2222222222222222,
             "#7201a8"
            ],
            [
             0.3333333333333333,
             "#9c179e"
            ],
            [
             0.4444444444444444,
             "#bd3786"
            ],
            [
             0.5555555555555556,
             "#d8576b"
            ],
            [
             0.6666666666666666,
             "#ed7953"
            ],
            [
             0.7777777777777778,
             "#fb9f3a"
            ],
            [
             0.8888888888888888,
             "#fdca26"
            ],
            [
             1,
             "#f0f921"
            ]
           ]
          },
          "colorway": [
           "#636efa",
           "#EF553B",
           "#00cc96",
           "#ab63fa",
           "#FFA15A",
           "#19d3f3",
           "#FF6692",
           "#B6E880",
           "#FF97FF",
           "#FECB52"
          ],
          "font": {
           "color": "#2a3f5f"
          },
          "geo": {
           "bgcolor": "white",
           "lakecolor": "white",
           "landcolor": "white",
           "showlakes": true,
           "showland": true,
           "subunitcolor": "#C8D4E3"
          },
          "hoverlabel": {
           "align": "left"
          },
          "hovermode": "closest",
          "mapbox": {
           "style": "light"
          },
          "paper_bgcolor": "white",
          "plot_bgcolor": "white",
          "polar": {
           "angularaxis": {
            "gridcolor": "#EBF0F8",
            "linecolor": "#EBF0F8",
            "ticks": ""
           },
           "bgcolor": "white",
           "radialaxis": {
            "gridcolor": "#EBF0F8",
            "linecolor": "#EBF0F8",
            "ticks": ""
           }
          },
          "scene": {
           "xaxis": {
            "backgroundcolor": "white",
            "gridcolor": "#DFE8F3",
            "gridwidth": 2,
            "linecolor": "#EBF0F8",
            "showbackground": true,
            "ticks": "",
            "zerolinecolor": "#EBF0F8"
           },
           "yaxis": {
            "backgroundcolor": "white",
            "gridcolor": "#DFE8F3",
            "gridwidth": 2,
            "linecolor": "#EBF0F8",
            "showbackground": true,
            "ticks": "",
            "zerolinecolor": "#EBF0F8"
           },
           "zaxis": {
            "backgroundcolor": "white",
            "gridcolor": "#DFE8F3",
            "gridwidth": 2,
            "linecolor": "#EBF0F8",
            "showbackground": true,
            "ticks": "",
            "zerolinecolor": "#EBF0F8"
           }
          },
          "shapedefaults": {
           "line": {
            "color": "#2a3f5f"
           }
          },
          "ternary": {
           "aaxis": {
            "gridcolor": "#DFE8F3",
            "linecolor": "#A2B1C6",
            "ticks": ""
           },
           "baxis": {
            "gridcolor": "#DFE8F3",
            "linecolor": "#A2B1C6",
            "ticks": ""
           },
           "bgcolor": "white",
           "caxis": {
            "gridcolor": "#DFE8F3",
            "linecolor": "#A2B1C6",
            "ticks": ""
           }
          },
          "title": {
           "x": 0.05
          },
          "xaxis": {
           "automargin": true,
           "gridcolor": "#EBF0F8",
           "linecolor": "#EBF0F8",
           "ticks": "",
           "title": {
            "standoff": 15
           },
           "zerolinecolor": "#EBF0F8",
           "zerolinewidth": 2
          },
          "yaxis": {
           "automargin": true,
           "gridcolor": "#EBF0F8",
           "linecolor": "#EBF0F8",
           "ticks": "",
           "title": {
            "standoff": 15
           },
           "zerolinecolor": "#EBF0F8",
           "zerolinewidth": 2
          }
         }
        },
        "xaxis": {
         "anchor": "y",
         "domain": [
          0,
          1
         ],
         "title": {
          "text": "Age"
         }
        },
        "yaxis": {
         "anchor": "x",
         "domain": [
          0,
          1
         ],
         "title": {
          "text": "Fare"
         },
         "type": "log"
        }
       }
      }
     },
     "metadata": {},
     "output_type": "display_data"
    }
   ],
   "source": [
    "fig = px.scatter(data_frame=df,\n",
    "                 x='Age',\n",
    "                 y='Fare',\n",
    "                 hover_data=['Name', 'Sex'],\n",
    "                 template='plotly_white',\n",
    "                 color_discrete_sequence=['#3182bd'],\n",
    "                 log_y=True)\n",
    "fig.show()"
   ]
  },
  {
   "cell_type": "markdown",
   "id": "a3a70154-a985-4850-b54e-0f5495f33de4",
   "metadata": {},
   "source": [
    "## Bar Charts\n",
    "\n",
    "We can create some [interesting bar chart variations](https://plot.ly/python/bar-charts/):"
   ]
  },
  {
   "cell_type": "code",
   "execution_count": 7,
   "id": "355a8a54-6e9d-4ffc-9960-251bb7d04938",
   "metadata": {
    "tags": []
   },
   "outputs": [
    {
     "data": {
      "application/vnd.plotly.v1+json": {
       "config": {
        "plotlyServerURL": "https://plot.ly"
       },
       "data": [
        {
         "alignmentgroup": "True",
         "customdata": [
          [
           "Braund, Mr. Owen Harris"
          ],
          [
           "Cumings, Mrs. John Bradley (Florence Briggs Thayer)"
          ],
          [
           "Heikkinen, Miss. Laina"
          ],
          [
           "Futrelle, Mrs. Jacques Heath (Lily May Peel)"
          ],
          [
           "Allen, Mr. William Henry"
          ],
          [
           "Moran, Mr. James"
          ],
          [
           "McCarthy, Mr. Timothy J"
          ],
          [
           "Palsson, Master. Gosta Leonard"
          ],
          [
           "Johnson, Mrs. Oscar W (Elisabeth Vilhelmina Berg)"
          ],
          [
           "Nasser, Mrs. Nicholas (Adele Achem)"
          ],
          [
           "Sandstrom, Miss. Marguerite Rut"
          ],
          [
           "Bonnell, Miss. Elizabeth"
          ],
          [
           "Saundercock, Mr. William Henry"
          ],
          [
           "Andersson, Mr. Anders Johan"
          ],
          [
           "Vestrom, Miss. Hulda Amanda Adolfina"
          ],
          [
           "Hewlett, Mrs. (Mary D Kingcome) "
          ],
          [
           "Rice, Master. Eugene"
          ],
          [
           "Williams, Mr. Charles Eugene"
          ],
          [
           "Vander Planke, Mrs. Julius (Emelia Maria Vandemoortele)"
          ],
          [
           "Masselmani, Mrs. Fatima"
          ],
          [
           "Fynney, Mr. Joseph J"
          ],
          [
           "Beesley, Mr. Lawrence"
          ],
          [
           "McGowan, Miss. Anna \"Annie\""
          ],
          [
           "Sloper, Mr. William Thompson"
          ],
          [
           "Palsson, Miss. Torborg Danira"
          ],
          [
           "Asplund, Mrs. Carl Oscar (Selma Augusta Emilia Johansson)"
          ],
          [
           "Emir, Mr. Farred Chehab"
          ],
          [
           "Fortune, Mr. Charles Alexander"
          ],
          [
           "O'Dwyer, Miss. Ellen \"Nellie\""
          ],
          [
           "Todoroff, Mr. Lalio"
          ],
          [
           "Uruchurtu, Don. Manuel E"
          ],
          [
           "Spencer, Mrs. William Augustus (Marie Eugenie)"
          ],
          [
           "Glynn, Miss. Mary Agatha"
          ],
          [
           "Wheadon, Mr. Edward H"
          ],
          [
           "Meyer, Mr. Edgar Joseph"
          ],
          [
           "Holverson, Mr. Alexander Oskar"
          ],
          [
           "Mamee, Mr. Hanna"
          ],
          [
           "Cann, Mr. Ernest Charles"
          ],
          [
           "Vander Planke, Miss. Augusta Maria"
          ],
          [
           "Nicola-Yarred, Miss. Jamila"
          ],
          [
           "Ahlin, Mrs. Johan (Johanna Persdotter Larsson)"
          ],
          [
           "Turpin, Mrs. William John Robert (Dorothy Ann Wonnacott)"
          ],
          [
           "Kraeff, Mr. Theodor"
          ],
          [
           "Laroche, Miss. Simonne Marie Anne Andree"
          ],
          [
           "Devaney, Miss. Margaret Delia"
          ],
          [
           "Rogers, Mr. William John"
          ],
          [
           "Lennon, Mr. Denis"
          ],
          [
           "O'Driscoll, Miss. Bridget"
          ],
          [
           "Samaan, Mr. Youssef"
          ],
          [
           "Arnold-Franchi, Mrs. Josef (Josefine Franchi)"
          ],
          [
           "Panula, Master. Juha Niilo"
          ],
          [
           "Nosworthy, Mr. Richard Cater"
          ],
          [
           "Harper, Mrs. Henry Sleeper (Myna Haxtun)"
          ],
          [
           "Faunthorpe, Mrs. Lizzie (Elizabeth Anne Wilkinson)"
          ],
          [
           "Ostby, Mr. Engelhart Cornelius"
          ],
          [
           "Woolner, Mr. Hugh"
          ],
          [
           "Rugg, Miss. Emily"
          ],
          [
           "Novel, Mr. Mansouer"
          ],
          [
           "West, Miss. Constance Mirium"
          ],
          [
           "Goodwin, Master. William Frederick"
          ],
          [
           "Sirayanian, Mr. Orsen"
          ],
          [
           "Icard, Miss. Amelie"
          ],
          [
           "Harris, Mr. Henry Birkhardt"
          ],
          [
           "Skoog, Master. Harald"
          ],
          [
           "Stewart, Mr. Albert A"
          ],
          [
           "Moubarek, Master. Gerios"
          ],
          [
           "Nye, Mrs. (Elizabeth Ramell)"
          ],
          [
           "Crease, Mr. Ernest James"
          ],
          [
           "Andersson, Miss. Erna Alexandra"
          ],
          [
           "Kink, Mr. Vincenz"
          ],
          [
           "Jenkin, Mr. Stephen Curnow"
          ],
          [
           "Goodwin, Miss. Lillian Amy"
          ],
          [
           "Hood, Mr. Ambrose Jr"
          ],
          [
           "Chronopoulos, Mr. Apostolos"
          ],
          [
           "Bing, Mr. Lee"
          ],
          [
           "Moen, Mr. Sigurd Hansen"
          ],
          [
           "Staneff, Mr. Ivan"
          ],
          [
           "Moutal, Mr. Rahamin Haim"
          ],
          [
           "Caldwell, Master. Alden Gates"
          ],
          [
           "Dowdell, Miss. Elizabeth"
          ],
          [
           "Waelens, Mr. Achille"
          ],
          [
           "Sheerlinck, Mr. Jan Baptist"
          ],
          [
           "McDermott, Miss. Brigdet Delia"
          ],
          [
           "Carrau, Mr. Francisco M"
          ],
          [
           "Ilett, Miss. Bertha"
          ],
          [
           "Backstrom, Mrs. Karl Alfred (Maria Mathilda Gustafsson)"
          ],
          [
           "Ford, Mr. William Neal"
          ],
          [
           "Slocovski, Mr. Selman Francis"
          ],
          [
           "Fortune, Miss. Mabel Helen"
          ],
          [
           "Celotti, Mr. Francesco"
          ],
          [
           "Christmann, Mr. Emil"
          ],
          [
           "Andreasson, Mr. Paul Edvin"
          ],
          [
           "Chaffee, Mr. Herbert Fuller"
          ],
          [
           "Dean, Mr. Bertram Frank"
          ],
          [
           "Coxon, Mr. Daniel"
          ],
          [
           "Shorney, Mr. Charles Joseph"
          ],
          [
           "Goldschmidt, Mr. George B"
          ],
          [
           "Greenfield, Mr. William Bertram"
          ],
          [
           "Doling, Mrs. John T (Ada Julia Bone)"
          ],
          [
           "Kantor, Mr. Sinai"
          ],
          [
           "Petranec, Miss. Matilda"
          ],
          [
           "Petroff, Mr. Pastcho (\"Pentcho\")"
          ],
          [
           "White, Mr. Richard Frasar"
          ],
          [
           "Johansson, Mr. Gustaf Joel"
          ],
          [
           "Gustafsson, Mr. Anders Vilhelm"
          ],
          [
           "Mionoff, Mr. Stoytcho"
          ],
          [
           "Salkjelsvik, Miss. Anna Kristine"
          ],
          [
           "Moss, Mr. Albert Johan"
          ],
          [
           "Rekic, Mr. Tido"
          ],
          [
           "Moran, Miss. Bertha"
          ],
          [
           "Porter, Mr. Walter Chamberlain"
          ],
          [
           "Zabour, Miss. Hileni"
          ],
          [
           "Barton, Mr. David John"
          ],
          [
           "Jussila, Miss. Katriina"
          ],
          [
           "Attalah, Miss. Malake"
          ],
          [
           "Pekoniemi, Mr. Edvard"
          ],
          [
           "Connors, Mr. Patrick"
          ],
          [
           "Turpin, Mr. William John Robert"
          ],
          [
           "Baxter, Mr. Quigg Edmond"
          ],
          [
           "Andersson, Miss. Ellis Anna Maria"
          ],
          [
           "Hickman, Mr. Stanley George"
          ],
          [
           "Moore, Mr. Leonard Charles"
          ],
          [
           "Nasser, Mr. Nicholas"
          ],
          [
           "Webber, Miss. Susan"
          ],
          [
           "White, Mr. Percival Wayland"
          ],
          [
           "Nicola-Yarred, Master. Elias"
          ],
          [
           "McMahon, Mr. Martin"
          ],
          [
           "Madsen, Mr. Fridtjof Arne"
          ],
          [
           "Peter, Miss. Anna"
          ],
          [
           "Ekstrom, Mr. Johan"
          ],
          [
           "Drazenoic, Mr. Jozef"
          ],
          [
           "Coelho, Mr. Domingos Fernandeo"
          ],
          [
           "Robins, Mrs. Alexander A (Grace Charity Laury)"
          ],
          [
           "Weisz, Mrs. Leopold (Mathilde Francoise Pede)"
          ],
          [
           "Sobey, Mr. Samuel James Hayden"
          ],
          [
           "Richard, Mr. Emile"
          ],
          [
           "Newsom, Miss. Helen Monypeny"
          ],
          [
           "Futrelle, Mr. Jacques Heath"
          ],
          [
           "Osen, Mr. Olaf Elon"
          ],
          [
           "Giglio, Mr. Victor"
          ],
          [
           "Boulos, Mrs. Joseph (Sultana)"
          ],
          [
           "Nysten, Miss. Anna Sofia"
          ],
          [
           "Hakkarainen, Mrs. Pekka Pietari (Elin Matilda Dolck)"
          ],
          [
           "Burke, Mr. Jeremiah"
          ],
          [
           "Andrew, Mr. Edgardo Samuel"
          ],
          [
           "Nicholls, Mr. Joseph Charles"
          ],
          [
           "Andersson, Mr. August Edvard (\"Wennerstrom\")"
          ],
          [
           "Ford, Miss. Robina Maggie \"Ruby\""
          ],
          [
           "Navratil, Mr. Michel (\"Louis M Hoffman\")"
          ],
          [
           "Byles, Rev. Thomas Roussel Davids"
          ],
          [
           "Bateman, Rev. Robert James"
          ],
          [
           "Pears, Mrs. Thomas (Edith Wearne)"
          ],
          [
           "Meo, Mr. Alfonzo"
          ],
          [
           "van Billiard, Mr. Austin Blyler"
          ],
          [
           "Olsen, Mr. Ole Martin"
          ],
          [
           "Williams, Mr. Charles Duane"
          ],
          [
           "Gilnagh, Miss. Katherine \"Katie\""
          ],
          [
           "Corn, Mr. Harry"
          ],
          [
           "Smiljanic, Mr. Mile"
          ],
          [
           "Sage, Master. Thomas Henry"
          ],
          [
           "Cribb, Mr. John Hatfield"
          ],
          [
           "Watt, Mrs. James (Elizabeth \"Bessie\" Inglis Milne)"
          ],
          [
           "Bengtsson, Mr. John Viktor"
          ],
          [
           "Calic, Mr. Jovo"
          ],
          [
           "Panula, Master. Eino Viljami"
          ],
          [
           "Goldsmith, Master. Frank John William \"Frankie\""
          ],
          [
           "Chibnall, Mrs. (Edith Martha Bowerman)"
          ],
          [
           "Skoog, Mrs. William (Anna Bernhardina Karlsson)"
          ],
          [
           "Baumann, Mr. John D"
          ],
          [
           "Ling, Mr. Lee"
          ],
          [
           "Van der hoef, Mr. Wyckoff"
          ],
          [
           "Rice, Master. Arthur"
          ],
          [
           "Johnson, Miss. Eleanor Ileen"
          ],
          [
           "Sivola, Mr. Antti Wilhelm"
          ],
          [
           "Smith, Mr. James Clinch"
          ],
          [
           "Klasen, Mr. Klas Albin"
          ],
          [
           "Lefebre, Master. Henry Forbes"
          ],
          [
           "Isham, Miss. Ann Elizabeth"
          ],
          [
           "Hale, Mr. Reginald"
          ],
          [
           "Leonard, Mr. Lionel"
          ],
          [
           "Sage, Miss. Constance Gladys"
          ],
          [
           "Pernot, Mr. Rene"
          ],
          [
           "Asplund, Master. Clarence Gustaf Hugo"
          ],
          [
           "Becker, Master. Richard F"
          ],
          [
           "Kink-Heilmann, Miss. Luise Gretchen"
          ],
          [
           "Rood, Mr. Hugh Roscoe"
          ],
          [
           "O'Brien, Mrs. Thomas (Johanna \"Hannah\" Godfrey)"
          ],
          [
           "Romaine, Mr. Charles Hallace (\"Mr C Rolmane\")"
          ],
          [
           "Bourke, Mr. John"
          ],
          [
           "Turcin, Mr. Stjepan"
          ],
          [
           "Pinsky, Mrs. (Rosa)"
          ],
          [
           "Carbines, Mr. William"
          ],
          [
           "Andersen-Jensen, Miss. Carla Christine Nielsine"
          ],
          [
           "Navratil, Master. Michel M"
          ],
          [
           "Brown, Mrs. James Joseph (Margaret Tobin)"
          ],
          [
           "Lurette, Miss. Elise"
          ],
          [
           "Mernagh, Mr. Robert"
          ],
          [
           "Olsen, Mr. Karl Siegwart Andreas"
          ],
          [
           "Madigan, Miss. Margaret \"Maggie\""
          ],
          [
           "Yrois, Miss. Henriette (\"Mrs Harbeck\")"
          ],
          [
           "Vande Walle, Mr. Nestor Cyriel"
          ],
          [
           "Sage, Mr. Frederick"
          ],
          [
           "Johanson, Mr. Jakob Alfred"
          ],
          [
           "Youseff, Mr. Gerious"
          ],
          [
           "Cohen, Mr. Gurshon \"Gus\""
          ],
          [
           "Strom, Miss. Telma Matilda"
          ],
          [
           "Backstrom, Mr. Karl Alfred"
          ],
          [
           "Albimona, Mr. Nassef Cassem"
          ],
          [
           "Carr, Miss. Helen \"Ellen\""
          ],
          [
           "Blank, Mr. Henry"
          ],
          [
           "Ali, Mr. Ahmed"
          ],
          [
           "Cameron, Miss. Clear Annie"
          ],
          [
           "Perkin, Mr. John Henry"
          ],
          [
           "Givard, Mr. Hans Kristensen"
          ],
          [
           "Kiernan, Mr. Philip"
          ],
          [
           "Newell, Miss. Madeleine"
          ],
          [
           "Honkanen, Miss. Eliina"
          ],
          [
           "Jacobsohn, Mr. Sidney Samuel"
          ],
          [
           "Bazzani, Miss. Albina"
          ],
          [
           "Harris, Mr. Walter"
          ],
          [
           "Sunderland, Mr. Victor Francis"
          ],
          [
           "Bracken, Mr. James H"
          ],
          [
           "Green, Mr. George Henry"
          ],
          [
           "Nenkoff, Mr. Christo"
          ],
          [
           "Hoyt, Mr. Frederick Maxfield"
          ],
          [
           "Berglund, Mr. Karl Ivar Sven"
          ],
          [
           "Mellors, Mr. William John"
          ],
          [
           "Lovell, Mr. John Hall (\"Henry\")"
          ],
          [
           "Fahlstrom, Mr. Arne Jonas"
          ],
          [
           "Lefebre, Miss. Mathilde"
          ],
          [
           "Harris, Mrs. Henry Birkhardt (Irene Wallach)"
          ],
          [
           "Larsson, Mr. Bengt Edvin"
          ],
          [
           "Sjostedt, Mr. Ernst Adolf"
          ],
          [
           "Asplund, Miss. Lillian Gertrud"
          ],
          [
           "Leyson, Mr. Robert William Norman"
          ],
          [
           "Harknett, Miss. Alice Phoebe"
          ],
          [
           "Hold, Mr. Stephen"
          ],
          [
           "Collyer, Miss. Marjorie \"Lottie\""
          ],
          [
           "Pengelly, Mr. Frederick William"
          ],
          [
           "Hunt, Mr. George Henry"
          ],
          [
           "Zabour, Miss. Thamine"
          ],
          [
           "Murphy, Miss. Katherine \"Kate\""
          ],
          [
           "Coleridge, Mr. Reginald Charles"
          ],
          [
           "Maenpaa, Mr. Matti Alexanteri"
          ],
          [
           "Attalah, Mr. Sleiman"
          ],
          [
           "Minahan, Dr. William Edward"
          ],
          [
           "Lindahl, Miss. Agda Thorilda Viktoria"
          ],
          [
           "Hamalainen, Mrs. William (Anna)"
          ],
          [
           "Beckwith, Mr. Richard Leonard"
          ],
          [
           "Carter, Rev. Ernest Courtenay"
          ],
          [
           "Reed, Mr. James George"
          ],
          [
           "Strom, Mrs. Wilhelm (Elna Matilda Persson)"
          ],
          [
           "Stead, Mr. William Thomas"
          ],
          [
           "Lobb, Mr. William Arthur"
          ],
          [
           "Rosblom, Mrs. Viktor (Helena Wilhelmina)"
          ],
          [
           "Touma, Mrs. Darwis (Hanne Youssef Razi)"
          ],
          [
           "Thorne, Mrs. Gertrude Maybelle"
          ],
          [
           "Cherry, Miss. Gladys"
          ],
          [
           "Ward, Miss. Anna"
          ],
          [
           "Parrish, Mrs. (Lutie Davis)"
          ],
          [
           "Smith, Mr. Thomas"
          ],
          [
           "Asplund, Master. Edvin Rojj Felix"
          ],
          [
           "Taussig, Mr. Emil"
          ],
          [
           "Harrison, Mr. William"
          ],
          [
           "Henry, Miss. Delia"
          ],
          [
           "Reeves, Mr. David"
          ],
          [
           "Panula, Mr. Ernesti Arvid"
          ],
          [
           "Persson, Mr. Ernst Ulrik"
          ],
          [
           "Graham, Mrs. William Thompson (Edith Junkins)"
          ],
          [
           "Bissette, Miss. Amelia"
          ],
          [
           "Cairns, Mr. Alexander"
          ],
          [
           "Tornquist, Mr. William Henry"
          ],
          [
           "Mellinger, Mrs. (Elizabeth Anne Maidment)"
          ],
          [
           "Natsch, Mr. Charles H"
          ],
          [
           "Healy, Miss. Hanora \"Nora\""
          ],
          [
           "Andrews, Miss. Kornelia Theodosia"
          ],
          [
           "Lindblom, Miss. Augusta Charlotta"
          ],
          [
           "Parkes, Mr. Francis \"Frank\""
          ],
          [
           "Rice, Master. Eric"
          ],
          [
           "Abbott, Mrs. Stanton (Rosa Hunt)"
          ],
          [
           "Duane, Mr. Frank"
          ],
          [
           "Olsson, Mr. Nils Johan Goransson"
          ],
          [
           "de Pelsmaeker, Mr. Alfons"
          ],
          [
           "Dorking, Mr. Edward Arthur"
          ],
          [
           "Smith, Mr. Richard William"
          ],
          [
           "Stankovic, Mr. Ivan"
          ],
          [
           "de Mulder, Mr. Theodore"
          ],
          [
           "Naidenoff, Mr. Penko"
          ],
          [
           "Hosono, Mr. Masabumi"
          ],
          [
           "Connolly, Miss. Kate"
          ],
          [
           "Barber, Miss. Ellen \"Nellie\""
          ],
          [
           "Bishop, Mrs. Dickinson H (Helen Walton)"
          ],
          [
           "Levy, Mr. Rene Jacques"
          ],
          [
           "Haas, Miss. Aloisia"
          ],
          [
           "Mineff, Mr. Ivan"
          ],
          [
           "Lewy, Mr. Ervin G"
          ],
          [
           "Hanna, Mr. Mansour"
          ],
          [
           "Allison, Miss. Helen Loraine"
          ],
          [
           "Saalfeld, Mr. Adolphe"
          ],
          [
           "Baxter, Mrs. James (Helene DeLaudeniere Chaput)"
          ],
          [
           "Kelly, Miss. Anna Katherine \"Annie Kate\""
          ],
          [
           "McCoy, Mr. Bernard"
          ],
          [
           "Johnson, Mr. William Cahoone Jr"
          ],
          [
           "Keane, Miss. Nora A"
          ],
          [
           "Williams, Mr. Howard Hugh \"Harry\""
          ],
          [
           "Allison, Master. Hudson Trevor"
          ],
          [
           "Fleming, Miss. Margaret"
          ],
          [
           "Penasco y Castellana, Mrs. Victor de Satode (Maria Josefa Perez de Soto y Vallejo)"
          ],
          [
           "Abelson, Mr. Samuel"
          ],
          [
           "Francatelli, Miss. Laura Mabel"
          ],
          [
           "Hays, Miss. Margaret Bechstein"
          ],
          [
           "Ryerson, Miss. Emily Borie"
          ],
          [
           "Lahtinen, Mrs. William (Anna Sylfven)"
          ],
          [
           "Hendekovic, Mr. Ignjac"
          ],
          [
           "Hart, Mr. Benjamin"
          ],
          [
           "Nilsson, Miss. Helmina Josefina"
          ],
          [
           "Kantor, Mrs. Sinai (Miriam Sternin)"
          ],
          [
           "Moraweck, Dr. Ernest"
          ],
          [
           "Wick, Miss. Mary Natalie"
          ],
          [
           "Spedden, Mrs. Frederic Oakley (Margaretta Corning Stone)"
          ],
          [
           "Dennis, Mr. Samuel"
          ],
          [
           "Danoff, Mr. Yoto"
          ],
          [
           "Slayter, Miss. Hilda Mary"
          ],
          [
           "Caldwell, Mrs. Albert Francis (Sylvia Mae Harbaugh)"
          ],
          [
           "Sage, Mr. George John Jr"
          ],
          [
           "Young, Miss. Marie Grice"
          ],
          [
           "Nysveen, Mr. Johan Hansen"
          ],
          [
           "Ball, Mrs. (Ada E Hall)"
          ],
          [
           "Goldsmith, Mrs. Frank John (Emily Alice Brown)"
          ],
          [
           "Hippach, Miss. Jean Gertrude"
          ],
          [
           "McCoy, Miss. Agnes"
          ],
          [
           "Partner, Mr. Austen"
          ],
          [
           "Graham, Mr. George Edward"
          ],
          [
           "Vander Planke, Mr. Leo Edmondus"
          ],
          [
           "Frauenthal, Mrs. Henry William (Clara Heinsheimer)"
          ],
          [
           "Denkoff, Mr. Mitto"
          ],
          [
           "Pears, Mr. Thomas Clinton"
          ],
          [
           "Burns, Miss. Elizabeth Margaret"
          ],
          [
           "Dahl, Mr. Karl Edwart"
          ],
          [
           "Blackwell, Mr. Stephen Weart"
          ],
          [
           "Navratil, Master. Edmond Roger"
          ],
          [
           "Fortune, Miss. Alice Elizabeth"
          ],
          [
           "Collander, Mr. Erik Gustaf"
          ],
          [
           "Sedgwick, Mr. Charles Frederick Waddington"
          ],
          [
           "Fox, Mr. Stanley Hubert"
          ],
          [
           "Brown, Miss. Amelia \"Mildred\""
          ],
          [
           "Smith, Miss. Marion Elsie"
          ],
          [
           "Davison, Mrs. Thomas Henry (Mary E Finck)"
          ],
          [
           "Coutts, Master. William Loch \"William\""
          ],
          [
           "Dimic, Mr. Jovan"
          ],
          [
           "Odahl, Mr. Nils Martin"
          ],
          [
           "Williams-Lambert, Mr. Fletcher Fellows"
          ],
          [
           "Elias, Mr. Tannous"
          ],
          [
           "Arnold-Franchi, Mr. Josef"
          ],
          [
           "Yousif, Mr. Wazli"
          ],
          [
           "Vanden Steen, Mr. Leo Peter"
          ],
          [
           "Bowerman, Miss. Elsie Edith"
          ],
          [
           "Funk, Miss. Annie Clemmer"
          ],
          [
           "McGovern, Miss. Mary"
          ],
          [
           "Mockler, Miss. Helen Mary \"Ellie\""
          ],
          [
           "Skoog, Mr. Wilhelm"
          ],
          [
           "del Carlo, Mr. Sebastiano"
          ],
          [
           "Barbara, Mrs. (Catherine David)"
          ],
          [
           "Asim, Mr. Adola"
          ],
          [
           "O'Brien, Mr. Thomas"
          ],
          [
           "Adahl, Mr. Mauritz Nils Martin"
          ],
          [
           "Warren, Mrs. Frank Manley (Anna Sophia Atkinson)"
          ],
          [
           "Moussa, Mrs. (Mantoura Boulos)"
          ],
          [
           "Jermyn, Miss. Annie"
          ],
          [
           "Aubart, Mme. Leontine Pauline"
          ],
          [
           "Harder, Mr. George Achilles"
          ],
          [
           "Wiklund, Mr. Jakob Alfred"
          ],
          [
           "Beavan, Mr. William Thomas"
          ],
          [
           "Ringhini, Mr. Sante"
          ],
          [
           "Palsson, Miss. Stina Viola"
          ],
          [
           "Meyer, Mrs. Edgar Joseph (Leila Saks)"
          ],
          [
           "Landergren, Miss. Aurora Adelia"
          ],
          [
           "Widener, Mr. Harry Elkins"
          ],
          [
           "Betros, Mr. Tannous"
          ],
          [
           "Gustafsson, Mr. Karl Gideon"
          ],
          [
           "Bidois, Miss. Rosalie"
          ],
          [
           "Nakid, Miss. Maria (\"Mary\")"
          ],
          [
           "Tikkanen, Mr. Juho"
          ],
          [
           "Holverson, Mrs. Alexander Oskar (Mary Aline Towner)"
          ],
          [
           "Plotcharsky, Mr. Vasil"
          ],
          [
           "Davies, Mr. Charles Henry"
          ],
          [
           "Goodwin, Master. Sidney Leonard"
          ],
          [
           "Buss, Miss. Kate"
          ],
          [
           "Sadlier, Mr. Matthew"
          ],
          [
           "Lehmann, Miss. Bertha"
          ],
          [
           "Carter, Mr. William Ernest"
          ],
          [
           "Jansson, Mr. Carl Olof"
          ],
          [
           "Gustafsson, Mr. Johan Birger"
          ],
          [
           "Newell, Miss. Marjorie"
          ],
          [
           "Sandstrom, Mrs. Hjalmar (Agnes Charlotta Bengtsson)"
          ],
          [
           "Johansson, Mr. Erik"
          ],
          [
           "Olsson, Miss. Elina"
          ],
          [
           "McKane, Mr. Peter David"
          ],
          [
           "Pain, Dr. Alfred"
          ],
          [
           "Trout, Mrs. William H (Jessie L)"
          ],
          [
           "Niskanen, Mr. Juha"
          ],
          [
           "Adams, Mr. John"
          ],
          [
           "Jussila, Miss. Mari Aina"
          ],
          [
           "Hakkarainen, Mr. Pekka Pietari"
          ],
          [
           "Oreskovic, Miss. Marija"
          ],
          [
           "Gale, Mr. Shadrach"
          ],
          [
           "Widegren, Mr. Carl/Charles Peter"
          ],
          [
           "Richards, Master. William Rowe"
          ],
          [
           "Birkeland, Mr. Hans Martin Monsen"
          ],
          [
           "Lefebre, Miss. Ida"
          ],
          [
           "Sdycoff, Mr. Todor"
          ],
          [
           "Hart, Mr. Henry"
          ],
          [
           "Minahan, Miss. Daisy E"
          ],
          [
           "Cunningham, Mr. Alfred Fleming"
          ],
          [
           "Sundman, Mr. Johan Julian"
          ],
          [
           "Meek, Mrs. Thomas (Annie Louise Rowley)"
          ],
          [
           "Drew, Mrs. James Vivian (Lulu Thorne Christian)"
          ],
          [
           "Silven, Miss. Lyyli Karoliina"
          ],
          [
           "Matthews, Mr. William John"
          ],
          [
           "Van Impe, Miss. Catharina"
          ],
          [
           "Gheorgheff, Mr. Stanio"
          ],
          [
           "Charters, Mr. David"
          ],
          [
           "Zimmerman, Mr. Leo"
          ],
          [
           "Danbom, Mrs. Ernst Gilbert (Anna Sigrid Maria Brogren)"
          ],
          [
           "Rosblom, Mr. Viktor Richard"
          ],
          [
           "Wiseman, Mr. Phillippe"
          ],
          [
           "Clarke, Mrs. Charles V (Ada Maria Winfield)"
          ],
          [
           "Phillips, Miss. Kate Florence (\"Mrs Kate Louise Phillips Marshall\")"
          ],
          [
           "Flynn, Mr. James"
          ],
          [
           "Pickard, Mr. Berk (Berk Trembisky)"
          ],
          [
           "Bjornstrom-Steffansson, Mr. Mauritz Hakan"
          ],
          [
           "Thorneycroft, Mrs. Percival (Florence Kate White)"
          ],
          [
           "Louch, Mrs. Charles Alexander (Alice Adelaide Slow)"
          ],
          [
           "Kallio, Mr. Nikolai Erland"
          ],
          [
           "Silvey, Mr. William Baird"
          ],
          [
           "Carter, Miss. Lucile Polk"
          ],
          [
           "Ford, Miss. Doolina Margaret \"Daisy\""
          ],
          [
           "Richards, Mrs. Sidney (Emily Hocking)"
          ],
          [
           "Fortune, Mr. Mark"
          ],
          [
           "Kvillner, Mr. Johan Henrik Johannesson"
          ],
          [
           "Hart, Mrs. Benjamin (Esther Ada Bloomfield)"
          ],
          [
           "Hampe, Mr. Leon"
          ],
          [
           "Petterson, Mr. Johan Emil"
          ],
          [
           "Reynaldo, Ms. Encarnacion"
          ],
          [
           "Johannesen-Bratthammer, Mr. Bernt"
          ],
          [
           "Dodge, Master. Washington"
          ],
          [
           "Mellinger, Miss. Madeleine Violet"
          ],
          [
           "Seward, Mr. Frederic Kimber"
          ],
          [
           "Baclini, Miss. Marie Catherine"
          ],
          [
           "Peuchen, Major. Arthur Godfrey"
          ],
          [
           "West, Mr. Edwy Arthur"
          ],
          [
           "Hagland, Mr. Ingvald Olai Olsen"
          ],
          [
           "Foreman, Mr. Benjamin Laventall"
          ],
          [
           "Goldenberg, Mr. Samuel L"
          ],
          [
           "Peduzzi, Mr. Joseph"
          ],
          [
           "Jalsevac, Mr. Ivan"
          ],
          [
           "Millet, Mr. Francis Davis"
          ],
          [
           "Kenyon, Mrs. Frederick R (Marion)"
          ],
          [
           "Toomey, Miss. Ellen"
          ],
          [
           "O'Connor, Mr. Maurice"
          ],
          [
           "Anderson, Mr. Harry"
          ],
          [
           "Morley, Mr. William"
          ],
          [
           "Gee, Mr. Arthur H"
          ],
          [
           "Milling, Mr. Jacob Christian"
          ],
          [
           "Maisner, Mr. Simon"
          ],
          [
           "Goncalves, Mr. Manuel Estanslas"
          ],
          [
           "Campbell, Mr. William"
          ],
          [
           "Smart, Mr. John Montgomery"
          ],
          [
           "Scanlan, Mr. James"
          ],
          [
           "Baclini, Miss. Helene Barbara"
          ],
          [
           "Keefe, Mr. Arthur"
          ],
          [
           "Cacic, Mr. Luka"
          ],
          [
           "West, Mrs. Edwy Arthur (Ada Mary Worth)"
          ],
          [
           "Jerwan, Mrs. Amin S (Marie Marthe Thuillard)"
          ],
          [
           "Strandberg, Miss. Ida Sofia"
          ],
          [
           "Clifford, Mr. George Quincy"
          ],
          [
           "Renouf, Mr. Peter Henry"
          ],
          [
           "Braund, Mr. Lewis Richard"
          ],
          [
           "Karlsson, Mr. Nils August"
          ],
          [
           "Hirvonen, Miss. Hildur E"
          ],
          [
           "Goodwin, Master. Harold Victor"
          ],
          [
           "Frost, Mr. Anthony Wood \"Archie\""
          ],
          [
           "Rouse, Mr. Richard Henry"
          ],
          [
           "Turkula, Mrs. (Hedwig)"
          ],
          [
           "Bishop, Mr. Dickinson H"
          ],
          [
           "Lefebre, Miss. Jeannie"
          ],
          [
           "Hoyt, Mrs. Frederick Maxfield (Jane Anne Forby)"
          ],
          [
           "Kent, Mr. Edward Austin"
          ],
          [
           "Somerton, Mr. Francis William"
          ],
          [
           "Coutts, Master. Eden Leslie \"Neville\""
          ],
          [
           "Hagland, Mr. Konrad Mathias Reiersen"
          ],
          [
           "Windelov, Mr. Einar"
          ],
          [
           "Molson, Mr. Harry Markland"
          ],
          [
           "Artagaveytia, Mr. Ramon"
          ],
          [
           "Stanley, Mr. Edward Roland"
          ],
          [
           "Yousseff, Mr. Gerious"
          ],
          [
           "Eustis, Miss. Elizabeth Mussey"
          ],
          [
           "Shellard, Mr. Frederick William"
          ],
          [
           "Allison, Mrs. Hudson J C (Bessie Waldo Daniels)"
          ],
          [
           "Svensson, Mr. Olof"
          ],
          [
           "Calic, Mr. Petar"
          ],
          [
           "Canavan, Miss. Mary"
          ],
          [
           "O'Sullivan, Miss. Bridget Mary"
          ],
          [
           "Laitinen, Miss. Kristina Sofia"
          ],
          [
           "Maioni, Miss. Roberta"
          ],
          [
           "Penasco y Castellana, Mr. Victor de Satode"
          ],
          [
           "Quick, Mrs. Frederick Charles (Jane Richards)"
          ],
          [
           "Bradley, Mr. George (\"George Arthur Brayton\")"
          ],
          [
           "Olsen, Mr. Henry Margido"
          ],
          [
           "Lang, Mr. Fang"
          ],
          [
           "Daly, Mr. Eugene Patrick"
          ],
          [
           "Webber, Mr. James"
          ],
          [
           "McGough, Mr. James Robert"
          ],
          [
           "Rothschild, Mrs. Martin (Elizabeth L. Barrett)"
          ],
          [
           "Coleff, Mr. Satio"
          ],
          [
           "Walker, Mr. William Anderson"
          ],
          [
           "Lemore, Mrs. (Amelia Milley)"
          ],
          [
           "Ryan, Mr. Patrick"
          ],
          [
           "Angle, Mrs. William A (Florence \"Mary\" Agnes Hughes)"
          ],
          [
           "Pavlovic, Mr. Stefo"
          ],
          [
           "Perreault, Miss. Anne"
          ],
          [
           "Vovk, Mr. Janko"
          ],
          [
           "Lahoud, Mr. Sarkis"
          ],
          [
           "Hippach, Mrs. Louis Albert (Ida Sophia Fischer)"
          ],
          [
           "Kassem, Mr. Fared"
          ],
          [
           "Farrell, Mr. James"
          ],
          [
           "Ridsdale, Miss. Lucy"
          ],
          [
           "Farthing, Mr. John"
          ],
          [
           "Salonen, Mr. Johan Werner"
          ],
          [
           "Hocking, Mr. Richard George"
          ],
          [
           "Quick, Miss. Phyllis May"
          ],
          [
           "Toufik, Mr. Nakli"
          ],
          [
           "Elias, Mr. Joseph Jr"
          ],
          [
           "Peter, Mrs. Catherine (Catherine Rizk)"
          ],
          [
           "Cacic, Miss. Marija"
          ],
          [
           "Hart, Miss. Eva Miriam"
          ],
          [
           "Butt, Major. Archibald Willingham"
          ],
          [
           "LeRoy, Miss. Bertha"
          ],
          [
           "Risien, Mr. Samuel Beard"
          ],
          [
           "Frolicher, Miss. Hedwig Margaritha"
          ],
          [
           "Crosby, Miss. Harriet R"
          ],
          [
           "Andersson, Miss. Ingeborg Constanzia"
          ],
          [
           "Andersson, Miss. Sigrid Elisabeth"
          ],
          [
           "Beane, Mr. Edward"
          ],
          [
           "Douglas, Mr. Walter Donald"
          ],
          [
           "Nicholson, Mr. Arthur Ernest"
          ],
          [
           "Beane, Mrs. Edward (Ethel Clarke)"
          ],
          [
           "Padro y Manent, Mr. Julian"
          ],
          [
           "Goldsmith, Mr. Frank John"
          ],
          [
           "Davies, Master. John Morgan Jr"
          ],
          [
           "Thayer, Mr. John Borland Jr"
          ],
          [
           "Sharp, Mr. Percival James R"
          ],
          [
           "O'Brien, Mr. Timothy"
          ],
          [
           "Leeni, Mr. Fahim (\"Philip Zenni\")"
          ],
          [
           "Ohman, Miss. Velin"
          ],
          [
           "Wright, Mr. George"
          ],
          [
           "Duff Gordon, Lady. (Lucille Christiana Sutherland) (\"Mrs Morgan\")"
          ],
          [
           "Robbins, Mr. Victor"
          ],
          [
           "Taussig, Mrs. Emil (Tillie Mandelbaum)"
          ],
          [
           "de Messemaeker, Mrs. Guillaume Joseph (Emma)"
          ],
          [
           "Morrow, Mr. Thomas Rowan"
          ],
          [
           "Sivic, Mr. Husein"
          ],
          [
           "Norman, Mr. Robert Douglas"
          ],
          [
           "Simmons, Mr. John"
          ],
          [
           "Meanwell, Miss. (Marion Ogden)"
          ],
          [
           "Davies, Mr. Alfred J"
          ],
          [
           "Stoytcheff, Mr. Ilia"
          ],
          [
           "Palsson, Mrs. Nils (Alma Cornelia Berglund)"
          ],
          [
           "Doharr, Mr. Tannous"
          ],
          [
           "Jonsson, Mr. Carl"
          ],
          [
           "Harris, Mr. George"
          ],
          [
           "Appleton, Mrs. Edward Dale (Charlotte Lamson)"
          ],
          [
           "Flynn, Mr. John Irwin (\"Irving\")"
          ],
          [
           "Kelly, Miss. Mary"
          ],
          [
           "Rush, Mr. Alfred George John"
          ],
          [
           "Patchett, Mr. George"
          ],
          [
           "Garside, Miss. Ethel"
          ],
          [
           "Silvey, Mrs. William Baird (Alice Munger)"
          ],
          [
           "Caram, Mrs. Joseph (Maria Elias)"
          ],
          [
           "Jussila, Mr. Eiriik"
          ],
          [
           "Christy, Miss. Julie Rachel"
          ],
          [
           "Thayer, Mrs. John Borland (Marian Longstreth Morris)"
          ],
          [
           "Downton, Mr. William James"
          ],
          [
           "Ross, Mr. John Hugo"
          ],
          [
           "Paulner, Mr. Uscher"
          ],
          [
           "Taussig, Miss. Ruth"
          ],
          [
           "Jarvis, Mr. John Denzil"
          ],
          [
           "Frolicher-Stehli, Mr. Maxmillian"
          ],
          [
           "Gilinski, Mr. Eliezer"
          ],
          [
           "Murdlin, Mr. Joseph"
          ],
          [
           "Rintamaki, Mr. Matti"
          ],
          [
           "Stephenson, Mrs. Walter Bertram (Martha Eustis)"
          ],
          [
           "Elsbury, Mr. William James"
          ],
          [
           "Bourke, Miss. Mary"
          ],
          [
           "Chapman, Mr. John Henry"
          ],
          [
           "Van Impe, Mr. Jean Baptiste"
          ],
          [
           "Leitch, Miss. Jessie Wills"
          ],
          [
           "Johnson, Mr. Alfred"
          ],
          [
           "Boulos, Mr. Hanna"
          ],
          [
           "Duff Gordon, Sir. Cosmo Edmund (\"Mr Morgan\")"
          ],
          [
           "Jacobsohn, Mrs. Sidney Samuel (Amy Frances Christy)"
          ],
          [
           "Slabenoff, Mr. Petco"
          ],
          [
           "Harrington, Mr. Charles H"
          ],
          [
           "Torber, Mr. Ernst William"
          ],
          [
           "Homer, Mr. Harry (\"Mr E Haven\")"
          ],
          [
           "Lindell, Mr. Edvard Bengtsson"
          ],
          [
           "Karaic, Mr. Milan"
          ],
          [
           "Daniel, Mr. Robert Williams"
          ],
          [
           "Laroche, Mrs. Joseph (Juliette Marie Louise Lafargue)"
          ],
          [
           "Shutes, Miss. Elizabeth W"
          ],
          [
           "Andersson, Mrs. Anders Johan (Alfrida Konstantia Brogren)"
          ],
          [
           "Jardin, Mr. Jose Neto"
          ],
          [
           "Murphy, Miss. Margaret Jane"
          ],
          [
           "Horgan, Mr. John"
          ],
          [
           "Brocklebank, Mr. William Alfred"
          ],
          [
           "Herman, Miss. Alice"
          ],
          [
           "Danbom, Mr. Ernst Gilbert"
          ],
          [
           "Lobb, Mrs. William Arthur (Cordelia K Stanlick)"
          ],
          [
           "Becker, Miss. Marion Louise"
          ],
          [
           "Gavey, Mr. Lawrence"
          ],
          [
           "Yasbeck, Mr. Antoni"
          ],
          [
           "Kimball, Mr. Edwin Nelson Jr"
          ],
          [
           "Nakid, Mr. Sahid"
          ],
          [
           "Hansen, Mr. Henry Damsgaard"
          ],
          [
           "Bowen, Mr. David John \"Dai\""
          ],
          [
           "Sutton, Mr. Frederick"
          ],
          [
           "Kirkland, Rev. Charles Leonard"
          ],
          [
           "Longley, Miss. Gretchen Fiske"
          ],
          [
           "Bostandyeff, Mr. Guentcho"
          ],
          [
           "O'Connell, Mr. Patrick D"
          ],
          [
           "Barkworth, Mr. Algernon Henry Wilson"
          ],
          [
           "Lundahl, Mr. Johan Svensson"
          ],
          [
           "Stahelin-Maeglin, Dr. Max"
          ],
          [
           "Parr, Mr. William Henry Marsh"
          ],
          [
           "Skoog, Miss. Mabel"
          ],
          [
           "Davis, Miss. Mary"
          ],
          [
           "Leinonen, Mr. Antti Gustaf"
          ],
          [
           "Collyer, Mr. Harvey"
          ],
          [
           "Panula, Mrs. Juha (Maria Emilia Ojala)"
          ],
          [
           "Thorneycroft, Mr. Percival"
          ],
          [
           "Jensen, Mr. Hans Peder"
          ],
          [
           "Sagesser, Mlle. Emma"
          ],
          [
           "Skoog, Miss. Margit Elizabeth"
          ],
          [
           "Foo, Mr. Choong"
          ],
          [
           "Baclini, Miss. Eugenie"
          ],
          [
           "Harper, Mr. Henry Sleeper"
          ],
          [
           "Cor, Mr. Liudevit"
          ],
          [
           "Simonius-Blumer, Col. Oberst Alfons"
          ],
          [
           "Willey, Mr. Edward"
          ],
          [
           "Stanley, Miss. Amy Zillah Elsie"
          ],
          [
           "Mitkoff, Mr. Mito"
          ],
          [
           "Doling, Miss. Elsie"
          ],
          [
           "Kalvik, Mr. Johannes Halvorsen"
          ],
          [
           "O'Leary, Miss. Hanora \"Norah\""
          ],
          [
           "Hegarty, Miss. Hanora \"Nora\""
          ],
          [
           "Hickman, Mr. Leonard Mark"
          ],
          [
           "Radeff, Mr. Alexander"
          ],
          [
           "Bourke, Mrs. John (Catherine)"
          ],
          [
           "Eitemiller, Mr. George Floyd"
          ],
          [
           "Newell, Mr. Arthur Webster"
          ],
          [
           "Frauenthal, Dr. Henry William"
          ],
          [
           "Badt, Mr. Mohamed"
          ],
          [
           "Colley, Mr. Edward Pomeroy"
          ],
          [
           "Coleff, Mr. Peju"
          ],
          [
           "Lindqvist, Mr. Eino William"
          ],
          [
           "Hickman, Mr. Lewis"
          ],
          [
           "Butler, Mr. Reginald Fenton"
          ],
          [
           "Rommetvedt, Mr. Knud Paust"
          ],
          [
           "Cook, Mr. Jacob"
          ],
          [
           "Taylor, Mrs. Elmer Zebley (Juliet Cummins Wright)"
          ],
          [
           "Brown, Mrs. Thomas William Solomon (Elizabeth Catherine Ford)"
          ],
          [
           "Davidson, Mr. Thornton"
          ],
          [
           "Mitchell, Mr. Henry Michael"
          ],
          [
           "Wilhelms, Mr. Charles"
          ],
          [
           "Watson, Mr. Ennis Hastings"
          ],
          [
           "Edvardsson, Mr. Gustaf Hjalmar"
          ],
          [
           "Sawyer, Mr. Frederick Charles"
          ],
          [
           "Turja, Miss. Anna Sofia"
          ],
          [
           "Goodwin, Mrs. Frederick (Augusta Tyler)"
          ],
          [
           "Cardeza, Mr. Thomas Drake Martinez"
          ],
          [
           "Peters, Miss. Katie"
          ],
          [
           "Hassab, Mr. Hammad"
          ],
          [
           "Olsvigen, Mr. Thor Anderson"
          ],
          [
           "Goodwin, Mr. Charles Edward"
          ],
          [
           "Brown, Mr. Thomas William Solomon"
          ],
          [
           "Laroche, Mr. Joseph Philippe Lemercier"
          ],
          [
           "Panula, Mr. Jaako Arnold"
          ],
          [
           "Dakic, Mr. Branko"
          ],
          [
           "Fischer, Mr. Eberhard Thelander"
          ],
          [
           "Madill, Miss. Georgette Alexandra"
          ],
          [
           "Dick, Mr. Albert Adrian"
          ],
          [
           "Karun, Miss. Manca"
          ],
          [
           "Lam, Mr. Ali"
          ],
          [
           "Saad, Mr. Khalil"
          ],
          [
           "Weir, Col. John"
          ],
          [
           "Chapman, Mr. Charles Henry"
          ],
          [
           "Kelly, Mr. James"
          ],
          [
           "Mullens, Miss. Katherine \"Katie\""
          ],
          [
           "Thayer, Mr. John Borland"
          ],
          [
           "Humblen, Mr. Adolf Mathias Nicolai Olsen"
          ],
          [
           "Astor, Mrs. John Jacob (Madeleine Talmadge Force)"
          ],
          [
           "Silverthorne, Mr. Spencer Victor"
          ],
          [
           "Barbara, Miss. Saiide"
          ],
          [
           "Gallagher, Mr. Martin"
          ],
          [
           "Hansen, Mr. Henrik Juul"
          ],
          [
           "Morley, Mr. Henry Samuel (\"Mr Henry Marshall\")"
          ],
          [
           "Kelly, Mrs. Florence \"Fannie\""
          ],
          [
           "Calderhead, Mr. Edward Pennington"
          ],
          [
           "Cleaver, Miss. Alice"
          ],
          [
           "Moubarek, Master. Halim Gonios (\"William George\")"
          ],
          [
           "Mayne, Mlle. Berthe Antonine (\"Mrs de Villiers\")"
          ],
          [
           "Klaber, Mr. Herman"
          ],
          [
           "Taylor, Mr. Elmer Zebley"
          ],
          [
           "Larsson, Mr. August Viktor"
          ],
          [
           "Greenberg, Mr. Samuel"
          ],
          [
           "Soholt, Mr. Peter Andreas Lauritz Andersen"
          ],
          [
           "Endres, Miss. Caroline Louise"
          ],
          [
           "Troutt, Miss. Edwina Celia \"Winnie\""
          ],
          [
           "McEvoy, Mr. Michael"
          ],
          [
           "Johnson, Mr. Malkolm Joackim"
          ],
          [
           "Harper, Miss. Annie Jessie \"Nina\""
          ],
          [
           "Jensen, Mr. Svend Lauritz"
          ],
          [
           "Gillespie, Mr. William Henry"
          ],
          [
           "Hodges, Mr. Henry Price"
          ],
          [
           "Chambers, Mr. Norman Campbell"
          ],
          [
           "Oreskovic, Mr. Luka"
          ],
          [
           "Renouf, Mrs. Peter Henry (Lillian Jefferys)"
          ],
          [
           "Mannion, Miss. Margareth"
          ],
          [
           "Bryhl, Mr. Kurt Arnold Gottfrid"
          ],
          [
           "Ilmakangas, Miss. Pieta Sofia"
          ],
          [
           "Allen, Miss. Elisabeth Walton"
          ],
          [
           "Hassan, Mr. Houssein G N"
          ],
          [
           "Knight, Mr. Robert J"
          ],
          [
           "Berriman, Mr. William John"
          ],
          [
           "Troupiansky, Mr. Moses Aaron"
          ],
          [
           "Williams, Mr. Leslie"
          ],
          [
           "Ford, Mrs. Edward (Margaret Ann Watson)"
          ],
          [
           "Lesurer, Mr. Gustave J"
          ],
          [
           "Ivanoff, Mr. Kanio"
          ],
          [
           "Nankoff, Mr. Minko"
          ],
          [
           "Hawksford, Mr. Walter James"
          ],
          [
           "Cavendish, Mr. Tyrell William"
          ],
          [
           "Ryerson, Miss. Susan Parker \"Suzette\""
          ],
          [
           "McNamee, Mr. Neal"
          ],
          [
           "Stranden, Mr. Juho"
          ],
          [
           "Crosby, Capt. Edward Gifford"
          ],
          [
           "Abbott, Mr. Rossmore Edward"
          ],
          [
           "Sinkkonen, Miss. Anna"
          ],
          [
           "Marvin, Mr. Daniel Warner"
          ],
          [
           "Connaghton, Mr. Michael"
          ],
          [
           "Wells, Miss. Joan"
          ],
          [
           "Moor, Master. Meier"
          ],
          [
           "Vande Velde, Mr. Johannes Joseph"
          ],
          [
           "Jonkoff, Mr. Lalio"
          ],
          [
           "Herman, Mrs. Samuel (Jane Laver)"
          ],
          [
           "Hamalainen, Master. Viljo"
          ],
          [
           "Carlsson, Mr. August Sigfrid"
          ],
          [
           "Bailey, Mr. Percy Andrew"
          ],
          [
           "Theobald, Mr. Thomas Leonard"
          ],
          [
           "Rothes, the Countess. of (Lucy Noel Martha Dyer-Edwards)"
          ],
          [
           "Garfirth, Mr. John"
          ],
          [
           "Nirva, Mr. Iisakki Antino Aijo"
          ],
          [
           "Barah, Mr. Hanna Assi"
          ],
          [
           "Carter, Mrs. William Ernest (Lucile Polk)"
          ],
          [
           "Eklund, Mr. Hans Linus"
          ],
          [
           "Hogeboom, Mrs. John C (Anna Andrews)"
          ],
          [
           "Brewe, Dr. Arthur Jackson"
          ],
          [
           "Mangan, Miss. Mary"
          ],
          [
           "Moran, Mr. Daniel J"
          ],
          [
           "Gronnestad, Mr. Daniel Danielsen"
          ],
          [
           "Lievens, Mr. Rene Aime"
          ],
          [
           "Jensen, Mr. Niels Peder"
          ],
          [
           "Mack, Mrs. (Mary)"
          ],
          [
           "Elias, Mr. Dibo"
          ],
          [
           "Hocking, Mrs. Elizabeth (Eliza Needs)"
          ],
          [
           "Myhrman, Mr. Pehr Fabian Oliver Malkolm"
          ],
          [
           "Tobin, Mr. Roger"
          ],
          [
           "Emanuel, Miss. Virginia Ethel"
          ],
          [
           "Kilgannon, Mr. Thomas J"
          ],
          [
           "Robert, Mrs. Edward Scott (Elisabeth Walton McMillan)"
          ],
          [
           "Ayoub, Miss. Banoura"
          ],
          [
           "Dick, Mrs. Albert Adrian (Vera Gillespie)"
          ],
          [
           "Long, Mr. Milton Clyde"
          ],
          [
           "Johnston, Mr. Andrew G"
          ],
          [
           "Ali, Mr. William"
          ],
          [
           "Harmer, Mr. Abraham (David Lishin)"
          ],
          [
           "Sjoblom, Miss. Anna Sofia"
          ],
          [
           "Rice, Master. George Hugh"
          ],
          [
           "Dean, Master. Bertram Vere"
          ],
          [
           "Guggenheim, Mr. Benjamin"
          ],
          [
           "Keane, Mr. Andrew \"Andy\""
          ],
          [
           "Gaskell, Mr. Alfred"
          ],
          [
           "Sage, Miss. Stella Anna"
          ],
          [
           "Hoyt, Mr. William Fisher"
          ],
          [
           "Dantcheff, Mr. Ristiu"
          ],
          [
           "Otter, Mr. Richard"
          ],
          [
           "Leader, Dr. Alice (Farnham)"
          ],
          [
           "Osman, Mrs. Mara"
          ],
          [
           "Ibrahim Shawah, Mr. Yousseff"
          ],
          [
           "Van Impe, Mrs. Jean Baptiste (Rosalie Paula Govaert)"
          ],
          [
           "Ponesell, Mr. Martin"
          ],
          [
           "Collyer, Mrs. Harvey (Charlotte Annie Tate)"
          ],
          [
           "Carter, Master. William Thornton II"
          ],
          [
           "Thomas, Master. Assad Alexander"
          ],
          [
           "Hedman, Mr. Oskar Arvid"
          ],
          [
           "Johansson, Mr. Karl Johan"
          ],
          [
           "Andrews, Mr. Thomas Jr"
          ],
          [
           "Pettersson, Miss. Ellen Natalia"
          ],
          [
           "Meyer, Mr. August"
          ],
          [
           "Chambers, Mrs. Norman Campbell (Bertha Griggs)"
          ],
          [
           "Alexander, Mr. William"
          ],
          [
           "Lester, Mr. James"
          ],
          [
           "Slemen, Mr. Richard James"
          ],
          [
           "Andersson, Miss. Ebba Iris Alfrida"
          ],
          [
           "Tomlin, Mr. Ernest Portage"
          ],
          [
           "Fry, Mr. Richard"
          ],
          [
           "Heininen, Miss. Wendla Maria"
          ],
          [
           "Mallet, Mr. Albert"
          ],
          [
           "Holm, Mr. John Fredrik Alexander"
          ],
          [
           "Skoog, Master. Karl Thorsten"
          ],
          [
           "Hays, Mrs. Charles Melville (Clara Jennings Gregg)"
          ],
          [
           "Lulic, Mr. Nikola"
          ],
          [
           "Reuchlin, Jonkheer. John George"
          ],
          [
           "Moor, Mrs. (Beila)"
          ],
          [
           "Panula, Master. Urho Abraham"
          ],
          [
           "Flynn, Mr. John"
          ],
          [
           "Lam, Mr. Len"
          ],
          [
           "Mallet, Master. Andre"
          ],
          [
           "McCormack, Mr. Thomas Joseph"
          ],
          [
           "Stone, Mrs. George Nelson (Martha Evelyn)"
          ],
          [
           "Yasbeck, Mrs. Antoni (Selini Alexander)"
          ],
          [
           "Richards, Master. George Sibley"
          ],
          [
           "Saad, Mr. Amin"
          ],
          [
           "Augustsson, Mr. Albert"
          ],
          [
           "Allum, Mr. Owen George"
          ],
          [
           "Compton, Miss. Sara Rebecca"
          ],
          [
           "Pasic, Mr. Jakob"
          ],
          [
           "Sirota, Mr. Maurice"
          ],
          [
           "Chip, Mr. Chang"
          ],
          [
           "Marechal, Mr. Pierre"
          ],
          [
           "Alhomaki, Mr. Ilmari Rudolf"
          ],
          [
           "Mudd, Mr. Thomas Charles"
          ],
          [
           "Serepeca, Miss. Augusta"
          ],
          [
           "Lemberopolous, Mr. Peter L"
          ],
          [
           "Culumovic, Mr. Jeso"
          ],
          [
           "Abbing, Mr. Anthony"
          ],
          [
           "Sage, Mr. Douglas Bullen"
          ],
          [
           "Markoff, Mr. Marin"
          ],
          [
           "Harper, Rev. John"
          ],
          [
           "Goldenberg, Mrs. Samuel L (Edwiga Grabowska)"
          ],
          [
           "Andersson, Master. Sigvard Harald Elias"
          ],
          [
           "Svensson, Mr. Johan"
          ],
          [
           "Boulos, Miss. Nourelain"
          ],
          [
           "Lines, Miss. Mary Conover"
          ],
          [
           "Carter, Mrs. Ernest Courtenay (Lilian Hughes)"
          ],
          [
           "Aks, Mrs. Sam (Leah Rosen)"
          ],
          [
           "Wick, Mrs. George Dennick (Mary Hitchcock)"
          ],
          [
           "Daly, Mr. Peter Denis "
          ],
          [
           "Baclini, Mrs. Solomon (Latifa Qurban)"
          ],
          [
           "Razi, Mr. Raihed"
          ],
          [
           "Hansen, Mr. Claus Peter"
          ],
          [
           "Giles, Mr. Frederick Edward"
          ],
          [
           "Swift, Mrs. Frederick Joel (Margaret Welles Barron)"
          ],
          [
           "Sage, Miss. Dorothy Edith \"Dolly\""
          ],
          [
           "Gill, Mr. John William"
          ],
          [
           "Bystrom, Mrs. (Karolina)"
          ],
          [
           "Duran y More, Miss. Asuncion"
          ],
          [
           "Roebling, Mr. Washington Augustus II"
          ],
          [
           "van Melkebeke, Mr. Philemon"
          ],
          [
           "Johnson, Master. Harold Theodor"
          ],
          [
           "Balkic, Mr. Cerin"
          ],
          [
           "Beckwith, Mrs. Richard Leonard (Sallie Monypeny)"
          ],
          [
           "Carlsson, Mr. Frans Olof"
          ],
          [
           "Vander Cruyssen, Mr. Victor"
          ],
          [
           "Abelson, Mrs. Samuel (Hannah Wizosky)"
          ],
          [
           "Najib, Miss. Adele Kiamie \"Jane\""
          ],
          [
           "Gustafsson, Mr. Alfred Ossian"
          ],
          [
           "Petroff, Mr. Nedelio"
          ],
          [
           "Laleff, Mr. Kristo"
          ],
          [
           "Potter, Mrs. Thomas Jr (Lily Alexenia Wilson)"
          ],
          [
           "Shelley, Mrs. William (Imanita Parrish Hall)"
          ],
          [
           "Markun, Mr. Johann"
          ],
          [
           "Dahlberg, Miss. Gerda Ulrika"
          ],
          [
           "Banfield, Mr. Frederick James"
          ],
          [
           "Sutehall, Mr. Henry Jr"
          ],
          [
           "Rice, Mrs. William (Margaret Norton)"
          ],
          [
           "Montvila, Rev. Juozas"
          ],
          [
           "Graham, Miss. Margaret Edith"
          ],
          [
           "Johnston, Miss. Catherine Helen \"Carrie\""
          ],
          [
           "Behr, Mr. Karl Howell"
          ],
          [
           "Dooley, Mr. Patrick"
          ]
         ],
         "hovertemplate": "Age=%{x}<br>Sex=%{y}<br>Name=%{customdata[0]}<extra></extra>",
         "legendgroup": "",
         "marker": {
          "color": "#1F77B4",
          "opacity": 0.5,
          "pattern": {
           "shape": ""
          }
         },
         "name": "",
         "offsetgroup": "",
         "orientation": "h",
         "showlegend": false,
         "textposition": "auto",
         "type": "bar",
         "x": [
          22,
          38,
          26,
          35,
          35,
          null,
          54,
          2,
          27,
          14,
          4,
          58,
          20,
          39,
          14,
          55,
          2,
          null,
          31,
          null,
          35,
          34,
          15,
          28,
          8,
          38,
          null,
          19,
          null,
          null,
          40,
          null,
          null,
          66,
          28,
          42,
          null,
          21,
          18,
          14,
          40,
          27,
          null,
          3,
          19,
          null,
          null,
          null,
          null,
          18,
          7,
          21,
          49,
          29,
          65,
          null,
          21,
          28.5,
          5,
          11,
          22,
          38,
          45,
          4,
          null,
          null,
          29,
          19,
          17,
          26,
          32,
          16,
          21,
          26,
          32,
          25,
          null,
          null,
          0.83,
          30,
          22,
          29,
          null,
          28,
          17,
          33,
          16,
          null,
          23,
          24,
          29,
          20,
          46,
          26,
          59,
          null,
          71,
          23,
          34,
          34,
          28,
          null,
          21,
          33,
          37,
          28,
          21,
          null,
          38,
          null,
          47,
          14.5,
          22,
          20,
          17,
          21,
          70.5,
          29,
          24,
          2,
          21,
          null,
          32.5,
          32.5,
          54,
          12,
          null,
          24,
          null,
          45,
          33,
          20,
          47,
          29,
          25,
          23,
          19,
          37,
          16,
          24,
          null,
          22,
          24,
          19,
          18,
          19,
          27,
          9,
          36.5,
          42,
          51,
          22,
          55.5,
          40.5,
          null,
          51,
          16,
          30,
          null,
          null,
          44,
          40,
          26,
          17,
          1,
          9,
          null,
          45,
          null,
          28,
          61,
          4,
          1,
          21,
          56,
          18,
          null,
          50,
          30,
          36,
          null,
          null,
          9,
          1,
          4,
          null,
          null,
          45,
          40,
          36,
          32,
          19,
          19,
          3,
          44,
          58,
          null,
          42,
          null,
          24,
          28,
          null,
          34,
          45.5,
          18,
          2,
          32,
          26,
          16,
          40,
          24,
          35,
          22,
          30,
          null,
          31,
          27,
          42,
          32,
          30,
          16,
          27,
          51,
          null,
          38,
          22,
          19,
          20.5,
          18,
          null,
          35,
          29,
          59,
          5,
          24,
          null,
          44,
          8,
          19,
          33,
          null,
          null,
          29,
          22,
          30,
          44,
          25,
          24,
          37,
          54,
          null,
          29,
          62,
          30,
          41,
          29,
          null,
          30,
          35,
          50,
          null,
          3,
          52,
          40,
          null,
          36,
          16,
          25,
          58,
          35,
          null,
          25,
          41,
          37,
          null,
          63,
          45,
          null,
          7,
          35,
          65,
          28,
          16,
          19,
          null,
          33,
          30,
          22,
          42,
          22,
          26,
          19,
          36,
          24,
          24,
          null,
          23.5,
          2,
          null,
          50,
          null,
          null,
          19,
          null,
          null,
          0.92,
          null,
          17,
          30,
          30,
          24,
          18,
          26,
          28,
          43,
          26,
          24,
          54,
          31,
          40,
          22,
          27,
          30,
          22,
          null,
          36,
          61,
          36,
          31,
          16,
          null,
          45.5,
          38,
          16,
          null,
          null,
          29,
          41,
          45,
          45,
          2,
          24,
          28,
          25,
          36,
          24,
          40,
          null,
          3,
          42,
          23,
          null,
          15,
          25,
          null,
          28,
          22,
          38,
          null,
          null,
          40,
          29,
          45,
          35,
          null,
          30,
          60,
          null,
          null,
          24,
          25,
          18,
          19,
          22,
          3,
          null,
          22,
          27,
          20,
          19,
          42,
          1,
          32,
          35,
          null,
          18,
          1,
          36,
          null,
          17,
          36,
          21,
          28,
          23,
          24,
          22,
          31,
          46,
          23,
          28,
          39,
          26,
          21,
          28,
          20,
          34,
          51,
          3,
          21,
          null,
          null,
          null,
          33,
          null,
          44,
          null,
          34,
          18,
          30,
          10,
          null,
          21,
          29,
          28,
          18,
          null,
          28,
          19,
          null,
          32,
          28,
          null,
          42,
          17,
          50,
          14,
          21,
          24,
          64,
          31,
          45,
          20,
          25,
          28,
          null,
          4,
          13,
          34,
          5,
          52,
          36,
          null,
          30,
          49,
          null,
          29,
          65,
          null,
          50,
          null,
          48,
          34,
          47,
          48,
          null,
          38,
          null,
          56,
          null,
          0.75,
          null,
          38,
          33,
          23,
          22,
          null,
          34,
          29,
          22,
          2,
          9,
          null,
          50,
          63,
          25,
          null,
          35,
          58,
          30,
          9,
          null,
          21,
          55,
          71,
          21,
          null,
          54,
          null,
          25,
          24,
          17,
          21,
          null,
          37,
          16,
          18,
          33,
          null,
          28,
          26,
          29,
          null,
          36,
          54,
          24,
          47,
          34,
          null,
          36,
          32,
          30,
          22,
          null,
          44,
          null,
          40.5,
          50,
          null,
          39,
          23,
          2,
          null,
          17,
          null,
          30,
          7,
          45,
          30,
          null,
          22,
          36,
          9,
          11,
          32,
          50,
          64,
          19,
          null,
          33,
          8,
          17,
          27,
          null,
          22,
          22,
          62,
          48,
          null,
          39,
          36,
          null,
          40,
          28,
          null,
          null,
          24,
          19,
          29,
          null,
          32,
          62,
          53,
          36,
          null,
          16,
          19,
          34,
          39,
          null,
          32,
          25,
          39,
          54,
          36,
          null,
          18,
          47,
          60,
          22,
          null,
          35,
          52,
          47,
          null,
          37,
          36,
          null,
          49,
          null,
          49,
          24,
          null,
          null,
          44,
          35,
          36,
          30,
          27,
          22,
          40,
          39,
          null,
          null,
          null,
          35,
          24,
          34,
          26,
          4,
          26,
          27,
          42,
          20,
          21,
          21,
          61,
          57,
          21,
          26,
          null,
          80,
          51,
          32,
          null,
          9,
          28,
          32,
          31,
          41,
          null,
          20,
          24,
          2,
          null,
          0.75,
          48,
          19,
          56,
          null,
          23,
          null,
          18,
          21,
          null,
          18,
          24,
          null,
          32,
          23,
          58,
          50,
          40,
          47,
          36,
          20,
          32,
          25,
          null,
          43,
          null,
          40,
          31,
          70,
          31,
          null,
          18,
          24.5,
          18,
          43,
          36,
          null,
          27,
          20,
          14,
          60,
          25,
          14,
          19,
          18,
          15,
          31,
          4,
          null,
          25,
          60,
          52,
          44,
          null,
          49,
          42,
          18,
          35,
          18,
          25,
          26,
          39,
          45,
          42,
          22,
          null,
          24,
          null,
          48,
          29,
          52,
          19,
          38,
          27,
          null,
          33,
          6,
          17,
          34,
          50,
          27,
          20,
          30,
          null,
          25,
          25,
          29,
          11,
          null,
          23,
          23,
          28.5,
          48,
          35,
          null,
          null,
          null,
          36,
          21,
          24,
          31,
          70,
          16,
          30,
          19,
          31,
          4,
          6,
          33,
          23,
          48,
          0.67,
          28,
          18,
          34,
          33,
          null,
          41,
          20,
          36,
          16,
          51,
          null,
          30.5,
          null,
          32,
          24,
          48,
          57,
          null,
          54,
          18,
          null,
          5,
          null,
          43,
          13,
          17,
          29,
          null,
          25,
          25,
          18,
          8,
          1,
          46,
          null,
          16,
          null,
          null,
          25,
          39,
          49,
          31,
          30,
          30,
          34,
          31,
          11,
          0.42,
          27,
          31,
          39,
          18,
          39,
          33,
          26,
          39,
          35,
          6,
          30.5,
          null,
          23,
          31,
          43,
          10,
          52,
          27,
          38,
          27,
          2,
          null,
          null,
          1,
          null,
          62,
          15,
          0.83,
          null,
          23,
          18,
          39,
          21,
          null,
          32,
          null,
          20,
          16,
          30,
          34.5,
          17,
          42,
          null,
          35,
          28,
          null,
          4,
          74,
          9,
          16,
          44,
          18,
          45,
          51,
          24,
          null,
          41,
          21,
          48,
          null,
          24,
          42,
          27,
          31,
          null,
          4,
          26,
          47,
          33,
          47,
          28,
          15,
          20,
          19,
          null,
          56,
          25,
          33,
          22,
          28,
          25,
          39,
          27,
          19,
          null,
          26,
          32
         ],
         "xaxis": "x",
         "y": [
          "male",
          "female",
          "female",
          "female",
          "male",
          "male",
          "male",
          "male",
          "female",
          "female",
          "female",
          "female",
          "male",
          "male",
          "female",
          "female",
          "male",
          "male",
          "female",
          "female",
          "male",
          "male",
          "female",
          "male",
          "female",
          "female",
          "male",
          "male",
          "female",
          "male",
          "male",
          "female",
          "female",
          "male",
          "male",
          "male",
          "male",
          "male",
          "female",
          "female",
          "female",
          "female",
          "male",
          "female",
          "female",
          "male",
          "male",
          "female",
          "male",
          "female",
          "male",
          "male",
          "female",
          "female",
          "male",
          "male",
          "female",
          "male",
          "female",
          "male",
          "male",
          "female",
          "male",
          "male",
          "male",
          "male",
          "female",
          "male",
          "female",
          "male",
          "male",
          "female",
          "male",
          "male",
          "male",
          "male",
          "male",
          "male",
          "male",
          "female",
          "male",
          "male",
          "female",
          "male",
          "female",
          "female",
          "male",
          "male",
          "female",
          "male",
          "male",
          "male",
          "male",
          "male",
          "male",
          "male",
          "male",
          "male",
          "female",
          "male",
          "female",
          "male",
          "male",
          "male",
          "male",
          "male",
          "female",
          "male",
          "male",
          "female",
          "male",
          "female",
          "male",
          "female",
          "female",
          "male",
          "male",
          "male",
          "male",
          "female",
          "male",
          "male",
          "male",
          "female",
          "male",
          "male",
          "male",
          "male",
          "female",
          "male",
          "male",
          "male",
          "female",
          "female",
          "male",
          "male",
          "female",
          "male",
          "male",
          "male",
          "female",
          "female",
          "female",
          "male",
          "male",
          "male",
          "male",
          "female",
          "male",
          "male",
          "male",
          "female",
          "male",
          "male",
          "male",
          "male",
          "female",
          "male",
          "male",
          "male",
          "male",
          "female",
          "male",
          "male",
          "male",
          "male",
          "female",
          "female",
          "male",
          "male",
          "male",
          "male",
          "female",
          "male",
          "male",
          "male",
          "male",
          "female",
          "male",
          "male",
          "female",
          "male",
          "male",
          "male",
          "female",
          "male",
          "female",
          "male",
          "male",
          "male",
          "female",
          "male",
          "female",
          "male",
          "female",
          "female",
          "male",
          "male",
          "female",
          "female",
          "male",
          "male",
          "male",
          "male",
          "male",
          "female",
          "male",
          "male",
          "female",
          "male",
          "male",
          "female",
          "male",
          "male",
          "male",
          "female",
          "female",
          "male",
          "female",
          "male",
          "male",
          "male",
          "male",
          "male",
          "male",
          "male",
          "male",
          "male",
          "male",
          "female",
          "female",
          "male",
          "male",
          "female",
          "male",
          "female",
          "male",
          "female",
          "male",
          "male",
          "female",
          "female",
          "male",
          "male",
          "male",
          "male",
          "female",
          "female",
          "male",
          "male",
          "male",
          "female",
          "male",
          "male",
          "female",
          "female",
          "female",
          "female",
          "female",
          "female",
          "male",
          "male",
          "male",
          "male",
          "female",
          "male",
          "male",
          "male",
          "female",
          "female",
          "male",
          "male",
          "female",
          "male",
          "female",
          "female",
          "female",
          "male",
          "male",
          "female",
          "male",
          "male",
          "male",
          "male",
          "male",
          "male",
          "male",
          "male",
          "male",
          "female",
          "female",
          "female",
          "male",
          "female",
          "male",
          "male",
          "male",
          "female",
          "male",
          "female",
          "female",
          "male",
          "male",
          "female",
          "male",
          "male",
          "female",
          "female",
          "male",
          "female",
          "female",
          "female",
          "female",
          "male",
          "male",
          "female",
          "female",
          "male",
          "female",
          "female",
          "male",
          "male",
          "female",
          "female",
          "male",
          "female",
          "male",
          "female",
          "female",
          "female",
          "female",
          "male",
          "male",
          "male",
          "female",
          "male",
          "male",
          "female",
          "male",
          "male",
          "male",
          "female",
          "male",
          "male",
          "male",
          "female",
          "female",
          "female",
          "male",
          "male",
          "male",
          "male",
          "male",
          "male",
          "male",
          "male",
          "female",
          "female",
          "female",
          "female",
          "male",
          "male",
          "female",
          "male",
          "male",
          "male",
          "female",
          "female",
          "female",
          "female",
          "male",
          "male",
          "male",
          "male",
          "female",
          "female",
          "female",
          "male",
          "male",
          "male",
          "female",
          "female",
          "male",
          "female",
          "male",
          "male",
          "male",
          "female",
          "male",
          "female",
          "male",
          "male",
          "male",
          "female",
          "female",
          "male",
          "female",
          "male",
          "male",
          "female",
          "male",
          "male",
          "female",
          "male",
          "female",
          "male",
          "male",
          "male",
          "male",
          "female",
          "male",
          "male",
          "female",
          "male",
          "male",
          "female",
          "female",
          "female",
          "male",
          "female",
          "male",
          "male",
          "male",
          "female",
          "male",
          "male",
          "female",
          "female",
          "male",
          "male",
          "male",
          "female",
          "female",
          "male",
          "male",
          "female",
          "female",
          "female",
          "male",
          "male",
          "female",
          "male",
          "male",
          "female",
          "male",
          "male",
          "female",
          "male",
          "female",
          "male",
          "male",
          "male",
          "male",
          "male",
          "male",
          "male",
          "male",
          "female",
          "female",
          "male",
          "male",
          "male",
          "male",
          "male",
          "male",
          "male",
          "male",
          "male",
          "male",
          "female",
          "male",
          "male",
          "female",
          "female",
          "female",
          "male",
          "male",
          "male",
          "male",
          "female",
          "male",
          "male",
          "male",
          "female",
          "male",
          "female",
          "female",
          "male",
          "male",
          "male",
          "male",
          "male",
          "male",
          "male",
          "male",
          "male",
          "female",
          "male",
          "female",
          "male",
          "male",
          "female",
          "female",
          "female",
          "female",
          "male",
          "female",
          "male",
          "male",
          "male",
          "male",
          "male",
          "male",
          "female",
          "male",
          "male",
          "female",
          "male",
          "female",
          "male",
          "female",
          "male",
          "male",
          "female",
          "male",
          "male",
          "female",
          "male",
          "male",
          "male",
          "female",
          "male",
          "male",
          "female",
          "female",
          "female",
          "male",
          "female",
          "male",
          "female",
          "female",
          "female",
          "female",
          "male",
          "male",
          "male",
          "female",
          "male",
          "male",
          "male",
          "male",
          "male",
          "male",
          "male",
          "female",
          "male",
          "female",
          "male",
          "female",
          "female",
          "male",
          "male",
          "male",
          "male",
          "female",
          "male",
          "male",
          "female",
          "male",
          "male",
          "male",
          "female",
          "male",
          "female",
          "male",
          "male",
          "female",
          "female",
          "female",
          "male",
          "female",
          "female",
          "male",
          "male",
          "male",
          "female",
          "male",
          "male",
          "male",
          "male",
          "male",
          "female",
          "male",
          "female",
          "male",
          "male",
          "female",
          "male",
          "male",
          "male",
          "female",
          "male",
          "male",
          "male",
          "male",
          "male",
          "male",
          "male",
          "female",
          "female",
          "female",
          "male",
          "female",
          "male",
          "male",
          "female",
          "male",
          "female",
          "female",
          "male",
          "male",
          "male",
          "male",
          "male",
          "male",
          "male",
          "male",
          "female",
          "male",
          "male",
          "male",
          "male",
          "male",
          "male",
          "female",
          "female",
          "male",
          "male",
          "female",
          "male",
          "male",
          "female",
          "female",
          "male",
          "female",
          "male",
          "male",
          "male",
          "male",
          "female",
          "male",
          "female",
          "male",
          "female",
          "female",
          "male",
          "male",
          "female",
          "male",
          "male",
          "male",
          "male",
          "male",
          "male",
          "male",
          "male",
          "male",
          "male",
          "male",
          "female",
          "female",
          "male",
          "male",
          "male",
          "male",
          "male",
          "male",
          "female",
          "female",
          "male",
          "female",
          "male",
          "male",
          "male",
          "male",
          "male",
          "male",
          "male",
          "male",
          "female",
          "male",
          "female",
          "male",
          "male",
          "male",
          "male",
          "male",
          "female",
          "male",
          "male",
          "female",
          "male",
          "female",
          "male",
          "male",
          "male",
          "female",
          "male",
          "female",
          "male",
          "female",
          "male",
          "male",
          "male",
          "male",
          "male",
          "female",
          "female",
          "male",
          "male",
          "female",
          "male",
          "male",
          "male",
          "male",
          "male",
          "female",
          "female",
          "male",
          "female",
          "female",
          "male",
          "male",
          "male",
          "male",
          "male",
          "female",
          "male",
          "male",
          "male",
          "male",
          "male",
          "female",
          "male",
          "male",
          "male",
          "male",
          "female",
          "male",
          "male",
          "female",
          "male",
          "male",
          "male",
          "female",
          "male",
          "male",
          "male",
          "male",
          "female",
          "male",
          "male",
          "male",
          "female",
          "male",
          "female",
          "male",
          "female",
          "male",
          "male",
          "male",
          "male",
          "female",
          "male",
          "female",
          "male",
          "male",
          "female",
          "male",
          "female",
          "female",
          "female",
          "male",
          "male",
          "male",
          "male",
          "female",
          "male",
          "male",
          "male",
          "male",
          "male",
          "female",
          "male",
          "male",
          "male",
          "female",
          "female",
          "male",
          "female",
          "male",
          "female",
          "male",
          "male",
          "male",
          "male",
          "male",
          "female",
          "male",
          "female",
          "male",
          "male",
          "male",
          "female",
          "male",
          "male",
          "female",
          "male",
          "male",
          "male",
          "female",
          "male",
          "male",
          "female",
          "male",
          "male",
          "male",
          "male",
          "male",
          "female",
          "female",
          "male",
          "male",
          "male",
          "male",
          "female",
          "male",
          "male",
          "male",
          "male",
          "male",
          "male",
          "female",
          "male",
          "male",
          "male",
          "male",
          "male",
          "male",
          "female",
          "male",
          "male",
          "female",
          "female",
          "female",
          "female",
          "female",
          "male",
          "female",
          "male",
          "male",
          "male",
          "female",
          "female",
          "male",
          "female",
          "female",
          "male",
          "male",
          "male",
          "male",
          "female",
          "male",
          "male",
          "female",
          "female",
          "male",
          "male",
          "male",
          "female",
          "female",
          "male",
          "female",
          "male",
          "male",
          "female",
          "male",
          "female",
          "female",
          "male",
          "male"
         ],
         "yaxis": "y"
        }
       ],
       "layout": {
        "barmode": "overlay",
        "legend": {
         "tracegroupgap": 0
        },
        "margin": {
         "t": 60
        },
        "template": {
         "data": {
          "bar": [
           {
            "error_x": {
             "color": "#2a3f5f"
            },
            "error_y": {
             "color": "#2a3f5f"
            },
            "marker": {
             "line": {
              "color": "white",
              "width": 0.5
             },
             "pattern": {
              "fillmode": "overlay",
              "size": 10,
              "solidity": 0.2
             }
            },
            "type": "bar"
           }
          ],
          "barpolar": [
           {
            "marker": {
             "line": {
              "color": "white",
              "width": 0.5
             },
             "pattern": {
              "fillmode": "overlay",
              "size": 10,
              "solidity": 0.2
             }
            },
            "type": "barpolar"
           }
          ],
          "carpet": [
           {
            "aaxis": {
             "endlinecolor": "#2a3f5f",
             "gridcolor": "#C8D4E3",
             "linecolor": "#C8D4E3",
             "minorgridcolor": "#C8D4E3",
             "startlinecolor": "#2a3f5f"
            },
            "baxis": {
             "endlinecolor": "#2a3f5f",
             "gridcolor": "#C8D4E3",
             "linecolor": "#C8D4E3",
             "minorgridcolor": "#C8D4E3",
             "startlinecolor": "#2a3f5f"
            },
            "type": "carpet"
           }
          ],
          "choropleth": [
           {
            "colorbar": {
             "outlinewidth": 0,
             "ticks": ""
            },
            "type": "choropleth"
           }
          ],
          "contour": [
           {
            "colorbar": {
             "outlinewidth": 0,
             "ticks": ""
            },
            "colorscale": [
             [
              0,
              "#0d0887"
             ],
             [
              0.1111111111111111,
              "#46039f"
             ],
             [
              0.2222222222222222,
              "#7201a8"
             ],
             [
              0.3333333333333333,
              "#9c179e"
             ],
             [
              0.4444444444444444,
              "#bd3786"
             ],
             [
              0.5555555555555556,
              "#d8576b"
             ],
             [
              0.6666666666666666,
              "#ed7953"
             ],
             [
              0.7777777777777778,
              "#fb9f3a"
             ],
             [
              0.8888888888888888,
              "#fdca26"
             ],
             [
              1,
              "#f0f921"
             ]
            ],
            "type": "contour"
           }
          ],
          "contourcarpet": [
           {
            "colorbar": {
             "outlinewidth": 0,
             "ticks": ""
            },
            "type": "contourcarpet"
           }
          ],
          "heatmap": [
           {
            "colorbar": {
             "outlinewidth": 0,
             "ticks": ""
            },
            "colorscale": [
             [
              0,
              "#0d0887"
             ],
             [
              0.1111111111111111,
              "#46039f"
             ],
             [
              0.2222222222222222,
              "#7201a8"
             ],
             [
              0.3333333333333333,
              "#9c179e"
             ],
             [
              0.4444444444444444,
              "#bd3786"
             ],
             [
              0.5555555555555556,
              "#d8576b"
             ],
             [
              0.6666666666666666,
              "#ed7953"
             ],
             [
              0.7777777777777778,
              "#fb9f3a"
             ],
             [
              0.8888888888888888,
              "#fdca26"
             ],
             [
              1,
              "#f0f921"
             ]
            ],
            "type": "heatmap"
           }
          ],
          "heatmapgl": [
           {
            "colorbar": {
             "outlinewidth": 0,
             "ticks": ""
            },
            "colorscale": [
             [
              0,
              "#0d0887"
             ],
             [
              0.1111111111111111,
              "#46039f"
             ],
             [
              0.2222222222222222,
              "#7201a8"
             ],
             [
              0.3333333333333333,
              "#9c179e"
             ],
             [
              0.4444444444444444,
              "#bd3786"
             ],
             [
              0.5555555555555556,
              "#d8576b"
             ],
             [
              0.6666666666666666,
              "#ed7953"
             ],
             [
              0.7777777777777778,
              "#fb9f3a"
             ],
             [
              0.8888888888888888,
              "#fdca26"
             ],
             [
              1,
              "#f0f921"
             ]
            ],
            "type": "heatmapgl"
           }
          ],
          "histogram": [
           {
            "marker": {
             "pattern": {
              "fillmode": "overlay",
              "size": 10,
              "solidity": 0.2
             }
            },
            "type": "histogram"
           }
          ],
          "histogram2d": [
           {
            "colorbar": {
             "outlinewidth": 0,
             "ticks": ""
            },
            "colorscale": [
             [
              0,
              "#0d0887"
             ],
             [
              0.1111111111111111,
              "#46039f"
             ],
             [
              0.2222222222222222,
              "#7201a8"
             ],
             [
              0.3333333333333333,
              "#9c179e"
             ],
             [
              0.4444444444444444,
              "#bd3786"
             ],
             [
              0.5555555555555556,
              "#d8576b"
             ],
             [
              0.6666666666666666,
              "#ed7953"
             ],
             [
              0.7777777777777778,
              "#fb9f3a"
             ],
             [
              0.8888888888888888,
              "#fdca26"
             ],
             [
              1,
              "#f0f921"
             ]
            ],
            "type": "histogram2d"
           }
          ],
          "histogram2dcontour": [
           {
            "colorbar": {
             "outlinewidth": 0,
             "ticks": ""
            },
            "colorscale": [
             [
              0,
              "#0d0887"
             ],
             [
              0.1111111111111111,
              "#46039f"
             ],
             [
              0.2222222222222222,
              "#7201a8"
             ],
             [
              0.3333333333333333,
              "#9c179e"
             ],
             [
              0.4444444444444444,
              "#bd3786"
             ],
             [
              0.5555555555555556,
              "#d8576b"
             ],
             [
              0.6666666666666666,
              "#ed7953"
             ],
             [
              0.7777777777777778,
              "#fb9f3a"
             ],
             [
              0.8888888888888888,
              "#fdca26"
             ],
             [
              1,
              "#f0f921"
             ]
            ],
            "type": "histogram2dcontour"
           }
          ],
          "mesh3d": [
           {
            "colorbar": {
             "outlinewidth": 0,
             "ticks": ""
            },
            "type": "mesh3d"
           }
          ],
          "parcoords": [
           {
            "line": {
             "colorbar": {
              "outlinewidth": 0,
              "ticks": ""
             }
            },
            "type": "parcoords"
           }
          ],
          "pie": [
           {
            "automargin": true,
            "type": "pie"
           }
          ],
          "scatter": [
           {
            "fillpattern": {
             "fillmode": "overlay",
             "size": 10,
             "solidity": 0.2
            },
            "type": "scatter"
           }
          ],
          "scatter3d": [
           {
            "line": {
             "colorbar": {
              "outlinewidth": 0,
              "ticks": ""
             }
            },
            "marker": {
             "colorbar": {
              "outlinewidth": 0,
              "ticks": ""
             }
            },
            "type": "scatter3d"
           }
          ],
          "scattercarpet": [
           {
            "marker": {
             "colorbar": {
              "outlinewidth": 0,
              "ticks": ""
             }
            },
            "type": "scattercarpet"
           }
          ],
          "scattergeo": [
           {
            "marker": {
             "colorbar": {
              "outlinewidth": 0,
              "ticks": ""
             }
            },
            "type": "scattergeo"
           }
          ],
          "scattergl": [
           {
            "marker": {
             "colorbar": {
              "outlinewidth": 0,
              "ticks": ""
             }
            },
            "type": "scattergl"
           }
          ],
          "scattermapbox": [
           {
            "marker": {
             "colorbar": {
              "outlinewidth": 0,
              "ticks": ""
             }
            },
            "type": "scattermapbox"
           }
          ],
          "scatterpolar": [
           {
            "marker": {
             "colorbar": {
              "outlinewidth": 0,
              "ticks": ""
             }
            },
            "type": "scatterpolar"
           }
          ],
          "scatterpolargl": [
           {
            "marker": {
             "colorbar": {
              "outlinewidth": 0,
              "ticks": ""
             }
            },
            "type": "scatterpolargl"
           }
          ],
          "scatterternary": [
           {
            "marker": {
             "colorbar": {
              "outlinewidth": 0,
              "ticks": ""
             }
            },
            "type": "scatterternary"
           }
          ],
          "surface": [
           {
            "colorbar": {
             "outlinewidth": 0,
             "ticks": ""
            },
            "colorscale": [
             [
              0,
              "#0d0887"
             ],
             [
              0.1111111111111111,
              "#46039f"
             ],
             [
              0.2222222222222222,
              "#7201a8"
             ],
             [
              0.3333333333333333,
              "#9c179e"
             ],
             [
              0.4444444444444444,
              "#bd3786"
             ],
             [
              0.5555555555555556,
              "#d8576b"
             ],
             [
              0.6666666666666666,
              "#ed7953"
             ],
             [
              0.7777777777777778,
              "#fb9f3a"
             ],
             [
              0.8888888888888888,
              "#fdca26"
             ],
             [
              1,
              "#f0f921"
             ]
            ],
            "type": "surface"
           }
          ],
          "table": [
           {
            "cells": {
             "fill": {
              "color": "#EBF0F8"
             },
             "line": {
              "color": "white"
             }
            },
            "header": {
             "fill": {
              "color": "#C8D4E3"
             },
             "line": {
              "color": "white"
             }
            },
            "type": "table"
           }
          ]
         },
         "layout": {
          "annotationdefaults": {
           "arrowcolor": "#2a3f5f",
           "arrowhead": 0,
           "arrowwidth": 1
          },
          "autotypenumbers": "strict",
          "coloraxis": {
           "colorbar": {
            "outlinewidth": 0,
            "ticks": ""
           }
          },
          "colorscale": {
           "diverging": [
            [
             0,
             "#8e0152"
            ],
            [
             0.1,
             "#c51b7d"
            ],
            [
             0.2,
             "#de77ae"
            ],
            [
             0.3,
             "#f1b6da"
            ],
            [
             0.4,
             "#fde0ef"
            ],
            [
             0.5,
             "#f7f7f7"
            ],
            [
             0.6,
             "#e6f5d0"
            ],
            [
             0.7,
             "#b8e186"
            ],
            [
             0.8,
             "#7fbc41"
            ],
            [
             0.9,
             "#4d9221"
            ],
            [
             1,
             "#276419"
            ]
           ],
           "sequential": [
            [
             0,
             "#0d0887"
            ],
            [
             0.1111111111111111,
             "#46039f"
            ],
            [
             0.2222222222222222,
             "#7201a8"
            ],
            [
             0.3333333333333333,
             "#9c179e"
            ],
            [
             0.4444444444444444,
             "#bd3786"
            ],
            [
             0.5555555555555556,
             "#d8576b"
            ],
            [
             0.6666666666666666,
             "#ed7953"
            ],
            [
             0.7777777777777778,
             "#fb9f3a"
            ],
            [
             0.8888888888888888,
             "#fdca26"
            ],
            [
             1,
             "#f0f921"
            ]
           ],
           "sequentialminus": [
            [
             0,
             "#0d0887"
            ],
            [
             0.1111111111111111,
             "#46039f"
            ],
            [
             0.2222222222222222,
             "#7201a8"
            ],
            [
             0.3333333333333333,
             "#9c179e"
            ],
            [
             0.4444444444444444,
             "#bd3786"
            ],
            [
             0.5555555555555556,
             "#d8576b"
            ],
            [
             0.6666666666666666,
             "#ed7953"
            ],
            [
             0.7777777777777778,
             "#fb9f3a"
            ],
            [
             0.8888888888888888,
             "#fdca26"
            ],
            [
             1,
             "#f0f921"
            ]
           ]
          },
          "colorway": [
           "#636efa",
           "#EF553B",
           "#00cc96",
           "#ab63fa",
           "#FFA15A",
           "#19d3f3",
           "#FF6692",
           "#B6E880",
           "#FF97FF",
           "#FECB52"
          ],
          "font": {
           "color": "#2a3f5f"
          },
          "geo": {
           "bgcolor": "white",
           "lakecolor": "white",
           "landcolor": "white",
           "showlakes": true,
           "showland": true,
           "subunitcolor": "#C8D4E3"
          },
          "hoverlabel": {
           "align": "left"
          },
          "hovermode": "closest",
          "mapbox": {
           "style": "light"
          },
          "paper_bgcolor": "white",
          "plot_bgcolor": "white",
          "polar": {
           "angularaxis": {
            "gridcolor": "#EBF0F8",
            "linecolor": "#EBF0F8",
            "ticks": ""
           },
           "bgcolor": "white",
           "radialaxis": {
            "gridcolor": "#EBF0F8",
            "linecolor": "#EBF0F8",
            "ticks": ""
           }
          },
          "scene": {
           "xaxis": {
            "backgroundcolor": "white",
            "gridcolor": "#DFE8F3",
            "gridwidth": 2,
            "linecolor": "#EBF0F8",
            "showbackground": true,
            "ticks": "",
            "zerolinecolor": "#EBF0F8"
           },
           "yaxis": {
            "backgroundcolor": "white",
            "gridcolor": "#DFE8F3",
            "gridwidth": 2,
            "linecolor": "#EBF0F8",
            "showbackground": true,
            "ticks": "",
            "zerolinecolor": "#EBF0F8"
           },
           "zaxis": {
            "backgroundcolor": "white",
            "gridcolor": "#DFE8F3",
            "gridwidth": 2,
            "linecolor": "#EBF0F8",
            "showbackground": true,
            "ticks": "",
            "zerolinecolor": "#EBF0F8"
           }
          },
          "shapedefaults": {
           "line": {
            "color": "#2a3f5f"
           }
          },
          "ternary": {
           "aaxis": {
            "gridcolor": "#DFE8F3",
            "linecolor": "#A2B1C6",
            "ticks": ""
           },
           "baxis": {
            "gridcolor": "#DFE8F3",
            "linecolor": "#A2B1C6",
            "ticks": ""
           },
           "bgcolor": "white",
           "caxis": {
            "gridcolor": "#DFE8F3",
            "linecolor": "#A2B1C6",
            "ticks": ""
           }
          },
          "title": {
           "x": 0.05
          },
          "xaxis": {
           "automargin": true,
           "gridcolor": "#EBF0F8",
           "linecolor": "#EBF0F8",
           "ticks": "",
           "title": {
            "standoff": 15
           },
           "zerolinecolor": "#EBF0F8",
           "zerolinewidth": 2
          },
          "yaxis": {
           "automargin": true,
           "gridcolor": "#EBF0F8",
           "linecolor": "#EBF0F8",
           "ticks": "",
           "title": {
            "standoff": 15
           },
           "zerolinecolor": "#EBF0F8",
           "zerolinewidth": 2
          }
         }
        },
        "xaxis": {
         "anchor": "y",
         "domain": [
          0,
          1
         ],
         "title": {
          "text": "Age"
         }
        },
        "yaxis": {
         "anchor": "x",
         "domain": [
          0,
          1
         ],
         "title": {
          "text": "Sex"
         }
        }
       }
      }
     },
     "metadata": {},
     "output_type": "display_data"
    }
   ],
   "source": [
    "fig = px.bar(df, \n",
    "             x='Age', \n",
    "             y='Sex',\n",
    "             barmode='overlay',\n",
    "             hover_data=['Name'],\n",
    "             template='plotly_white',\n",
    "             color_discrete_sequence=px.colors.qualitative.D3\n",
    "            )\n",
    "fig.show()"
   ]
  },
  {
   "cell_type": "markdown",
   "id": "e9a29288-7228-4476-9e9c-cd3d6fa73726",
   "metadata": {},
   "source": [
    "## Histograms"
   ]
  },
  {
   "cell_type": "code",
   "execution_count": 8,
   "id": "69813105-e3cf-4c08-aca6-b24fe3ce55eb",
   "metadata": {
    "tags": []
   },
   "outputs": [
    {
     "data": {
      "text/plain": [
       "dtype('int64')"
      ]
     },
     "execution_count": 8,
     "metadata": {},
     "output_type": "execute_result"
    }
   ],
   "source": [
    "df['Survived'].dtype"
   ]
  },
  {
   "cell_type": "code",
   "execution_count": 9,
   "id": "d3f4bc2b-47b5-498a-a051-2b09a5662c43",
   "metadata": {
    "tags": []
   },
   "outputs": [
    {
     "name": "stderr",
     "output_type": "stream",
     "text": [
      "c:\\Users\\shres\\miniconda3\\envs\\501_class\\Lib\\site-packages\\plotly\\express\\_core.py:2065: FutureWarning:\n",
      "\n",
      "When grouping with a length-1 list-like, you will need to pass a length-1 tuple to get_group in a future version of pandas. Pass `(name,)` instead of `name` to silence this warning.\n",
      "\n"
     ]
    },
    {
     "data": {
      "application/vnd.plotly.v1+json": {
       "config": {
        "plotlyServerURL": "https://plot.ly"
       },
       "data": [
        {
         "alignmentgroup": "True",
         "bingroup": "x",
         "hovertemplate": "Survived=0<br>Age=%{x}<br>count=%{y}<extra></extra>",
         "legendgroup": "0",
         "marker": {
          "color": "#1F77B4",
          "pattern": {
           "shape": ""
          }
         },
         "name": "0",
         "offsetgroup": "0",
         "orientation": "v",
         "showlegend": true,
         "type": "histogram",
         "x": [
          22,
          35,
          null,
          54,
          2,
          20,
          39,
          14,
          2,
          31,
          35,
          8,
          null,
          19,
          null,
          40,
          66,
          28,
          42,
          21,
          18,
          40,
          27,
          null,
          null,
          null,
          null,
          18,
          7,
          21,
          65,
          28.5,
          11,
          22,
          45,
          4,
          null,
          19,
          26,
          32,
          16,
          21,
          26,
          25,
          null,
          null,
          22,
          28,
          16,
          null,
          24,
          29,
          20,
          46,
          26,
          59,
          null,
          71,
          34,
          28,
          null,
          21,
          33,
          37,
          28,
          38,
          47,
          14.5,
          22,
          20,
          17,
          21,
          70.5,
          29,
          24,
          2,
          21,
          null,
          32.5,
          54,
          null,
          45,
          33,
          20,
          47,
          25,
          23,
          37,
          16,
          24,
          null,
          19,
          18,
          19,
          9,
          36.5,
          42,
          51,
          55.5,
          40.5,
          null,
          51,
          30,
          null,
          null,
          44,
          26,
          17,
          1,
          45,
          null,
          28,
          61,
          4,
          21,
          56,
          18,
          null,
          50,
          30,
          36,
          null,
          null,
          9,
          null,
          40,
          36,
          19,
          null,
          42,
          24,
          28,
          null,
          34,
          45.5,
          2,
          32,
          24,
          22,
          30,
          null,
          42,
          30,
          27,
          51,
          null,
          22,
          20.5,
          18,
          null,
          29,
          59,
          24,
          null,
          44,
          19,
          33,
          null,
          29,
          22,
          30,
          44,
          25,
          54,
          null,
          29,
          62,
          30,
          41,
          null,
          52,
          40,
          null,
          36,
          16,
          null,
          37,
          45,
          null,
          7,
          65,
          28,
          16,
          null,
          33,
          22,
          36,
          24,
          24,
          null,
          23.5,
          2,
          19,
          null,
          30,
          26,
          28,
          43,
          54,
          22,
          27,
          null,
          61,
          45.5,
          38,
          16,
          null,
          29,
          45,
          28,
          25,
          36,
          42,
          23,
          null,
          15,
          25,
          null,
          28,
          38,
          40,
          29,
          45,
          35,
          null,
          30,
          18,
          19,
          22,
          3,
          27,
          20,
          19,
          32,
          null,
          18,
          1,
          null,
          28,
          22,
          31,
          46,
          23,
          26,
          21,
          28,
          20,
          34,
          51,
          21,
          null,
          null,
          null,
          null,
          null,
          30,
          10,
          null,
          21,
          29,
          28,
          18,
          null,
          null,
          17,
          50,
          21,
          64,
          31,
          20,
          25,
          36,
          null,
          30,
          null,
          65,
          null,
          34,
          47,
          48,
          null,
          38,
          null,
          56,
          null,
          null,
          38,
          22,
          null,
          34,
          29,
          22,
          9,
          null,
          50,
          null,
          58,
          30,
          null,
          21,
          55,
          71,
          21,
          null,
          null,
          25,
          24,
          17,
          21,
          null,
          37,
          18,
          28,
          null,
          24,
          47,
          null,
          32,
          22,
          null,
          null,
          40.5,
          null,
          39,
          23,
          null,
          17,
          30,
          45,
          null,
          9,
          11,
          50,
          64,
          33,
          27,
          null,
          62,
          null,
          null,
          40,
          28,
          null,
          null,
          24,
          19,
          29,
          null,
          16,
          19,
          null,
          54,
          36,
          null,
          47,
          22,
          null,
          35,
          47,
          null,
          37,
          36,
          49,
          null,
          null,
          null,
          44,
          36,
          30,
          39,
          null,
          null,
          35,
          34,
          26,
          26,
          27,
          21,
          21,
          61,
          57,
          26,
          null,
          51,
          null,
          9,
          32,
          31,
          41,
          null,
          20,
          2,
          19,
          null,
          null,
          21,
          18,
          24,
          null,
          32,
          23,
          58,
          40,
          47,
          36,
          32,
          25,
          null,
          43,
          31,
          70,
          null,
          18,
          24.5,
          43,
          null,
          20,
          14,
          60,
          25,
          14,
          19,
          18,
          25,
          60,
          52,
          44,
          49,
          42,
          18,
          25,
          26,
          39,
          null,
          29,
          52,
          19,
          null,
          33,
          17,
          34,
          50,
          20,
          25,
          25,
          11,
          null,
          23,
          23,
          28.5,
          48,
          null,
          null,
          36,
          24,
          70,
          16,
          19,
          31,
          33,
          23,
          28,
          18,
          34,
          null,
          41,
          16,
          null,
          30.5,
          null,
          32,
          24,
          48,
          57,
          null,
          18,
          null,
          null,
          29,
          null,
          25,
          25,
          8,
          46,
          null,
          16,
          null,
          null,
          25,
          39,
          30,
          30,
          34,
          31,
          39,
          18,
          39,
          26,
          39,
          35,
          6,
          30.5,
          null,
          23,
          31,
          43,
          10,
          38,
          2,
          null,
          null,
          null,
          23,
          18,
          21,
          null,
          20,
          16,
          34.5,
          17,
          42,
          null,
          35,
          28,
          4,
          74,
          9,
          44,
          null,
          41,
          21,
          null,
          24,
          31,
          null,
          26,
          33,
          47,
          20,
          19,
          null,
          33,
          22,
          28,
          25,
          39,
          27,
          null,
          32
         ],
         "xaxis": "x",
         "yaxis": "y"
        },
        {
         "alignmentgroup": "True",
         "bingroup": "x",
         "hovertemplate": "Survived=1<br>Age=%{x}<br>count=%{y}<extra></extra>",
         "legendgroup": "1",
         "marker": {
          "color": "#FF7F0E",
          "pattern": {
           "shape": ""
          }
         },
         "name": "1",
         "offsetgroup": "1",
         "orientation": "v",
         "showlegend": true,
         "type": "histogram",
         "x": [
          38,
          26,
          35,
          27,
          14,
          4,
          58,
          55,
          null,
          null,
          34,
          15,
          28,
          38,
          null,
          null,
          null,
          null,
          14,
          3,
          19,
          null,
          49,
          29,
          null,
          21,
          5,
          38,
          null,
          29,
          17,
          32,
          0.83,
          30,
          29,
          null,
          17,
          33,
          23,
          23,
          34,
          21,
          null,
          null,
          32.5,
          12,
          24,
          null,
          29,
          19,
          22,
          24,
          27,
          22,
          16,
          40,
          9,
          null,
          1,
          1,
          4,
          null,
          45,
          32,
          19,
          3,
          44,
          58,
          null,
          18,
          26,
          16,
          40,
          35,
          31,
          27,
          32,
          16,
          38,
          19,
          35,
          5,
          8,
          null,
          24,
          37,
          29,
          null,
          30,
          35,
          50,
          3,
          25,
          58,
          35,
          25,
          41,
          null,
          63,
          35,
          19,
          30,
          42,
          22,
          26,
          19,
          null,
          50,
          null,
          null,
          null,
          0.92,
          null,
          17,
          30,
          24,
          18,
          26,
          24,
          31,
          40,
          30,
          22,
          36,
          36,
          31,
          16,
          null,
          null,
          41,
          45,
          2,
          24,
          24,
          40,
          null,
          3,
          22,
          null,
          null,
          60,
          null,
          null,
          24,
          25,
          null,
          22,
          42,
          1,
          35,
          36,
          17,
          36,
          21,
          23,
          24,
          28,
          39,
          3,
          33,
          44,
          34,
          18,
          28,
          19,
          32,
          28,
          null,
          42,
          14,
          24,
          45,
          28,
          null,
          4,
          13,
          34,
          5,
          52,
          49,
          29,
          null,
          50,
          48,
          0.75,
          33,
          23,
          2,
          63,
          25,
          35,
          9,
          54,
          16,
          33,
          null,
          26,
          29,
          36,
          54,
          34,
          36,
          30,
          44,
          50,
          2,
          null,
          7,
          30,
          22,
          36,
          32,
          19,
          null,
          8,
          17,
          22,
          22,
          48,
          39,
          36,
          32,
          62,
          53,
          36,
          null,
          34,
          39,
          32,
          25,
          39,
          18,
          60,
          52,
          null,
          49,
          24,
          35,
          27,
          22,
          40,
          null,
          24,
          4,
          42,
          20,
          21,
          80,
          32,
          28,
          24,
          null,
          0.75,
          48,
          56,
          23,
          18,
          null,
          50,
          20,
          null,
          40,
          31,
          18,
          36,
          27,
          15,
          31,
          4,
          null,
          null,
          18,
          35,
          45,
          42,
          22,
          null,
          24,
          48,
          38,
          27,
          6,
          27,
          30,
          null,
          29,
          35,
          null,
          21,
          31,
          30,
          4,
          6,
          48,
          0.67,
          33,
          20,
          36,
          51,
          54,
          5,
          43,
          13,
          17,
          18,
          1,
          49,
          31,
          31,
          11,
          0.42,
          27,
          33,
          52,
          27,
          27,
          1,
          null,
          62,
          15,
          0.83,
          39,
          32,
          null,
          30,
          null,
          16,
          18,
          45,
          51,
          24,
          48,
          42,
          27,
          4,
          47,
          28,
          15,
          56,
          25,
          19,
          26
         ],
         "xaxis": "x",
         "yaxis": "y"
        }
       ],
       "layout": {
        "bargap": 0.1,
        "barmode": "relative",
        "legend": {
         "title": {
          "text": "Survived"
         },
         "tracegroupgap": 0
        },
        "margin": {
         "t": 60
        },
        "template": {
         "data": {
          "bar": [
           {
            "error_x": {
             "color": "#2a3f5f"
            },
            "error_y": {
             "color": "#2a3f5f"
            },
            "marker": {
             "line": {
              "color": "white",
              "width": 0.5
             },
             "pattern": {
              "fillmode": "overlay",
              "size": 10,
              "solidity": 0.2
             }
            },
            "type": "bar"
           }
          ],
          "barpolar": [
           {
            "marker": {
             "line": {
              "color": "white",
              "width": 0.5
             },
             "pattern": {
              "fillmode": "overlay",
              "size": 10,
              "solidity": 0.2
             }
            },
            "type": "barpolar"
           }
          ],
          "carpet": [
           {
            "aaxis": {
             "endlinecolor": "#2a3f5f",
             "gridcolor": "#C8D4E3",
             "linecolor": "#C8D4E3",
             "minorgridcolor": "#C8D4E3",
             "startlinecolor": "#2a3f5f"
            },
            "baxis": {
             "endlinecolor": "#2a3f5f",
             "gridcolor": "#C8D4E3",
             "linecolor": "#C8D4E3",
             "minorgridcolor": "#C8D4E3",
             "startlinecolor": "#2a3f5f"
            },
            "type": "carpet"
           }
          ],
          "choropleth": [
           {
            "colorbar": {
             "outlinewidth": 0,
             "ticks": ""
            },
            "type": "choropleth"
           }
          ],
          "contour": [
           {
            "colorbar": {
             "outlinewidth": 0,
             "ticks": ""
            },
            "colorscale": [
             [
              0,
              "#0d0887"
             ],
             [
              0.1111111111111111,
              "#46039f"
             ],
             [
              0.2222222222222222,
              "#7201a8"
             ],
             [
              0.3333333333333333,
              "#9c179e"
             ],
             [
              0.4444444444444444,
              "#bd3786"
             ],
             [
              0.5555555555555556,
              "#d8576b"
             ],
             [
              0.6666666666666666,
              "#ed7953"
             ],
             [
              0.7777777777777778,
              "#fb9f3a"
             ],
             [
              0.8888888888888888,
              "#fdca26"
             ],
             [
              1,
              "#f0f921"
             ]
            ],
            "type": "contour"
           }
          ],
          "contourcarpet": [
           {
            "colorbar": {
             "outlinewidth": 0,
             "ticks": ""
            },
            "type": "contourcarpet"
           }
          ],
          "heatmap": [
           {
            "colorbar": {
             "outlinewidth": 0,
             "ticks": ""
            },
            "colorscale": [
             [
              0,
              "#0d0887"
             ],
             [
              0.1111111111111111,
              "#46039f"
             ],
             [
              0.2222222222222222,
              "#7201a8"
             ],
             [
              0.3333333333333333,
              "#9c179e"
             ],
             [
              0.4444444444444444,
              "#bd3786"
             ],
             [
              0.5555555555555556,
              "#d8576b"
             ],
             [
              0.6666666666666666,
              "#ed7953"
             ],
             [
              0.7777777777777778,
              "#fb9f3a"
             ],
             [
              0.8888888888888888,
              "#fdca26"
             ],
             [
              1,
              "#f0f921"
             ]
            ],
            "type": "heatmap"
           }
          ],
          "heatmapgl": [
           {
            "colorbar": {
             "outlinewidth": 0,
             "ticks": ""
            },
            "colorscale": [
             [
              0,
              "#0d0887"
             ],
             [
              0.1111111111111111,
              "#46039f"
             ],
             [
              0.2222222222222222,
              "#7201a8"
             ],
             [
              0.3333333333333333,
              "#9c179e"
             ],
             [
              0.4444444444444444,
              "#bd3786"
             ],
             [
              0.5555555555555556,
              "#d8576b"
             ],
             [
              0.6666666666666666,
              "#ed7953"
             ],
             [
              0.7777777777777778,
              "#fb9f3a"
             ],
             [
              0.8888888888888888,
              "#fdca26"
             ],
             [
              1,
              "#f0f921"
             ]
            ],
            "type": "heatmapgl"
           }
          ],
          "histogram": [
           {
            "marker": {
             "pattern": {
              "fillmode": "overlay",
              "size": 10,
              "solidity": 0.2
             }
            },
            "type": "histogram"
           }
          ],
          "histogram2d": [
           {
            "colorbar": {
             "outlinewidth": 0,
             "ticks": ""
            },
            "colorscale": [
             [
              0,
              "#0d0887"
             ],
             [
              0.1111111111111111,
              "#46039f"
             ],
             [
              0.2222222222222222,
              "#7201a8"
             ],
             [
              0.3333333333333333,
              "#9c179e"
             ],
             [
              0.4444444444444444,
              "#bd3786"
             ],
             [
              0.5555555555555556,
              "#d8576b"
             ],
             [
              0.6666666666666666,
              "#ed7953"
             ],
             [
              0.7777777777777778,
              "#fb9f3a"
             ],
             [
              0.8888888888888888,
              "#fdca26"
             ],
             [
              1,
              "#f0f921"
             ]
            ],
            "type": "histogram2d"
           }
          ],
          "histogram2dcontour": [
           {
            "colorbar": {
             "outlinewidth": 0,
             "ticks": ""
            },
            "colorscale": [
             [
              0,
              "#0d0887"
             ],
             [
              0.1111111111111111,
              "#46039f"
             ],
             [
              0.2222222222222222,
              "#7201a8"
             ],
             [
              0.3333333333333333,
              "#9c179e"
             ],
             [
              0.4444444444444444,
              "#bd3786"
             ],
             [
              0.5555555555555556,
              "#d8576b"
             ],
             [
              0.6666666666666666,
              "#ed7953"
             ],
             [
              0.7777777777777778,
              "#fb9f3a"
             ],
             [
              0.8888888888888888,
              "#fdca26"
             ],
             [
              1,
              "#f0f921"
             ]
            ],
            "type": "histogram2dcontour"
           }
          ],
          "mesh3d": [
           {
            "colorbar": {
             "outlinewidth": 0,
             "ticks": ""
            },
            "type": "mesh3d"
           }
          ],
          "parcoords": [
           {
            "line": {
             "colorbar": {
              "outlinewidth": 0,
              "ticks": ""
             }
            },
            "type": "parcoords"
           }
          ],
          "pie": [
           {
            "automargin": true,
            "type": "pie"
           }
          ],
          "scatter": [
           {
            "fillpattern": {
             "fillmode": "overlay",
             "size": 10,
             "solidity": 0.2
            },
            "type": "scatter"
           }
          ],
          "scatter3d": [
           {
            "line": {
             "colorbar": {
              "outlinewidth": 0,
              "ticks": ""
             }
            },
            "marker": {
             "colorbar": {
              "outlinewidth": 0,
              "ticks": ""
             }
            },
            "type": "scatter3d"
           }
          ],
          "scattercarpet": [
           {
            "marker": {
             "colorbar": {
              "outlinewidth": 0,
              "ticks": ""
             }
            },
            "type": "scattercarpet"
           }
          ],
          "scattergeo": [
           {
            "marker": {
             "colorbar": {
              "outlinewidth": 0,
              "ticks": ""
             }
            },
            "type": "scattergeo"
           }
          ],
          "scattergl": [
           {
            "marker": {
             "colorbar": {
              "outlinewidth": 0,
              "ticks": ""
             }
            },
            "type": "scattergl"
           }
          ],
          "scattermapbox": [
           {
            "marker": {
             "colorbar": {
              "outlinewidth": 0,
              "ticks": ""
             }
            },
            "type": "scattermapbox"
           }
          ],
          "scatterpolar": [
           {
            "marker": {
             "colorbar": {
              "outlinewidth": 0,
              "ticks": ""
             }
            },
            "type": "scatterpolar"
           }
          ],
          "scatterpolargl": [
           {
            "marker": {
             "colorbar": {
              "outlinewidth": 0,
              "ticks": ""
             }
            },
            "type": "scatterpolargl"
           }
          ],
          "scatterternary": [
           {
            "marker": {
             "colorbar": {
              "outlinewidth": 0,
              "ticks": ""
             }
            },
            "type": "scatterternary"
           }
          ],
          "surface": [
           {
            "colorbar": {
             "outlinewidth": 0,
             "ticks": ""
            },
            "colorscale": [
             [
              0,
              "#0d0887"
             ],
             [
              0.1111111111111111,
              "#46039f"
             ],
             [
              0.2222222222222222,
              "#7201a8"
             ],
             [
              0.3333333333333333,
              "#9c179e"
             ],
             [
              0.4444444444444444,
              "#bd3786"
             ],
             [
              0.5555555555555556,
              "#d8576b"
             ],
             [
              0.6666666666666666,
              "#ed7953"
             ],
             [
              0.7777777777777778,
              "#fb9f3a"
             ],
             [
              0.8888888888888888,
              "#fdca26"
             ],
             [
              1,
              "#f0f921"
             ]
            ],
            "type": "surface"
           }
          ],
          "table": [
           {
            "cells": {
             "fill": {
              "color": "#EBF0F8"
             },
             "line": {
              "color": "white"
             }
            },
            "header": {
             "fill": {
              "color": "#C8D4E3"
             },
             "line": {
              "color": "white"
             }
            },
            "type": "table"
           }
          ]
         },
         "layout": {
          "annotationdefaults": {
           "arrowcolor": "#2a3f5f",
           "arrowhead": 0,
           "arrowwidth": 1
          },
          "autotypenumbers": "strict",
          "coloraxis": {
           "colorbar": {
            "outlinewidth": 0,
            "ticks": ""
           }
          },
          "colorscale": {
           "diverging": [
            [
             0,
             "#8e0152"
            ],
            [
             0.1,
             "#c51b7d"
            ],
            [
             0.2,
             "#de77ae"
            ],
            [
             0.3,
             "#f1b6da"
            ],
            [
             0.4,
             "#fde0ef"
            ],
            [
             0.5,
             "#f7f7f7"
            ],
            [
             0.6,
             "#e6f5d0"
            ],
            [
             0.7,
             "#b8e186"
            ],
            [
             0.8,
             "#7fbc41"
            ],
            [
             0.9,
             "#4d9221"
            ],
            [
             1,
             "#276419"
            ]
           ],
           "sequential": [
            [
             0,
             "#0d0887"
            ],
            [
             0.1111111111111111,
             "#46039f"
            ],
            [
             0.2222222222222222,
             "#7201a8"
            ],
            [
             0.3333333333333333,
             "#9c179e"
            ],
            [
             0.4444444444444444,
             "#bd3786"
            ],
            [
             0.5555555555555556,
             "#d8576b"
            ],
            [
             0.6666666666666666,
             "#ed7953"
            ],
            [
             0.7777777777777778,
             "#fb9f3a"
            ],
            [
             0.8888888888888888,
             "#fdca26"
            ],
            [
             1,
             "#f0f921"
            ]
           ],
           "sequentialminus": [
            [
             0,
             "#0d0887"
            ],
            [
             0.1111111111111111,
             "#46039f"
            ],
            [
             0.2222222222222222,
             "#7201a8"
            ],
            [
             0.3333333333333333,
             "#9c179e"
            ],
            [
             0.4444444444444444,
             "#bd3786"
            ],
            [
             0.5555555555555556,
             "#d8576b"
            ],
            [
             0.6666666666666666,
             "#ed7953"
            ],
            [
             0.7777777777777778,
             "#fb9f3a"
            ],
            [
             0.8888888888888888,
             "#fdca26"
            ],
            [
             1,
             "#f0f921"
            ]
           ]
          },
          "colorway": [
           "#636efa",
           "#EF553B",
           "#00cc96",
           "#ab63fa",
           "#FFA15A",
           "#19d3f3",
           "#FF6692",
           "#B6E880",
           "#FF97FF",
           "#FECB52"
          ],
          "font": {
           "color": "#2a3f5f"
          },
          "geo": {
           "bgcolor": "white",
           "lakecolor": "white",
           "landcolor": "white",
           "showlakes": true,
           "showland": true,
           "subunitcolor": "#C8D4E3"
          },
          "hoverlabel": {
           "align": "left"
          },
          "hovermode": "closest",
          "mapbox": {
           "style": "light"
          },
          "paper_bgcolor": "white",
          "plot_bgcolor": "white",
          "polar": {
           "angularaxis": {
            "gridcolor": "#EBF0F8",
            "linecolor": "#EBF0F8",
            "ticks": ""
           },
           "bgcolor": "white",
           "radialaxis": {
            "gridcolor": "#EBF0F8",
            "linecolor": "#EBF0F8",
            "ticks": ""
           }
          },
          "scene": {
           "xaxis": {
            "backgroundcolor": "white",
            "gridcolor": "#DFE8F3",
            "gridwidth": 2,
            "linecolor": "#EBF0F8",
            "showbackground": true,
            "ticks": "",
            "zerolinecolor": "#EBF0F8"
           },
           "yaxis": {
            "backgroundcolor": "white",
            "gridcolor": "#DFE8F3",
            "gridwidth": 2,
            "linecolor": "#EBF0F8",
            "showbackground": true,
            "ticks": "",
            "zerolinecolor": "#EBF0F8"
           },
           "zaxis": {
            "backgroundcolor": "white",
            "gridcolor": "#DFE8F3",
            "gridwidth": 2,
            "linecolor": "#EBF0F8",
            "showbackground": true,
            "ticks": "",
            "zerolinecolor": "#EBF0F8"
           }
          },
          "shapedefaults": {
           "line": {
            "color": "#2a3f5f"
           }
          },
          "ternary": {
           "aaxis": {
            "gridcolor": "#DFE8F3",
            "linecolor": "#A2B1C6",
            "ticks": ""
           },
           "baxis": {
            "gridcolor": "#DFE8F3",
            "linecolor": "#A2B1C6",
            "ticks": ""
           },
           "bgcolor": "white",
           "caxis": {
            "gridcolor": "#DFE8F3",
            "linecolor": "#A2B1C6",
            "ticks": ""
           }
          },
          "title": {
           "x": 0.05
          },
          "xaxis": {
           "automargin": true,
           "gridcolor": "#EBF0F8",
           "linecolor": "#EBF0F8",
           "ticks": "",
           "title": {
            "standoff": 15
           },
           "zerolinecolor": "#EBF0F8",
           "zerolinewidth": 2
          },
          "yaxis": {
           "automargin": true,
           "gridcolor": "#EBF0F8",
           "linecolor": "#EBF0F8",
           "ticks": "",
           "title": {
            "standoff": 15
           },
           "zerolinecolor": "#EBF0F8",
           "zerolinewidth": 2
          }
         }
        },
        "xaxis": {
         "anchor": "y",
         "domain": [
          0,
          1
         ],
         "title": {
          "text": "Age"
         }
        },
        "yaxis": {
         "anchor": "x",
         "domain": [
          0,
          1
         ],
         "title": {
          "text": "count"
         }
        }
       }
      }
     },
     "metadata": {},
     "output_type": "display_data"
    }
   ],
   "source": [
    "fig = px.histogram(df, \n",
    "                   x='Age', \n",
    "                   color='Survived',\n",
    "                   template='plotly_white',\n",
    "                   color_discrete_sequence=px.colors.qualitative.D3\n",
    "                  )\n",
    "\n",
    "fig.update_layout(\n",
    "    bargap=0.1, # gap between bars of adjacent location coordinates\n",
    ")\n",
    "\n",
    "fig.show()"
   ]
  },
  {
   "cell_type": "markdown",
   "id": "6e4f3cf1-d431-4dfb-8e15-40fc61007b49",
   "metadata": {},
   "source": [
    "## Bubble Plot\n",
    "\n",
    "For this plot, we'll transform the data a bit to investigate the survival rates across different age decades."
   ]
  },
  {
   "cell_type": "code",
   "execution_count": 10,
   "id": "65d8b9ae-8928-4899-98dc-47cd650b64b9",
   "metadata": {},
   "outputs": [
    {
     "data": {
      "text/html": [
       "<div>\n",
       "<style scoped>\n",
       "    .dataframe tbody tr th:only-of-type {\n",
       "        vertical-align: middle;\n",
       "    }\n",
       "\n",
       "    .dataframe tbody tr th {\n",
       "        vertical-align: top;\n",
       "    }\n",
       "\n",
       "    .dataframe thead th {\n",
       "        text-align: right;\n",
       "    }\n",
       "</style>\n",
       "<table border=\"1\" class=\"dataframe\">\n",
       "  <thead>\n",
       "    <tr style=\"text-align: right;\">\n",
       "      <th></th>\n",
       "      <th>Age</th>\n",
       "      <th>Age_rounded</th>\n",
       "    </tr>\n",
       "  </thead>\n",
       "  <tbody>\n",
       "    <tr>\n",
       "      <th>0</th>\n",
       "      <td>22.0</td>\n",
       "      <td>20.0</td>\n",
       "    </tr>\n",
       "    <tr>\n",
       "      <th>1</th>\n",
       "      <td>38.0</td>\n",
       "      <td>40.0</td>\n",
       "    </tr>\n",
       "    <tr>\n",
       "      <th>2</th>\n",
       "      <td>26.0</td>\n",
       "      <td>30.0</td>\n",
       "    </tr>\n",
       "    <tr>\n",
       "      <th>3</th>\n",
       "      <td>35.0</td>\n",
       "      <td>40.0</td>\n",
       "    </tr>\n",
       "    <tr>\n",
       "      <th>4</th>\n",
       "      <td>35.0</td>\n",
       "      <td>40.0</td>\n",
       "    </tr>\n",
       "  </tbody>\n",
       "</table>\n",
       "</div>"
      ],
      "text/plain": [
       "    Age  Age_rounded\n",
       "0  22.0         20.0\n",
       "1  38.0         40.0\n",
       "2  26.0         30.0\n",
       "3  35.0         40.0\n",
       "4  35.0         40.0"
      ]
     },
     "execution_count": 10,
     "metadata": {},
     "output_type": "execute_result"
    }
   ],
   "source": [
    "# calculate decade\n",
    "df['Age_rounded'] = df['Age'].round(-1)\n",
    "df[['Age', 'Age_rounded']].head()"
   ]
  },
  {
   "cell_type": "code",
   "execution_count": 11,
   "id": "626f49ac-0fab-4cbf-8ac9-0d66fe6ef34d",
   "metadata": {},
   "outputs": [
    {
     "name": "stderr",
     "output_type": "stream",
     "text": [
      "c:\\Users\\shres\\miniconda3\\envs\\501_class\\Lib\\site-packages\\plotly\\express\\_core.py:2065: FutureWarning:\n",
      "\n",
      "When grouping with a length-1 list-like, you will need to pass a length-1 tuple to get_group in a future version of pandas. Pass `(name,)` instead of `name` to silence this warning.\n",
      "\n"
     ]
    },
    {
     "data": {
      "application/vnd.plotly.v1+json": {
       "config": {
        "plotlyServerURL": "https://plot.ly"
       },
       "data": [
        {
         "hovertemplate": "Pclass=1<br>Age_rounded=%{x}<br>Survived=%{y}<br>Passengers=%{marker.size}<extra></extra>",
         "legendgroup": "1",
         "marker": {
          "color": "#1F77B4",
          "size": [
           3,
           2,
           37,
           31,
           51,
           35,
           23,
           3,
           1
          ],
          "sizemode": "area",
          "sizeref": 0.35,
          "symbol": "circle"
         },
         "mode": "markers",
         "name": "1",
         "orientation": "v",
         "showlegend": true,
         "type": "scatter",
         "x": [
          0,
          10,
          20,
          30,
          40,
          50,
          60,
          70,
          80
         ],
         "xaxis": "x",
         "y": [
          2,
          2,
          29,
          22,
          37,
          20,
          9,
          0,
          1
         ],
         "yaxis": "y"
        },
        {
         "hovertemplate": "Pclass=2<br>Age_rounded=%{x}<br>Survived=%{y}<br>Passengers=%{marker.size}<extra></extra>",
         "legendgroup": "2",
         "marker": {
          "color": "#FF7F0E",
          "size": [
           13,
           6,
           46,
           55,
           30,
           15,
           6,
           2
          ],
          "sizemode": "area",
          "sizeref": 0.35,
          "symbol": "circle"
         },
         "mode": "markers",
         "name": "2",
         "orientation": "v",
         "showlegend": true,
         "type": "scatter",
         "x": [
          0,
          10,
          20,
          30,
          40,
          50,
          60,
          70
         ],
         "xaxis": "x",
         "y": [
          13,
          6,
          19,
          25,
          13,
          5,
          2,
          0
         ],
         "yaxis": "y"
        },
        {
         "hovertemplate": "Pclass=3<br>Age_rounded=%{x}<br>Survived=%{y}<br>Passengers=%{marker.size}<extra></extra>",
         "legendgroup": "3",
         "marker": {
          "color": "#2CA02C",
          "size": [
           28,
           26,
           140,
           92,
           51,
           11,
           5,
           2
          ],
          "sizemode": "area",
          "sizeref": 0.35,
          "symbol": "circle"
         },
         "mode": "markers",
         "name": "3",
         "orientation": "v",
         "showlegend": true,
         "type": "scatter",
         "x": [
          0,
          10,
          20,
          30,
          40,
          50,
          60,
          70
         ],
         "xaxis": "x",
         "y": [
          16,
          6,
          31,
          25,
          6,
          0,
          1,
          0
         ],
         "yaxis": "y"
        }
       ],
       "layout": {
        "legend": {
         "itemsizing": "constant",
         "title": {
          "text": "Pclass"
         },
         "tracegroupgap": 0
        },
        "margin": {
         "t": 60
        },
        "template": {
         "data": {
          "bar": [
           {
            "error_x": {
             "color": "#2a3f5f"
            },
            "error_y": {
             "color": "#2a3f5f"
            },
            "marker": {
             "line": {
              "color": "white",
              "width": 0.5
             },
             "pattern": {
              "fillmode": "overlay",
              "size": 10,
              "solidity": 0.2
             }
            },
            "type": "bar"
           }
          ],
          "barpolar": [
           {
            "marker": {
             "line": {
              "color": "white",
              "width": 0.5
             },
             "pattern": {
              "fillmode": "overlay",
              "size": 10,
              "solidity": 0.2
             }
            },
            "type": "barpolar"
           }
          ],
          "carpet": [
           {
            "aaxis": {
             "endlinecolor": "#2a3f5f",
             "gridcolor": "#C8D4E3",
             "linecolor": "#C8D4E3",
             "minorgridcolor": "#C8D4E3",
             "startlinecolor": "#2a3f5f"
            },
            "baxis": {
             "endlinecolor": "#2a3f5f",
             "gridcolor": "#C8D4E3",
             "linecolor": "#C8D4E3",
             "minorgridcolor": "#C8D4E3",
             "startlinecolor": "#2a3f5f"
            },
            "type": "carpet"
           }
          ],
          "choropleth": [
           {
            "colorbar": {
             "outlinewidth": 0,
             "ticks": ""
            },
            "type": "choropleth"
           }
          ],
          "contour": [
           {
            "colorbar": {
             "outlinewidth": 0,
             "ticks": ""
            },
            "colorscale": [
             [
              0,
              "#0d0887"
             ],
             [
              0.1111111111111111,
              "#46039f"
             ],
             [
              0.2222222222222222,
              "#7201a8"
             ],
             [
              0.3333333333333333,
              "#9c179e"
             ],
             [
              0.4444444444444444,
              "#bd3786"
             ],
             [
              0.5555555555555556,
              "#d8576b"
             ],
             [
              0.6666666666666666,
              "#ed7953"
             ],
             [
              0.7777777777777778,
              "#fb9f3a"
             ],
             [
              0.8888888888888888,
              "#fdca26"
             ],
             [
              1,
              "#f0f921"
             ]
            ],
            "type": "contour"
           }
          ],
          "contourcarpet": [
           {
            "colorbar": {
             "outlinewidth": 0,
             "ticks": ""
            },
            "type": "contourcarpet"
           }
          ],
          "heatmap": [
           {
            "colorbar": {
             "outlinewidth": 0,
             "ticks": ""
            },
            "colorscale": [
             [
              0,
              "#0d0887"
             ],
             [
              0.1111111111111111,
              "#46039f"
             ],
             [
              0.2222222222222222,
              "#7201a8"
             ],
             [
              0.3333333333333333,
              "#9c179e"
             ],
             [
              0.4444444444444444,
              "#bd3786"
             ],
             [
              0.5555555555555556,
              "#d8576b"
             ],
             [
              0.6666666666666666,
              "#ed7953"
             ],
             [
              0.7777777777777778,
              "#fb9f3a"
             ],
             [
              0.8888888888888888,
              "#fdca26"
             ],
             [
              1,
              "#f0f921"
             ]
            ],
            "type": "heatmap"
           }
          ],
          "heatmapgl": [
           {
            "colorbar": {
             "outlinewidth": 0,
             "ticks": ""
            },
            "colorscale": [
             [
              0,
              "#0d0887"
             ],
             [
              0.1111111111111111,
              "#46039f"
             ],
             [
              0.2222222222222222,
              "#7201a8"
             ],
             [
              0.3333333333333333,
              "#9c179e"
             ],
             [
              0.4444444444444444,
              "#bd3786"
             ],
             [
              0.5555555555555556,
              "#d8576b"
             ],
             [
              0.6666666666666666,
              "#ed7953"
             ],
             [
              0.7777777777777778,
              "#fb9f3a"
             ],
             [
              0.8888888888888888,
              "#fdca26"
             ],
             [
              1,
              "#f0f921"
             ]
            ],
            "type": "heatmapgl"
           }
          ],
          "histogram": [
           {
            "marker": {
             "pattern": {
              "fillmode": "overlay",
              "size": 10,
              "solidity": 0.2
             }
            },
            "type": "histogram"
           }
          ],
          "histogram2d": [
           {
            "colorbar": {
             "outlinewidth": 0,
             "ticks": ""
            },
            "colorscale": [
             [
              0,
              "#0d0887"
             ],
             [
              0.1111111111111111,
              "#46039f"
             ],
             [
              0.2222222222222222,
              "#7201a8"
             ],
             [
              0.3333333333333333,
              "#9c179e"
             ],
             [
              0.4444444444444444,
              "#bd3786"
             ],
             [
              0.5555555555555556,
              "#d8576b"
             ],
             [
              0.6666666666666666,
              "#ed7953"
             ],
             [
              0.7777777777777778,
              "#fb9f3a"
             ],
             [
              0.8888888888888888,
              "#fdca26"
             ],
             [
              1,
              "#f0f921"
             ]
            ],
            "type": "histogram2d"
           }
          ],
          "histogram2dcontour": [
           {
            "colorbar": {
             "outlinewidth": 0,
             "ticks": ""
            },
            "colorscale": [
             [
              0,
              "#0d0887"
             ],
             [
              0.1111111111111111,
              "#46039f"
             ],
             [
              0.2222222222222222,
              "#7201a8"
             ],
             [
              0.3333333333333333,
              "#9c179e"
             ],
             [
              0.4444444444444444,
              "#bd3786"
             ],
             [
              0.5555555555555556,
              "#d8576b"
             ],
             [
              0.6666666666666666,
              "#ed7953"
             ],
             [
              0.7777777777777778,
              "#fb9f3a"
             ],
             [
              0.8888888888888888,
              "#fdca26"
             ],
             [
              1,
              "#f0f921"
             ]
            ],
            "type": "histogram2dcontour"
           }
          ],
          "mesh3d": [
           {
            "colorbar": {
             "outlinewidth": 0,
             "ticks": ""
            },
            "type": "mesh3d"
           }
          ],
          "parcoords": [
           {
            "line": {
             "colorbar": {
              "outlinewidth": 0,
              "ticks": ""
             }
            },
            "type": "parcoords"
           }
          ],
          "pie": [
           {
            "automargin": true,
            "type": "pie"
           }
          ],
          "scatter": [
           {
            "fillpattern": {
             "fillmode": "overlay",
             "size": 10,
             "solidity": 0.2
            },
            "type": "scatter"
           }
          ],
          "scatter3d": [
           {
            "line": {
             "colorbar": {
              "outlinewidth": 0,
              "ticks": ""
             }
            },
            "marker": {
             "colorbar": {
              "outlinewidth": 0,
              "ticks": ""
             }
            },
            "type": "scatter3d"
           }
          ],
          "scattercarpet": [
           {
            "marker": {
             "colorbar": {
              "outlinewidth": 0,
              "ticks": ""
             }
            },
            "type": "scattercarpet"
           }
          ],
          "scattergeo": [
           {
            "marker": {
             "colorbar": {
              "outlinewidth": 0,
              "ticks": ""
             }
            },
            "type": "scattergeo"
           }
          ],
          "scattergl": [
           {
            "marker": {
             "colorbar": {
              "outlinewidth": 0,
              "ticks": ""
             }
            },
            "type": "scattergl"
           }
          ],
          "scattermapbox": [
           {
            "marker": {
             "colorbar": {
              "outlinewidth": 0,
              "ticks": ""
             }
            },
            "type": "scattermapbox"
           }
          ],
          "scatterpolar": [
           {
            "marker": {
             "colorbar": {
              "outlinewidth": 0,
              "ticks": ""
             }
            },
            "type": "scatterpolar"
           }
          ],
          "scatterpolargl": [
           {
            "marker": {
             "colorbar": {
              "outlinewidth": 0,
              "ticks": ""
             }
            },
            "type": "scatterpolargl"
           }
          ],
          "scatterternary": [
           {
            "marker": {
             "colorbar": {
              "outlinewidth": 0,
              "ticks": ""
             }
            },
            "type": "scatterternary"
           }
          ],
          "surface": [
           {
            "colorbar": {
             "outlinewidth": 0,
             "ticks": ""
            },
            "colorscale": [
             [
              0,
              "#0d0887"
             ],
             [
              0.1111111111111111,
              "#46039f"
             ],
             [
              0.2222222222222222,
              "#7201a8"
             ],
             [
              0.3333333333333333,
              "#9c179e"
             ],
             [
              0.4444444444444444,
              "#bd3786"
             ],
             [
              0.5555555555555556,
              "#d8576b"
             ],
             [
              0.6666666666666666,
              "#ed7953"
             ],
             [
              0.7777777777777778,
              "#fb9f3a"
             ],
             [
              0.8888888888888888,
              "#fdca26"
             ],
             [
              1,
              "#f0f921"
             ]
            ],
            "type": "surface"
           }
          ],
          "table": [
           {
            "cells": {
             "fill": {
              "color": "#EBF0F8"
             },
             "line": {
              "color": "white"
             }
            },
            "header": {
             "fill": {
              "color": "#C8D4E3"
             },
             "line": {
              "color": "white"
             }
            },
            "type": "table"
           }
          ]
         },
         "layout": {
          "annotationdefaults": {
           "arrowcolor": "#2a3f5f",
           "arrowhead": 0,
           "arrowwidth": 1
          },
          "autotypenumbers": "strict",
          "coloraxis": {
           "colorbar": {
            "outlinewidth": 0,
            "ticks": ""
           }
          },
          "colorscale": {
           "diverging": [
            [
             0,
             "#8e0152"
            ],
            [
             0.1,
             "#c51b7d"
            ],
            [
             0.2,
             "#de77ae"
            ],
            [
             0.3,
             "#f1b6da"
            ],
            [
             0.4,
             "#fde0ef"
            ],
            [
             0.5,
             "#f7f7f7"
            ],
            [
             0.6,
             "#e6f5d0"
            ],
            [
             0.7,
             "#b8e186"
            ],
            [
             0.8,
             "#7fbc41"
            ],
            [
             0.9,
             "#4d9221"
            ],
            [
             1,
             "#276419"
            ]
           ],
           "sequential": [
            [
             0,
             "#0d0887"
            ],
            [
             0.1111111111111111,
             "#46039f"
            ],
            [
             0.2222222222222222,
             "#7201a8"
            ],
            [
             0.3333333333333333,
             "#9c179e"
            ],
            [
             0.4444444444444444,
             "#bd3786"
            ],
            [
             0.5555555555555556,
             "#d8576b"
            ],
            [
             0.6666666666666666,
             "#ed7953"
            ],
            [
             0.7777777777777778,
             "#fb9f3a"
            ],
            [
             0.8888888888888888,
             "#fdca26"
            ],
            [
             1,
             "#f0f921"
            ]
           ],
           "sequentialminus": [
            [
             0,
             "#0d0887"
            ],
            [
             0.1111111111111111,
             "#46039f"
            ],
            [
             0.2222222222222222,
             "#7201a8"
            ],
            [
             0.3333333333333333,
             "#9c179e"
            ],
            [
             0.4444444444444444,
             "#bd3786"
            ],
            [
             0.5555555555555556,
             "#d8576b"
            ],
            [
             0.6666666666666666,
             "#ed7953"
            ],
            [
             0.7777777777777778,
             "#fb9f3a"
            ],
            [
             0.8888888888888888,
             "#fdca26"
            ],
            [
             1,
             "#f0f921"
            ]
           ]
          },
          "colorway": [
           "#636efa",
           "#EF553B",
           "#00cc96",
           "#ab63fa",
           "#FFA15A",
           "#19d3f3",
           "#FF6692",
           "#B6E880",
           "#FF97FF",
           "#FECB52"
          ],
          "font": {
           "color": "#2a3f5f"
          },
          "geo": {
           "bgcolor": "white",
           "lakecolor": "white",
           "landcolor": "white",
           "showlakes": true,
           "showland": true,
           "subunitcolor": "#C8D4E3"
          },
          "hoverlabel": {
           "align": "left"
          },
          "hovermode": "closest",
          "mapbox": {
           "style": "light"
          },
          "paper_bgcolor": "white",
          "plot_bgcolor": "white",
          "polar": {
           "angularaxis": {
            "gridcolor": "#EBF0F8",
            "linecolor": "#EBF0F8",
            "ticks": ""
           },
           "bgcolor": "white",
           "radialaxis": {
            "gridcolor": "#EBF0F8",
            "linecolor": "#EBF0F8",
            "ticks": ""
           }
          },
          "scene": {
           "xaxis": {
            "backgroundcolor": "white",
            "gridcolor": "#DFE8F3",
            "gridwidth": 2,
            "linecolor": "#EBF0F8",
            "showbackground": true,
            "ticks": "",
            "zerolinecolor": "#EBF0F8"
           },
           "yaxis": {
            "backgroundcolor": "white",
            "gridcolor": "#DFE8F3",
            "gridwidth": 2,
            "linecolor": "#EBF0F8",
            "showbackground": true,
            "ticks": "",
            "zerolinecolor": "#EBF0F8"
           },
           "zaxis": {
            "backgroundcolor": "white",
            "gridcolor": "#DFE8F3",
            "gridwidth": 2,
            "linecolor": "#EBF0F8",
            "showbackground": true,
            "ticks": "",
            "zerolinecolor": "#EBF0F8"
           }
          },
          "shapedefaults": {
           "line": {
            "color": "#2a3f5f"
           }
          },
          "ternary": {
           "aaxis": {
            "gridcolor": "#DFE8F3",
            "linecolor": "#A2B1C6",
            "ticks": ""
           },
           "baxis": {
            "gridcolor": "#DFE8F3",
            "linecolor": "#A2B1C6",
            "ticks": ""
           },
           "bgcolor": "white",
           "caxis": {
            "gridcolor": "#DFE8F3",
            "linecolor": "#A2B1C6",
            "ticks": ""
           }
          },
          "title": {
           "x": 0.05
          },
          "xaxis": {
           "automargin": true,
           "gridcolor": "#EBF0F8",
           "linecolor": "#EBF0F8",
           "ticks": "",
           "title": {
            "standoff": 15
           },
           "zerolinecolor": "#EBF0F8",
           "zerolinewidth": 2
          },
          "yaxis": {
           "automargin": true,
           "gridcolor": "#EBF0F8",
           "linecolor": "#EBF0F8",
           "ticks": "",
           "title": {
            "standoff": 15
           },
           "zerolinecolor": "#EBF0F8",
           "zerolinewidth": 2
          }
         }
        },
        "xaxis": {
         "anchor": "y",
         "domain": [
          0,
          1
         ],
         "title": {
          "text": "Age_rounded"
         }
        },
        "yaxis": {
         "anchor": "x",
         "domain": [
          0,
          1
         ],
         "title": {
          "text": "Survived"
         }
        }
       }
      }
     },
     "metadata": {},
     "output_type": "display_data"
    }
   ],
   "source": [
    "df_plot = df.groupby(['Pclass', 'Age_rounded'])['Survived'] \\\n",
    "            .agg([('Survived', 'sum'), \n",
    "                  ('Passengers', 'count')]).reset_index()\n",
    "\n",
    "df_plot[\"Pclass\"] = df_plot[\"Pclass\"].astype(str)\n",
    "\n",
    "fig = px.scatter(data_frame=df_plot,\n",
    "                 x='Age_rounded',\n",
    "                 y='Survived',\n",
    "                 size='Passengers',\n",
    "                 color='Pclass',\n",
    "                 color_discrete_sequence=px.colors.qualitative.D3,\n",
    "                 template='plotly_white')\n",
    "fig.show()"
   ]
  },
  {
   "cell_type": "markdown",
   "id": "ce35979f-ce79-4f40-9550-9dceaf9c9191",
   "metadata": {},
   "source": [
    "## Limitations ...\n",
    "\n",
    "What if we want to be able to \"animate\" the age decade of the passengers? [Be careful](https://plotly.com/python/animations/#:~:text=Animations%20are%20designed%20to%20work%20well%20when%20each%20row%20of%20input%20is%20present%20across%20all%20animation%20frames%2C%20and%20when%20categorical%20values%20mapped%20to%20symbol%2C%20color%20and%20facet%20are%20constant%20across%20frames.%20Animations%20may%20be%20misleading%20or%20inconsistent%20if%20these%20constraints%20are%20not%20met.)."
   ]
  },
  {
   "cell_type": "code",
   "execution_count": 12,
   "id": "97b6677b-5442-4e3d-bd4a-4f36659b44c1",
   "metadata": {
    "tags": []
   },
   "outputs": [
    {
     "data": {
      "application/vnd.plotly.v1+json": {
       "config": {
        "plotlyServerURL": "https://plot.ly"
       },
       "data": [
        {
         "alignmentgroup": "True",
         "bingroup": "x",
         "hovertemplate": "Survived=0<br>Age_rounded=0.0<br>Pclass=%{x}<br>count=%{y}<extra></extra>",
         "legendgroup": "0",
         "marker": {
          "color": "#1F77B4",
          "pattern": {
           "shape": ""
          }
         },
         "name": "0",
         "offsetgroup": "0",
         "orientation": "v",
         "showlegend": true,
         "type": "histogram",
         "x": [
          3,
          1,
          3,
          3,
          3,
          3,
          3,
          3,
          3,
          3,
          3,
          3,
          3
         ],
         "xaxis": "x",
         "yaxis": "y"
        },
        {
         "alignmentgroup": "True",
         "bingroup": "x",
         "hovertemplate": "Survived=1<br>Age_rounded=0.0<br>Pclass=%{x}<br>count=%{y}<extra></extra>",
         "legendgroup": "1",
         "marker": {
          "color": "#FF7F0E",
          "pattern": {
           "shape": ""
          }
         },
         "name": "1",
         "offsetgroup": "1",
         "orientation": "v",
         "showlegend": true,
         "type": "histogram",
         "x": [
          3,
          2,
          3,
          2,
          2,
          3,
          2,
          2,
          3,
          2,
          2,
          2,
          2,
          2,
          2,
          3,
          1,
          1,
          3,
          3,
          3,
          3,
          2,
          3,
          3,
          3,
          2,
          3,
          3,
          3,
          3
         ],
         "xaxis": "x",
         "yaxis": "y"
        }
       ],
       "frames": [
        {
         "data": [
          {
           "alignmentgroup": "True",
           "bingroup": "x",
           "hovertemplate": "Survived=0<br>Age_rounded=0.0<br>Pclass=%{x}<br>count=%{y}<extra></extra>",
           "legendgroup": "0",
           "marker": {
            "color": "#1F77B4",
            "pattern": {
             "shape": ""
            }
           },
           "name": "0",
           "offsetgroup": "0",
           "orientation": "v",
           "showlegend": true,
           "type": "histogram",
           "x": [
            3,
            1,
            3,
            3,
            3,
            3,
            3,
            3,
            3,
            3,
            3,
            3,
            3
           ],
           "xaxis": "x",
           "yaxis": "y"
          },
          {
           "alignmentgroup": "True",
           "bingroup": "x",
           "hovertemplate": "Survived=1<br>Age_rounded=0.0<br>Pclass=%{x}<br>count=%{y}<extra></extra>",
           "legendgroup": "1",
           "marker": {
            "color": "#FF7F0E",
            "pattern": {
             "shape": ""
            }
           },
           "name": "1",
           "offsetgroup": "1",
           "orientation": "v",
           "showlegend": true,
           "type": "histogram",
           "x": [
            3,
            2,
            3,
            2,
            2,
            3,
            2,
            2,
            3,
            2,
            2,
            2,
            2,
            2,
            2,
            3,
            1,
            1,
            3,
            3,
            3,
            3,
            2,
            3,
            3,
            3,
            2,
            3,
            3,
            3,
            3
           ],
           "xaxis": "x",
           "yaxis": "y"
          }
         ],
         "name": "0.0"
        },
        {
         "data": [
          {
           "alignmentgroup": "True",
           "bingroup": "x",
           "hovertemplate": "Survived=0<br>Age_rounded=10.0<br>Pclass=%{x}<br>count=%{y}<extra></extra>",
           "legendgroup": "0",
           "marker": {
            "color": "#1F77B4",
            "pattern": {
             "shape": ""
            }
           },
           "name": "0",
           "offsetgroup": "0",
           "orientation": "v",
           "showlegend": true,
           "type": "histogram",
           "x": [
            3,
            3,
            3,
            3,
            3,
            3,
            3,
            3,
            3,
            3,
            3,
            3,
            3,
            3,
            3,
            3,
            3,
            3,
            3,
            3
           ],
           "xaxis": "x",
           "yaxis": "y"
          },
          {
           "alignmentgroup": "True",
           "bingroup": "x",
           "hovertemplate": "Survived=1<br>Age_rounded=10.0<br>Pclass=%{x}<br>count=%{y}<extra></extra>",
           "legendgroup": "1",
           "marker": {
            "color": "#FF7F0E",
            "pattern": {
             "shape": ""
            }
           },
           "name": "1",
           "offsetgroup": "1",
           "orientation": "v",
           "showlegend": true,
           "type": "histogram",
           "x": [
            2,
            3,
            3,
            3,
            3,
            1,
            3,
            1,
            2,
            2,
            2,
            2,
            3,
            2
           ],
           "xaxis": "x",
           "yaxis": "y"
          }
         ],
         "name": "10.0"
        },
        {
         "data": [
          {
           "alignmentgroup": "True",
           "bingroup": "x",
           "hovertemplate": "Survived=0<br>Age_rounded=20.0<br>Pclass=%{x}<br>count=%{y}<extra></extra>",
           "legendgroup": "0",
           "marker": {
            "color": "#1F77B4",
            "pattern": {
             "shape": ""
            }
           },
           "name": "0",
           "offsetgroup": "0",
           "orientation": "v",
           "showlegend": true,
           "type": "histogram",
           "x": [
            3,
            3,
            3,
            3,
            3,
            3,
            3,
            3,
            2,
            3,
            3,
            3,
            2,
            3,
            2,
            3,
            3,
            3,
            3,
            2,
            3,
            3,
            3,
            3,
            3,
            3,
            3,
            3,
            3,
            2,
            3,
            3,
            3,
            2,
            3,
            3,
            3,
            3,
            3,
            1,
            3,
            3,
            3,
            1,
            3,
            3,
            3,
            3,
            3,
            3,
            3,
            3,
            3,
            3,
            2,
            3,
            3,
            3,
            2,
            3,
            3,
            3,
            3,
            1,
            3,
            3,
            3,
            2,
            3,
            3,
            3,
            3,
            3,
            2,
            2,
            2,
            3,
            1,
            3,
            2,
            2,
            3,
            3,
            3,
            3,
            2,
            3,
            1,
            3,
            3,
            3,
            3,
            3,
            3,
            2,
            3,
            2,
            3,
            3,
            1,
            3,
            3,
            3,
            3,
            3,
            3,
            3,
            3,
            2,
            3,
            3,
            3,
            2,
            3,
            3,
            3,
            3,
            2,
            2,
            3,
            2,
            3,
            3,
            3,
            3,
            2,
            3,
            3,
            3,
            2,
            3,
            3,
            3,
            3,
            3,
            1,
            2,
            3,
            2,
            3,
            2,
            1,
            3,
            3
           ],
           "xaxis": "x",
           "yaxis": "y"
          },
          {
           "alignmentgroup": "True",
           "bingroup": "x",
           "hovertemplate": "Survived=1<br>Age_rounded=20.0<br>Pclass=%{x}<br>count=%{y}<extra></extra>",
           "legendgroup": "1",
           "marker": {
            "color": "#FF7F0E",
            "pattern": {
             "shape": ""
            }
           },
           "name": "1",
           "offsetgroup": "1",
           "orientation": "v",
           "showlegend": true,
           "type": "histogram",
           "x": [
            2,
            1,
            1,
            1,
            2,
            1,
            3,
            1,
            2,
            1,
            3,
            3,
            3,
            3,
            3,
            1,
            1,
            3,
            1,
            2,
            2,
            1,
            1,
            3,
            3,
            2,
            2,
            1,
            1,
            2,
            3,
            1,
            3,
            1,
            2,
            2,
            2,
            2,
            1,
            3,
            1,
            1,
            1,
            2,
            3,
            1,
            1,
            2,
            2,
            3,
            1,
            3,
            3,
            1,
            2,
            3,
            3,
            3,
            1,
            3,
            2,
            3,
            1,
            1,
            3,
            3,
            1,
            3,
            1,
            2,
            3,
            2,
            1,
            3,
            3,
            3,
            3,
            3,
            3
           ],
           "xaxis": "x",
           "yaxis": "y"
          }
         ],
         "name": "20.0"
        },
        {
         "data": [
          {
           "alignmentgroup": "True",
           "bingroup": "x",
           "hovertemplate": "Survived=0<br>Age_rounded=30.0<br>Pclass=%{x}<br>count=%{y}<extra></extra>",
           "legendgroup": "0",
           "marker": {
            "color": "#1F77B4",
            "pattern": {
             "shape": ""
            }
           },
           "name": "0",
           "offsetgroup": "0",
           "orientation": "v",
           "showlegend": true,
           "type": "histogram",
           "x": [
            2,
            2,
            3,
            1,
            3,
            3,
            3,
            3,
            3,
            2,
            1,
            3,
            3,
            2,
            3,
            3,
            3,
            3,
            3,
            3,
            3,
            2,
            1,
            3,
            2,
            3,
            3,
            3,
            1,
            2,
            3,
            2,
            3,
            3,
            3,
            3,
            2,
            2,
            3,
            3,
            3,
            3,
            2,
            3,
            3,
            3,
            2,
            3,
            3,
            3,
            2,
            2,
            3,
            2,
            2,
            3,
            2,
            3,
            3,
            3,
            2,
            3,
            2,
            1,
            3,
            3,
            2,
            2,
            3,
            3,
            2,
            3,
            2,
            3,
            3,
            2,
            1,
            3,
            3,
            1,
            3,
            3,
            3,
            3,
            3,
            2,
            2,
            3,
            3,
            3,
            2,
            3,
            1,
            3,
            3,
            3,
            2,
            2,
            3,
            3,
            2,
            1,
            3,
            3,
            3,
            3
           ],
           "xaxis": "x",
           "yaxis": "y"
          },
          {
           "alignmentgroup": "True",
           "bingroup": "x",
           "hovertemplate": "Survived=1<br>Age_rounded=30.0<br>Pclass=%{x}<br>count=%{y}<extra></extra>",
           "legendgroup": "1",
           "marker": {
            "color": "#FF7F0E",
            "pattern": {
             "shape": ""
            }
           },
           "name": "1",
           "offsetgroup": "1",
           "orientation": "v",
           "showlegend": true,
           "type": "histogram",
           "x": [
            2,
            3,
            2,
            3,
            2,
            2,
            1,
            3,
            1,
            1,
            2,
            2,
            1,
            2,
            3,
            2,
            1,
            1,
            2,
            1,
            1,
            2,
            3,
            3,
            3,
            1,
            2,
            3,
            3,
            1,
            3,
            1,
            2,
            2,
            3,
            1,
            3,
            1,
            3,
            3,
            2,
            1,
            3,
            1,
            1,
            3,
            2,
            3,
            3,
            2,
            2,
            1,
            2,
            3,
            3,
            3,
            3,
            2,
            2,
            2,
            3,
            1,
            2,
            2,
            1,
            2,
            3,
            1,
            1,
            1,
            3,
            2
           ],
           "xaxis": "x",
           "yaxis": "y"
          }
         ],
         "name": "30.0"
        },
        {
         "data": [
          {
           "alignmentgroup": "True",
           "bingroup": "x",
           "hovertemplate": "Survived=0<br>Age_rounded=40.0<br>Pclass=%{x}<br>count=%{y}<extra></extra>",
           "legendgroup": "0",
           "marker": {
            "color": "#1F77B4",
            "pattern": {
             "shape": ""
            }
           },
           "name": "0",
           "offsetgroup": "0",
           "orientation": "v",
           "showlegend": true,
           "type": "histogram",
           "x": [
            3,
            1,
            3,
            2,
            1,
            3,
            3,
            2,
            1,
            3,
            2,
            2,
            3,
            2,
            3,
            3,
            2,
            1,
            2,
            3,
            2,
            2,
            2,
            3,
            3,
            1,
            1,
            3,
            3,
            2,
            3,
            3,
            3,
            3,
            3,
            2,
            1,
            1,
            3,
            3,
            3,
            3,
            3,
            3,
            3,
            1,
            2,
            3,
            3,
            3,
            3,
            3,
            3,
            2,
            3,
            1,
            3,
            1,
            3,
            3,
            3,
            3,
            3,
            1,
            3,
            3,
            2,
            2,
            3,
            3,
            3,
            3,
            1,
            3,
            2,
            1
           ],
           "xaxis": "x",
           "yaxis": "y"
          },
          {
           "alignmentgroup": "True",
           "bingroup": "x",
           "hovertemplate": "Survived=1<br>Age_rounded=40.0<br>Pclass=%{x}<br>count=%{y}<extra></extra>",
           "legendgroup": "1",
           "marker": {
            "color": "#FF7F0E",
            "pattern": {
             "shape": ""
            }
           },
           "name": "1",
           "offsetgroup": "1",
           "orientation": "v",
           "showlegend": true,
           "type": "histogram",
           "x": [
            1,
            1,
            1,
            1,
            3,
            1,
            1,
            1,
            2,
            2,
            1,
            1,
            1,
            1,
            1,
            2,
            2,
            1,
            1,
            2,
            1,
            3,
            2,
            1,
            1,
            1,
            2,
            1,
            1,
            1,
            1,
            1,
            1,
            2,
            1,
            3,
            1,
            2,
            1,
            1,
            2,
            1,
            3,
            1,
            1,
            1,
            2,
            1,
            1,
            3,
            2,
            1,
            3,
            1,
            2,
            1
           ],
           "xaxis": "x",
           "yaxis": "y"
          }
         ],
         "name": "40.0"
        },
        {
         "data": [
          {
           "alignmentgroup": "True",
           "bingroup": "x",
           "hovertemplate": "Survived=0<br>Age_rounded=50.0<br>Pclass=%{x}<br>count=%{y}<extra></extra>",
           "legendgroup": "0",
           "marker": {
            "color": "#1F77B4",
            "pattern": {
             "shape": ""
            }
           },
           "name": "0",
           "offsetgroup": "0",
           "orientation": "v",
           "showlegend": true,
           "type": "histogram",
           "x": [
            1,
            1,
            3,
            1,
            2,
            1,
            1,
            1,
            3,
            1,
            3,
            1,
            2,
            3,
            1,
            3,
            2,
            1,
            2,
            1,
            2,
            3,
            1,
            1,
            2,
            3,
            2,
            1,
            2,
            3,
            3,
            3,
            2,
            2,
            3,
            1
           ],
           "xaxis": "x",
           "yaxis": "y"
          },
          {
           "alignmentgroup": "True",
           "bingroup": "x",
           "hovertemplate": "Survived=1<br>Age_rounded=50.0<br>Pclass=%{x}<br>count=%{y}<extra></extra>",
           "legendgroup": "1",
           "marker": {
            "color": "#FF7F0E",
            "pattern": {
             "shape": ""
            }
           },
           "name": "1",
           "offsetgroup": "1",
           "orientation": "v",
           "showlegend": true,
           "type": "histogram",
           "x": [
            1,
            1,
            1,
            1,
            2,
            1,
            1,
            1,
            1,
            1,
            2,
            1,
            1,
            1,
            1,
            1,
            1,
            2,
            2,
            1,
            2,
            1,
            1,
            1,
            1
           ],
           "xaxis": "x",
           "yaxis": "y"
          }
         ],
         "name": "50.0"
        },
        {
         "data": [
          {
           "alignmentgroup": "True",
           "bingroup": "x",
           "hovertemplate": "Survived=0<br>Age_rounded=60.0<br>Pclass=%{x}<br>count=%{y}<extra></extra>",
           "legendgroup": "0",
           "marker": {
            "color": "#1F77B4",
            "pattern": {
             "shape": ""
            }
           },
           "name": "0",
           "offsetgroup": "0",
           "orientation": "v",
           "showlegend": true,
           "type": "histogram",
           "x": [
            1,
            1,
            2,
            1,
            2,
            3,
            1,
            1,
            3,
            2,
            1,
            1,
            1,
            1,
            1,
            1,
            1,
            2,
            1,
            3,
            1,
            3
           ],
           "xaxis": "x",
           "yaxis": "y"
          },
          {
           "alignmentgroup": "True",
           "bingroup": "x",
           "hovertemplate": "Survived=1<br>Age_rounded=60.0<br>Pclass=%{x}<br>count=%{y}<extra></extra>",
           "legendgroup": "1",
           "marker": {
            "color": "#FF7F0E",
            "pattern": {
             "shape": ""
            }
           },
           "name": "1",
           "offsetgroup": "1",
           "orientation": "v",
           "showlegend": true,
           "type": "histogram",
           "x": [
            1,
            1,
            2,
            3,
            2,
            1,
            1,
            1,
            1,
            1,
            1,
            1
           ],
           "xaxis": "x",
           "yaxis": "y"
          }
         ],
         "name": "60.0"
        },
        {
         "data": [
          {
           "alignmentgroup": "True",
           "bingroup": "x",
           "hovertemplate": "Survived=0<br>Age_rounded=70.0<br>Pclass=%{x}<br>count=%{y}<extra></extra>",
           "legendgroup": "0",
           "marker": {
            "color": "#1F77B4",
            "pattern": {
             "shape": ""
            }
           },
           "name": "0",
           "offsetgroup": "0",
           "orientation": "v",
           "showlegend": true,
           "type": "histogram",
           "x": [
            1,
            3,
            1,
            2,
            2,
            1,
            3
           ],
           "xaxis": "x",
           "yaxis": "y"
          }
         ],
         "name": "70.0"
        },
        {
         "data": [
          {
           "alignmentgroup": "True",
           "bingroup": "x",
           "hovertemplate": "Survived=1<br>Age_rounded=80.0<br>Pclass=%{x}<br>count=%{y}<extra></extra>",
           "legendgroup": "1",
           "marker": {
            "color": "#FF7F0E",
            "pattern": {
             "shape": ""
            }
           },
           "name": "1",
           "offsetgroup": "1",
           "orientation": "v",
           "showlegend": true,
           "type": "histogram",
           "x": [
            1
           ],
           "xaxis": "x",
           "yaxis": "y"
          }
         ],
         "name": "80.0"
        }
       ],
       "layout": {
        "bargap": 0.1,
        "barmode": "relative",
        "legend": {
         "title": {
          "text": "Survived"
         },
         "tracegroupgap": 0
        },
        "margin": {
         "t": 60
        },
        "sliders": [
         {
          "active": 0,
          "currentvalue": {
           "prefix": "Age_rounded="
          },
          "len": 0.9,
          "pad": {
           "b": 10,
           "t": 60
          },
          "steps": [
           {
            "args": [
             [
              "0.0"
             ],
             {
              "frame": {
               "duration": 0,
               "redraw": true
              },
              "fromcurrent": true,
              "mode": "immediate",
              "transition": {
               "duration": 0,
               "easing": "linear"
              }
             }
            ],
            "label": "0.0",
            "method": "animate"
           },
           {
            "args": [
             [
              "10.0"
             ],
             {
              "frame": {
               "duration": 0,
               "redraw": true
              },
              "fromcurrent": true,
              "mode": "immediate",
              "transition": {
               "duration": 0,
               "easing": "linear"
              }
             }
            ],
            "label": "10.0",
            "method": "animate"
           },
           {
            "args": [
             [
              "20.0"
             ],
             {
              "frame": {
               "duration": 0,
               "redraw": true
              },
              "fromcurrent": true,
              "mode": "immediate",
              "transition": {
               "duration": 0,
               "easing": "linear"
              }
             }
            ],
            "label": "20.0",
            "method": "animate"
           },
           {
            "args": [
             [
              "30.0"
             ],
             {
              "frame": {
               "duration": 0,
               "redraw": true
              },
              "fromcurrent": true,
              "mode": "immediate",
              "transition": {
               "duration": 0,
               "easing": "linear"
              }
             }
            ],
            "label": "30.0",
            "method": "animate"
           },
           {
            "args": [
             [
              "40.0"
             ],
             {
              "frame": {
               "duration": 0,
               "redraw": true
              },
              "fromcurrent": true,
              "mode": "immediate",
              "transition": {
               "duration": 0,
               "easing": "linear"
              }
             }
            ],
            "label": "40.0",
            "method": "animate"
           },
           {
            "args": [
             [
              "50.0"
             ],
             {
              "frame": {
               "duration": 0,
               "redraw": true
              },
              "fromcurrent": true,
              "mode": "immediate",
              "transition": {
               "duration": 0,
               "easing": "linear"
              }
             }
            ],
            "label": "50.0",
            "method": "animate"
           },
           {
            "args": [
             [
              "60.0"
             ],
             {
              "frame": {
               "duration": 0,
               "redraw": true
              },
              "fromcurrent": true,
              "mode": "immediate",
              "transition": {
               "duration": 0,
               "easing": "linear"
              }
             }
            ],
            "label": "60.0",
            "method": "animate"
           },
           {
            "args": [
             [
              "70.0"
             ],
             {
              "frame": {
               "duration": 0,
               "redraw": true
              },
              "fromcurrent": true,
              "mode": "immediate",
              "transition": {
               "duration": 0,
               "easing": "linear"
              }
             }
            ],
            "label": "70.0",
            "method": "animate"
           },
           {
            "args": [
             [
              "80.0"
             ],
             {
              "frame": {
               "duration": 0,
               "redraw": true
              },
              "fromcurrent": true,
              "mode": "immediate",
              "transition": {
               "duration": 0,
               "easing": "linear"
              }
             }
            ],
            "label": "80.0",
            "method": "animate"
           }
          ],
          "x": 0.1,
          "xanchor": "left",
          "y": 0,
          "yanchor": "top"
         }
        ],
        "template": {
         "data": {
          "bar": [
           {
            "error_x": {
             "color": "#2a3f5f"
            },
            "error_y": {
             "color": "#2a3f5f"
            },
            "marker": {
             "line": {
              "color": "white",
              "width": 0.5
             },
             "pattern": {
              "fillmode": "overlay",
              "size": 10,
              "solidity": 0.2
             }
            },
            "type": "bar"
           }
          ],
          "barpolar": [
           {
            "marker": {
             "line": {
              "color": "white",
              "width": 0.5
             },
             "pattern": {
              "fillmode": "overlay",
              "size": 10,
              "solidity": 0.2
             }
            },
            "type": "barpolar"
           }
          ],
          "carpet": [
           {
            "aaxis": {
             "endlinecolor": "#2a3f5f",
             "gridcolor": "#C8D4E3",
             "linecolor": "#C8D4E3",
             "minorgridcolor": "#C8D4E3",
             "startlinecolor": "#2a3f5f"
            },
            "baxis": {
             "endlinecolor": "#2a3f5f",
             "gridcolor": "#C8D4E3",
             "linecolor": "#C8D4E3",
             "minorgridcolor": "#C8D4E3",
             "startlinecolor": "#2a3f5f"
            },
            "type": "carpet"
           }
          ],
          "choropleth": [
           {
            "colorbar": {
             "outlinewidth": 0,
             "ticks": ""
            },
            "type": "choropleth"
           }
          ],
          "contour": [
           {
            "colorbar": {
             "outlinewidth": 0,
             "ticks": ""
            },
            "colorscale": [
             [
              0,
              "#0d0887"
             ],
             [
              0.1111111111111111,
              "#46039f"
             ],
             [
              0.2222222222222222,
              "#7201a8"
             ],
             [
              0.3333333333333333,
              "#9c179e"
             ],
             [
              0.4444444444444444,
              "#bd3786"
             ],
             [
              0.5555555555555556,
              "#d8576b"
             ],
             [
              0.6666666666666666,
              "#ed7953"
             ],
             [
              0.7777777777777778,
              "#fb9f3a"
             ],
             [
              0.8888888888888888,
              "#fdca26"
             ],
             [
              1,
              "#f0f921"
             ]
            ],
            "type": "contour"
           }
          ],
          "contourcarpet": [
           {
            "colorbar": {
             "outlinewidth": 0,
             "ticks": ""
            },
            "type": "contourcarpet"
           }
          ],
          "heatmap": [
           {
            "colorbar": {
             "outlinewidth": 0,
             "ticks": ""
            },
            "colorscale": [
             [
              0,
              "#0d0887"
             ],
             [
              0.1111111111111111,
              "#46039f"
             ],
             [
              0.2222222222222222,
              "#7201a8"
             ],
             [
              0.3333333333333333,
              "#9c179e"
             ],
             [
              0.4444444444444444,
              "#bd3786"
             ],
             [
              0.5555555555555556,
              "#d8576b"
             ],
             [
              0.6666666666666666,
              "#ed7953"
             ],
             [
              0.7777777777777778,
              "#fb9f3a"
             ],
             [
              0.8888888888888888,
              "#fdca26"
             ],
             [
              1,
              "#f0f921"
             ]
            ],
            "type": "heatmap"
           }
          ],
          "heatmapgl": [
           {
            "colorbar": {
             "outlinewidth": 0,
             "ticks": ""
            },
            "colorscale": [
             [
              0,
              "#0d0887"
             ],
             [
              0.1111111111111111,
              "#46039f"
             ],
             [
              0.2222222222222222,
              "#7201a8"
             ],
             [
              0.3333333333333333,
              "#9c179e"
             ],
             [
              0.4444444444444444,
              "#bd3786"
             ],
             [
              0.5555555555555556,
              "#d8576b"
             ],
             [
              0.6666666666666666,
              "#ed7953"
             ],
             [
              0.7777777777777778,
              "#fb9f3a"
             ],
             [
              0.8888888888888888,
              "#fdca26"
             ],
             [
              1,
              "#f0f921"
             ]
            ],
            "type": "heatmapgl"
           }
          ],
          "histogram": [
           {
            "marker": {
             "pattern": {
              "fillmode": "overlay",
              "size": 10,
              "solidity": 0.2
             }
            },
            "type": "histogram"
           }
          ],
          "histogram2d": [
           {
            "colorbar": {
             "outlinewidth": 0,
             "ticks": ""
            },
            "colorscale": [
             [
              0,
              "#0d0887"
             ],
             [
              0.1111111111111111,
              "#46039f"
             ],
             [
              0.2222222222222222,
              "#7201a8"
             ],
             [
              0.3333333333333333,
              "#9c179e"
             ],
             [
              0.4444444444444444,
              "#bd3786"
             ],
             [
              0.5555555555555556,
              "#d8576b"
             ],
             [
              0.6666666666666666,
              "#ed7953"
             ],
             [
              0.7777777777777778,
              "#fb9f3a"
             ],
             [
              0.8888888888888888,
              "#fdca26"
             ],
             [
              1,
              "#f0f921"
             ]
            ],
            "type": "histogram2d"
           }
          ],
          "histogram2dcontour": [
           {
            "colorbar": {
             "outlinewidth": 0,
             "ticks": ""
            },
            "colorscale": [
             [
              0,
              "#0d0887"
             ],
             [
              0.1111111111111111,
              "#46039f"
             ],
             [
              0.2222222222222222,
              "#7201a8"
             ],
             [
              0.3333333333333333,
              "#9c179e"
             ],
             [
              0.4444444444444444,
              "#bd3786"
             ],
             [
              0.5555555555555556,
              "#d8576b"
             ],
             [
              0.6666666666666666,
              "#ed7953"
             ],
             [
              0.7777777777777778,
              "#fb9f3a"
             ],
             [
              0.8888888888888888,
              "#fdca26"
             ],
             [
              1,
              "#f0f921"
             ]
            ],
            "type": "histogram2dcontour"
           }
          ],
          "mesh3d": [
           {
            "colorbar": {
             "outlinewidth": 0,
             "ticks": ""
            },
            "type": "mesh3d"
           }
          ],
          "parcoords": [
           {
            "line": {
             "colorbar": {
              "outlinewidth": 0,
              "ticks": ""
             }
            },
            "type": "parcoords"
           }
          ],
          "pie": [
           {
            "automargin": true,
            "type": "pie"
           }
          ],
          "scatter": [
           {
            "fillpattern": {
             "fillmode": "overlay",
             "size": 10,
             "solidity": 0.2
            },
            "type": "scatter"
           }
          ],
          "scatter3d": [
           {
            "line": {
             "colorbar": {
              "outlinewidth": 0,
              "ticks": ""
             }
            },
            "marker": {
             "colorbar": {
              "outlinewidth": 0,
              "ticks": ""
             }
            },
            "type": "scatter3d"
           }
          ],
          "scattercarpet": [
           {
            "marker": {
             "colorbar": {
              "outlinewidth": 0,
              "ticks": ""
             }
            },
            "type": "scattercarpet"
           }
          ],
          "scattergeo": [
           {
            "marker": {
             "colorbar": {
              "outlinewidth": 0,
              "ticks": ""
             }
            },
            "type": "scattergeo"
           }
          ],
          "scattergl": [
           {
            "marker": {
             "colorbar": {
              "outlinewidth": 0,
              "ticks": ""
             }
            },
            "type": "scattergl"
           }
          ],
          "scattermapbox": [
           {
            "marker": {
             "colorbar": {
              "outlinewidth": 0,
              "ticks": ""
             }
            },
            "type": "scattermapbox"
           }
          ],
          "scatterpolar": [
           {
            "marker": {
             "colorbar": {
              "outlinewidth": 0,
              "ticks": ""
             }
            },
            "type": "scatterpolar"
           }
          ],
          "scatterpolargl": [
           {
            "marker": {
             "colorbar": {
              "outlinewidth": 0,
              "ticks": ""
             }
            },
            "type": "scatterpolargl"
           }
          ],
          "scatterternary": [
           {
            "marker": {
             "colorbar": {
              "outlinewidth": 0,
              "ticks": ""
             }
            },
            "type": "scatterternary"
           }
          ],
          "surface": [
           {
            "colorbar": {
             "outlinewidth": 0,
             "ticks": ""
            },
            "colorscale": [
             [
              0,
              "#0d0887"
             ],
             [
              0.1111111111111111,
              "#46039f"
             ],
             [
              0.2222222222222222,
              "#7201a8"
             ],
             [
              0.3333333333333333,
              "#9c179e"
             ],
             [
              0.4444444444444444,
              "#bd3786"
             ],
             [
              0.5555555555555556,
              "#d8576b"
             ],
             [
              0.6666666666666666,
              "#ed7953"
             ],
             [
              0.7777777777777778,
              "#fb9f3a"
             ],
             [
              0.8888888888888888,
              "#fdca26"
             ],
             [
              1,
              "#f0f921"
             ]
            ],
            "type": "surface"
           }
          ],
          "table": [
           {
            "cells": {
             "fill": {
              "color": "#EBF0F8"
             },
             "line": {
              "color": "white"
             }
            },
            "header": {
             "fill": {
              "color": "#C8D4E3"
             },
             "line": {
              "color": "white"
             }
            },
            "type": "table"
           }
          ]
         },
         "layout": {
          "annotationdefaults": {
           "arrowcolor": "#2a3f5f",
           "arrowhead": 0,
           "arrowwidth": 1
          },
          "autotypenumbers": "strict",
          "coloraxis": {
           "colorbar": {
            "outlinewidth": 0,
            "ticks": ""
           }
          },
          "colorscale": {
           "diverging": [
            [
             0,
             "#8e0152"
            ],
            [
             0.1,
             "#c51b7d"
            ],
            [
             0.2,
             "#de77ae"
            ],
            [
             0.3,
             "#f1b6da"
            ],
            [
             0.4,
             "#fde0ef"
            ],
            [
             0.5,
             "#f7f7f7"
            ],
            [
             0.6,
             "#e6f5d0"
            ],
            [
             0.7,
             "#b8e186"
            ],
            [
             0.8,
             "#7fbc41"
            ],
            [
             0.9,
             "#4d9221"
            ],
            [
             1,
             "#276419"
            ]
           ],
           "sequential": [
            [
             0,
             "#0d0887"
            ],
            [
             0.1111111111111111,
             "#46039f"
            ],
            [
             0.2222222222222222,
             "#7201a8"
            ],
            [
             0.3333333333333333,
             "#9c179e"
            ],
            [
             0.4444444444444444,
             "#bd3786"
            ],
            [
             0.5555555555555556,
             "#d8576b"
            ],
            [
             0.6666666666666666,
             "#ed7953"
            ],
            [
             0.7777777777777778,
             "#fb9f3a"
            ],
            [
             0.8888888888888888,
             "#fdca26"
            ],
            [
             1,
             "#f0f921"
            ]
           ],
           "sequentialminus": [
            [
             0,
             "#0d0887"
            ],
            [
             0.1111111111111111,
             "#46039f"
            ],
            [
             0.2222222222222222,
             "#7201a8"
            ],
            [
             0.3333333333333333,
             "#9c179e"
            ],
            [
             0.4444444444444444,
             "#bd3786"
            ],
            [
             0.5555555555555556,
             "#d8576b"
            ],
            [
             0.6666666666666666,
             "#ed7953"
            ],
            [
             0.7777777777777778,
             "#fb9f3a"
            ],
            [
             0.8888888888888888,
             "#fdca26"
            ],
            [
             1,
             "#f0f921"
            ]
           ]
          },
          "colorway": [
           "#636efa",
           "#EF553B",
           "#00cc96",
           "#ab63fa",
           "#FFA15A",
           "#19d3f3",
           "#FF6692",
           "#B6E880",
           "#FF97FF",
           "#FECB52"
          ],
          "font": {
           "color": "#2a3f5f"
          },
          "geo": {
           "bgcolor": "white",
           "lakecolor": "white",
           "landcolor": "white",
           "showlakes": true,
           "showland": true,
           "subunitcolor": "#C8D4E3"
          },
          "hoverlabel": {
           "align": "left"
          },
          "hovermode": "closest",
          "mapbox": {
           "style": "light"
          },
          "paper_bgcolor": "white",
          "plot_bgcolor": "white",
          "polar": {
           "angularaxis": {
            "gridcolor": "#EBF0F8",
            "linecolor": "#EBF0F8",
            "ticks": ""
           },
           "bgcolor": "white",
           "radialaxis": {
            "gridcolor": "#EBF0F8",
            "linecolor": "#EBF0F8",
            "ticks": ""
           }
          },
          "scene": {
           "xaxis": {
            "backgroundcolor": "white",
            "gridcolor": "#DFE8F3",
            "gridwidth": 2,
            "linecolor": "#EBF0F8",
            "showbackground": true,
            "ticks": "",
            "zerolinecolor": "#EBF0F8"
           },
           "yaxis": {
            "backgroundcolor": "white",
            "gridcolor": "#DFE8F3",
            "gridwidth": 2,
            "linecolor": "#EBF0F8",
            "showbackground": true,
            "ticks": "",
            "zerolinecolor": "#EBF0F8"
           },
           "zaxis": {
            "backgroundcolor": "white",
            "gridcolor": "#DFE8F3",
            "gridwidth": 2,
            "linecolor": "#EBF0F8",
            "showbackground": true,
            "ticks": "",
            "zerolinecolor": "#EBF0F8"
           }
          },
          "shapedefaults": {
           "line": {
            "color": "#2a3f5f"
           }
          },
          "ternary": {
           "aaxis": {
            "gridcolor": "#DFE8F3",
            "linecolor": "#A2B1C6",
            "ticks": ""
           },
           "baxis": {
            "gridcolor": "#DFE8F3",
            "linecolor": "#A2B1C6",
            "ticks": ""
           },
           "bgcolor": "white",
           "caxis": {
            "gridcolor": "#DFE8F3",
            "linecolor": "#A2B1C6",
            "ticks": ""
           }
          },
          "title": {
           "x": 0.05
          },
          "xaxis": {
           "automargin": true,
           "gridcolor": "#EBF0F8",
           "linecolor": "#EBF0F8",
           "ticks": "",
           "title": {
            "standoff": 15
           },
           "zerolinecolor": "#EBF0F8",
           "zerolinewidth": 2
          },
          "yaxis": {
           "automargin": true,
           "gridcolor": "#EBF0F8",
           "linecolor": "#EBF0F8",
           "ticks": "",
           "title": {
            "standoff": 15
           },
           "zerolinecolor": "#EBF0F8",
           "zerolinewidth": 2
          }
         }
        },
        "xaxis": {
         "anchor": "y",
         "domain": [
          0,
          1
         ],
         "tickmode": "array",
         "ticktext": [
          "First",
          "Second",
          "Third"
         ],
         "tickvals": [
          1,
          2,
          3
         ],
         "title": {
          "text": "Pclass"
         }
        },
        "yaxis": {
         "anchor": "x",
         "domain": [
          0,
          1
         ],
         "title": {
          "text": "count"
         }
        }
       }
      }
     },
     "metadata": {},
     "output_type": "display_data"
    }
   ],
   "source": [
    "fig = px.histogram(df.sort_values('Age_rounded'), \n",
    "                   x='Pclass',\n",
    "                   color='Survived',\n",
    "                   template='plotly_white',\n",
    "                   animation_frame=\"Age_rounded\",  # this is the value to \"animate\"\n",
    "                   # animation_group=\"PassengerId\",  # uncomment this ...\n",
    "                   color_discrete_sequence=px.colors.qualitative.D3)\n",
    "\n",
    "fig.update_layout(\n",
    "    xaxis_tickmode = 'array',\n",
    "    xaxis_tickvals = [1, 2, 3],\n",
    "    xaxis_ticktext = ['First', 'Second', 'Third'],\n",
    "    bargap=0.1, # gap between bars of adjacent location coordinates\n",
    ")\n",
    "\n",
    "fig[\"layout\"].pop(\"updatemenus\") # drop animation buttons\n",
    "fig.show()"
   ]
  },
  {
   "cell_type": "markdown",
   "id": "34231004-e2d5-4292-b434-244867166448",
   "metadata": {},
   "source": [
    "**(In class, if there's time) Can we improve on this?**"
   ]
  },
  {
   "cell_type": "code",
   "execution_count": 13,
   "id": "932395e8-e6a9-4d91-84a2-104b7d3a7c7c",
   "metadata": {
    "tags": []
   },
   "outputs": [],
   "source": [
    "# fig = px.histogram(df.sort_values('Age_rounded'), \n",
    "#                    x='Pclass',\n",
    "#                    facet_row='Survived',\n",
    "#                    color='Age_rounded',\n",
    "#                    template='plotly_white',\n",
    "#                    color_discrete_sequence=px.colors.sequential.Blues)\n",
    "\n",
    "# fig.update_layout(\n",
    "#     xaxis_tickmode = 'array',\n",
    "#     xaxis_tickvals = [1, 2, 3],\n",
    "#     xaxis_ticktext = ['First', 'Second', 'Third'],\n",
    "#     bargap=0.1, # gap between bars of adjacent location coordinates\n",
    "# )\n",
    "\n",
    "# fig[\"layout\"].pop(\"updatemenus\") # drop animation buttons\n",
    "# fig.show()"
   ]
  },
  {
   "cell_type": "markdown",
   "id": "fa7b94ec-9165-4c8d-94eb-44b3676777c2",
   "metadata": {},
   "source": [
    "# EXERCISES"
   ]
  },
  {
   "cell_type": "markdown",
   "id": "2d2419b3-2b1b-43ab-8c47-32c9dcc3ab69",
   "metadata": {
    "tags": []
   },
   "source": [
    "## Exercise 1\n",
    "\n",
    "Take a look at the `Cabin` column of the data, and investigate how it relates to at least one other column. Consider the context of the Titanic ship wreck. Try to formulate a question around this column, and visualize it using Plotly. **Build at least 2 different plots** of the same data.\n",
    "\n",
    "Feel free to use the [gallery](https://plotly.com/python/) as a resource."
   ]
  },
  {
   "cell_type": "code",
   "execution_count": 14,
   "id": "177c1c5c-8992-4719-ac21-5f21f0e13902",
   "metadata": {},
   "outputs": [
    {
     "data": {
      "text/html": [
       "<div>\n",
       "<style scoped>\n",
       "    .dataframe tbody tr th:only-of-type {\n",
       "        vertical-align: middle;\n",
       "    }\n",
       "\n",
       "    .dataframe tbody tr th {\n",
       "        vertical-align: top;\n",
       "    }\n",
       "\n",
       "    .dataframe thead th {\n",
       "        text-align: right;\n",
       "    }\n",
       "</style>\n",
       "<table border=\"1\" class=\"dataframe\">\n",
       "  <thead>\n",
       "    <tr style=\"text-align: right;\">\n",
       "      <th></th>\n",
       "      <th>PassengerId</th>\n",
       "      <th>Survived</th>\n",
       "      <th>Pclass</th>\n",
       "      <th>Name</th>\n",
       "      <th>Sex</th>\n",
       "      <th>Age</th>\n",
       "      <th>SibSp</th>\n",
       "      <th>Parch</th>\n",
       "      <th>Ticket</th>\n",
       "      <th>Fare</th>\n",
       "      <th>Cabin</th>\n",
       "      <th>Embarked</th>\n",
       "      <th>Age_rounded</th>\n",
       "    </tr>\n",
       "  </thead>\n",
       "  <tbody>\n",
       "    <tr>\n",
       "      <th>0</th>\n",
       "      <td>1</td>\n",
       "      <td>0</td>\n",
       "      <td>3</td>\n",
       "      <td>Braund, Mr. Owen Harris</td>\n",
       "      <td>male</td>\n",
       "      <td>22.0</td>\n",
       "      <td>1</td>\n",
       "      <td>0</td>\n",
       "      <td>A/5 21171</td>\n",
       "      <td>7.2500</td>\n",
       "      <td>NaN</td>\n",
       "      <td>S</td>\n",
       "      <td>20.0</td>\n",
       "    </tr>\n",
       "    <tr>\n",
       "      <th>1</th>\n",
       "      <td>2</td>\n",
       "      <td>1</td>\n",
       "      <td>1</td>\n",
       "      <td>Cumings, Mrs. John Bradley (Florence Briggs Th...</td>\n",
       "      <td>female</td>\n",
       "      <td>38.0</td>\n",
       "      <td>1</td>\n",
       "      <td>0</td>\n",
       "      <td>PC 17599</td>\n",
       "      <td>71.2833</td>\n",
       "      <td>C85</td>\n",
       "      <td>C</td>\n",
       "      <td>40.0</td>\n",
       "    </tr>\n",
       "    <tr>\n",
       "      <th>2</th>\n",
       "      <td>3</td>\n",
       "      <td>1</td>\n",
       "      <td>3</td>\n",
       "      <td>Heikkinen, Miss. Laina</td>\n",
       "      <td>female</td>\n",
       "      <td>26.0</td>\n",
       "      <td>0</td>\n",
       "      <td>0</td>\n",
       "      <td>STON/O2. 3101282</td>\n",
       "      <td>7.9250</td>\n",
       "      <td>NaN</td>\n",
       "      <td>S</td>\n",
       "      <td>30.0</td>\n",
       "    </tr>\n",
       "    <tr>\n",
       "      <th>3</th>\n",
       "      <td>4</td>\n",
       "      <td>1</td>\n",
       "      <td>1</td>\n",
       "      <td>Futrelle, Mrs. Jacques Heath (Lily May Peel)</td>\n",
       "      <td>female</td>\n",
       "      <td>35.0</td>\n",
       "      <td>1</td>\n",
       "      <td>0</td>\n",
       "      <td>113803</td>\n",
       "      <td>53.1000</td>\n",
       "      <td>C123</td>\n",
       "      <td>S</td>\n",
       "      <td>40.0</td>\n",
       "    </tr>\n",
       "    <tr>\n",
       "      <th>4</th>\n",
       "      <td>5</td>\n",
       "      <td>0</td>\n",
       "      <td>3</td>\n",
       "      <td>Allen, Mr. William Henry</td>\n",
       "      <td>male</td>\n",
       "      <td>35.0</td>\n",
       "      <td>0</td>\n",
       "      <td>0</td>\n",
       "      <td>373450</td>\n",
       "      <td>8.0500</td>\n",
       "      <td>NaN</td>\n",
       "      <td>S</td>\n",
       "      <td>40.0</td>\n",
       "    </tr>\n",
       "  </tbody>\n",
       "</table>\n",
       "</div>"
      ],
      "text/plain": [
       "   PassengerId  Survived  Pclass  \\\n",
       "0            1         0       3   \n",
       "1            2         1       1   \n",
       "2            3         1       3   \n",
       "3            4         1       1   \n",
       "4            5         0       3   \n",
       "\n",
       "                                                Name     Sex   Age  SibSp  \\\n",
       "0                            Braund, Mr. Owen Harris    male  22.0      1   \n",
       "1  Cumings, Mrs. John Bradley (Florence Briggs Th...  female  38.0      1   \n",
       "2                             Heikkinen, Miss. Laina  female  26.0      0   \n",
       "3       Futrelle, Mrs. Jacques Heath (Lily May Peel)  female  35.0      1   \n",
       "4                           Allen, Mr. William Henry    male  35.0      0   \n",
       "\n",
       "   Parch            Ticket     Fare Cabin Embarked  Age_rounded  \n",
       "0      0         A/5 21171   7.2500   NaN        S         20.0  \n",
       "1      0          PC 17599  71.2833   C85        C         40.0  \n",
       "2      0  STON/O2. 3101282   7.9250   NaN        S         30.0  \n",
       "3      0            113803  53.1000  C123        S         40.0  \n",
       "4      0            373450   8.0500   NaN        S         40.0  "
      ]
     },
     "execution_count": 14,
     "metadata": {},
     "output_type": "execute_result"
    }
   ],
   "source": [
    "df.head()"
   ]
  },
  {
   "cell_type": "markdown",
   "id": "3fef6467",
   "metadata": {},
   "source": [
    "Considering the context of the Titanic shipwreck, we can formulate a question related to the ticket fare based on the availability of cabin information for different ticket numbers. The question could be:\n",
    "\n",
    "\"Did passengers with assigned cabins have a higher Ticket fare, and does this vary across different ticket numbers?"
   ]
  },
  {
   "cell_type": "code",
   "execution_count": 18,
   "id": "a5300228",
   "metadata": {},
   "outputs": [
    {
     "name": "stderr",
     "output_type": "stream",
     "text": [
      "c:\\Users\\shres\\miniconda3\\envs\\501_class\\Lib\\site-packages\\plotly\\express\\_core.py:2065: FutureWarning:\n",
      "\n",
      "When grouping with a length-1 list-like, you will need to pass a length-1 tuple to get_group in a future version of pandas. Pass `(name,)` instead of `name` to silence this warning.\n",
      "\n"
     ]
    },
    {
     "data": {
      "application/vnd.plotly.v1+json": {
       "config": {
        "plotlyServerURL": "https://plot.ly"
       },
       "data": [
        {
         "alignmentgroup": "True",
         "hovertemplate": "HasCabin=True<br>Seat Number=%{x}<br>Ticket Rate=%{y}<extra></extra>",
         "legendgroup": "True",
         "marker": {
          "color": "#636efa",
          "pattern": {
           "shape": ""
          }
         },
         "name": "True",
         "offsetgroup": "True",
         "orientation": "v",
         "showlegend": true,
         "textposition": "auto",
         "type": "bar",
         "x": [
          "110152",
          "110413",
          "110465",
          "110564",
          "110813",
          "111240",
          "111320",
          "111361",
          "111369",
          "112050",
          "112053",
          "112058",
          "112059",
          "112277",
          "113028",
          "113043",
          "113050",
          "113051",
          "113055",
          "113056",
          "113501",
          "113503",
          "113505",
          "113509",
          "113510",
          "113514",
          "113572",
          "113760",
          "113767",
          "113773",
          "113776",
          "113781",
          "113783",
          "113784",
          "113786",
          "113787",
          "113788",
          "113803",
          "113806",
          "11751",
          "11752",
          "11753",
          "11755",
          "11765",
          "11767",
          "11769",
          "11771",
          "11774",
          "11813",
          "11967",
          "12749",
          "13049",
          "13213",
          "13214",
          "13502",
          "13507",
          "13509",
          "13567",
          "13568",
          "16966",
          "16988",
          "17421",
          "17453",
          "17463",
          "17464",
          "17465",
          "17466",
          "17474",
          "17764",
          "19877",
          "19928",
          "19943",
          "19947",
          "19950",
          "19952",
          "19988",
          "19996",
          "226593",
          "230080",
          "230136",
          "24160",
          "248698",
          "248733",
          "2668",
          "27042",
          "27267",
          "28551",
          "33638",
          "34218",
          "347054",
          "348121",
          "348123",
          "348124",
          "35273",
          "35281",
          "36928",
          "36947",
          "36963",
          "36967",
          "36973",
          "383121",
          "392096",
          "5727",
          "695",
          "C.A. 29395",
          "C.A. 34260",
          "F.C. 12750",
          "PC 17473",
          "PC 17474",
          "PC 17475",
          "PC 17476",
          "PC 17477",
          "PC 17482",
          "PC 17483",
          "PC 17485",
          "PC 17558",
          "PC 17569",
          "PC 17572",
          "PC 17582",
          "PC 17590",
          "PC 17592",
          "PC 17593",
          "PC 17595",
          "PC 17596",
          "PC 17599",
          "PC 17608",
          "PC 17610",
          "PC 17754",
          "PC 17755",
          "PC 17756",
          "PC 17757",
          "PC 17758",
          "PC 17759",
          "PC 17760",
          "PC 17761",
          "PP 9549",
          "S.O./P.P. 3",
          "SC/AH Basle 541",
          "SC/Paris 2163",
          "SOTON/O.Q. 392078",
          "W.E.P. 5734",
          "WE/P 5735"
         ],
         "xaxis": "x",
         "y": [
          86.5,
          79.65,
          52,
          26.55,
          75.25,
          33.5,
          38.5,
          57.9792,
          30,
          0,
          30,
          0,
          0,
          31,
          26.55,
          28.5,
          26.55,
          27.75,
          26.55,
          26,
          30,
          211.5,
          55,
          61.9792,
          35,
          26.55,
          80,
          120,
          50,
          53.1,
          66.6,
          151.55,
          26.55,
          35.5,
          30.5,
          30.5,
          35.5,
          53.1,
          53.1,
          52.5542,
          26.2833,
          52.5542,
          39.6,
          55.4417,
          83.1583,
          51.4792,
          29.7,
          29.7,
          76.2917,
          91.0792,
          93.5,
          40.125,
          35.5,
          30.5,
          77.9583,
          55.9,
          26.55,
          79.2,
          49.5,
          134.5,
          30,
          110.8833,
          89.1042,
          51.8625,
          51.8625,
          25.9292,
          25.9292,
          57,
          30.6958,
          78.85,
          90,
          90,
          35.5,
          263,
          26.55,
          30.5,
          52,
          12.35,
          26,
          39,
          211.3375,
          13,
          13,
          22.3583,
          30,
          13,
          13,
          81.8583,
          10.5,
          10.4625,
          7.65,
          7.65,
          7.65,
          113.27500000000002,
          77.2875,
          164.8667,
          78.2667,
          32.3208,
          34.0208,
          83.475,
          7.75,
          12.475,
          25.5875,
          5,
          10.5,
          10.5,
          52,
          26.2875,
          26.3875,
          26.2875,
          26.2875,
          69.3,
          49.5042,
          221.7792,
          56.9292,
          247.5208,
          146.5208,
          76.7292,
          153.4625,
          50.4958,
          39.4,
          79.2,
          28.7125,
          29.7,
          71.2833,
          262.375,
          27.7208,
          34.6542,
          512.3292,
          83.1583,
          227.525,
          108.9,
          63.3583,
          135.6333,
          106.425,
          16.7,
          10.5,
          13.7917,
          12.875,
          8.05,
          61.175,
          71
         ],
         "yaxis": "y"
        },
        {
         "alignmentgroup": "True",
         "hovertemplate": "HasCabin=False<br>Seat Number=%{x}<br>Ticket Rate=%{y}<extra></extra>",
         "legendgroup": "False",
         "marker": {
          "color": "#EF553B",
          "pattern": {
           "shape": ""
          }
         },
         "name": "False",
         "offsetgroup": "False",
         "orientation": "v",
         "showlegend": true,
         "textposition": "auto",
         "type": "bar",
         "x": [
          "111426",
          "111427",
          "111428",
          "112052",
          "112379",
          "113059",
          "113781",
          "113789",
          "113792",
          "113794",
          "113796",
          "113798",
          "113800",
          "113804",
          "113807",
          "11668",
          "12233",
          "12460",
          "14311",
          "14312",
          "14313",
          "14973",
          "1601",
          "17421",
          "19877",
          "19972",
          "2003",
          "211536",
          "21440",
          "218629",
          "219533",
          "220367",
          "220845",
          "2223",
          "223596",
          "226875",
          "228414",
          "229236",
          "230433",
          "230434",
          "231919",
          "231945",
          "233639",
          "233866",
          "234360",
          "234604",
          "234686",
          "234818",
          "236171",
          "236852",
          "236853",
          "237442",
          "237565",
          "237668",
          "237671",
          "237736",
          "237789",
          "237798",
          "239853",
          "239854",
          "239855",
          "239856",
          "239865",
          "240929",
          "243847",
          "243880",
          "244252",
          "244270",
          "244278",
          "244310",
          "244358",
          "244361",
          "244367",
          "244373",
          "248706",
          "248723",
          "248727",
          "248731",
          "248738",
          "248740",
          "248747",
          "250643",
          "250644",
          "250646",
          "250647",
          "250648",
          "250649",
          "250651",
          "250652",
          "250653",
          "250655",
          "2620",
          "2623",
          "2624",
          "2625",
          "2626",
          "2627",
          "2628",
          "2629",
          "2631",
          "26360",
          "2641",
          "2647",
          "2648",
          "2649",
          "2650",
          "2651",
          "2653",
          "2659",
          "2661",
          "2662",
          "2663",
          "2664",
          "2665",
          "2666",
          "2667",
          "2668",
          "2669",
          "26707",
          "2671",
          "2672",
          "2674",
          "2677",
          "2678",
          "2680",
          "2683",
          "2685",
          "2686",
          "2687",
          "2689",
          "2690",
          "2691",
          "2693",
          "2694",
          "2695",
          "2697",
          "2699",
          "2700",
          "27849",
          "28134",
          "28206",
          "28213",
          "28220",
          "28228",
          "28403",
          "28424",
          "28425",
          "28664",
          "28665",
          "29011",
          "2908",
          "29103",
          "29104",
          "29105",
          "29106",
          "29108",
          "2926",
          "29750",
          "29751",
          "3101264",
          "3101265",
          "3101267",
          "3101276",
          "3101277",
          "3101278",
          "3101281",
          "3101295",
          "3101296",
          "3101298",
          "31027",
          "31028",
          "312991",
          "312992",
          "312993",
          "31418",
          "315037",
          "315082",
          "315084",
          "315086",
          "315088",
          "315089",
          "315090",
          "315093",
          "315094",
          "315096",
          "315097",
          "315098",
          "315151",
          "315153",
          "323592",
          "323951",
          "324669",
          "330877",
          "330909",
          "330919",
          "330923",
          "330931",
          "330932",
          "330935",
          "330958",
          "330959",
          "330979",
          "330980",
          "334912",
          "335097",
          "335677",
          "336439",
          "3411",
          "341826",
          "342826",
          "343095",
          "343120",
          "343275",
          "343276",
          "345364",
          "345572",
          "345763",
          "345764",
          "345765",
          "345767",
          "345769",
          "345770",
          "345773",
          "345774",
          "345777",
          "345778",
          "345779",
          "345780",
          "345781",
          "345783",
          "3460",
          "347060",
          "347061",
          "347062",
          "347063",
          "347064",
          "347067",
          "347068",
          "347069",
          "347071",
          "347073",
          "347074",
          "347076",
          "347077",
          "347078",
          "347080",
          "347081",
          "347082",
          "347083",
          "347085",
          "347087",
          "347088",
          "347089",
          "3474",
          "347464",
          "347466",
          "347468",
          "347470",
          "347742",
          "347743",
          "349201",
          "349203",
          "349204",
          "349205",
          "349206",
          "349207",
          "349208",
          "349209",
          "349210",
          "349212",
          "349213",
          "349214",
          "349215",
          "349216",
          "349217",
          "349218",
          "349219",
          "349221",
          "349222",
          "349223",
          "349224",
          "349225",
          "349227",
          "349228",
          "349231",
          "349233",
          "349234",
          "349236",
          "349237",
          "349239",
          "349240",
          "349241",
          "349242",
          "349243",
          "349244",
          "349245",
          "349246",
          "349247",
          "349248",
          "349249",
          "349251",
          "349252",
          "349253",
          "349254",
          "349256",
          "349257",
          "349909",
          "349910",
          "349912",
          "350025",
          "350026",
          "350029",
          "350034",
          "350035",
          "350036",
          "350042",
          "350043",
          "350046",
          "350047",
          "350048",
          "350050",
          "350052",
          "350060",
          "350404",
          "350406",
          "350407",
          "350417",
          "35851",
          "35852",
          "358585",
          "36209",
          "362316",
          "363291",
          "363294",
          "363592",
          "364498",
          "364499",
          "364500",
          "364506",
          "364511",
          "364512",
          "364516",
          "364846",
          "364848",
          "364849",
          "364850",
          "364851",
          "365222",
          "365226",
          "36568",
          "367226",
          "367228",
          "367229",
          "367230",
          "367231",
          "367232",
          "367655",
          "368323",
          "36864",
          "36865",
          "36866",
          "368703",
          "36928",
          "370129",
          "370365",
          "370369",
          "370370",
          "370371",
          "370372",
          "370373",
          "370375",
          "370376",
          "370377",
          "371060",
          "371110",
          "371362",
          "372622",
          "373450",
          "374746",
          "374887",
          "374910",
          "376564",
          "376566",
          "382649",
          "382651",
          "382652",
          "384461",
          "386525",
          "392091",
          "392092",
          "394140",
          "4133",
          "4134",
          "4135",
          "4136",
          "4137",
          "4138",
          "4579",
          "54636",
          "65303",
          "65304",
          "65306",
          "6563",
          "693",
          "7267",
          "7534",
          "7540",
          "7545",
          "7546",
          "7552",
          "7553",
          "7598",
          "8471",
          "8475",
          "9234",
          "A./5. 2152",
          "A./5. 3235",
          "A.5. 11206",
          "A.5. 18509",
          "A/4 45380",
          "A/4 48871",
          "A/4. 20589",
          "A/4. 34244",
          "A/4. 39886",
          "A/5 21171",
          "A/5 21172",
          "A/5 21173",
          "A/5 21174",
          "A/5 2466",
          "A/5 2817",
          "A/5 3536",
          "A/5 3540",
          "A/5 3594",
          "A/5 3902",
          "A/5. 10482",
          "A/5. 13032",
          "A/5. 2151",
          "A/5. 3336",
          "A/5. 3337",
          "A/5. 851",
          "A/S 2816",
          "A4. 54510",
          "C 17369",
          "C 4001",
          "C 7075",
          "C 7076",
          "C 7077",
          "C.A. 17248",
          "C.A. 18723",
          "C.A. 2315",
          "C.A. 24579",
          "C.A. 24580",
          "C.A. 2673",
          "C.A. 29178",
          "C.A. 29566",
          "C.A. 31026",
          "C.A. 31921",
          "C.A. 33111",
          "C.A. 33112",
          "C.A. 33595",
          "C.A. 34651",
          "C.A. 37671",
          "C.A. 5547",
          "C.A. 6212",
          "C.A./SOTON 34068",
          "CA 2144",
          "CA. 2314",
          "CA. 2343",
          "F.C.C. 13528",
          "F.C.C. 13529",
          "F.C.C. 13531",
          "Fa 265302",
          "LINE",
          "P/PP 3381",
          "PC 17318",
          "PC 17585",
          "PC 17597",
          "PC 17600",
          "PC 17601",
          "PC 17603",
          "PC 17604",
          "PC 17605",
          "PC 17609",
          "PC 17611",
          "PC 17612",
          "PC 17755",
          "PC 17757",
          "PC 17760",
          "PC 17761",
          "PP 4348",
          "S.C./A.4. 23567",
          "S.C./PARIS 2079",
          "S.O./P.P. 3",
          "S.O./P.P. 751",
          "S.O.C. 14879",
          "S.O.P. 1166",
          "S.P. 3464",
          "S.W./PP 752",
          "SC 1748",
          "SC/AH 29037",
          "SC/AH 3085",
          "SC/PARIS 2131",
          "SC/PARIS 2133",
          "SC/PARIS 2146",
          "SC/PARIS 2149",
          "SC/PARIS 2167",
          "SC/Paris 2123",
          "SCO/W 1585",
          "SO/C 14885",
          "SOTON/O.Q. 3101305",
          "SOTON/O.Q. 3101306",
          "SOTON/O.Q. 3101307",
          "SOTON/O.Q. 3101310",
          "SOTON/O.Q. 3101311",
          "SOTON/O.Q. 3101312",
          "SOTON/O.Q. 392087",
          "SOTON/O2 3101272",
          "SOTON/O2 3101287",
          "SOTON/OQ 3101316",
          "SOTON/OQ 3101317",
          "SOTON/OQ 392076",
          "SOTON/OQ 392082",
          "SOTON/OQ 392086",
          "SOTON/OQ 392089",
          "SOTON/OQ 392090",
          "STON/O 2. 3101269",
          "STON/O 2. 3101273",
          "STON/O 2. 3101274",
          "STON/O 2. 3101275",
          "STON/O 2. 3101280",
          "STON/O 2. 3101285",
          "STON/O 2. 3101286",
          "STON/O 2. 3101288",
          "STON/O 2. 3101289",
          "STON/O 2. 3101292",
          "STON/O 2. 3101293",
          "STON/O 2. 3101294",
          "STON/O2. 3101271",
          "STON/O2. 3101279",
          "STON/O2. 3101282",
          "STON/O2. 3101283",
          "STON/O2. 3101290",
          "SW/PP 751",
          "W./C. 14258",
          "W./C. 14263",
          "W./C. 6607",
          "W./C. 6608",
          "W./C. 6609",
          "W/C 14208"
         ],
         "xaxis": "x",
         "y": [
          26.55,
          26.55,
          26.55,
          0,
          39.6,
          47.1,
          151.55,
          52,
          26.55,
          26.55,
          42.4,
          31,
          26.55,
          30.5,
          26.55,
          21,
          13,
          7.75,
          7.75,
          7.75,
          7.75,
          8.05,
          56.495799999999996,
          110.8833,
          78.85,
          0,
          26,
          13,
          8.05,
          13.5,
          12.35,
          13,
          65,
          8.3,
          13.5,
          26,
          26,
          13,
          26,
          13,
          23,
          11.5,
          13,
          13,
          13,
          13,
          13,
          12.35,
          13,
          13,
          26,
          13.5,
          15,
          13,
          13,
          30.0708,
          30,
          13,
          0,
          0,
          0,
          0,
          26,
          12.65,
          27,
          13,
          26,
          13,
          10.5,
          13,
          26,
          13,
          26,
          13,
          16,
          13,
          33,
          13.5,
          29,
          13,
          13,
          13,
          19.5,
          13,
          13,
          13,
          14.5,
          26,
          13,
          13,
          26,
          7.225,
          7.225,
          7.225,
          8.5167,
          7.2292,
          14.4583,
          7.225,
          7.2292,
          7.225,
          26,
          7.2292,
          7.225,
          4.0125,
          7.225,
          15.2458,
          11.2417,
          15.7417,
          14.4542,
          15.2458,
          21.6792,
          7.2292,
          7.225,
          14.4542,
          19.2583,
          7.225,
          22.3583,
          7.2292,
          26,
          7.2292,
          7.225,
          7.225,
          7.2292,
          15.2458,
          14.4542,
          6.4375,
          7.2292,
          7.2292,
          7.2292,
          14.4583,
          7.2292,
          14.4542,
          7.2292,
          7.225,
          7.2292,
          7.2292,
          18.7875,
          7.2292,
          13,
          11.5,
          10.5,
          13,
          32.5,
          13,
          26,
          13,
          13,
          21,
          10.5,
          14,
          26,
          23,
          11.5,
          23,
          18.75,
          11.5,
          26,
          39,
          13,
          6.4958,
          7.4958,
          6.4958,
          7.925,
          7.925,
          15.85,
          7.925,
          39.6875,
          7.925,
          12.2875,
          21,
          10.5,
          7.775,
          7.775,
          7.775,
          13,
          8.6625,
          7.875,
          8.6625,
          8.6625,
          8.6625,
          8.6625,
          8.6625,
          8.6625,
          8.6625,
          8.6625,
          8.6625,
          8.6625,
          8.6625,
          22.025,
          7.25,
          8.05,
          8.05,
          8.4583,
          7.6292,
          7.8292,
          8.0292,
          7.8792,
          7.7875,
          8.1375,
          7.8792,
          7.8792,
          7.8292,
          7.8792,
          7.7333,
          7.75,
          7.75,
          7.75,
          8.7125,
          8.05,
          8.05,
          8.05,
          7.65,
          8.05,
          8.05,
          6.2375,
          17.4,
          18,
          18,
          9,
          9,
          9.5,
          9.5,
          24.149999999999995,
          9.5,
          9.5,
          9.5,
          9.5,
          9.5,
          9.5,
          9.5,
          7.0458,
          7.775,
          6.975,
          7.775,
          7.775,
          7.75,
          7.775,
          7.775,
          7.775,
          7.775,
          7.75,
          7.775,
          7.775,
          31.3875,
          7.75,
          14.4,
          7.75,
          31.275,
          7.775,
          7.775,
          7.775,
          27.899999999999995,
          6.975,
          7.8875,
          7.8542,
          7.8542,
          7.8542,
          7.8542,
          11.1333,
          7.0542,
          7.8958,
          7.8958,
          7.8958,
          7.8958,
          7.8958,
          7.8958,
          7.8958,
          7.4958,
          7.4958,
          7.8958,
          7.8958,
          7.8958,
          7.8958,
          7.8958,
          7.8958,
          7.8958,
          7.8958,
          7.8958,
          7.8958,
          7.8958,
          7.8958,
          7.8958,
          7.8958,
          10.1708,
          7.8958,
          7.8958,
          7.8958,
          8.85,
          17.8,
          8.6625,
          7.8958,
          7.8958,
          7.8958,
          7.8958,
          8.6833,
          7.8958,
          7.8958,
          7.8958,
          7.8958,
          7.8958,
          7.8958,
          7.8958,
          7.8958,
          7.8958,
          13.4167,
          7.8958,
          21.075,
          15.55,
          7.775,
          7.8542,
          14.1083,
          7.8542,
          7.7958,
          7.7958,
          7.7958,
          7.7958,
          7.7958,
          7.8542,
          7.8542,
          7.0542,
          7.8542,
          7.7958,
          7.5208,
          7.8542,
          7.8542,
          7.8542,
          7.8542,
          7.7333,
          7.7333,
          14.5,
          7.725,
          7.25,
          20.525,
          8.05,
          8.05,
          14.5,
          8.05,
          7.25,
          8.05,
          8.05,
          8.05,
          12.475,
          7.75,
          7.75,
          15.5,
          7.75,
          7.75,
          6.75,
          6.75,
          15.5,
          23.25,
          7.75,
          7.75,
          15.5,
          7.75,
          7.75,
          7.7292,
          6.95,
          7.7417,
          7.7375,
          7.7375,
          7.75,
          164.8667,
          20.2125,
          15.5,
          7.75,
          7.75,
          15.5,
          7.75,
          7.75,
          7.75,
          7.75,
          7.75,
          7.75,
          24.149999999999995,
          16.1,
          7.75,
          8.05,
          8.05,
          7.25,
          8.05,
          16.1,
          16.1,
          7.75,
          7.75,
          29.125,
          7.75,
          16.1,
          9.35,
          8.05,
          6.8583,
          25.4667,
          9.5875,
          9.5875,
          9.825,
          9.825,
          9.8417,
          8.4042,
          16.1,
          19.9667,
          19.9667,
          8.1125,
          9.225,
          26,
          9.225,
          9.53125,
          8.6542,
          9.4833,
          9.475,
          10.5167,
          9.8375,
          8.05,
          8.3625,
          8.4333,
          7.75,
          8.05,
          8.05,
          8.05,
          8.05,
          8.05,
          24.15,
          8.05,
          7.25,
          7.8,
          7.25,
          7.25,
          7.25,
          7.25,
          8.05,
          8.05,
          8.05,
          8.05,
          8.05,
          7.25,
          8.05,
          7.7333,
          8.05,
          16.1,
          14.5,
          14.5,
          8.05,
          8.05,
          7.1417,
          22.525,
          6.45,
          7.25,
          7.25,
          10.5,
          10.5,
          20.575,
          10.5,
          10.5,
          20.25,
          13,
          10.5,
          10.5,
          26.25,
          10.5,
          36.75,
          15.75,
          27.75,
          15.9,
          7.55,
          15.1,
          10.5,
          46.9,
          7.55,
          69.55,
          21,
          26.25,
          10.5,
          7.3125,
          0,
          24,
          25.925,
          79.2,
          61.3792,
          30.6958,
          27.7208,
          59.4,
          82.1708,
          27.7208,
          49.5042,
          133.65,
          27.7208,
          512.3292,
          227.525,
          135.6333,
          106.425,
          9.35,
          8.05,
          37.0042,
          10.5,
          7.55,
          73.5,
          12.525,
          8.1583,
          10.5,
          12,
          26,
          26,
          15.05,
          15.0458,
          13.8625,
          13.8583,
          27.7208,
          41.5792,
          12.275,
          10.5,
          7.05,
          7.05,
          7.05,
          7.05,
          7.05,
          7.05,
          8.05,
          7.125,
          7.925,
          8.05,
          7.25,
          7.05,
          8.05,
          8.05,
          8.05,
          8.05,
          7.925,
          7.125,
          7.125,
          7.125,
          7.925,
          7.925,
          7.925,
          7.925,
          7.925,
          7.925,
          7.925,
          7.925,
          7.925,
          15.85,
          7.925,
          7.925,
          7.925,
          10.5,
          10.5,
          10.5,
          23.45,
          34.375,
          7.55,
          10.5
         ],
         "yaxis": "y"
        }
       ],
       "layout": {
        "barmode": "relative",
        "legend": {
         "title": {
          "text": "HasCabin"
         },
         "tracegroupgap": 0
        },
        "template": {
         "data": {
          "bar": [
           {
            "error_x": {
             "color": "#2a3f5f"
            },
            "error_y": {
             "color": "#2a3f5f"
            },
            "marker": {
             "line": {
              "color": "#E5ECF6",
              "width": 0.5
             },
             "pattern": {
              "fillmode": "overlay",
              "size": 10,
              "solidity": 0.2
             }
            },
            "type": "bar"
           }
          ],
          "barpolar": [
           {
            "marker": {
             "line": {
              "color": "#E5ECF6",
              "width": 0.5
             },
             "pattern": {
              "fillmode": "overlay",
              "size": 10,
              "solidity": 0.2
             }
            },
            "type": "barpolar"
           }
          ],
          "carpet": [
           {
            "aaxis": {
             "endlinecolor": "#2a3f5f",
             "gridcolor": "white",
             "linecolor": "white",
             "minorgridcolor": "white",
             "startlinecolor": "#2a3f5f"
            },
            "baxis": {
             "endlinecolor": "#2a3f5f",
             "gridcolor": "white",
             "linecolor": "white",
             "minorgridcolor": "white",
             "startlinecolor": "#2a3f5f"
            },
            "type": "carpet"
           }
          ],
          "choropleth": [
           {
            "colorbar": {
             "outlinewidth": 0,
             "ticks": ""
            },
            "type": "choropleth"
           }
          ],
          "contour": [
           {
            "colorbar": {
             "outlinewidth": 0,
             "ticks": ""
            },
            "colorscale": [
             [
              0,
              "#0d0887"
             ],
             [
              0.1111111111111111,
              "#46039f"
             ],
             [
              0.2222222222222222,
              "#7201a8"
             ],
             [
              0.3333333333333333,
              "#9c179e"
             ],
             [
              0.4444444444444444,
              "#bd3786"
             ],
             [
              0.5555555555555556,
              "#d8576b"
             ],
             [
              0.6666666666666666,
              "#ed7953"
             ],
             [
              0.7777777777777778,
              "#fb9f3a"
             ],
             [
              0.8888888888888888,
              "#fdca26"
             ],
             [
              1,
              "#f0f921"
             ]
            ],
            "type": "contour"
           }
          ],
          "contourcarpet": [
           {
            "colorbar": {
             "outlinewidth": 0,
             "ticks": ""
            },
            "type": "contourcarpet"
           }
          ],
          "heatmap": [
           {
            "colorbar": {
             "outlinewidth": 0,
             "ticks": ""
            },
            "colorscale": [
             [
              0,
              "#0d0887"
             ],
             [
              0.1111111111111111,
              "#46039f"
             ],
             [
              0.2222222222222222,
              "#7201a8"
             ],
             [
              0.3333333333333333,
              "#9c179e"
             ],
             [
              0.4444444444444444,
              "#bd3786"
             ],
             [
              0.5555555555555556,
              "#d8576b"
             ],
             [
              0.6666666666666666,
              "#ed7953"
             ],
             [
              0.7777777777777778,
              "#fb9f3a"
             ],
             [
              0.8888888888888888,
              "#fdca26"
             ],
             [
              1,
              "#f0f921"
             ]
            ],
            "type": "heatmap"
           }
          ],
          "heatmapgl": [
           {
            "colorbar": {
             "outlinewidth": 0,
             "ticks": ""
            },
            "colorscale": [
             [
              0,
              "#0d0887"
             ],
             [
              0.1111111111111111,
              "#46039f"
             ],
             [
              0.2222222222222222,
              "#7201a8"
             ],
             [
              0.3333333333333333,
              "#9c179e"
             ],
             [
              0.4444444444444444,
              "#bd3786"
             ],
             [
              0.5555555555555556,
              "#d8576b"
             ],
             [
              0.6666666666666666,
              "#ed7953"
             ],
             [
              0.7777777777777778,
              "#fb9f3a"
             ],
             [
              0.8888888888888888,
              "#fdca26"
             ],
             [
              1,
              "#f0f921"
             ]
            ],
            "type": "heatmapgl"
           }
          ],
          "histogram": [
           {
            "marker": {
             "pattern": {
              "fillmode": "overlay",
              "size": 10,
              "solidity": 0.2
             }
            },
            "type": "histogram"
           }
          ],
          "histogram2d": [
           {
            "colorbar": {
             "outlinewidth": 0,
             "ticks": ""
            },
            "colorscale": [
             [
              0,
              "#0d0887"
             ],
             [
              0.1111111111111111,
              "#46039f"
             ],
             [
              0.2222222222222222,
              "#7201a8"
             ],
             [
              0.3333333333333333,
              "#9c179e"
             ],
             [
              0.4444444444444444,
              "#bd3786"
             ],
             [
              0.5555555555555556,
              "#d8576b"
             ],
             [
              0.6666666666666666,
              "#ed7953"
             ],
             [
              0.7777777777777778,
              "#fb9f3a"
             ],
             [
              0.8888888888888888,
              "#fdca26"
             ],
             [
              1,
              "#f0f921"
             ]
            ],
            "type": "histogram2d"
           }
          ],
          "histogram2dcontour": [
           {
            "colorbar": {
             "outlinewidth": 0,
             "ticks": ""
            },
            "colorscale": [
             [
              0,
              "#0d0887"
             ],
             [
              0.1111111111111111,
              "#46039f"
             ],
             [
              0.2222222222222222,
              "#7201a8"
             ],
             [
              0.3333333333333333,
              "#9c179e"
             ],
             [
              0.4444444444444444,
              "#bd3786"
             ],
             [
              0.5555555555555556,
              "#d8576b"
             ],
             [
              0.6666666666666666,
              "#ed7953"
             ],
             [
              0.7777777777777778,
              "#fb9f3a"
             ],
             [
              0.8888888888888888,
              "#fdca26"
             ],
             [
              1,
              "#f0f921"
             ]
            ],
            "type": "histogram2dcontour"
           }
          ],
          "mesh3d": [
           {
            "colorbar": {
             "outlinewidth": 0,
             "ticks": ""
            },
            "type": "mesh3d"
           }
          ],
          "parcoords": [
           {
            "line": {
             "colorbar": {
              "outlinewidth": 0,
              "ticks": ""
             }
            },
            "type": "parcoords"
           }
          ],
          "pie": [
           {
            "automargin": true,
            "type": "pie"
           }
          ],
          "scatter": [
           {
            "fillpattern": {
             "fillmode": "overlay",
             "size": 10,
             "solidity": 0.2
            },
            "type": "scatter"
           }
          ],
          "scatter3d": [
           {
            "line": {
             "colorbar": {
              "outlinewidth": 0,
              "ticks": ""
             }
            },
            "marker": {
             "colorbar": {
              "outlinewidth": 0,
              "ticks": ""
             }
            },
            "type": "scatter3d"
           }
          ],
          "scattercarpet": [
           {
            "marker": {
             "colorbar": {
              "outlinewidth": 0,
              "ticks": ""
             }
            },
            "type": "scattercarpet"
           }
          ],
          "scattergeo": [
           {
            "marker": {
             "colorbar": {
              "outlinewidth": 0,
              "ticks": ""
             }
            },
            "type": "scattergeo"
           }
          ],
          "scattergl": [
           {
            "marker": {
             "colorbar": {
              "outlinewidth": 0,
              "ticks": ""
             }
            },
            "type": "scattergl"
           }
          ],
          "scattermapbox": [
           {
            "marker": {
             "colorbar": {
              "outlinewidth": 0,
              "ticks": ""
             }
            },
            "type": "scattermapbox"
           }
          ],
          "scatterpolar": [
           {
            "marker": {
             "colorbar": {
              "outlinewidth": 0,
              "ticks": ""
             }
            },
            "type": "scatterpolar"
           }
          ],
          "scatterpolargl": [
           {
            "marker": {
             "colorbar": {
              "outlinewidth": 0,
              "ticks": ""
             }
            },
            "type": "scatterpolargl"
           }
          ],
          "scatterternary": [
           {
            "marker": {
             "colorbar": {
              "outlinewidth": 0,
              "ticks": ""
             }
            },
            "type": "scatterternary"
           }
          ],
          "surface": [
           {
            "colorbar": {
             "outlinewidth": 0,
             "ticks": ""
            },
            "colorscale": [
             [
              0,
              "#0d0887"
             ],
             [
              0.1111111111111111,
              "#46039f"
             ],
             [
              0.2222222222222222,
              "#7201a8"
             ],
             [
              0.3333333333333333,
              "#9c179e"
             ],
             [
              0.4444444444444444,
              "#bd3786"
             ],
             [
              0.5555555555555556,
              "#d8576b"
             ],
             [
              0.6666666666666666,
              "#ed7953"
             ],
             [
              0.7777777777777778,
              "#fb9f3a"
             ],
             [
              0.8888888888888888,
              "#fdca26"
             ],
             [
              1,
              "#f0f921"
             ]
            ],
            "type": "surface"
           }
          ],
          "table": [
           {
            "cells": {
             "fill": {
              "color": "#EBF0F8"
             },
             "line": {
              "color": "white"
             }
            },
            "header": {
             "fill": {
              "color": "#C8D4E3"
             },
             "line": {
              "color": "white"
             }
            },
            "type": "table"
           }
          ]
         },
         "layout": {
          "annotationdefaults": {
           "arrowcolor": "#2a3f5f",
           "arrowhead": 0,
           "arrowwidth": 1
          },
          "autotypenumbers": "strict",
          "coloraxis": {
           "colorbar": {
            "outlinewidth": 0,
            "ticks": ""
           }
          },
          "colorscale": {
           "diverging": [
            [
             0,
             "#8e0152"
            ],
            [
             0.1,
             "#c51b7d"
            ],
            [
             0.2,
             "#de77ae"
            ],
            [
             0.3,
             "#f1b6da"
            ],
            [
             0.4,
             "#fde0ef"
            ],
            [
             0.5,
             "#f7f7f7"
            ],
            [
             0.6,
             "#e6f5d0"
            ],
            [
             0.7,
             "#b8e186"
            ],
            [
             0.8,
             "#7fbc41"
            ],
            [
             0.9,
             "#4d9221"
            ],
            [
             1,
             "#276419"
            ]
           ],
           "sequential": [
            [
             0,
             "#0d0887"
            ],
            [
             0.1111111111111111,
             "#46039f"
            ],
            [
             0.2222222222222222,
             "#7201a8"
            ],
            [
             0.3333333333333333,
             "#9c179e"
            ],
            [
             0.4444444444444444,
             "#bd3786"
            ],
            [
             0.5555555555555556,
             "#d8576b"
            ],
            [
             0.6666666666666666,
             "#ed7953"
            ],
            [
             0.7777777777777778,
             "#fb9f3a"
            ],
            [
             0.8888888888888888,
             "#fdca26"
            ],
            [
             1,
             "#f0f921"
            ]
           ],
           "sequentialminus": [
            [
             0,
             "#0d0887"
            ],
            [
             0.1111111111111111,
             "#46039f"
            ],
            [
             0.2222222222222222,
             "#7201a8"
            ],
            [
             0.3333333333333333,
             "#9c179e"
            ],
            [
             0.4444444444444444,
             "#bd3786"
            ],
            [
             0.5555555555555556,
             "#d8576b"
            ],
            [
             0.6666666666666666,
             "#ed7953"
            ],
            [
             0.7777777777777778,
             "#fb9f3a"
            ],
            [
             0.8888888888888888,
             "#fdca26"
            ],
            [
             1,
             "#f0f921"
            ]
           ]
          },
          "colorway": [
           "#636efa",
           "#EF553B",
           "#00cc96",
           "#ab63fa",
           "#FFA15A",
           "#19d3f3",
           "#FF6692",
           "#B6E880",
           "#FF97FF",
           "#FECB52"
          ],
          "font": {
           "color": "#2a3f5f"
          },
          "geo": {
           "bgcolor": "white",
           "lakecolor": "white",
           "landcolor": "#E5ECF6",
           "showlakes": true,
           "showland": true,
           "subunitcolor": "white"
          },
          "hoverlabel": {
           "align": "left"
          },
          "hovermode": "closest",
          "mapbox": {
           "style": "light"
          },
          "paper_bgcolor": "white",
          "plot_bgcolor": "#E5ECF6",
          "polar": {
           "angularaxis": {
            "gridcolor": "white",
            "linecolor": "white",
            "ticks": ""
           },
           "bgcolor": "#E5ECF6",
           "radialaxis": {
            "gridcolor": "white",
            "linecolor": "white",
            "ticks": ""
           }
          },
          "scene": {
           "xaxis": {
            "backgroundcolor": "#E5ECF6",
            "gridcolor": "white",
            "gridwidth": 2,
            "linecolor": "white",
            "showbackground": true,
            "ticks": "",
            "zerolinecolor": "white"
           },
           "yaxis": {
            "backgroundcolor": "#E5ECF6",
            "gridcolor": "white",
            "gridwidth": 2,
            "linecolor": "white",
            "showbackground": true,
            "ticks": "",
            "zerolinecolor": "white"
           },
           "zaxis": {
            "backgroundcolor": "#E5ECF6",
            "gridcolor": "white",
            "gridwidth": 2,
            "linecolor": "white",
            "showbackground": true,
            "ticks": "",
            "zerolinecolor": "white"
           }
          },
          "shapedefaults": {
           "line": {
            "color": "#2a3f5f"
           }
          },
          "ternary": {
           "aaxis": {
            "gridcolor": "white",
            "linecolor": "white",
            "ticks": ""
           },
           "baxis": {
            "gridcolor": "white",
            "linecolor": "white",
            "ticks": ""
           },
           "bgcolor": "#E5ECF6",
           "caxis": {
            "gridcolor": "white",
            "linecolor": "white",
            "ticks": ""
           }
          },
          "title": {
           "x": 0.05
          },
          "xaxis": {
           "automargin": true,
           "gridcolor": "white",
           "linecolor": "white",
           "ticks": "",
           "title": {
            "standoff": 15
           },
           "zerolinecolor": "white",
           "zerolinewidth": 2
          },
          "yaxis": {
           "automargin": true,
           "gridcolor": "white",
           "linecolor": "white",
           "ticks": "",
           "title": {
            "standoff": 15
           },
           "zerolinecolor": "white",
           "zerolinewidth": 2
          }
         }
        },
        "title": {
         "text": "Ticket Fare Based on Cabin Availability and Ticket Number"
        },
        "xaxis": {
         "anchor": "y",
         "domain": [
          0,
          1
         ],
         "title": {
          "text": "Seat Number"
         }
        },
        "yaxis": {
         "anchor": "x",
         "domain": [
          0,
          1
         ],
         "title": {
          "text": "Ticket Rate"
         }
        }
       }
      }
     },
     "metadata": {},
     "output_type": "display_data"
    }
   ],
   "source": [
    "import plotly.express as px\n",
    "import pandas as pd\n",
    "df['HasCabin'] = df['Cabin'].notna()\n",
    "ticket_fare = df.groupby(['Ticket', 'HasCabin'])['Fare'].mean().reset_index()\n",
    "fig = px.bar(\n",
    "    ticket_fare,\n",
    "    x='Ticket',\n",
    "    y='Fare',\n",
    "    color='HasCabin',\n",
    "    labels={'Fare': 'Ticket Rate', 'Ticket': 'Seat Number'},\n",
    "    title='Ticket Fare Based on Cabin Availability and Ticket Number'\n",
    ")\n",
    "fig.show()"
   ]
  },
  {
   "cell_type": "code",
   "execution_count": 19,
   "id": "fd84d040",
   "metadata": {},
   "outputs": [
    {
     "name": "stderr",
     "output_type": "stream",
     "text": [
      "c:\\Users\\shres\\miniconda3\\envs\\501_class\\Lib\\site-packages\\plotly\\express\\_core.py:2065: FutureWarning:\n",
      "\n",
      "When grouping with a length-1 list-like, you will need to pass a length-1 tuple to get_group in a future version of pandas. Pass `(name,)` instead of `name` to silence this warning.\n",
      "\n"
     ]
    },
    {
     "data": {
      "application/vnd.plotly.v1+json": {
       "config": {
        "plotlyServerURL": "https://plot.ly"
       },
       "data": [
        {
         "alignmentgroup": "True",
         "box": {
          "visible": true
         },
         "hovertemplate": "HasCabin=False<br>Seat Number=%{x}<br>Ticket Rate=%{y}<extra></extra>",
         "legendgroup": "False",
         "marker": {
          "color": "#636efa"
         },
         "name": "False",
         "offsetgroup": "False",
         "orientation": "v",
         "points": "all",
         "scalegroup": "True",
         "showlegend": true,
         "type": "violin",
         "x": [
          "A/5 21171",
          "STON/O2. 3101282",
          "373450",
          "330877",
          "349909",
          "347742",
          "237736",
          "A/5. 2151",
          "347082",
          "350406",
          "248706",
          "382652",
          "244373",
          "345763",
          "2649",
          "239865",
          "330923",
          "349909",
          "347077",
          "2631",
          "330959",
          "349216",
          "PC 17601",
          "335677",
          "C.A. 24579",
          "PC 17604",
          "113789",
          "2677",
          "A./5. 2152",
          "345764",
          "2651",
          "7546",
          "11668",
          "349253",
          "SC/Paris 2123",
          "330958",
          "S.C./A.4. 23567",
          "370371",
          "14311",
          "2662",
          "349237",
          "3101295",
          "A/4. 39886",
          "2926",
          "C.A. 31026",
          "2697",
          "C.A. 34651",
          "CA 2144",
          "2669",
          "347088",
          "PC 17605",
          "2661",
          "S.P. 3464",
          "3101281",
          "315151",
          "C.A. 33111",
          "CA 2144",
          "S.O.C. 14879",
          "2680",
          "1601",
          "349208",
          "374746",
          "248738",
          "364516",
          "345767",
          "345779",
          "330932",
          "113059",
          "SO/C 14885",
          "3101278",
          "W./C. 6608",
          "SOTON/OQ 392086",
          "343275",
          "343276",
          "347466",
          "C.A. 2315",
          "364500",
          "374910",
          "231919",
          "244367",
          "349245",
          "349215",
          "7540",
          "3101276",
          "349207",
          "343120",
          "312991",
          "349249",
          "371110",
          "2665",
          "324669",
          "4136",
          "2627",
          "STON/O 2. 3101294",
          "370369",
          "11668",
          "347082",
          "S.O.C. 14879",
          "A4. 54510",
          "237736",
          "2651",
          "370372",
          "C 17369",
          "347061",
          "349241",
          "SOTON/O.Q. 3101307",
          "A/5. 3337",
          "228414",
          "C.A. 29178",
          "SC/PARIS 2133",
          "7534",
          "2678",
          "347081",
          "STON/O2. 3101279",
          "365222",
          "231945",
          "C.A. 33112",
          "350043",
          "W./C. 6608",
          "244310",
          "S.O.P. 1166",
          "A.5. 11206",
          "A/5. 851",
          "Fa 265302",
          "PC 17597",
          "35851",
          "SOTON/OQ 392090",
          "315037",
          "CA. 2343",
          "371362",
          "C.A. 33595",
          "347068",
          "315093",
          "3101295",
          "363291",
          "347088",
          "PC 17318",
          "1601",
          "382652",
          "347742",
          "STON/O 2. 3101280",
          "350404",
          "4133",
          "250653",
          "LINE",
          "CA. 2343",
          "SC/PARIS 2131",
          "347077",
          "315153",
          "370365",
          "111428",
          "364849",
          "349247",
          "234604",
          "28424",
          "350046",
          "368703",
          "4579",
          "370370",
          "248747",
          "345770",
          "CA. 2343",
          "3101264",
          "2628",
          "A/5 3540",
          "3101278",
          "2699",
          "367231",
          "SOTON/O.Q. 3101311",
          "F.C.C. 13528",
          "A/5 21174",
          "250646",
          "367229",
          "STON/O2. 3101283",
          "243847",
          "W/C 14208",
          "SOTON/OQ 392089",
          "220367",
          "21440",
          "349234",
          "PP 4348",
          "SW/PP 751",
          "A/5 21173",
          "236171",
          "4133",
          "347067",
          "237442",
          "347077",
          "C.A. 29566",
          "W./C. 6609",
          "26707",
          "C.A. 31921",
          "28665",
          "SCO/W 1585",
          "2665",
          "367230",
          "W./C. 14263",
          "STON/O 2. 3101275",
          "2694",
          "347071",
          "250649",
          "244252",
          "362316",
          "A/5. 3336",
          "370129",
          "2650",
          "PC 17585",
          "PC 17755",
          "230433",
          "384461",
          "347077",
          "382649",
          "C.A. 17248",
          "3101295",
          "347083",
          "113798",
          "LINE",
          "250644",
          "370375",
          "347073",
          "239853",
          "382652",
          "C.A. 2673",
          "336439",
          "347464",
          "345778",
          "A/5. 10482",
          "349239",
          "345774",
          "349206",
          "237798",
          "370373",
          "19877",
          "349236",
          "349233",
          "PC 17612",
          "2693",
          "9234",
          "367226",
          "LINE",
          "A/5 2466",
          "17421",
          "P/PP 3381",
          "250651",
          "349243",
          "F.C.C. 13529",
          "347470",
          "244367",
          "29011",
          "A/5 21172",
          "349219",
          "234818",
          "248738",
          "CA. 2343",
          "345364",
          "363291",
          "367226",
          "345764",
          "PC 17611",
          "349225",
          "7598",
          "248740",
          "244361",
          "229236",
          "31418",
          "386525",
          "C.A. 37671",
          "315088",
          "7267",
          "2695",
          "349237",
          "2647",
          "345783",
          "237671",
          "330931",
          "330980",
          "347088",
          "SC/PARIS 2167",
          "2691",
          "SOTON/O.Q. 3101310",
          "370365",
          "C 7076",
          "2626",
          "14313",
          "3101267",
          "323951",
          "PC 17760",
          "349909",
          "PC 17604",
          "C 7077",
          "2648",
          "347069",
          "PC 17757",
          "2653",
          "STON/O 2. 3101293",
          "113789",
          "349227",
          "S.O.C. 14879",
          "CA 2144",
          "27849",
          "367655",
          "SC 1748",
          "350034",
          "3101277",
          "350052",
          "350407",
          "28403",
          "244278",
          "240929",
          "STON/O 2. 3101289",
          "341826",
          "4137",
          "STON/O2. 3101279",
          "315096",
          "28664",
          "347064",
          "29106",
          "312992",
          "4133",
          "349222",
          "394140",
          "239853",
          "STON/O 2. 3101269",
          "343095",
          "28220",
          "250652",
          "28228",
          "345773",
          "349254",
          "A/5. 13032",
          "315082",
          "347080",
          "370129",
          "A/4. 34244",
          "2003",
          "250655",
          "364851",
          "376564",
          "SC/AH 3085",
          "STON/O 2. 3101274",
          "W./C. 6608",
          "29106",
          "C.A. 18723",
          "F.C.C. 13529",
          "345769",
          "347076",
          "230434",
          "65306",
          "250644",
          "113794",
          "2666",
          "C.A. 34651",
          "65303",
          "A/5 2817",
          "349240",
          "F.C.C. 13531",
          "371060",
          "364506",
          "234360",
          "A/S 2816",
          "SOTON/O.Q. 3101306",
          "239853",
          "113792",
          "36209",
          "2666",
          "323592",
          "315089",
          "C.A. 34651",
          "7553",
          "31027",
          "3460",
          "350060",
          "3101298",
          "CA 2144",
          "239854",
          "A/5 3594",
          "4134",
          "4133",
          "A.5. 18509",
          "C.A. 37671",
          "65304",
          "SOTON/OQ 3101317",
          "PC 17609",
          "A/4 45380",
          "2627",
          "C.A. 6212",
          "350035",
          "315086",
          "364846",
          "330909",
          "4135",
          "26360",
          "111427",
          "C 4001",
          "1601",
          "382651",
          "SOTON/OQ 3101316",
          "PC 17603",
          "349209",
          "371110",
          "226875",
          "349242",
          "349252",
          "2624",
          "2700",
          "367232",
          "W./C. 14258",
          "3101296",
          "29104",
          "26360",
          "2641",
          "2690",
          "2668",
          "315084",
          "F.C.C. 13529",
          "PC 17761",
          "364498",
          "347082",
          "347082",
          "2908",
          "693",
          "2908",
          "SC/PARIS 2146",
          "363291",
          "C.A. 33112",
          "244358",
          "330979",
          "2620",
          "347085",
          "113807",
          "PC 17757",
          "345572",
          "372622",
          "349251",
          "218629",
          "SOTON/OQ 392082",
          "SOTON/O.Q. 392087",
          "A/4 48871",
          "349205",
          "349909",
          "2686",
          "350417",
          "S.W./PP 752",
          "14312",
          "A/4. 20589",
          "358585",
          "243880",
          "2689",
          "STON/O 2. 3101286",
          "237789",
          "28403",
          "3411",
          "237565",
          "14973",
          "A./5. 3235",
          "STON/O 2. 3101273",
          "A/5 3902",
          "364848",
          "SC/AH 29037",
          "345773",
          "248727",
          "LINE",
          "2664",
          "243847",
          "349214",
          "113796",
          "364511",
          "111426",
          "349910",
          "349246",
          "113804",
          "SC/Paris 2123",
          "347082",
          "SOTON/O.Q. 3101305",
          "367230",
          "370377",
          "364512",
          "220845",
          "347080",
          "A/5. 3336",
          "31028",
          "2659",
          "2653",
          "350029",
          "54636",
          "219533",
          "349224",
          "334912",
          "347743",
          "112052",
          "347088",
          "237668",
          "STON/O 2. 3101292",
          "C.A. 31921",
          "3101295",
          "376564",
          "350050",
          "347088",
          "1601",
          "2666",
          "349231",
          "S.O./P.P. 751",
          "CA. 2314",
          "349221",
          "231919",
          "8475",
          "330919",
          "365226",
          "S.O.C. 14879",
          "349223",
          "364849",
          "29751",
          "PC 17611",
          "2623",
          "349210",
          "STON/O 2. 3101285",
          "S.O.C. 14879",
          "234686",
          "312993",
          "A/5 3536",
          "29750",
          "C.A. 24580",
          "244270",
          "239856",
          "349912",
          "342826",
          "4138",
          "CA 2144",
          "330935",
          "6563",
          "CA 2144",
          "29750",
          "SC/Paris 2123",
          "3101295",
          "349228",
          "350036",
          "349256",
          "1601",
          "2672",
          "113800",
          "248731",
          "363592",
          "35852",
          "2691",
          "36864",
          "350025",
          "250655",
          "223596",
          "113781",
          "2661",
          "7545",
          "250647",
          "36568",
          "347062",
          "248727",
          "350048",
          "12233",
          "250643",
          "315094",
          "31027",
          "36866",
          "236853",
          "STON/O2. 3101271",
          "2699",
          "239855",
          "28425",
          "233639",
          "54636",
          "W./C. 6608",
          "349201",
          "349218",
          "376566",
          "STON/O 2. 3101288",
          "C.A. 2673",
          "250648",
          "335097",
          "29103",
          "345780",
          "349204",
          "220845",
          "250649",
          "350042",
          "29108",
          "363294",
          "358585",
          "SOTON/O2 3101272",
          "2663",
          "347074",
          "112379",
          "364850",
          "371110",
          "8471",
          "345781",
          "350047",
          "2674",
          "29105",
          "347078",
          "364516",
          "36865",
          "2687",
          "W./C. 6607",
          "SOTON/O.Q. 3101312",
          "374887",
          "3101265",
          "382652",
          "C.A. 2315",
          "12460",
          "239865",
          "CA. 2343",
          "PC 17600",
          "349203",
          "28213",
          "349244",
          "2685",
          "345773",
          "250647",
          "C.A. 31921",
          "2625",
          "347089",
          "347063",
          "347087",
          "248723",
          "3474",
          "A/4 48871",
          "28206",
          "347082",
          "364499",
          "STON/O2. 3101290",
          "S.C./PARIS 2079",
          "C 7075",
          "347088",
          "315098",
          "19972",
          "3101295",
          "368323",
          "1601",
          "S.C./PARIS 2079",
          "367228",
          "2659",
          "29106",
          "2671",
          "347468",
          "2223",
          "315097",
          "392092",
          "1601",
          "SOTON/O2 3101287",
          "S.O./P.P. 3",
          "113798",
          "2683",
          "315090",
          "C.A. 5547",
          "CA. 2343",
          "349213",
          "248727",
          "347082",
          "347060",
          "2678",
          "244252",
          "392091",
          "36928",
          "2666",
          "2629",
          "350026",
          "28134",
          "CA. 2343",
          "233866",
          "236852",
          "SC/PARIS 2149",
          "345777",
          "347742",
          "349248",
          "345765",
          "P/PP 3381",
          "2667",
          "7534",
          "349212",
          "349217",
          "230433",
          "349257",
          "7552",
          "C.A./SOTON 34068",
          "SOTON/OQ 392076",
          "382652",
          "211536",
          "W./C. 6607",
          "370376"
         ],
         "x0": " ",
         "xaxis": "x",
         "y": [
          7.25,
          7.925,
          8.05,
          8.4583,
          21.075,
          11.1333,
          30.0708,
          8.05,
          31.275,
          7.8542,
          16,
          29.125,
          13,
          18,
          7.225,
          26,
          8.0292,
          21.075,
          31.3875,
          7.225,
          7.8792,
          7.8958,
          27.7208,
          7.75,
          10.5,
          82.1708,
          52,
          7.2292,
          8.05,
          18,
          11.2417,
          9.475,
          21,
          7.8958,
          41.5792,
          7.8792,
          8.05,
          15.5,
          7.75,
          21.6792,
          17.8,
          39.6875,
          7.8,
          26,
          10.5,
          7.2292,
          27.75,
          46.9,
          7.2292,
          27.9,
          27.7208,
          15.2458,
          8.1583,
          7.925,
          8.6625,
          10.5,
          46.9,
          73.5,
          14.4542,
          56.4958,
          7.8958,
          8.05,
          29,
          12.475,
          9,
          9.5,
          7.7875,
          47.1,
          10.5,
          15.85,
          34.375,
          8.05,
          8.05,
          8.05,
          7.8542,
          20.575,
          7.25,
          8.05,
          23,
          26,
          7.8958,
          7.8958,
          8.6542,
          7.925,
          7.8958,
          7.65,
          7.775,
          7.8958,
          24.15,
          14.4542,
          8.05,
          9.825,
          14.4583,
          7.925,
          7.75,
          21,
          31.275,
          73.5,
          8.05,
          30.0708,
          11.2417,
          7.75,
          7.1417,
          6.975,
          7.8958,
          7.05,
          14.5,
          26,
          13,
          15.0458,
          9.2167,
          15.2458,
          7.75,
          15.85,
          6.75,
          11.5,
          36.75,
          7.7958,
          34.375,
          13,
          12.525,
          8.05,
          14.5,
          7.3125,
          61.3792,
          7.7333,
          8.05,
          8.6625,
          69.55,
          16.1,
          15.75,
          7.775,
          8.6625,
          39.6875,
          20.525,
          27.9,
          25.925,
          56.4958,
          29.125,
          11.1333,
          7.925,
          7.8542,
          25.4667,
          13,
          0,
          69.55,
          15.05,
          31.3875,
          22.025,
          15.5,
          26.55,
          15.5,
          7.8958,
          13,
          13,
          7.8542,
          7.75,
          8.4042,
          7.75,
          13,
          9.5,
          69.55,
          6.4958,
          7.225,
          8.05,
          15.85,
          18.7875,
          7.75,
          7.05,
          21,
          7.25,
          13,
          7.75,
          7.925,
          27,
          10.5,
          8.05,
          13,
          8.05,
          7.8958,
          9.35,
          10.5,
          7.25,
          13,
          25.4667,
          7.775,
          13.5,
          31.3875,
          10.5,
          7.55,
          26,
          26.25,
          10.5,
          12.275,
          14.4542,
          15.5,
          10.5,
          7.125,
          7.225,
          7.775,
          14.5,
          26,
          7.25,
          16.1,
          20.2125,
          15.2458,
          79.2,
          512.3292,
          26,
          7.75,
          31.3875,
          7.75,
          10.5,
          39.6875,
          7.775,
          31,
          0,
          19.5,
          7.75,
          7.75,
          0,
          29.125,
          20.25,
          7.75,
          7.8542,
          9.5,
          8.05,
          8.6625,
          9.5,
          7.8958,
          13,
          7.75,
          78.85,
          8.85,
          7.8958,
          27.7208,
          7.2292,
          7.75,
          23.25,
          0,
          8.05,
          110.8833,
          24,
          26,
          7.8958,
          26.25,
          7.8542,
          26,
          14,
          7.25,
          7.8958,
          12.35,
          29,
          69.55,
          6.2375,
          20.525,
          23.25,
          18,
          133.65,
          7.8958,
          8.05,
          13,
          13,
          13,
          13,
          16.1,
          15.9,
          8.6625,
          9.225,
          7.2292,
          17.8,
          7.225,
          9.5,
          13,
          7.8792,
          7.8792,
          27.9,
          27.7208,
          14.4542,
          7.05,
          15.5,
          7.25,
          7.2292,
          7.75,
          6.4958,
          8.05,
          135.6333,
          21.075,
          82.1708,
          7.25,
          4.0125,
          7.775,
          227.525,
          15.7417,
          7.925,
          52,
          7.8958,
          73.5,
          46.9,
          13,
          7.7292,
          12,
          7.7958,
          7.925,
          7.7958,
          7.8542,
          26,
          10.5,
          12.65,
          7.925,
          8.05,
          9.825,
          15.85,
          8.6625,
          21,
          7.75,
          18.75,
          7.775,
          25.4667,
          7.8958,
          6.8583,
          0,
          7.925,
          8.05,
          32.5,
          13,
          13,
          24.15,
          7.8958,
          7.7333,
          7.875,
          14.4,
          20.2125,
          7.25,
          26,
          26,
          7.75,
          16.1,
          26,
          7.125,
          34.375,
          18.75,
          10.5,
          26.25,
          9.5,
          7.775,
          13,
          8.1125,
          19.5,
          26.55,
          19.2583,
          27.75,
          19.9667,
          8.05,
          7.8958,
          10.5,
          7.75,
          8.05,
          13,
          8.05,
          7.05,
          0,
          26.55,
          7.725,
          19.2583,
          7.25,
          8.6625,
          27.75,
          9.8375,
          21,
          7.0458,
          7.5208,
          12.2875,
          46.9,
          0,
          8.05,
          9.5875,
          25.4667,
          8.05,
          15.9,
          19.9667,
          7.25,
          49.5042,
          8.05,
          14.4583,
          15.1,
          7.7958,
          8.6625,
          7.75,
          7.6292,
          9.5875,
          26,
          26.55,
          22.525,
          56.4958,
          7.75,
          8.05,
          59.4,
          7.4958,
          24.15,
          26,
          7.8958,
          7.8958,
          7.225,
          7.2292,
          7.75,
          10.5,
          7.925,
          11.5,
          26,
          7.2292,
          7.2292,
          22.3583,
          8.6625,
          26.25,
          106.425,
          14.5,
          31.275,
          31.275,
          26,
          26,
          26,
          13.8625,
          20.525,
          36.75,
          26,
          7.8292,
          7.225,
          7.775,
          26.55,
          227.525,
          17.4,
          7.75,
          7.8958,
          13.5,
          8.05,
          8.05,
          24.15,
          7.8958,
          21.075,
          7.2292,
          7.8542,
          10.5,
          7.75,
          8.05,
          14.5,
          13,
          14.4583,
          7.925,
          30,
          26,
          8.7125,
          15,
          8.05,
          8.05,
          7.125,
          7.25,
          7.75,
          26,
          24.15,
          33,
          0,
          7.225,
          27,
          7.8958,
          42.4,
          8.05,
          26.55,
          15.55,
          7.8958,
          30.5,
          41.5792,
          31.275,
          7.05,
          15.5,
          7.75,
          8.05,
          65,
          14.4,
          16.1,
          10.5,
          14.4542,
          15.7417,
          7.8542,
          16.1,
          12.35,
          7.8958,
          7.7333,
          7.0542,
          0,
          27.9,
          13,
          7.925,
          26.25,
          39.6875,
          16.1,
          7.8542,
          27.9,
          56.4958,
          19.2583,
          7.8958,
          7.55,
          7.55,
          7.8958,
          23,
          8.4333,
          7.8292,
          6.75,
          73.5,
          7.8958,
          15.5,
          13,
          133.65,
          7.225,
          7.4958,
          7.925,
          73.5,
          13,
          7.775,
          8.05,
          39,
          10.5,
          13,
          0,
          7.775,
          8.05,
          9.8417,
          46.9,
          8.1375,
          9.225,
          46.9,
          39,
          41.5792,
          39.6875,
          10.1708,
          7.7958,
          13.4167,
          56.4958,
          7.225,
          26.55,
          13.5,
          8.05,
          7.7333,
          14.4542,
          7.7417,
          7.8542,
          26,
          13.5,
          151.55,
          15.2458,
          9.4833,
          13,
          15.5,
          7.775,
          33,
          7.0542,
          13,
          13,
          8.6625,
          21,
          7.7375,
          26,
          7.925,
          18.7875,
          0,
          13,
          13,
          16.1,
          34.375,
          7.8958,
          7.8958,
          16.1,
          7.925,
          20.25,
          13,
          7.75,
          23,
          9.5,
          7.8958,
          65,
          14.5,
          7.7958,
          11.5,
          8.05,
          14.5,
          7.125,
          7.2292,
          7.775,
          39.6,
          7.75,
          24.15,
          8.3625,
          9.5,
          7.8542,
          7.225,
          23,
          7.75,
          12.475,
          7.7375,
          7.2292,
          23.45,
          7.05,
          7.25,
          7.4958,
          29.125,
          20.575,
          7.75,
          26,
          69.55,
          30.6958,
          7.8958,
          13,
          8.6833,
          7.2292,
          24.15,
          13,
          26.25,
          8.5167,
          6.975,
          7.775,
          7.775,
          13,
          7.8875,
          24.15,
          10.5,
          31.275,
          8.05,
          7.925,
          37.0042,
          6.45,
          27.9,
          8.6625,
          0,
          39.6875,
          6.95,
          56.4958,
          37.0042,
          7.75,
          14.4542,
          18.75,
          7.2292,
          7.8542,
          8.3,
          8.6625,
          8.05,
          56.4958,
          7.925,
          10.5,
          31,
          6.4375,
          8.6625,
          7.55,
          69.55,
          7.8958,
          33,
          31.275,
          7.775,
          15.2458,
          26,
          9.35,
          164.8667,
          19.2583,
          7.2292,
          14.1083,
          11.5,
          69.55,
          13,
          13,
          13.8583,
          9.5,
          11.1333,
          7.8958,
          9,
          24,
          7.225,
          9.8458,
          7.8958,
          7.8958,
          26,
          7.8958,
          10.5167,
          10.5,
          7.05,
          29.125,
          13,
          23.45,
          7.75
         ],
         "y0": " ",
         "yaxis": "y"
        },
        {
         "alignmentgroup": "True",
         "box": {
          "visible": true
         },
         "hovertemplate": "HasCabin=True<br>Seat Number=%{x}<br>Ticket Rate=%{y}<extra></extra>",
         "legendgroup": "True",
         "marker": {
          "color": "#EF553B"
         },
         "name": "True",
         "offsetgroup": "True",
         "orientation": "v",
         "points": "all",
         "scalegroup": "True",
         "showlegend": true,
         "type": "violin",
         "x": [
          "PC 17599",
          "113803",
          "17463",
          "PP 9549",
          "113783",
          "248698",
          "113788",
          "19950",
          "PC 17569",
          "PC 17572",
          "113509",
          "19947",
          "113572",
          "36973",
          "C.A. 29395",
          "348123",
          "19950",
          "W.E.P. 5734",
          "PC 17754",
          "PC 17759",
          "35281",
          "110465",
          "PC 17558",
          "27267",
          "35281",
          "2668",
          "11752",
          "113803",
          "PC 17593",
          "230080",
          "113776",
          "113505",
          "111240",
          "17764",
          "PC 17595",
          "230136",
          "113767",
          "230080",
          "PC 17610",
          "PC 17569",
          "347054",
          "112277",
          "35273",
          "11813",
          "19943",
          "36973",
          "19928",
          "11751",
          "347054",
          "113514",
          "110152",
          "110413",
          "112059",
          "PC 17582",
          "PC 17760",
          "PC 17596",
          "13502",
          "113056",
          "11967",
          "SC/Paris 2163",
          "113781",
          "19988",
          "PC 17558",
          "226593",
          "113781",
          "PC 17758",
          "PC 17485",
          "11767",
          "PC 17608",
          "36928",
          "16966",
          "PC 17760",
          "28551",
          "111361",
          "113043",
          "PC 17582",
          "113776",
          "16966",
          "113784",
          "230080",
          "19950",
          "248733",
          "113510",
          "113505",
          "110813",
          "PC 17477",
          "11765",
          "113503",
          "113760",
          "35273",
          "PP 9549",
          "19928",
          "SOTON/O.Q. 392078",
          "110564",
          "13507",
          "113760",
          "19950",
          "33638",
          "113786",
          "113051",
          "17453",
          "13509",
          "17464",
          "19952",
          "111320",
          "SC/AH Basle 541",
          "110465",
          "11967",
          "19943",
          "11771",
          "113787",
          "36947",
          "113781",
          "110152",
          "PC 17758",
          "PC 17473",
          "36967",
          "C.A. 34260",
          "12749",
          "111361",
          "PC 17483",
          "113050",
          "13568",
          "WE/P 5735",
          "PC 17761",
          "17421",
          "11755",
          "110413",
          "11769",
          "PC 17474",
          "13507",
          "17421",
          "13049",
          "110413",
          "13567",
          "36947",
          "PC 17485",
          "PC 17582",
          "230136",
          "11753",
          "36963",
          "13502",
          "27042",
          "13214",
          "PC 17477",
          "PC 17572",
          "13213",
          "35273",
          "5727",
          "19996",
          "F.C. 12750",
          "PC 17755",
          "PC 17572",
          "24160",
          "17474",
          "17421",
          "348121",
          "PC 17757",
          "PC 17475",
          "PC 17476",
          "PC 17482",
          "113028",
          "19996",
          "348124",
          "PC 17757",
          "34218",
          "113806",
          "24160",
          "PC 17755",
          "16988",
          "19877",
          "PC 17608",
          "WE/P 5735",
          "113773",
          "392096",
          "110152",
          "113760",
          "13502",
          "S.O./P.P. 3",
          "383121",
          "24160",
          "17474",
          "113501",
          "PC 17593",
          "17465",
          "113760",
          "112050",
          "113806",
          "112058",
          "12749",
          "392096",
          "113572",
          "PC 17756",
          "11774",
          "17453",
          "PC 17592",
          "113055",
          "17466",
          "PC 17590",
          "11751",
          "695",
          "11767",
          "112053",
          "111369"
         ],
         "x0": " ",
         "xaxis": "x",
         "y": [
          71.2833,
          53.1,
          51.8625,
          16.7,
          26.55,
          13,
          35.5,
          263,
          146.5208,
          76.7292,
          61.9792,
          35.5,
          80,
          83.475,
          10.5,
          7.65,
          263,
          61.175,
          34.6542,
          63.3583,
          77.2875,
          52,
          247.5208,
          13,
          77.2875,
          22.3583,
          26.2833,
          53.1,
          79.2,
          26,
          66.6,
          55,
          33.5,
          30.6958,
          28.7125,
          39,
          50,
          26,
          27.7208,
          146.5208,
          10.4625,
          31,
          113.275,
          76.2917,
          90,
          83.475,
          90,
          52.5542,
          10.4625,
          26.55,
          86.5,
          79.65,
          0,
          153.4625,
          135.6333,
          29.7,
          77.9583,
          26,
          91.0792,
          12.875,
          151.55,
          30.5,
          247.5208,
          12.35,
          151.55,
          108.9,
          56.9292,
          83.1583,
          262.375,
          164.8667,
          134.5,
          135.6333,
          13,
          57.9792,
          28.5,
          153.4625,
          66.6,
          134.5,
          35.5,
          26,
          263,
          13,
          35,
          55,
          75.25,
          69.3,
          55.4417,
          211.5,
          120,
          113.275,
          16.7,
          90,
          8.05,
          26.55,
          55.9,
          120,
          263,
          81.8583,
          30.5,
          27.75,
          89.1042,
          26.55,
          51.8625,
          26.55,
          38.5,
          13.7917,
          52,
          91.0792,
          90,
          29.7,
          30.5,
          78.2667,
          151.55,
          86.5,
          108.9,
          26.2875,
          34.0208,
          10.5,
          93.5,
          57.9792,
          221.7792,
          26.55,
          49.5,
          71,
          106.425,
          110.8833,
          39.6,
          79.65,
          51.4792,
          26.3875,
          55.9,
          110.8833,
          40.125,
          79.65,
          79.2,
          78.2667,
          56.9292,
          153.4625,
          39,
          52.5542,
          32.3208,
          77.9583,
          30,
          30.5,
          69.3,
          76.7292,
          35.5,
          113.275,
          25.5875,
          52,
          52,
          512.3292,
          76.7292,
          211.3375,
          57,
          110.8833,
          7.65,
          227.525,
          26.2875,
          26.2875,
          49.5042,
          26.55,
          52,
          7.65,
          227.525,
          10.5,
          53.1,
          211.3375,
          512.3292,
          30,
          78.85,
          262.375,
          71,
          53.1,
          12.475,
          86.5,
          120,
          77.9583,
          10.5,
          7.75,
          211.3375,
          57,
          30,
          79.2,
          25.9292,
          120,
          0,
          53.1,
          0,
          93.5,
          12.475,
          80,
          83.1583,
          29.7,
          89.1042,
          39.4,
          26.55,
          25.9292,
          50.4958,
          52.5542,
          5,
          83.1583,
          30,
          30
         ],
         "y0": " ",
         "yaxis": "y"
        }
       ],
       "layout": {
        "legend": {
         "title": {
          "text": "HasCabin"
         },
         "tracegroupgap": 0
        },
        "template": {
         "data": {
          "bar": [
           {
            "error_x": {
             "color": "#2a3f5f"
            },
            "error_y": {
             "color": "#2a3f5f"
            },
            "marker": {
             "line": {
              "color": "#E5ECF6",
              "width": 0.5
             },
             "pattern": {
              "fillmode": "overlay",
              "size": 10,
              "solidity": 0.2
             }
            },
            "type": "bar"
           }
          ],
          "barpolar": [
           {
            "marker": {
             "line": {
              "color": "#E5ECF6",
              "width": 0.5
             },
             "pattern": {
              "fillmode": "overlay",
              "size": 10,
              "solidity": 0.2
             }
            },
            "type": "barpolar"
           }
          ],
          "carpet": [
           {
            "aaxis": {
             "endlinecolor": "#2a3f5f",
             "gridcolor": "white",
             "linecolor": "white",
             "minorgridcolor": "white",
             "startlinecolor": "#2a3f5f"
            },
            "baxis": {
             "endlinecolor": "#2a3f5f",
             "gridcolor": "white",
             "linecolor": "white",
             "minorgridcolor": "white",
             "startlinecolor": "#2a3f5f"
            },
            "type": "carpet"
           }
          ],
          "choropleth": [
           {
            "colorbar": {
             "outlinewidth": 0,
             "ticks": ""
            },
            "type": "choropleth"
           }
          ],
          "contour": [
           {
            "colorbar": {
             "outlinewidth": 0,
             "ticks": ""
            },
            "colorscale": [
             [
              0,
              "#0d0887"
             ],
             [
              0.1111111111111111,
              "#46039f"
             ],
             [
              0.2222222222222222,
              "#7201a8"
             ],
             [
              0.3333333333333333,
              "#9c179e"
             ],
             [
              0.4444444444444444,
              "#bd3786"
             ],
             [
              0.5555555555555556,
              "#d8576b"
             ],
             [
              0.6666666666666666,
              "#ed7953"
             ],
             [
              0.7777777777777778,
              "#fb9f3a"
             ],
             [
              0.8888888888888888,
              "#fdca26"
             ],
             [
              1,
              "#f0f921"
             ]
            ],
            "type": "contour"
           }
          ],
          "contourcarpet": [
           {
            "colorbar": {
             "outlinewidth": 0,
             "ticks": ""
            },
            "type": "contourcarpet"
           }
          ],
          "heatmap": [
           {
            "colorbar": {
             "outlinewidth": 0,
             "ticks": ""
            },
            "colorscale": [
             [
              0,
              "#0d0887"
             ],
             [
              0.1111111111111111,
              "#46039f"
             ],
             [
              0.2222222222222222,
              "#7201a8"
             ],
             [
              0.3333333333333333,
              "#9c179e"
             ],
             [
              0.4444444444444444,
              "#bd3786"
             ],
             [
              0.5555555555555556,
              "#d8576b"
             ],
             [
              0.6666666666666666,
              "#ed7953"
             ],
             [
              0.7777777777777778,
              "#fb9f3a"
             ],
             [
              0.8888888888888888,
              "#fdca26"
             ],
             [
              1,
              "#f0f921"
             ]
            ],
            "type": "heatmap"
           }
          ],
          "heatmapgl": [
           {
            "colorbar": {
             "outlinewidth": 0,
             "ticks": ""
            },
            "colorscale": [
             [
              0,
              "#0d0887"
             ],
             [
              0.1111111111111111,
              "#46039f"
             ],
             [
              0.2222222222222222,
              "#7201a8"
             ],
             [
              0.3333333333333333,
              "#9c179e"
             ],
             [
              0.4444444444444444,
              "#bd3786"
             ],
             [
              0.5555555555555556,
              "#d8576b"
             ],
             [
              0.6666666666666666,
              "#ed7953"
             ],
             [
              0.7777777777777778,
              "#fb9f3a"
             ],
             [
              0.8888888888888888,
              "#fdca26"
             ],
             [
              1,
              "#f0f921"
             ]
            ],
            "type": "heatmapgl"
           }
          ],
          "histogram": [
           {
            "marker": {
             "pattern": {
              "fillmode": "overlay",
              "size": 10,
              "solidity": 0.2
             }
            },
            "type": "histogram"
           }
          ],
          "histogram2d": [
           {
            "colorbar": {
             "outlinewidth": 0,
             "ticks": ""
            },
            "colorscale": [
             [
              0,
              "#0d0887"
             ],
             [
              0.1111111111111111,
              "#46039f"
             ],
             [
              0.2222222222222222,
              "#7201a8"
             ],
             [
              0.3333333333333333,
              "#9c179e"
             ],
             [
              0.4444444444444444,
              "#bd3786"
             ],
             [
              0.5555555555555556,
              "#d8576b"
             ],
             [
              0.6666666666666666,
              "#ed7953"
             ],
             [
              0.7777777777777778,
              "#fb9f3a"
             ],
             [
              0.8888888888888888,
              "#fdca26"
             ],
             [
              1,
              "#f0f921"
             ]
            ],
            "type": "histogram2d"
           }
          ],
          "histogram2dcontour": [
           {
            "colorbar": {
             "outlinewidth": 0,
             "ticks": ""
            },
            "colorscale": [
             [
              0,
              "#0d0887"
             ],
             [
              0.1111111111111111,
              "#46039f"
             ],
             [
              0.2222222222222222,
              "#7201a8"
             ],
             [
              0.3333333333333333,
              "#9c179e"
             ],
             [
              0.4444444444444444,
              "#bd3786"
             ],
             [
              0.5555555555555556,
              "#d8576b"
             ],
             [
              0.6666666666666666,
              "#ed7953"
             ],
             [
              0.7777777777777778,
              "#fb9f3a"
             ],
             [
              0.8888888888888888,
              "#fdca26"
             ],
             [
              1,
              "#f0f921"
             ]
            ],
            "type": "histogram2dcontour"
           }
          ],
          "mesh3d": [
           {
            "colorbar": {
             "outlinewidth": 0,
             "ticks": ""
            },
            "type": "mesh3d"
           }
          ],
          "parcoords": [
           {
            "line": {
             "colorbar": {
              "outlinewidth": 0,
              "ticks": ""
             }
            },
            "type": "parcoords"
           }
          ],
          "pie": [
           {
            "automargin": true,
            "type": "pie"
           }
          ],
          "scatter": [
           {
            "fillpattern": {
             "fillmode": "overlay",
             "size": 10,
             "solidity": 0.2
            },
            "type": "scatter"
           }
          ],
          "scatter3d": [
           {
            "line": {
             "colorbar": {
              "outlinewidth": 0,
              "ticks": ""
             }
            },
            "marker": {
             "colorbar": {
              "outlinewidth": 0,
              "ticks": ""
             }
            },
            "type": "scatter3d"
           }
          ],
          "scattercarpet": [
           {
            "marker": {
             "colorbar": {
              "outlinewidth": 0,
              "ticks": ""
             }
            },
            "type": "scattercarpet"
           }
          ],
          "scattergeo": [
           {
            "marker": {
             "colorbar": {
              "outlinewidth": 0,
              "ticks": ""
             }
            },
            "type": "scattergeo"
           }
          ],
          "scattergl": [
           {
            "marker": {
             "colorbar": {
              "outlinewidth": 0,
              "ticks": ""
             }
            },
            "type": "scattergl"
           }
          ],
          "scattermapbox": [
           {
            "marker": {
             "colorbar": {
              "outlinewidth": 0,
              "ticks": ""
             }
            },
            "type": "scattermapbox"
           }
          ],
          "scatterpolar": [
           {
            "marker": {
             "colorbar": {
              "outlinewidth": 0,
              "ticks": ""
             }
            },
            "type": "scatterpolar"
           }
          ],
          "scatterpolargl": [
           {
            "marker": {
             "colorbar": {
              "outlinewidth": 0,
              "ticks": ""
             }
            },
            "type": "scatterpolargl"
           }
          ],
          "scatterternary": [
           {
            "marker": {
             "colorbar": {
              "outlinewidth": 0,
              "ticks": ""
             }
            },
            "type": "scatterternary"
           }
          ],
          "surface": [
           {
            "colorbar": {
             "outlinewidth": 0,
             "ticks": ""
            },
            "colorscale": [
             [
              0,
              "#0d0887"
             ],
             [
              0.1111111111111111,
              "#46039f"
             ],
             [
              0.2222222222222222,
              "#7201a8"
             ],
             [
              0.3333333333333333,
              "#9c179e"
             ],
             [
              0.4444444444444444,
              "#bd3786"
             ],
             [
              0.5555555555555556,
              "#d8576b"
             ],
             [
              0.6666666666666666,
              "#ed7953"
             ],
             [
              0.7777777777777778,
              "#fb9f3a"
             ],
             [
              0.8888888888888888,
              "#fdca26"
             ],
             [
              1,
              "#f0f921"
             ]
            ],
            "type": "surface"
           }
          ],
          "table": [
           {
            "cells": {
             "fill": {
              "color": "#EBF0F8"
             },
             "line": {
              "color": "white"
             }
            },
            "header": {
             "fill": {
              "color": "#C8D4E3"
             },
             "line": {
              "color": "white"
             }
            },
            "type": "table"
           }
          ]
         },
         "layout": {
          "annotationdefaults": {
           "arrowcolor": "#2a3f5f",
           "arrowhead": 0,
           "arrowwidth": 1
          },
          "autotypenumbers": "strict",
          "coloraxis": {
           "colorbar": {
            "outlinewidth": 0,
            "ticks": ""
           }
          },
          "colorscale": {
           "diverging": [
            [
             0,
             "#8e0152"
            ],
            [
             0.1,
             "#c51b7d"
            ],
            [
             0.2,
             "#de77ae"
            ],
            [
             0.3,
             "#f1b6da"
            ],
            [
             0.4,
             "#fde0ef"
            ],
            [
             0.5,
             "#f7f7f7"
            ],
            [
             0.6,
             "#e6f5d0"
            ],
            [
             0.7,
             "#b8e186"
            ],
            [
             0.8,
             "#7fbc41"
            ],
            [
             0.9,
             "#4d9221"
            ],
            [
             1,
             "#276419"
            ]
           ],
           "sequential": [
            [
             0,
             "#0d0887"
            ],
            [
             0.1111111111111111,
             "#46039f"
            ],
            [
             0.2222222222222222,
             "#7201a8"
            ],
            [
             0.3333333333333333,
             "#9c179e"
            ],
            [
             0.4444444444444444,
             "#bd3786"
            ],
            [
             0.5555555555555556,
             "#d8576b"
            ],
            [
             0.6666666666666666,
             "#ed7953"
            ],
            [
             0.7777777777777778,
             "#fb9f3a"
            ],
            [
             0.8888888888888888,
             "#fdca26"
            ],
            [
             1,
             "#f0f921"
            ]
           ],
           "sequentialminus": [
            [
             0,
             "#0d0887"
            ],
            [
             0.1111111111111111,
             "#46039f"
            ],
            [
             0.2222222222222222,
             "#7201a8"
            ],
            [
             0.3333333333333333,
             "#9c179e"
            ],
            [
             0.4444444444444444,
             "#bd3786"
            ],
            [
             0.5555555555555556,
             "#d8576b"
            ],
            [
             0.6666666666666666,
             "#ed7953"
            ],
            [
             0.7777777777777778,
             "#fb9f3a"
            ],
            [
             0.8888888888888888,
             "#fdca26"
            ],
            [
             1,
             "#f0f921"
            ]
           ]
          },
          "colorway": [
           "#636efa",
           "#EF553B",
           "#00cc96",
           "#ab63fa",
           "#FFA15A",
           "#19d3f3",
           "#FF6692",
           "#B6E880",
           "#FF97FF",
           "#FECB52"
          ],
          "font": {
           "color": "#2a3f5f"
          },
          "geo": {
           "bgcolor": "white",
           "lakecolor": "white",
           "landcolor": "#E5ECF6",
           "showlakes": true,
           "showland": true,
           "subunitcolor": "white"
          },
          "hoverlabel": {
           "align": "left"
          },
          "hovermode": "closest",
          "mapbox": {
           "style": "light"
          },
          "paper_bgcolor": "white",
          "plot_bgcolor": "#E5ECF6",
          "polar": {
           "angularaxis": {
            "gridcolor": "white",
            "linecolor": "white",
            "ticks": ""
           },
           "bgcolor": "#E5ECF6",
           "radialaxis": {
            "gridcolor": "white",
            "linecolor": "white",
            "ticks": ""
           }
          },
          "scene": {
           "xaxis": {
            "backgroundcolor": "#E5ECF6",
            "gridcolor": "white",
            "gridwidth": 2,
            "linecolor": "white",
            "showbackground": true,
            "ticks": "",
            "zerolinecolor": "white"
           },
           "yaxis": {
            "backgroundcolor": "#E5ECF6",
            "gridcolor": "white",
            "gridwidth": 2,
            "linecolor": "white",
            "showbackground": true,
            "ticks": "",
            "zerolinecolor": "white"
           },
           "zaxis": {
            "backgroundcolor": "#E5ECF6",
            "gridcolor": "white",
            "gridwidth": 2,
            "linecolor": "white",
            "showbackground": true,
            "ticks": "",
            "zerolinecolor": "white"
           }
          },
          "shapedefaults": {
           "line": {
            "color": "#2a3f5f"
           }
          },
          "ternary": {
           "aaxis": {
            "gridcolor": "white",
            "linecolor": "white",
            "ticks": ""
           },
           "baxis": {
            "gridcolor": "white",
            "linecolor": "white",
            "ticks": ""
           },
           "bgcolor": "#E5ECF6",
           "caxis": {
            "gridcolor": "white",
            "linecolor": "white",
            "ticks": ""
           }
          },
          "title": {
           "x": 0.05
          },
          "xaxis": {
           "automargin": true,
           "gridcolor": "white",
           "linecolor": "white",
           "ticks": "",
           "title": {
            "standoff": 15
           },
           "zerolinecolor": "white",
           "zerolinewidth": 2
          },
          "yaxis": {
           "automargin": true,
           "gridcolor": "white",
           "linecolor": "white",
           "ticks": "",
           "title": {
            "standoff": 15
           },
           "zerolinecolor": "white",
           "zerolinewidth": 2
          }
         }
        },
        "title": {
         "text": "Fixing the Ticket Fare Based on Cabin Availability and Seat Number"
        },
        "violinmode": "group",
        "xaxis": {
         "anchor": "y",
         "domain": [
          0,
          1
         ],
         "title": {
          "text": "Seat Number"
         }
        },
        "yaxis": {
         "anchor": "x",
         "domain": [
          0,
          1
         ],
         "title": {
          "text": "Ticket Rate"
         }
        }
       }
      }
     },
     "metadata": {},
     "output_type": "display_data"
    }
   ],
   "source": [
    "import plotly.express as px\n",
    "import pandas as pd\n",
    "\n",
    "df['HasCabin'] = df['Cabin'].notna()\n",
    "fig2 = px.violin(\n",
    "    df,\n",
    "    x='Ticket',\n",
    "    y='Fare',\n",
    "    color='HasCabin',\n",
    "    box=True,\n",
    "    points='all',\n",
    "    labels={'Fare': 'Ticket Rate', 'Ticket': 'Seat Number'},\n",
    "    title='Fixing the Ticket Fare Based on Cabin Availability and Seat Number'\n",
    ")\n",
    "\n",
    "fig2.show()\n"
   ]
  },
  {
   "cell_type": "markdown",
   "id": "d5db71ab-b228-449d-9a64-f824678bd552",
   "metadata": {},
   "source": [
    "## Exercise 2\n",
    "\n",
    "Consider the Bubble Plot, above. Try to figure out what it might be trying to communicate.\n",
    "\n",
    "1. Point out at least three issues with this visualization.\n",
    "2. Build at least two visualizations in Plotly that communicate a similar message, but which do it far better."
   ]
  },
  {
   "cell_type": "markdown",
   "id": "074f1a34",
   "metadata": {},
   "source": [
    "These are the 3 issues which we face with the visualization-\n",
    "Difficult to compare: The bubble graph makes it difficult to compare the ticket fare of different cabin and seat number.\n",
    "Limited information: The  above graph only gives us the information about the price of the ticket selected, not the prices of all the tickets. Which makes us difficult to understand the ticket price for different seats.\n",
    "Overplotting points: As the data is dense, the issue of overplotting arises, leading to the loss of valuable information about individual data points. Overlapping points make it challenging to discern whether there are multiple points at a specific location or just one, thereby impeding the accuracy and depth of analysis."
   ]
  },
  {
   "cell_type": "code",
   "execution_count": 31,
   "id": "c648e8a3-47f8-4282-8bba-2ebf2078f705",
   "metadata": {},
   "outputs": [
    {
     "name": "stderr",
     "output_type": "stream",
     "text": [
      "c:\\Users\\shres\\miniconda3\\envs\\501_class\\Lib\\site-packages\\plotly\\express\\_core.py:2065: FutureWarning:\n",
      "\n",
      "When grouping with a length-1 list-like, you will need to pass a length-1 tuple to get_group in a future version of pandas. Pass `(name,)` instead of `name` to silence this warning.\n",
      "\n"
     ]
    },
    {
     "data": {
      "application/vnd.plotly.v1+json": {
       "config": {
        "plotlyServerURL": "https://plot.ly"
       },
       "data": [
        {
         "alignmentgroup": "True",
         "hovertemplate": "Pclass=1<br>Age_rounded=%{x}<br>Passengers=%{y}<extra></extra>",
         "legendgroup": "1",
         "marker": {
          "color": "#636efa",
          "pattern": {
           "shape": ""
          }
         },
         "name": "1",
         "offsetgroup": "1",
         "orientation": "v",
         "showlegend": true,
         "textposition": "auto",
         "type": "bar",
         "x": [
          0,
          10,
          20,
          30,
          40,
          50,
          60,
          70,
          80
         ],
         "xaxis": "x",
         "y": [
          3,
          2,
          37,
          31,
          51,
          35,
          23,
          3,
          1
         ],
         "yaxis": "y"
        },
        {
         "alignmentgroup": "True",
         "hovertemplate": "Pclass=2<br>Age_rounded=%{x}<br>Passengers=%{y}<extra></extra>",
         "legendgroup": "2",
         "marker": {
          "color": "#EF553B",
          "pattern": {
           "shape": ""
          }
         },
         "name": "2",
         "offsetgroup": "2",
         "orientation": "v",
         "showlegend": true,
         "textposition": "auto",
         "type": "bar",
         "x": [
          0,
          10,
          20,
          30,
          40,
          50,
          60,
          70
         ],
         "xaxis": "x",
         "y": [
          13,
          6,
          46,
          55,
          30,
          15,
          6,
          2
         ],
         "yaxis": "y"
        },
        {
         "alignmentgroup": "True",
         "hovertemplate": "Pclass=3<br>Age_rounded=%{x}<br>Passengers=%{y}<extra></extra>",
         "legendgroup": "3",
         "marker": {
          "color": "#00cc96",
          "pattern": {
           "shape": ""
          }
         },
         "name": "3",
         "offsetgroup": "3",
         "orientation": "v",
         "showlegend": true,
         "textposition": "auto",
         "type": "bar",
         "x": [
          0,
          10,
          20,
          30,
          40,
          50,
          60,
          70
         ],
         "xaxis": "x",
         "y": [
          28,
          26,
          140,
          92,
          51,
          11,
          5,
          2
         ],
         "yaxis": "y"
        }
       ],
       "layout": {
        "barmode": "group",
        "legend": {
         "title": {
          "text": "Pclass"
         },
         "tracegroupgap": 0
        },
        "template": {
         "data": {
          "bar": [
           {
            "error_x": {
             "color": "#2a3f5f"
            },
            "error_y": {
             "color": "#2a3f5f"
            },
            "marker": {
             "line": {
              "color": "#E5ECF6",
              "width": 0.5
             },
             "pattern": {
              "fillmode": "overlay",
              "size": 10,
              "solidity": 0.2
             }
            },
            "type": "bar"
           }
          ],
          "barpolar": [
           {
            "marker": {
             "line": {
              "color": "#E5ECF6",
              "width": 0.5
             },
             "pattern": {
              "fillmode": "overlay",
              "size": 10,
              "solidity": 0.2
             }
            },
            "type": "barpolar"
           }
          ],
          "carpet": [
           {
            "aaxis": {
             "endlinecolor": "#2a3f5f",
             "gridcolor": "white",
             "linecolor": "white",
             "minorgridcolor": "white",
             "startlinecolor": "#2a3f5f"
            },
            "baxis": {
             "endlinecolor": "#2a3f5f",
             "gridcolor": "white",
             "linecolor": "white",
             "minorgridcolor": "white",
             "startlinecolor": "#2a3f5f"
            },
            "type": "carpet"
           }
          ],
          "choropleth": [
           {
            "colorbar": {
             "outlinewidth": 0,
             "ticks": ""
            },
            "type": "choropleth"
           }
          ],
          "contour": [
           {
            "colorbar": {
             "outlinewidth": 0,
             "ticks": ""
            },
            "colorscale": [
             [
              0,
              "#0d0887"
             ],
             [
              0.1111111111111111,
              "#46039f"
             ],
             [
              0.2222222222222222,
              "#7201a8"
             ],
             [
              0.3333333333333333,
              "#9c179e"
             ],
             [
              0.4444444444444444,
              "#bd3786"
             ],
             [
              0.5555555555555556,
              "#d8576b"
             ],
             [
              0.6666666666666666,
              "#ed7953"
             ],
             [
              0.7777777777777778,
              "#fb9f3a"
             ],
             [
              0.8888888888888888,
              "#fdca26"
             ],
             [
              1,
              "#f0f921"
             ]
            ],
            "type": "contour"
           }
          ],
          "contourcarpet": [
           {
            "colorbar": {
             "outlinewidth": 0,
             "ticks": ""
            },
            "type": "contourcarpet"
           }
          ],
          "heatmap": [
           {
            "colorbar": {
             "outlinewidth": 0,
             "ticks": ""
            },
            "colorscale": [
             [
              0,
              "#0d0887"
             ],
             [
              0.1111111111111111,
              "#46039f"
             ],
             [
              0.2222222222222222,
              "#7201a8"
             ],
             [
              0.3333333333333333,
              "#9c179e"
             ],
             [
              0.4444444444444444,
              "#bd3786"
             ],
             [
              0.5555555555555556,
              "#d8576b"
             ],
             [
              0.6666666666666666,
              "#ed7953"
             ],
             [
              0.7777777777777778,
              "#fb9f3a"
             ],
             [
              0.8888888888888888,
              "#fdca26"
             ],
             [
              1,
              "#f0f921"
             ]
            ],
            "type": "heatmap"
           }
          ],
          "heatmapgl": [
           {
            "colorbar": {
             "outlinewidth": 0,
             "ticks": ""
            },
            "colorscale": [
             [
              0,
              "#0d0887"
             ],
             [
              0.1111111111111111,
              "#46039f"
             ],
             [
              0.2222222222222222,
              "#7201a8"
             ],
             [
              0.3333333333333333,
              "#9c179e"
             ],
             [
              0.4444444444444444,
              "#bd3786"
             ],
             [
              0.5555555555555556,
              "#d8576b"
             ],
             [
              0.6666666666666666,
              "#ed7953"
             ],
             [
              0.7777777777777778,
              "#fb9f3a"
             ],
             [
              0.8888888888888888,
              "#fdca26"
             ],
             [
              1,
              "#f0f921"
             ]
            ],
            "type": "heatmapgl"
           }
          ],
          "histogram": [
           {
            "marker": {
             "pattern": {
              "fillmode": "overlay",
              "size": 10,
              "solidity": 0.2
             }
            },
            "type": "histogram"
           }
          ],
          "histogram2d": [
           {
            "colorbar": {
             "outlinewidth": 0,
             "ticks": ""
            },
            "colorscale": [
             [
              0,
              "#0d0887"
             ],
             [
              0.1111111111111111,
              "#46039f"
             ],
             [
              0.2222222222222222,
              "#7201a8"
             ],
             [
              0.3333333333333333,
              "#9c179e"
             ],
             [
              0.4444444444444444,
              "#bd3786"
             ],
             [
              0.5555555555555556,
              "#d8576b"
             ],
             [
              0.6666666666666666,
              "#ed7953"
             ],
             [
              0.7777777777777778,
              "#fb9f3a"
             ],
             [
              0.8888888888888888,
              "#fdca26"
             ],
             [
              1,
              "#f0f921"
             ]
            ],
            "type": "histogram2d"
           }
          ],
          "histogram2dcontour": [
           {
            "colorbar": {
             "outlinewidth": 0,
             "ticks": ""
            },
            "colorscale": [
             [
              0,
              "#0d0887"
             ],
             [
              0.1111111111111111,
              "#46039f"
             ],
             [
              0.2222222222222222,
              "#7201a8"
             ],
             [
              0.3333333333333333,
              "#9c179e"
             ],
             [
              0.4444444444444444,
              "#bd3786"
             ],
             [
              0.5555555555555556,
              "#d8576b"
             ],
             [
              0.6666666666666666,
              "#ed7953"
             ],
             [
              0.7777777777777778,
              "#fb9f3a"
             ],
             [
              0.8888888888888888,
              "#fdca26"
             ],
             [
              1,
              "#f0f921"
             ]
            ],
            "type": "histogram2dcontour"
           }
          ],
          "mesh3d": [
           {
            "colorbar": {
             "outlinewidth": 0,
             "ticks": ""
            },
            "type": "mesh3d"
           }
          ],
          "parcoords": [
           {
            "line": {
             "colorbar": {
              "outlinewidth": 0,
              "ticks": ""
             }
            },
            "type": "parcoords"
           }
          ],
          "pie": [
           {
            "automargin": true,
            "type": "pie"
           }
          ],
          "scatter": [
           {
            "fillpattern": {
             "fillmode": "overlay",
             "size": 10,
             "solidity": 0.2
            },
            "type": "scatter"
           }
          ],
          "scatter3d": [
           {
            "line": {
             "colorbar": {
              "outlinewidth": 0,
              "ticks": ""
             }
            },
            "marker": {
             "colorbar": {
              "outlinewidth": 0,
              "ticks": ""
             }
            },
            "type": "scatter3d"
           }
          ],
          "scattercarpet": [
           {
            "marker": {
             "colorbar": {
              "outlinewidth": 0,
              "ticks": ""
             }
            },
            "type": "scattercarpet"
           }
          ],
          "scattergeo": [
           {
            "marker": {
             "colorbar": {
              "outlinewidth": 0,
              "ticks": ""
             }
            },
            "type": "scattergeo"
           }
          ],
          "scattergl": [
           {
            "marker": {
             "colorbar": {
              "outlinewidth": 0,
              "ticks": ""
             }
            },
            "type": "scattergl"
           }
          ],
          "scattermapbox": [
           {
            "marker": {
             "colorbar": {
              "outlinewidth": 0,
              "ticks": ""
             }
            },
            "type": "scattermapbox"
           }
          ],
          "scatterpolar": [
           {
            "marker": {
             "colorbar": {
              "outlinewidth": 0,
              "ticks": ""
             }
            },
            "type": "scatterpolar"
           }
          ],
          "scatterpolargl": [
           {
            "marker": {
             "colorbar": {
              "outlinewidth": 0,
              "ticks": ""
             }
            },
            "type": "scatterpolargl"
           }
          ],
          "scatterternary": [
           {
            "marker": {
             "colorbar": {
              "outlinewidth": 0,
              "ticks": ""
             }
            },
            "type": "scatterternary"
           }
          ],
          "surface": [
           {
            "colorbar": {
             "outlinewidth": 0,
             "ticks": ""
            },
            "colorscale": [
             [
              0,
              "#0d0887"
             ],
             [
              0.1111111111111111,
              "#46039f"
             ],
             [
              0.2222222222222222,
              "#7201a8"
             ],
             [
              0.3333333333333333,
              "#9c179e"
             ],
             [
              0.4444444444444444,
              "#bd3786"
             ],
             [
              0.5555555555555556,
              "#d8576b"
             ],
             [
              0.6666666666666666,
              "#ed7953"
             ],
             [
              0.7777777777777778,
              "#fb9f3a"
             ],
             [
              0.8888888888888888,
              "#fdca26"
             ],
             [
              1,
              "#f0f921"
             ]
            ],
            "type": "surface"
           }
          ],
          "table": [
           {
            "cells": {
             "fill": {
              "color": "#EBF0F8"
             },
             "line": {
              "color": "white"
             }
            },
            "header": {
             "fill": {
              "color": "#C8D4E3"
             },
             "line": {
              "color": "white"
             }
            },
            "type": "table"
           }
          ]
         },
         "layout": {
          "annotationdefaults": {
           "arrowcolor": "#2a3f5f",
           "arrowhead": 0,
           "arrowwidth": 1
          },
          "autotypenumbers": "strict",
          "coloraxis": {
           "colorbar": {
            "outlinewidth": 0,
            "ticks": ""
           }
          },
          "colorscale": {
           "diverging": [
            [
             0,
             "#8e0152"
            ],
            [
             0.1,
             "#c51b7d"
            ],
            [
             0.2,
             "#de77ae"
            ],
            [
             0.3,
             "#f1b6da"
            ],
            [
             0.4,
             "#fde0ef"
            ],
            [
             0.5,
             "#f7f7f7"
            ],
            [
             0.6,
             "#e6f5d0"
            ],
            [
             0.7,
             "#b8e186"
            ],
            [
             0.8,
             "#7fbc41"
            ],
            [
             0.9,
             "#4d9221"
            ],
            [
             1,
             "#276419"
            ]
           ],
           "sequential": [
            [
             0,
             "#0d0887"
            ],
            [
             0.1111111111111111,
             "#46039f"
            ],
            [
             0.2222222222222222,
             "#7201a8"
            ],
            [
             0.3333333333333333,
             "#9c179e"
            ],
            [
             0.4444444444444444,
             "#bd3786"
            ],
            [
             0.5555555555555556,
             "#d8576b"
            ],
            [
             0.6666666666666666,
             "#ed7953"
            ],
            [
             0.7777777777777778,
             "#fb9f3a"
            ],
            [
             0.8888888888888888,
             "#fdca26"
            ],
            [
             1,
             "#f0f921"
            ]
           ],
           "sequentialminus": [
            [
             0,
             "#0d0887"
            ],
            [
             0.1111111111111111,
             "#46039f"
            ],
            [
             0.2222222222222222,
             "#7201a8"
            ],
            [
             0.3333333333333333,
             "#9c179e"
            ],
            [
             0.4444444444444444,
             "#bd3786"
            ],
            [
             0.5555555555555556,
             "#d8576b"
            ],
            [
             0.6666666666666666,
             "#ed7953"
            ],
            [
             0.7777777777777778,
             "#fb9f3a"
            ],
            [
             0.8888888888888888,
             "#fdca26"
            ],
            [
             1,
             "#f0f921"
            ]
           ]
          },
          "colorway": [
           "#636efa",
           "#EF553B",
           "#00cc96",
           "#ab63fa",
           "#FFA15A",
           "#19d3f3",
           "#FF6692",
           "#B6E880",
           "#FF97FF",
           "#FECB52"
          ],
          "font": {
           "color": "#2a3f5f"
          },
          "geo": {
           "bgcolor": "white",
           "lakecolor": "white",
           "landcolor": "#E5ECF6",
           "showlakes": true,
           "showland": true,
           "subunitcolor": "white"
          },
          "hoverlabel": {
           "align": "left"
          },
          "hovermode": "closest",
          "mapbox": {
           "style": "light"
          },
          "paper_bgcolor": "white",
          "plot_bgcolor": "#E5ECF6",
          "polar": {
           "angularaxis": {
            "gridcolor": "white",
            "linecolor": "white",
            "ticks": ""
           },
           "bgcolor": "#E5ECF6",
           "radialaxis": {
            "gridcolor": "white",
            "linecolor": "white",
            "ticks": ""
           }
          },
          "scene": {
           "xaxis": {
            "backgroundcolor": "#E5ECF6",
            "gridcolor": "white",
            "gridwidth": 2,
            "linecolor": "white",
            "showbackground": true,
            "ticks": "",
            "zerolinecolor": "white"
           },
           "yaxis": {
            "backgroundcolor": "#E5ECF6",
            "gridcolor": "white",
            "gridwidth": 2,
            "linecolor": "white",
            "showbackground": true,
            "ticks": "",
            "zerolinecolor": "white"
           },
           "zaxis": {
            "backgroundcolor": "#E5ECF6",
            "gridcolor": "white",
            "gridwidth": 2,
            "linecolor": "white",
            "showbackground": true,
            "ticks": "",
            "zerolinecolor": "white"
           }
          },
          "shapedefaults": {
           "line": {
            "color": "#2a3f5f"
           }
          },
          "ternary": {
           "aaxis": {
            "gridcolor": "white",
            "linecolor": "white",
            "ticks": ""
           },
           "baxis": {
            "gridcolor": "white",
            "linecolor": "white",
            "ticks": ""
           },
           "bgcolor": "#E5ECF6",
           "caxis": {
            "gridcolor": "white",
            "linecolor": "white",
            "ticks": ""
           }
          },
          "title": {
           "x": 0.05
          },
          "xaxis": {
           "automargin": true,
           "gridcolor": "white",
           "linecolor": "white",
           "ticks": "",
           "title": {
            "standoff": 15
           },
           "zerolinecolor": "white",
           "zerolinewidth": 2
          },
          "yaxis": {
           "automargin": true,
           "gridcolor": "white",
           "linecolor": "white",
           "ticks": "",
           "title": {
            "standoff": 15
           },
           "zerolinecolor": "white",
           "zerolinewidth": 2
          }
         }
        },
        "title": {
         "text": "Ticket fare by cabin alloted and Ticket number(Bar Chart)"
        },
        "xaxis": {
         "anchor": "y",
         "domain": [
          0,
          1
         ],
         "title": {
          "text": "Age_rounded"
         }
        },
        "yaxis": {
         "anchor": "x",
         "domain": [
          0,
          1
         ],
         "title": {
          "text": "Passengers"
         }
        }
       }
      }
     },
     "metadata": {},
     "output_type": "display_data"
    },
    {
     "name": "stderr",
     "output_type": "stream",
     "text": [
      "c:\\Users\\shres\\miniconda3\\envs\\501_class\\Lib\\site-packages\\plotly\\express\\_core.py:2065: FutureWarning:\n",
      "\n",
      "When grouping with a length-1 list-like, you will need to pass a length-1 tuple to get_group in a future version of pandas. Pass `(name,)` instead of `name` to silence this warning.\n",
      "\n"
     ]
    },
    {
     "data": {
      "application/vnd.plotly.v1+json": {
       "config": {
        "plotlyServerURL": "https://plot.ly"
       },
       "data": [
        {
         "alignmentgroup": "True",
         "box": {
          "visible": false
         },
         "hovertemplate": "Pclass=1<br>Age_rounded=%{x}<br>Passengers=%{y}<extra></extra>",
         "legendgroup": "1",
         "marker": {
          "color": "#636efa"
         },
         "name": "1",
         "offsetgroup": "1",
         "orientation": "v",
         "scalegroup": "True",
         "showlegend": true,
         "type": "violin",
         "x": [
          0,
          10,
          20,
          30,
          40,
          50,
          60,
          70,
          80
         ],
         "x0": " ",
         "xaxis": "x",
         "y": [
          3,
          2,
          37,
          31,
          51,
          35,
          23,
          3,
          1
         ],
         "y0": " ",
         "yaxis": "y"
        },
        {
         "alignmentgroup": "True",
         "box": {
          "visible": false
         },
         "hovertemplate": "Pclass=2<br>Age_rounded=%{x}<br>Passengers=%{y}<extra></extra>",
         "legendgroup": "2",
         "marker": {
          "color": "#EF553B"
         },
         "name": "2",
         "offsetgroup": "2",
         "orientation": "v",
         "scalegroup": "True",
         "showlegend": true,
         "type": "violin",
         "x": [
          0,
          10,
          20,
          30,
          40,
          50,
          60,
          70
         ],
         "x0": " ",
         "xaxis": "x",
         "y": [
          13,
          6,
          46,
          55,
          30,
          15,
          6,
          2
         ],
         "y0": " ",
         "yaxis": "y"
        },
        {
         "alignmentgroup": "True",
         "box": {
          "visible": false
         },
         "hovertemplate": "Pclass=3<br>Age_rounded=%{x}<br>Passengers=%{y}<extra></extra>",
         "legendgroup": "3",
         "marker": {
          "color": "#00cc96"
         },
         "name": "3",
         "offsetgroup": "3",
         "orientation": "v",
         "scalegroup": "True",
         "showlegend": true,
         "type": "violin",
         "x": [
          0,
          10,
          20,
          30,
          40,
          50,
          60,
          70
         ],
         "x0": " ",
         "xaxis": "x",
         "y": [
          28,
          26,
          140,
          92,
          51,
          11,
          5,
          2
         ],
         "y0": " ",
         "yaxis": "y"
        }
       ],
       "layout": {
        "legend": {
         "title": {
          "text": "Pclass"
         },
         "tracegroupgap": 0
        },
        "template": {
         "data": {
          "bar": [
           {
            "error_x": {
             "color": "#2a3f5f"
            },
            "error_y": {
             "color": "#2a3f5f"
            },
            "marker": {
             "line": {
              "color": "#E5ECF6",
              "width": 0.5
             },
             "pattern": {
              "fillmode": "overlay",
              "size": 10,
              "solidity": 0.2
             }
            },
            "type": "bar"
           }
          ],
          "barpolar": [
           {
            "marker": {
             "line": {
              "color": "#E5ECF6",
              "width": 0.5
             },
             "pattern": {
              "fillmode": "overlay",
              "size": 10,
              "solidity": 0.2
             }
            },
            "type": "barpolar"
           }
          ],
          "carpet": [
           {
            "aaxis": {
             "endlinecolor": "#2a3f5f",
             "gridcolor": "white",
             "linecolor": "white",
             "minorgridcolor": "white",
             "startlinecolor": "#2a3f5f"
            },
            "baxis": {
             "endlinecolor": "#2a3f5f",
             "gridcolor": "white",
             "linecolor": "white",
             "minorgridcolor": "white",
             "startlinecolor": "#2a3f5f"
            },
            "type": "carpet"
           }
          ],
          "choropleth": [
           {
            "colorbar": {
             "outlinewidth": 0,
             "ticks": ""
            },
            "type": "choropleth"
           }
          ],
          "contour": [
           {
            "colorbar": {
             "outlinewidth": 0,
             "ticks": ""
            },
            "colorscale": [
             [
              0,
              "#0d0887"
             ],
             [
              0.1111111111111111,
              "#46039f"
             ],
             [
              0.2222222222222222,
              "#7201a8"
             ],
             [
              0.3333333333333333,
              "#9c179e"
             ],
             [
              0.4444444444444444,
              "#bd3786"
             ],
             [
              0.5555555555555556,
              "#d8576b"
             ],
             [
              0.6666666666666666,
              "#ed7953"
             ],
             [
              0.7777777777777778,
              "#fb9f3a"
             ],
             [
              0.8888888888888888,
              "#fdca26"
             ],
             [
              1,
              "#f0f921"
             ]
            ],
            "type": "contour"
           }
          ],
          "contourcarpet": [
           {
            "colorbar": {
             "outlinewidth": 0,
             "ticks": ""
            },
            "type": "contourcarpet"
           }
          ],
          "heatmap": [
           {
            "colorbar": {
             "outlinewidth": 0,
             "ticks": ""
            },
            "colorscale": [
             [
              0,
              "#0d0887"
             ],
             [
              0.1111111111111111,
              "#46039f"
             ],
             [
              0.2222222222222222,
              "#7201a8"
             ],
             [
              0.3333333333333333,
              "#9c179e"
             ],
             [
              0.4444444444444444,
              "#bd3786"
             ],
             [
              0.5555555555555556,
              "#d8576b"
             ],
             [
              0.6666666666666666,
              "#ed7953"
             ],
             [
              0.7777777777777778,
              "#fb9f3a"
             ],
             [
              0.8888888888888888,
              "#fdca26"
             ],
             [
              1,
              "#f0f921"
             ]
            ],
            "type": "heatmap"
           }
          ],
          "heatmapgl": [
           {
            "colorbar": {
             "outlinewidth": 0,
             "ticks": ""
            },
            "colorscale": [
             [
              0,
              "#0d0887"
             ],
             [
              0.1111111111111111,
              "#46039f"
             ],
             [
              0.2222222222222222,
              "#7201a8"
             ],
             [
              0.3333333333333333,
              "#9c179e"
             ],
             [
              0.4444444444444444,
              "#bd3786"
             ],
             [
              0.5555555555555556,
              "#d8576b"
             ],
             [
              0.6666666666666666,
              "#ed7953"
             ],
             [
              0.7777777777777778,
              "#fb9f3a"
             ],
             [
              0.8888888888888888,
              "#fdca26"
             ],
             [
              1,
              "#f0f921"
             ]
            ],
            "type": "heatmapgl"
           }
          ],
          "histogram": [
           {
            "marker": {
             "pattern": {
              "fillmode": "overlay",
              "size": 10,
              "solidity": 0.2
             }
            },
            "type": "histogram"
           }
          ],
          "histogram2d": [
           {
            "colorbar": {
             "outlinewidth": 0,
             "ticks": ""
            },
            "colorscale": [
             [
              0,
              "#0d0887"
             ],
             [
              0.1111111111111111,
              "#46039f"
             ],
             [
              0.2222222222222222,
              "#7201a8"
             ],
             [
              0.3333333333333333,
              "#9c179e"
             ],
             [
              0.4444444444444444,
              "#bd3786"
             ],
             [
              0.5555555555555556,
              "#d8576b"
             ],
             [
              0.6666666666666666,
              "#ed7953"
             ],
             [
              0.7777777777777778,
              "#fb9f3a"
             ],
             [
              0.8888888888888888,
              "#fdca26"
             ],
             [
              1,
              "#f0f921"
             ]
            ],
            "type": "histogram2d"
           }
          ],
          "histogram2dcontour": [
           {
            "colorbar": {
             "outlinewidth": 0,
             "ticks": ""
            },
            "colorscale": [
             [
              0,
              "#0d0887"
             ],
             [
              0.1111111111111111,
              "#46039f"
             ],
             [
              0.2222222222222222,
              "#7201a8"
             ],
             [
              0.3333333333333333,
              "#9c179e"
             ],
             [
              0.4444444444444444,
              "#bd3786"
             ],
             [
              0.5555555555555556,
              "#d8576b"
             ],
             [
              0.6666666666666666,
              "#ed7953"
             ],
             [
              0.7777777777777778,
              "#fb9f3a"
             ],
             [
              0.8888888888888888,
              "#fdca26"
             ],
             [
              1,
              "#f0f921"
             ]
            ],
            "type": "histogram2dcontour"
           }
          ],
          "mesh3d": [
           {
            "colorbar": {
             "outlinewidth": 0,
             "ticks": ""
            },
            "type": "mesh3d"
           }
          ],
          "parcoords": [
           {
            "line": {
             "colorbar": {
              "outlinewidth": 0,
              "ticks": ""
             }
            },
            "type": "parcoords"
           }
          ],
          "pie": [
           {
            "automargin": true,
            "type": "pie"
           }
          ],
          "scatter": [
           {
            "fillpattern": {
             "fillmode": "overlay",
             "size": 10,
             "solidity": 0.2
            },
            "type": "scatter"
           }
          ],
          "scatter3d": [
           {
            "line": {
             "colorbar": {
              "outlinewidth": 0,
              "ticks": ""
             }
            },
            "marker": {
             "colorbar": {
              "outlinewidth": 0,
              "ticks": ""
             }
            },
            "type": "scatter3d"
           }
          ],
          "scattercarpet": [
           {
            "marker": {
             "colorbar": {
              "outlinewidth": 0,
              "ticks": ""
             }
            },
            "type": "scattercarpet"
           }
          ],
          "scattergeo": [
           {
            "marker": {
             "colorbar": {
              "outlinewidth": 0,
              "ticks": ""
             }
            },
            "type": "scattergeo"
           }
          ],
          "scattergl": [
           {
            "marker": {
             "colorbar": {
              "outlinewidth": 0,
              "ticks": ""
             }
            },
            "type": "scattergl"
           }
          ],
          "scattermapbox": [
           {
            "marker": {
             "colorbar": {
              "outlinewidth": 0,
              "ticks": ""
             }
            },
            "type": "scattermapbox"
           }
          ],
          "scatterpolar": [
           {
            "marker": {
             "colorbar": {
              "outlinewidth": 0,
              "ticks": ""
             }
            },
            "type": "scatterpolar"
           }
          ],
          "scatterpolargl": [
           {
            "marker": {
             "colorbar": {
              "outlinewidth": 0,
              "ticks": ""
             }
            },
            "type": "scatterpolargl"
           }
          ],
          "scatterternary": [
           {
            "marker": {
             "colorbar": {
              "outlinewidth": 0,
              "ticks": ""
             }
            },
            "type": "scatterternary"
           }
          ],
          "surface": [
           {
            "colorbar": {
             "outlinewidth": 0,
             "ticks": ""
            },
            "colorscale": [
             [
              0,
              "#0d0887"
             ],
             [
              0.1111111111111111,
              "#46039f"
             ],
             [
              0.2222222222222222,
              "#7201a8"
             ],
             [
              0.3333333333333333,
              "#9c179e"
             ],
             [
              0.4444444444444444,
              "#bd3786"
             ],
             [
              0.5555555555555556,
              "#d8576b"
             ],
             [
              0.6666666666666666,
              "#ed7953"
             ],
             [
              0.7777777777777778,
              "#fb9f3a"
             ],
             [
              0.8888888888888888,
              "#fdca26"
             ],
             [
              1,
              "#f0f921"
             ]
            ],
            "type": "surface"
           }
          ],
          "table": [
           {
            "cells": {
             "fill": {
              "color": "#EBF0F8"
             },
             "line": {
              "color": "white"
             }
            },
            "header": {
             "fill": {
              "color": "#C8D4E3"
             },
             "line": {
              "color": "white"
             }
            },
            "type": "table"
           }
          ]
         },
         "layout": {
          "annotationdefaults": {
           "arrowcolor": "#2a3f5f",
           "arrowhead": 0,
           "arrowwidth": 1
          },
          "autotypenumbers": "strict",
          "coloraxis": {
           "colorbar": {
            "outlinewidth": 0,
            "ticks": ""
           }
          },
          "colorscale": {
           "diverging": [
            [
             0,
             "#8e0152"
            ],
            [
             0.1,
             "#c51b7d"
            ],
            [
             0.2,
             "#de77ae"
            ],
            [
             0.3,
             "#f1b6da"
            ],
            [
             0.4,
             "#fde0ef"
            ],
            [
             0.5,
             "#f7f7f7"
            ],
            [
             0.6,
             "#e6f5d0"
            ],
            [
             0.7,
             "#b8e186"
            ],
            [
             0.8,
             "#7fbc41"
            ],
            [
             0.9,
             "#4d9221"
            ],
            [
             1,
             "#276419"
            ]
           ],
           "sequential": [
            [
             0,
             "#0d0887"
            ],
            [
             0.1111111111111111,
             "#46039f"
            ],
            [
             0.2222222222222222,
             "#7201a8"
            ],
            [
             0.3333333333333333,
             "#9c179e"
            ],
            [
             0.4444444444444444,
             "#bd3786"
            ],
            [
             0.5555555555555556,
             "#d8576b"
            ],
            [
             0.6666666666666666,
             "#ed7953"
            ],
            [
             0.7777777777777778,
             "#fb9f3a"
            ],
            [
             0.8888888888888888,
             "#fdca26"
            ],
            [
             1,
             "#f0f921"
            ]
           ],
           "sequentialminus": [
            [
             0,
             "#0d0887"
            ],
            [
             0.1111111111111111,
             "#46039f"
            ],
            [
             0.2222222222222222,
             "#7201a8"
            ],
            [
             0.3333333333333333,
             "#9c179e"
            ],
            [
             0.4444444444444444,
             "#bd3786"
            ],
            [
             0.5555555555555556,
             "#d8576b"
            ],
            [
             0.6666666666666666,
             "#ed7953"
            ],
            [
             0.7777777777777778,
             "#fb9f3a"
            ],
            [
             0.8888888888888888,
             "#fdca26"
            ],
            [
             1,
             "#f0f921"
            ]
           ]
          },
          "colorway": [
           "#636efa",
           "#EF553B",
           "#00cc96",
           "#ab63fa",
           "#FFA15A",
           "#19d3f3",
           "#FF6692",
           "#B6E880",
           "#FF97FF",
           "#FECB52"
          ],
          "font": {
           "color": "#2a3f5f"
          },
          "geo": {
           "bgcolor": "white",
           "lakecolor": "white",
           "landcolor": "#E5ECF6",
           "showlakes": true,
           "showland": true,
           "subunitcolor": "white"
          },
          "hoverlabel": {
           "align": "left"
          },
          "hovermode": "closest",
          "mapbox": {
           "style": "light"
          },
          "paper_bgcolor": "white",
          "plot_bgcolor": "#E5ECF6",
          "polar": {
           "angularaxis": {
            "gridcolor": "white",
            "linecolor": "white",
            "ticks": ""
           },
           "bgcolor": "#E5ECF6",
           "radialaxis": {
            "gridcolor": "white",
            "linecolor": "white",
            "ticks": ""
           }
          },
          "scene": {
           "xaxis": {
            "backgroundcolor": "#E5ECF6",
            "gridcolor": "white",
            "gridwidth": 2,
            "linecolor": "white",
            "showbackground": true,
            "ticks": "",
            "zerolinecolor": "white"
           },
           "yaxis": {
            "backgroundcolor": "#E5ECF6",
            "gridcolor": "white",
            "gridwidth": 2,
            "linecolor": "white",
            "showbackground": true,
            "ticks": "",
            "zerolinecolor": "white"
           },
           "zaxis": {
            "backgroundcolor": "#E5ECF6",
            "gridcolor": "white",
            "gridwidth": 2,
            "linecolor": "white",
            "showbackground": true,
            "ticks": "",
            "zerolinecolor": "white"
           }
          },
          "shapedefaults": {
           "line": {
            "color": "#2a3f5f"
           }
          },
          "ternary": {
           "aaxis": {
            "gridcolor": "white",
            "linecolor": "white",
            "ticks": ""
           },
           "baxis": {
            "gridcolor": "white",
            "linecolor": "white",
            "ticks": ""
           },
           "bgcolor": "#E5ECF6",
           "caxis": {
            "gridcolor": "white",
            "linecolor": "white",
            "ticks": ""
           }
          },
          "title": {
           "x": 0.05
          },
          "xaxis": {
           "automargin": true,
           "gridcolor": "white",
           "linecolor": "white",
           "ticks": "",
           "title": {
            "standoff": 15
           },
           "zerolinecolor": "white",
           "zerolinewidth": 2
          },
          "yaxis": {
           "automargin": true,
           "gridcolor": "white",
           "linecolor": "white",
           "ticks": "",
           "title": {
            "standoff": 15
           },
           "zerolinecolor": "white",
           "zerolinewidth": 2
          }
         }
        },
        "title": {
         "text": "Fixing the Ticket Fare Based on Cabin Availability and Seat Number(Violin Plot)"
        },
        "violinmode": "group",
        "xaxis": {
         "anchor": "y",
         "domain": [
          0,
          1
         ],
         "title": {
          "text": "Age_rounded"
         }
        },
        "yaxis": {
         "anchor": "x",
         "domain": [
          0,
          1
         ],
         "title": {
          "text": "Passengers"
         }
        }
       }
      }
     },
     "metadata": {},
     "output_type": "display_data"
    }
   ],
   "source": [
    "import plotly.express as px\n",
    "fig = px.bar(\n",
    "    data_frame=df_plot,\n",
    "    x=\"Age_rounded\",\n",
    "    y=\"Passengers\",\n",
    "    color=\"Pclass\",\n",
    "    barmode=\"group\", \n",
    "    title=\"Ticket fare by cabin alloted and Ticket number(Bar Chart)\",\n",
    ")\n",
    "fig.show()\n",
    "\n",
    "fig = px.violin(\n",
    "    data_frame=df_plot,\n",
    "    x=\"Age_rounded\",\n",
    "    y=\"Passengers\",\n",
    "    color=\"Pclass\",\n",
    "    title=\"Fixing the Ticket Fare Based on Cabin Availability and Seat Number(Violin Plot)\",\n",
    ")\n",
    "fig.show()"
   ]
  }
 ],
 "metadata": {
  "kernelspec": {
   "display_name": "501_class",
   "language": "python",
   "name": "python3"
  },
  "language_info": {
   "codemirror_mode": {
    "name": "ipython",
    "version": 3
   },
   "file_extension": ".py",
   "mimetype": "text/x-python",
   "name": "python",
   "nbconvert_exporter": "python",
   "pygments_lexer": "ipython3",
   "version": "3.11.5"
  }
 },
 "nbformat": 4,
 "nbformat_minor": 5
}
